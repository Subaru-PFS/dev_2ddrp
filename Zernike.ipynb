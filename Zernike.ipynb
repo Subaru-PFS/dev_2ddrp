{
 "cells": [
  {
   "cell_type": "code",
   "execution_count": 1,
   "metadata": {
    "ExecuteTime": {
     "end_time": "2017-09-23T22:46:35.061627Z",
     "start_time": "2017-09-23T22:46:34.254498Z"
    },
    "collapsed": true,
    "hide_input": true
   },
   "outputs": [],
   "source": [
    "#!/usr/bin/env python2\n",
    "# -*- coding: utf-8 -*-\n",
    "\"\"\"\n",
    "Created on Mon Sep 11 09:52:03 2017\n",
    "\n",
    "@author: ncaplar\n",
    "\n",
    "\"\"\"\n",
    "\n",
    "\n",
    "import opticspy\n",
    "import astropy\n",
    "import numpy as np\n",
    "from astropy.io import fits\n",
    "\n",
    "%config InlineBackend.rc = {}\n",
    "import matplotlib\n",
    "#matplotlib.rc_file(\"../../templates/matplotlibrc\")\n",
    "import matplotlib.pyplot as plt\n",
    "%matplotlib inline"
   ]
  },
  {
   "cell_type": "markdown",
   "metadata": {
    "heading_collapsed": true
   },
   "source": [
    "# 1d case"
   ]
  },
  {
   "cell_type": "code",
   "execution_count": null,
   "metadata": {
    "collapsed": true,
    "hidden": true
   },
   "outputs": [],
   "source": [
    "\"\"\"Simplest thing, just to see that I can open fits file and lmfit fit a gaussian to 1d data\"\"\""
   ]
  },
  {
   "cell_type": "code",
   "execution_count": null,
   "metadata": {
    "collapsed": true,
    "hidden": true
   },
   "outputs": [],
   "source": [
    "data =fits.open('/media/caplarn/PFSData/PFS/Data/pfsArc-2016-11-11-0-r1.fits')"
   ]
  },
  {
   "cell_type": "code",
   "execution_count": null,
   "metadata": {
    "collapsed": true,
    "hidden": true
   },
   "outputs": [],
   "source": [
    "scidata=data[0].data"
   ]
  },
  {
   "cell_type": "code",
   "execution_count": null,
   "metadata": {
    "collapsed": true,
    "hidden": true
   },
   "outputs": [],
   "source": [
    "scidata_cut=scidata[2960:2970,1341:1351]"
   ]
  },
  {
   "cell_type": "code",
   "execution_count": null,
   "metadata": {
    "collapsed": true,
    "hidden": true
   },
   "outputs": [],
   "source": [
    "from matplotlib.colors import LogNorm\n",
    "plt.imshow(scidata_cut, cmap='gray')\n",
    "plt.colorbar()"
   ]
  },
  {
   "cell_type": "code",
   "execution_count": null,
   "metadata": {
    "collapsed": true,
    "hidden": true
   },
   "outputs": [],
   "source": [
    "plt.figure(figsize=(20,20))\n",
    "plt.subplot(221)\n",
    "plt.imshow(scidata_cut, cmap='gray')\n",
    "plt.colorbar()\n",
    "plt.title('linear')\n",
    "plt.grid(False)\n",
    "plt.subplot(222)\n",
    "plt.imshow(scidata_cut, cmap='gray',norm=LogNorm())\n",
    "plt.colorbar()\n",
    "plt.title('log')\n",
    "plt.grid(False)\n"
   ]
  },
  {
   "cell_type": "code",
   "execution_count": null,
   "metadata": {
    "collapsed": true,
    "hidden": true
   },
   "outputs": [],
   "source": [
    "from lmfit import minimize, Parameters\n"
   ]
  },
  {
   "cell_type": "code",
   "execution_count": null,
   "metadata": {
    "collapsed": true,
    "hidden": true
   },
   "outputs": [],
   "source": [
    "def gaussian(x, amp, cen, wid):\n",
    "    \"1-d gaussian: gaussian(x, amp, cen, wid)\"\n",
    "    return (amp/(sqrt(2*pi)*wid)) * exp(-(x-cen)**2 /(2*wid**2))\n",
    "\n"
   ]
  },
  {
   "cell_type": "code",
   "execution_count": null,
   "metadata": {
    "collapsed": true,
    "hidden": true
   },
   "outputs": [],
   "source": [
    "x=range(len(scidata_cut[5]))\n",
    "y=scidata_cut[5]"
   ]
  },
  {
   "cell_type": "code",
   "execution_count": null,
   "metadata": {
    "collapsed": true,
    "hidden": true
   },
   "outputs": [],
   "source": [
    "plt.plot(x,y)"
   ]
  },
  {
   "cell_type": "code",
   "execution_count": null,
   "metadata": {
    "collapsed": true,
    "hidden": true
   },
   "outputs": [],
   "source": [
    "from lmfit import  Model\n",
    "from numpy import sqrt, pi, exp, linspace, loadtxt\n",
    "import numpy as np\n",
    "\n",
    "gmodel = Model(gaussian)\n",
    "result = gmodel.fit(y, x=x, amp=5000, cen=5, wid=3)\n",
    "\n",
    "print(result.fit_report())\n",
    "fine_x=np.linspace(x[0], x[-1], num=50)\n",
    "fine_best_fit=gaussian(fine_x,result.best_values['amp'],result.best_values['cen'],\\\n",
    "                       result.best_values['wid'])\n",
    "plt.plot(x, y,         'bo')\n",
    "plt.plot(x, result.init_fit, 'k--')\n",
    "#plt.plot(x, result.best_fit, 'r-')\n",
    "plt.plot(fine_x, fine_best_fit, 'r-')\n",
    "plt.show()"
   ]
  },
  {
   "cell_type": "markdown",
   "metadata": {
    "heading_collapsed": true
   },
   "source": [
    "#   <span style=\"color:red\">2d Case now - deprecated</span>"
   ]
  },
  {
   "cell_type": "code",
   "execution_count": 226,
   "metadata": {
    "ExecuteTime": {
     "end_time": "2017-09-24T00:43:12.212920Z",
     "start_time": "2017-09-24T00:43:12.207560Z"
    },
    "hidden": true
   },
   "outputs": [
    {
     "data": {
      "text/plain": [
       "'\\nRun this beforhand\\n(caplarn@Osian:~$ setup obs_lsstSim -t sims)\\ncaplarn@Osian:~$ setup GalSim\\ncaplarn@Osian:~$ jupyter notebook \\n'"
      ]
     },
     "execution_count": 226,
     "metadata": {},
     "output_type": "execute_result"
    }
   ],
   "source": [
    "\n",
    "\n",
    "\"\"\"\n",
    "Run this beforhand\n",
    "(caplarn@Osian:~$ setup obs_lsstSim -t sims)\n",
    "caplarn@Osian:~$ setup GalSim\n",
    "caplarn@Osian:~$ jupyter notebook \n",
    "\"\"\""
   ]
  },
  {
   "cell_type": "code",
   "execution_count": null,
   "metadata": {
    "collapsed": true,
    "hidden": true
   },
   "outputs": [],
   "source": [
    "from __future__ import absolute_import, division, print_function\n",
    "\n",
    "import lmfit\n",
    "import galsim\n",
    "import numpy as np\n",
    "import lsst.afw\n",
    "\n"
   ]
  },
  {
   "cell_type": "code",
   "execution_count": null,
   "metadata": {
    "collapsed": true,
    "hidden": true
   },
   "outputs": [],
   "source": [
    "\n",
    "z4Init=1\n",
    "z4Range=(0,5)\n",
    "zRange=(4,8)\n",
    "r0Init=0.1\n",
    "r0Range=(0,1)\n",
    "centroidRange=(0,10)\n",
    "fluxRelativeRange=(0,1)\n",
    "zmax=8\n",
    "\n",
    "params = lmfit.Parameters()\n",
    "params.add('r0', r0Init, min=r0Range[0], max=r0Range[1])\n",
    "params.add('dx', 0.0, min=centroidRange[0], max=centroidRange[1])\n",
    "params.add('dy', 0.0, min=centroidRange[0], max=centroidRange[1])\n",
    "image = scidata_cut\n",
    "flux = float(np.sum(image))\n",
    "params.add('flux', flux,\n",
    "           min = fluxRelativeRange[0]*flux,\n",
    "           max = fluxRelativeRange[1]*flux)\n",
    "params.add('z4', z4Init, min=z4Range[0], max=z4Range[1])\n",
    "for i in range(5, zmax+1):\n",
    "    params.add('z{}'.format(i), 0.0, min=zRange[0], max=zRange[1])\n",
    "\n",
    "def _chi(params):\n",
    "    \"\"\"Compute 'chi' image: (data - model)/sigma\n",
    "    @param params  lmfit.Parameters object.\n",
    "    @returns       Unraveled chi vector.\n",
    "    \"\"\"\n",
    "    modelImg = self.constructModelImage(params)\n",
    "    image = self.maskedImage.getImage().getArray()\n",
    "    sigma = self.maskedImage.getVariance().getArray()\n",
    "    chi = (image - modelImg)/sigma\n",
    "    return chi[self.good].ravel()\n",
    "\n",
    "def _getOptPsf(params):\n",
    "    aberrations = [0, 0, 0, 0]\n",
    "    for i in range(4, zmax + 1):\n",
    "        aberrations.append(params['z{}'.format(i)])\n",
    "    return galsim.OpticalPSF(lam = self.wavelength,\n",
    "                             diam = self.aper.diam,\n",
    "                             aper = self.aper,\n",
    "                             aberrations = aberrations)\n",
    "\n",
    "\n",
    "def constructModelImage(params=None, pixelScale=None, jacobian=None,\n",
    "                        shape=None):\n",
    "    \"\"\"Construct model image from parameters\n",
    "    @param params      lmfit.Parameters object or python dictionary with\n",
    "                       param values to use, or None to use self.params\n",
    "    @param pixelScale  pixel scale in arcseconds to use for model image,\n",
    "                       or None to use self.pixelScale.\n",
    "    @param jacobian    An optional 2x2 Jacobian distortion matrix to apply\n",
    "                       to the forward model.  Note that this is relative to\n",
    "                       the pixelScale above.  Use self.jacobian if this is\n",
    "                       None.\n",
    "    @param shape       (nx, ny) shape for model image, or None to use\n",
    "                       the shape of self.maskedImage\n",
    "    @returns       numpy array image\n",
    "    \"\"\"\n",
    "    if params is None:\n",
    "        params = self.params\n",
    "    if shape is None:\n",
    "        shape = self.maskedImage.getImage().getArray().shape\n",
    "    if pixelScale is None:\n",
    "        pixelScale = self.pixelScale\n",
    "    if jacobian is None:\n",
    "        jacobian = self.jacobian\n",
    "    try:\n",
    "        v = params.valuesdict()\n",
    "    except AttributeError:\n",
    "        v = params\n",
    "\n",
    "    optPsf = self._getOptPsf(v)\n",
    "    if 'r0' in v:\n",
    "        atmPsf = galsim.Kolmogorov(lam=self.wavelength, r0=v['r0'])\n",
    "        psf = galsim.Convolve(optPsf, atmPsf)\n",
    "    else:\n",
    "        psf = optPsf\n",
    "    psf = psf.shift(v['dx'], v['dy'])*v['flux']\n",
    "\n",
    "    wcs = galsim.JacobianWCS(*list(pixelScale*jacobian.ravel()))\n",
    "    modelImg = psf.drawImage(\n",
    "        nx = shape[0],\n",
    "        ny = shape[1],\n",
    "        wcs = wcs)\n",
    "    return modelImg.array"
   ]
  },
  {
   "cell_type": "code",
   "execution_count": null,
   "metadata": {
    "collapsed": true,
    "hidden": true
   },
   "outputs": [],
   "source": [
    "\"\"\"\n",
    "1. Construct any kind of constructModelImage - done\n",
    "2. Image with some abbeartions, made to correct input image (normalization not done)\n",
    "\"\"\"\n",
    "\n",
    "params = lmfit.Parameters()\n",
    "image=scidata_cut\n",
    "flux=float(np.sum(image))\n",
    "params.add('flux', flux,\n",
    "           min = fluxRelativeRange[0]*flux,\n",
    "           max = fluxRelativeRange[1]*flux)\n",
    "z4Init=0\n",
    "z4Range=(0,1)\n",
    "params.add('z4', z4Init, min=z4Range[0], max=z4Range[1])\n",
    "zmax=11\n",
    "zRange=(-1,1)\n",
    "for i in range(5, zmax+1):\n",
    "    params.add('z{}'.format(i), 0.1, min=zRange[0], max=zRange[1])\n",
    "    \n",
    "def _getOptPsf(aber_4_to_11):\n",
    "    #I do not fully understand why this does not work\n",
    "    #aberrations = [0, 0, 0, 0]\n",
    "    #for i in range(4, zmax + 1):\n",
    "    #    aberrations.append(params['z{}'.format(i)])\n",
    "    \n",
    "    #This line for aberrations below surely works\n",
    "    aberrations_init=[0.0,0.0,0.0,0.0]\n",
    "    aberrations = aberrations_init+aber_4_to_11\n",
    "    \n",
    "    #There is a part here related to optical properties of telescope....\n",
    "    # Define the optical part of the PSF:\n",
    "    # The first argument of OpticalPSF below is lambda/diam (wavelength of light / telescope\n",
    "    # diameter), which needs to be in the same units used to specify the image scale.  We are using\n",
    "    # arcsec for that, so we have to self-consistently use arcsec here, using the following\n",
    "    # calculation:\n",
    "    tel_diam = 1.          # meters\n",
    "    lam = 1000              # nm    NB: don't use lambda - that's a reserved word.\n",
    "    lam_over_diam = lam * 1.e-9 / tel_diam # radians\n",
    "    lam_over_diam *= 206265  # arcsec\n",
    "    print(\"wavelenght over diameter of the telescope is \"+str(lam_over_diam)+\" arcsec\" )\n",
    "    # The rest of the values should be given in units of the wavelength of the incident light.\n",
    "    return galsim.OpticalPSF(lam_over_diam, aberrations = aberrations)"
   ]
  },
  {
   "cell_type": "code",
   "execution_count": null,
   "metadata": {
    "collapsed": true,
    "hidden": true
   },
   "outputs": [],
   "source": [
    "#params\n",
    "#aberrations = [0, 0, 0, 0]\n",
    "#for i in range(4, zmax + 1):\n",
    "#    aberrations.append(params['z{}'.format(i)])\n",
    "#aberrations    "
   ]
  },
  {
   "cell_type": "code",
   "execution_count": null,
   "metadata": {
    "collapsed": true,
    "hidden": true
   },
   "outputs": [],
   "source": [
    "#This creates opticalpsf\n",
    "optPsf=_getOptPsf([0.6,0,0,0,0,0,0,0])\n",
    "#We skip atmospheric term Kolmogorov term and declare total psf to be optical psf\n",
    "psf = optPsf"
   ]
  },
  {
   "cell_type": "code",
   "execution_count": null,
   "metadata": {
    "collapsed": true,
    "hidden": true
   },
   "outputs": [],
   "source": [
    "pixelScale=geom.Angle(0.000001)\n",
    "pixelScale=geom.radToArcsec(pixelScale)\n",
    "print(\"You have set pixel scale to be \"+str(pixelScale)+\" arcsec\")\n",
    "from lsst.afw import geom\n",
    "jacobian = np.eye(2, dtype=np.float64)\n",
    "wcs = galsim.JacobianWCS(*list(pixelScale*jacobian.ravel()))\n",
    "shape=(10,10)\n",
    "modelImg = psf.drawImage(\n",
    "    nx = shape[0],\n",
    "    ny = shape[1],\n",
    "    wcs = wcs)"
   ]
  },
  {
   "cell_type": "code",
   "execution_count": null,
   "metadata": {
    "collapsed": true,
    "hidden": true
   },
   "outputs": [],
   "source": [
    "plt.figure(figsize=(20,20))\n",
    "plt.subplot(221)\n",
    "plt.imshow(modelImg.array, cmap='gray')\n",
    "plt.colorbar()\n",
    "plt.title('linear')\n",
    "plt.grid(False)\n",
    "plt.subplot(222)\n",
    "plt.imshow(modelImg.array, cmap='gray',norm=LogNorm())\n",
    "plt.colorbar()\n",
    "plt.title('log')\n",
    "plt.grid(False)\n"
   ]
  },
  {
   "cell_type": "markdown",
   "metadata": {
    "heading_collapsed": true
   },
   "source": [
    "#  <span style=\"color:red\">Realistic modeling now - deprecated</span>"
   ]
  },
  {
   "cell_type": "code",
   "execution_count": null,
   "metadata": {
    "collapsed": true,
    "hidden": true
   },
   "outputs": [],
   "source": [
    "\"\"\"\n",
    "3. Construct a single function which constructs model Image given some parameters constructModelImage - done\n",
    "\"\"\"\n",
    "from lsst.afw import geom\n",
    "\n",
    "def _getOptPsf(params):\n",
    "    #Added .value to the params[] -> params[].value\n",
    "    \n",
    "    #This line for aberrations below surely works\n",
    "    aberrations_init=[0.0,0.0,0.0,0.0]\n",
    "    aberrations = aberrations_init\n",
    "    #aberrations = aberrations_init+aber_4_to_11\n",
    "    for i in range(4, zmax + 1):\n",
    "        aberrations.append(params['z{}'.format(i)].value)\n",
    "    \n",
    "    #There is a part here related to optical properties of telescope....\n",
    "    # Define the optical part of the PSF:\n",
    "    # The first argument of OpticalPSF below is lambda/diam (wavelength of light / telescope\n",
    "    # diameter), which needs to be in the same units used to specify the image scale.  We are using\n",
    "    # arcsec for that, so we have to self-consistently use arcsec here, using the following\n",
    "    # calculation:\n",
    "    tel_diam = 1.          # meters\n",
    "    lam = 1000              # nm    NB: don't use lambda - that's a reserved word.\n",
    "    lam_over_diam = lam * 1.e-9 / tel_diam # radians\n",
    "    lam_over_diam *= 206265  # arcsec\n",
    "    #Uncomment below to show lam_over_diam\n",
    "    #print(\"wavelenght over diameter of the telescope is \"+str(lam_over_diam)+\" arcsec\" )\n",
    "    # The rest of the values should be given in units of the wavelength of the incident light.\n",
    "    return galsim.OpticalPSF(lam_over_diam, aberrations = aberrations)\n",
    "\n",
    "def constructModelImage_Neven(params):\n",
    "    flux=float(np.sum(image))\n",
    "    params.add('flux', flux,\n",
    "           min = fluxRelativeRange[0]*flux,\n",
    "           max = fluxRelativeRange[1]*flux)\n",
    "    try:\n",
    "        v = params.valuesdict()\n",
    "    except AttributeError:\n",
    "        v = params\n",
    "    \n",
    "    #This creates opticalpsf\n",
    "    optPsf=_getOptPsf(params)\n",
    "    #We skip atmospheric term Kolmogorov term and declare total psf to be optical psf\n",
    "    psf = optPsf\n",
    "    psf = psf.shift(v['dx'], v['dy'])\n",
    "    #pixel scale at the moment choosen at random, made to be same to lam_over_diam\n",
    "    pixelScale=geom.Angle(0.000001)\n",
    "    pixelScale=geom.radToArcsec(pixelScale)\n",
    "    #Uncomment below to show pixes scale\n",
    "    #print(\"You have set pixel scale to be \"+str(pixelScale)+\" arcsec\")\n",
    "    jacobian = np.eye(2, dtype=np.float64)\n",
    "    wcs = galsim.JacobianWCS(*list(pixelScale*jacobian.ravel()))\n",
    "    shape=np.shape(image)\n",
    "    modelImg = psf.drawImage(\n",
    "    nx = shape[0],\n",
    "    ny = shape[1],\n",
    "    wcs = wcs)\n",
    "    multiplicative_factor=flux/np.sum(modelImg.array)\n",
    "    return multiplicative_factor*modelImg.array"
   ]
  },
  {
   "cell_type": "code",
   "execution_count": null,
   "metadata": {
    "collapsed": true,
    "hidden": true
   },
   "outputs": [],
   "source": [
    "\"\"\"\n",
    "4. Define chi squre for our problem\n",
    "\"\"\"\n",
    "def _chi_Neven(params):\n",
    "    \"\"\"Compute 'chi' image: (data - model)/sigma\n",
    "    @param params  lmfit.Parameters object.\n",
    "    @returns       Unraveled chi vector.\n",
    "    \n",
    "    Original code below, hacking now to use pure image files\n",
    "    modelImg = constructModelImage(params)\n",
    "    image = maskedImage.getImage().getArray()\n",
    "    sigma = maskedImage.getVariance().getArray()\n",
    "    chi = (image - modelImg)/sigma\n",
    "    \n",
    "    \"\"\"\n",
    "    modelImg = constructModelImage_Neven(params)\n",
    "    sigma = np.sqrt(image)\n",
    "    chi = (image - modelImg)/sigma\n",
    "    chi_without_nan=[]\n",
    "    chi_without_nan = chi.ravel()[~np.isnan(chi.ravel())]\n",
    "    return chi_without_nan"
   ]
  },
  {
   "cell_type": "code",
   "execution_count": null,
   "metadata": {
    "collapsed": true,
    "hidden": true
   },
   "outputs": [],
   "source": [
    "\"\"\"\n",
    "5. Run lmfit\n",
    "\"\"\"\n",
    "\n",
    "def fit_Neven():\n",
    "    \"\"\"Do the fit\n",
    "    @returns  result as an lmfit.MinimizerResult.\n",
    "    \"\"\"\n",
    "    result = lmfit.minimize(_chi_Neven, params)\n",
    "    return result\n"
   ]
  },
  {
   "cell_type": "code",
   "execution_count": null,
   "metadata": {
    "collapsed": true,
    "hidden": true
   },
   "outputs": [],
   "source": [
    "params = lmfit.Parameters()\n",
    "image=scidata_cut\n",
    "flux=float(np.sum(image))\n",
    "fluxRelativeRange=(0,1)\n",
    "params.add('flux', flux,\n",
    "           min = fluxRelativeRange[0]*flux,\n",
    "           max = fluxRelativeRange[1]*flux)\n",
    "z4Init=0\n",
    "z4Range=(-1,1)\n",
    "params.add('z4', z4Init, min=z4Range[0], max=z4Range[1])\n",
    "zmax=11\n",
    "zRange=(-1,1)\n",
    "centroidRange=(-5,5)\n",
    "params.add('dx', 0.0, min=centroidRange[0], max=centroidRange[1])\n",
    "params.add('dy', 0.0, min=centroidRange[0], max=centroidRange[1])\n",
    "for i in range(5, zmax+1):\n",
    "    params.add('z{}'.format(i), 0.0, min=zRange[0], max=zRange[1])"
   ]
  },
  {
   "cell_type": "code",
   "execution_count": null,
   "metadata": {
    "collapsed": true,
    "hidden": true
   },
   "outputs": [],
   "source": [
    "lmmfit_res_Neven=fit_Neven()"
   ]
  },
  {
   "cell_type": "code",
   "execution_count": null,
   "metadata": {
    "collapsed": true,
    "hidden": true
   },
   "outputs": [],
   "source": [
    "\"\"\"\n",
    "5. Show model and residuals\n",
    "\"\"\"\n",
    "resimg=constructModelImage_Neven(lmmfit_res_Neven.params)"
   ]
  },
  {
   "cell_type": "code",
   "execution_count": null,
   "metadata": {
    "collapsed": true,
    "hidden": true
   },
   "outputs": [],
   "source": [
    "plt.figure(figsize=(20,20))\n",
    "plt.subplot(221)\n",
    "plt.imshow(resimg, cmap='gray')\n",
    "plt.colorbar()\n",
    "plt.title('linear')\n",
    "plt.grid(False)\n",
    "plt.subplot(222)\n",
    "plt.imshow(resimg, cmap='gray',norm=LogNorm())\n",
    "plt.colorbar()\n",
    "plt.title('log')\n",
    "plt.grid(False)\n"
   ]
  },
  {
   "cell_type": "code",
   "execution_count": null,
   "metadata": {
    "collapsed": true,
    "hidden": true
   },
   "outputs": [],
   "source": [
    "plt.figure(figsize=(20,20))\n",
    "plt.subplot(221)\n",
    "plt.imshow(scidata_cut-resimg, cmap='gray')\n",
    "plt.colorbar()\n",
    "plt.title('linear')\n",
    "plt.grid(False)\n",
    "plt.subplot(222)\n",
    "plt.imshow(abs(scidata_cut-resimg), cmap='gray',norm=LogNorm())\n",
    "plt.colorbar()\n",
    "plt.title('log')\n",
    "plt.grid(False)"
   ]
  },
  {
   "cell_type": "code",
   "execution_count": null,
   "metadata": {
    "collapsed": true,
    "hidden": true
   },
   "outputs": [],
   "source": [
    "\"\"\"\n",
    "6. Implement movable center - done, not obvious it helps\n",
    "\n",
    "\"\"\""
   ]
  },
  {
   "cell_type": "code",
   "execution_count": null,
   "metadata": {
    "collapsed": true,
    "hidden": true
   },
   "outputs": [],
   "source": [
    "print(lmmfit_res_Neven.message)\n",
    "print(\"Reduced chi square is: \"+str(lmmfit_res_Neven.redchi))\n",
    "lmmfit_res_Neven.params.pretty_print()\n"
   ]
  },
  {
   "cell_type": "code",
   "execution_count": null,
   "metadata": {
    "collapsed": true,
    "hidden": true
   },
   "outputs": [],
   "source": [
    "lmmfit_res_Neven.flatchain"
   ]
  },
  {
   "cell_type": "markdown",
   "metadata": {
    "hidden": true
   },
   "source": [
    "## Select donuts from the actual data"
   ]
  },
  {
   "cell_type": "code",
   "execution_count": null,
   "metadata": {
    "collapsed": true,
    "hidden": true
   },
   "outputs": [],
   "source": [
    "data=fits.open('/media/caplarn/PFSData/PFS/Data_Sep_15/2017-08-16/v0003617/PFLAr1.fits')\n",
    "scidata=data[1].data"
   ]
  },
  {
   "cell_type": "code",
   "execution_count": null,
   "metadata": {
    "collapsed": true,
    "hidden": true
   },
   "outputs": [],
   "source": [
    "#Collumns in which there is data\n",
    "pos_x_of_donuts=np.where(scidata.max(axis=0)>100)"
   ]
  },
  {
   "cell_type": "code",
   "execution_count": null,
   "metadata": {
    "collapsed": true,
    "hidden": true
   },
   "outputs": [],
   "source": [
    "len(np.diff(pos_x_of_donuts).ravel()>10)"
   ]
  },
  {
   "cell_type": "code",
   "execution_count": null,
   "metadata": {
    "collapsed": true,
    "hidden": true
   },
   "outputs": [],
   "source": [
    "pos_x_of_donuts[0][np.diff(pos_x_of_donuts).ravel()>10]"
   ]
  },
  {
   "cell_type": "code",
   "execution_count": null,
   "metadata": {
    "collapsed": true,
    "hidden": true
   },
   "outputs": [],
   "source": [
    "idx = np.where((np.diff(pos_x_of_donuts).ravel()>10)!=False)[0]\n",
    "idx=np.insert(idx,0,1)"
   ]
  },
  {
   "cell_type": "code",
   "execution_count": null,
   "metadata": {
    "collapsed": true,
    "hidden": true
   },
   "outputs": [],
   "source": [
    "#This gives position of the collumns \n",
    "pos_x_of_donuts_subarray=[]\n",
    "for i in range(len(idx)-1):\n",
    "    pos_x_of_donuts_subarray=np.append(pos_x_of_donuts_subarray,np.mean(pos_x_of_donuts[0][(idx[i]+1):(idx[i+1]+1)]))\n",
    "    pos_x_of_donuts_subarray=np.round(pos_x_of_donuts_subarray)"
   ]
  },
  {
   "cell_type": "code",
   "execution_count": null,
   "metadata": {
    "collapsed": true,
    "hidden": true
   },
   "outputs": [],
   "source": [
    "i=1\n",
    "pos_x_of_donuts[0][idx[i]:idx[i+1]]"
   ]
  },
  {
   "cell_type": "code",
   "execution_count": null,
   "metadata": {
    "collapsed": true,
    "hidden": true
   },
   "outputs": [],
   "source": [
    "onefiber_x_position=int(pos_x_of_donuts_subarray[5])"
   ]
  },
  {
   "cell_type": "code",
   "execution_count": null,
   "metadata": {
    "collapsed": true,
    "hidden": true
   },
   "outputs": [],
   "source": [
    "onefiber=scidata[:,onefiber_x_position-20:onefiber_x_position+20]"
   ]
  },
  {
   "cell_type": "code",
   "execution_count": null,
   "metadata": {
    "collapsed": true,
    "hidden": true
   },
   "outputs": [],
   "source": [
    "pos_y_of_donuts=np.where(onefiber.max(axis=1)>50)\n",
    "idy = np.where((np.diff(pos_y_of_donuts).ravel()>10)!=False)[0]\n",
    "idy=np.insert(idy,0,1)\n",
    "#This gives position of rows \n",
    "pos_y_of_donuts_subarray=[]\n",
    "pos_y_of_donuts_subarray_len=[]\n",
    "for i in range(len(idy)-1):\n",
    "    pos_y_of_donuts_subarray=np.append(pos_y_of_donuts_subarray,np.mean(pos_y_of_donuts[0][(idy[i]+1):(idy[i+1]+1)]))\n",
    "    pos_y_of_donuts_subarray_len=np.append(pos_y_of_donuts_subarray_len,len(pos_y_of_donuts[0][(idy[i]+1):(idy[i+1]+1)]))\n",
    "    pos_y_of_donuts_subarray=np.round(pos_y_of_donuts_subarray)"
   ]
  },
  {
   "cell_type": "code",
   "execution_count": null,
   "metadata": {
    "collapsed": true,
    "hidden": true
   },
   "outputs": [],
   "source": [
    "pos_y_of_donuts_subarray"
   ]
  },
  {
   "cell_type": "code",
   "execution_count": null,
   "metadata": {
    "collapsed": true,
    "hidden": true,
    "scrolled": true
   },
   "outputs": [],
   "source": [
    "pos_y_of_donuts_subarray_len"
   ]
  },
  {
   "cell_type": "code",
   "execution_count": null,
   "metadata": {
    "collapsed": true,
    "hidden": true
   },
   "outputs": [],
   "source": [
    "i=4\n",
    "pos_y_of_donuts[0][(idy[i]+1):(idy[i+1]+1)]"
   ]
  },
  {
   "cell_type": "code",
   "execution_count": null,
   "metadata": {
    "collapsed": true,
    "hidden": true
   },
   "outputs": [],
   "source": [
    ">>> plt.hist(pos_y_of_donuts_subarray_len, bins='auto')  # arguments are passed to np.histogram\n",
    ">>> plt.title(\"Histogram with 'auto' bins\")\n",
    ">>> plt.show()"
   ]
  },
  {
   "cell_type": "code",
   "execution_count": null,
   "metadata": {
    "collapsed": true,
    "hidden": true
   },
   "outputs": [],
   "source": [
    "#Cutting above 30 pixels in this example (keep the one at 29 pixels just to see what happens)"
   ]
  },
  {
   "cell_type": "code",
   "execution_count": null,
   "metadata": {
    "collapsed": true,
    "hidden": true
   },
   "outputs": [],
   "source": [
    "pos_y_of_donuts_subarray_single_donut=pos_y_of_donuts_subarray[pos_y_of_donuts_subarray_len<30]"
   ]
  },
  {
   "cell_type": "code",
   "execution_count": null,
   "metadata": {
    "collapsed": true,
    "hidden": true
   },
   "outputs": [],
   "source": [
    "scidata_cuts=[[]]\n",
    "for i in range(len(pos_y_of_donuts_subarray_single_donut)-1):\n",
    "    single_scidata_cut=onefiber[(int(pos_y_of_donuts_subarray_single_donut[i])-20):(int(pos_y_of_donuts_subarray_single_donut[i])+20),:]\n",
    "    scidata_cuts=np.append(scidata_cuts,single_scidata_cut)"
   ]
  },
  {
   "cell_type": "code",
   "execution_count": null,
   "metadata": {
    "collapsed": true,
    "hidden": true
   },
   "outputs": [],
   "source": [
    "scidata_cuts12=np.split(scidata_cuts,12)\n",
    "for i in range(len(scidata_cuts12)-1):\n",
    "    scidata_cuts12[i]=scidata_cuts12[i].reshape(40,40)"
   ]
  },
  {
   "cell_type": "code",
   "execution_count": null,
   "metadata": {
    "collapsed": true,
    "hidden": true
   },
   "outputs": [],
   "source": [
    "for ima in range(0,len(scidata_cuts12)-1):\n",
    "    plt.figure()\n",
    "    plt.imshow(scidata_cuts12[ima], cmap='gray')"
   ]
  },
  {
   "cell_type": "markdown",
   "metadata": {
    "collapsed": true,
    "heading_collapsed": true,
    "hidden": true
   },
   "source": [
    "## Create a single function that takes an image and gives a result"
   ]
  },
  {
   "cell_type": "code",
   "execution_count": null,
   "metadata": {
    "collapsed": true,
    "hidden": true
   },
   "outputs": [],
   "source": [
    "from __future__ import absolute_import, division, print_function\n",
    "\n",
    "import lmfit\n",
    "import galsim\n",
    "import numpy as np\n",
    "from lsst.afw import geom\n",
    "from matplotlib.colors import LogNorm\n",
    "\n",
    "class ZernikeFitter_PSF(object):\n",
    "    \n",
    "    \"\"\"Description comes here\n",
    "    \"\"\"\n",
    "    def __init__(self, image, pixelScale=None,\n",
    "                 jacobian=None,**kwargs):\n",
    "        \"\"\"\n",
    "Description of parameters comes here\n",
    "        \"\"\"\n",
    "        # I am cheating here - adding so lowest value is 0.1\n",
    "        #image=image-np.min(image)+0.1\n",
    "        self.image = image\n",
    "        #pixel scale at the moment choosen at random, made to be same to lam_over_diam\n",
    "        pixelScale=geom.Angle(0.000001)\n",
    "        pixelScale=geom.radToArcsec(pixelScale)\n",
    "        self.pixelScale=pixelScale\n",
    "        if jacobian is None:\n",
    "            jacobian = np.eye(2, dtype=np.float64)\n",
    "        self.jacobian = jacobian\n",
    "        zmax=11\n",
    "        self.zmax = zmax\n",
    "        self.kwargs = kwargs\n",
    "    \n",
    "    def initParams(self, z4Init, z4Range, zRange,\n",
    "                   centroidRange, fluxRelativeRange):\n",
    "        \"\"\"Initialize lmfit Parameters object.\n",
    "        @param z4Init   Initial Z4 aberration value in waves.\n",
    "        @param z4Range  2-tuple for allowed range of Z4 aberration in waves.\n",
    "        @param zRange   2-tuple for allowed range of Zernike aberrations higher\n",
    "                        than 4 in waves.\n",
    "        @param r0Init   Initial value for Fried parameter r0 in meters.\n",
    "        @param r0Range  2-tuple for allowed range of r0 in meters.\n",
    "        @param centroidRange  2-tuple for allowed range of centroid in pixels.\n",
    "                              Note this is the same for both x and y.\n",
    "        @param fluxRelativeRange  2-tuple for the allowed range of flux\n",
    "                                  relative to the pixel sum of the input image.\n",
    "        \"\"\"\n",
    "        # Note that order of parameters here must be consistent with order of\n",
    "        # parameters in the fitDonut schema.\n",
    "        params = lmfit.Parameters()\n",
    "        params.add('dx', 0.0, min=centroidRange[0], max=centroidRange[1])\n",
    "        params.add('dy', 0.0, min=centroidRange[0], max=centroidRange[1])\n",
    "        image = self.image\n",
    "        flux = float(np.sum(image))\n",
    "        self.flux=flux\n",
    "        params.add('flux', flux,\n",
    "                   min = fluxRelativeRange[0]*flux,\n",
    "                   max = fluxRelativeRange[1]*flux)\n",
    "        params.add('z4', z4Init, min=z4Range[0], max=z4Range[1])\n",
    "        for i in range(5, self.zmax+1):\n",
    "            params.add('z{}'.format(i), 0.0, min=zRange[0], max=zRange[1])\n",
    "        self.params = params\n",
    "    \n",
    "    def _getOptPsf(self, params):\n",
    "        #Added .value to the params[] (i.e., changed params[]-> params[].value)\n",
    "        aberrations_init=[0.0,0.0,0.0,0.0]\n",
    "        aberrations = aberrations_init\n",
    "        for i in range(4, self.zmax + 1):\n",
    "            aberrations.append(params['z{}'.format(i)])\n",
    "\n",
    "        #There is a part here related to optical properties of telescope....\n",
    "        # Define the optical part of the PSF:\n",
    "        # The first argument of OpticalPSF below is lambda/diam (wavelength of light / telescope\n",
    "        # diameter), which needs to be in the same units used to specify the image scale.  We are using\n",
    "        # arcsec for that, so we have to self-consistently use arcsec here, using the following\n",
    "        # calculation:\n",
    "        tel_diam = 1.          # meters\n",
    "        lam = 1000              # nm    NB: don't use lambda - that's a reserved word.\n",
    "        lam_over_diam = lam * 1.e-9 / tel_diam # radians\n",
    "        lam_over_diam *= 206265  # arcsec\n",
    "        #Uncomment below to show lam_over_diam\n",
    "        #print(\"wavelenght over diameter of the telescope is \"+str(lam_over_diam)+\" arcsec\" )\n",
    "        # The rest of the values should be given in units of the wavelength of the incident light.\n",
    "        return galsim.OpticalPSF(lam_over_diam, aberrations = aberrations)\n",
    "    \n",
    "    def constructModelImage_Neven(self,params=None,shape=None,pixelScale=None,jacobian=None):\n",
    "        if params is None:\n",
    "            params = self.params\n",
    "        if shape is None:\n",
    "            shape = self.image.shape\n",
    "        if pixelScale is None:\n",
    "            pixelScale = self.pixelScale\n",
    "        if jacobian is None:\n",
    "            jacobian = self.jacobian    \n",
    "        #params.add('flux', flux,\n",
    "        #       min = fluxRelativeRange[0]*flux,\n",
    "        #       max = fluxRelativeRange[1]*flux)\n",
    "        try:\n",
    "            v = params.valuesdict()\n",
    "        except AttributeError:\n",
    "            v = params\n",
    "\n",
    "        #This creates opticalpsf\n",
    "        optPsf=self._getOptPsf(v)\n",
    "        #We skip atmospheric term Kolmogorov term and declare total psf to be optical psf\n",
    "        psf = optPsf\n",
    "        psf = psf.shift(v['dx'], v['dy'])*v['flux']\n",
    "        #pixel scale at the moment choosen at random, made to be same to lam_over_diam\n",
    "        #pixelScale=geom.Angle(0.000001)\n",
    "        #pixelScale=geom.radToArcsec(pixelScale)\n",
    "        #Uncomment below to show pixes scale\n",
    "        #print(\"You have set pixel scale to be \"+str(pixelScale)+\" arcsec\")\n",
    "        #jacobian = np.eye(2, dtype=np.float64)\n",
    "        wcs = galsim.JacobianWCS(*list(pixelScale*jacobian.ravel()))\n",
    "        #shape=np.shape(image)\n",
    "        modelImg = psf.drawImage(\n",
    "        nx = shape[0],\n",
    "        ny = shape[1],\n",
    "        wcs = wcs)\n",
    "        #multiplicative_factor=np.sum(modelImg.array)\n",
    "        return 1*modelImg.array\n",
    "    \n",
    "    def _chi_Neven(self, params):\n",
    "        \"\"\"Compute 'chi' image: (data - model)/sigma\n",
    "        @param params  lmfit.Parameters object.\n",
    "        @returns       Unraveled chi vector.\n",
    "\n",
    "        Original code below, hacking now to use pure image files\n",
    "        modelImg = constructModelImage(params)\n",
    "        image = maskedImage.getImage().getArray()\n",
    "        sigma = maskedImage.getVariance().getArray()\n",
    "        chi = (image - modelImg)/sigma\n",
    "\n",
    "        \"\"\"\n",
    "        modelImg = self.constructModelImage_Neven(params)\n",
    "        sigma = np.sqrt(self.image)\n",
    "        chi = (self.image - modelImg)/sigma\n",
    "        chi_without_nan=[]\n",
    "        chi_without_nan = chi.ravel()[~np.isnan(chi.ravel())]\n",
    "        print(np.mean(chi_without_nan)**2)\n",
    "        return chi_without_nan\n",
    "    \n",
    "    def best_image_Neven(self, params):\n",
    "        \"\"\"Compute 'chi' image: (data - model)/sigma\n",
    "        @param params  lmfit.Parameters object.\n",
    "        @returns       Unraveled chi vector.\n",
    "\n",
    "        Original code below, hacking now to use pure image files\n",
    "        modelImg = constructModelImage(params)\n",
    "        image = maskedImage.getImage().getArray()\n",
    "        sigma = maskedImage.getVariance().getArray()\n",
    "        chi = (image - modelImg)/sigma\n",
    "\n",
    "        \"\"\"\n",
    "        modelImg = self.constructModelImage_Neven(params)\n",
    "        return modelImg\n",
    "    \n",
    "    def residual_image_Neven(self, params):\n",
    "        \"\"\"Compute 'chi' image: (data - model)/sigma\n",
    "        @param params  lmfit.Parameters object.\n",
    "        @returns       Unraveled chi vector.\n",
    "\n",
    "        Original code below, hacking now to use pure image files\n",
    "        modelImg = constructModelImage(params)\n",
    "        image = maskedImage.getImage().getArray()\n",
    "        sigma = maskedImage.getVariance().getArray()\n",
    "        chi = (image - modelImg)/sigma\n",
    "\n",
    "        \"\"\"\n",
    "        modelImg = self.constructModelImage_Neven(params)\n",
    "        return (self.image - modelImg)\n",
    "    \n",
    "    def fit_Neven(self):\n",
    "        \"\"\"Do the fit\n",
    "        @returns  result as an lmfit.MinimizerResult.\n",
    "        \"\"\"\n",
    "        print(\"Doing fit\")\n",
    "        self.result = lmfit.minimize(self._chi_Neven, self.params, method='brute',**self.kwargs)\n",
    "        return self.result\n",
    "    \n",
    "    def report(self, *args, **kwargs):\n",
    "        \"\"\"Return a string with fit results.\"\"\"\n",
    "        return lmfit.fit_report(self.result, *args, **kwargs)"
   ]
  },
  {
   "cell_type": "markdown",
   "metadata": {
    "heading_collapsed": true
   },
   "source": [
    "# <span style=\"color:red\">Running new class on a single object -theoretically done, seems to be very sensitive on initial conditions  - deprecated</span>"
   ]
  },
  {
   "cell_type": "code",
   "execution_count": null,
   "metadata": {
    "collapsed": true,
    "hidden": true
   },
   "outputs": [],
   "source": [
    "single_image_analysis=ZernikeFitter_PSF(scidata_cut,epsfcn=0.1)"
   ]
  },
  {
   "cell_type": "code",
   "execution_count": null,
   "metadata": {
    "collapsed": true,
    "hidden": true
   },
   "outputs": [],
   "source": [
    "single_image_analysis.initParams(z4Init=0.5,z4Range=(0,1),zRange=(-1,1),\\\n",
    "                                 centroidRange=(-5,5),fluxRelativeRange=(0,1))"
   ]
  },
  {
   "cell_type": "code",
   "execution_count": null,
   "metadata": {
    "collapsed": true,
    "hidden": true
   },
   "outputs": [],
   "source": [
    "result_fit_single_image=single_image_analysis.fit_Neven()"
   ]
  },
  {
   "cell_type": "code",
   "execution_count": null,
   "metadata": {
    "collapsed": true,
    "hidden": true
   },
   "outputs": [],
   "source": [
    "best_img=single_image_analysis.best_image_Neven(result_fit_single_image.params)\n",
    "residual_img=single_image_analysis.residual_image_Neven(result_fit_single_image.params)"
   ]
  },
  {
   "cell_type": "code",
   "execution_count": null,
   "metadata": {
    "collapsed": true,
    "hidden": true
   },
   "outputs": [],
   "source": [
    "plt.figure(figsize=(20,20))\n",
    "plt.subplot(221)\n",
    "plt.imshow(best_img, cmap='gray')\n",
    "plt.colorbar()\n",
    "plt.title('linear')\n",
    "plt.grid(False)\n",
    "plt.subplot(222)\n",
    "plt.imshow(best_img, cmap='gray',norm=LogNorm())\n",
    "plt.colorbar()\n",
    "plt.title('log')\n",
    "plt.grid(False)"
   ]
  },
  {
   "cell_type": "code",
   "execution_count": null,
   "metadata": {
    "collapsed": true,
    "hidden": true
   },
   "outputs": [],
   "source": [
    "plt.figure(figsize=(20,20))\n",
    "plt.subplot(221)\n",
    "plt.imshow(residual_img, cmap='gray')\n",
    "plt.colorbar()\n",
    "plt.title('linear')\n",
    "plt.grid(False)\n",
    "plt.subplot(222)\n",
    "plt.imshow(residual_img, cmap='gray',norm=LogNorm())\n",
    "plt.colorbar()\n",
    "plt.title('log')\n",
    "plt.grid(False)"
   ]
  },
  {
   "cell_type": "code",
   "execution_count": null,
   "metadata": {
    "collapsed": true,
    "hidden": true
   },
   "outputs": [],
   "source": [
    "result_fit_single_image.params"
   ]
  },
  {
   "cell_type": "code",
   "execution_count": null,
   "metadata": {
    "collapsed": true,
    "hidden": true
   },
   "outputs": [],
   "source": [
    "single_image_analysis.report()"
   ]
  },
  {
   "cell_type": "code",
   "execution_count": null,
   "metadata": {
    "collapsed": true,
    "hidden": true
   },
   "outputs": [],
   "source": [
    "result_fit_single_image.init_vals"
   ]
  },
  {
   "cell_type": "markdown",
   "metadata": {},
   "source": [
    "#  <span style=\"color:red\">Running new class on a single donut  - deprecated</span>"
   ]
  },
  {
   "cell_type": "code",
   "execution_count": null,
   "metadata": {
    "collapsed": true,
    "scrolled": true
   },
   "outputs": [],
   "source": [
    "#semi-reasonable results with brute force method...\n",
    "\n",
    "single_image_analysis=ZernikeFitter_PSF(scidata_cuts12[5])\n",
    "single_image_analysis.initParams(z4Init=0.2,z4Range=(0,2),zRange=(-1,1),\\\n",
    "                                 centroidRange=(-5,5),fluxRelativeRange=(0,1))\n",
    "result_fit_single_image=single_image_analysis.fit_Neven()\n",
    "best_img=single_image_analysis.best_image_Neven(result_fit_single_image.params)\n",
    "residual_img=single_image_analysis.residual_image_Neven(result_fit_single_image.params)"
   ]
  },
  {
   "cell_type": "code",
   "execution_count": null,
   "metadata": {
    "collapsed": true
   },
   "outputs": [],
   "source": [
    "plt.figure(figsize=(20,20))\n",
    "plt.subplot(221)\n",
    "plt.imshow(scidata_cuts12[5], cmap='gray')\n",
    "plt.colorbar()\n",
    "plt.title('linear')\n",
    "plt.grid(False)\n",
    "plt.subplot(222)\n",
    "plt.imshow(scidata_cuts12[5], cmap='gray',norm=LogNorm())\n",
    "plt.colorbar()\n",
    "plt.title('log')\n",
    "plt.grid(False)"
   ]
  },
  {
   "cell_type": "code",
   "execution_count": null,
   "metadata": {
    "collapsed": true
   },
   "outputs": [],
   "source": [
    "plt.figure(figsize=(20,20))\n",
    "plt.subplot(221)\n",
    "plt.imshow(best_img, cmap='gray')\n",
    "plt.colorbar()\n",
    "plt.title('linear')\n",
    "plt.grid(False)\n",
    "plt.subplot(222)\n",
    "plt.imshow(best_img, cmap='gray',norm=LogNorm())\n",
    "plt.colorbar()\n",
    "plt.title('log')\n",
    "plt.grid(False)"
   ]
  },
  {
   "cell_type": "code",
   "execution_count": null,
   "metadata": {
    "collapsed": true
   },
   "outputs": [],
   "source": [
    "plt.figure(figsize=(20,20))\n",
    "plt.subplot(221)\n",
    "plt.imshow(residual_img, cmap='gray')\n",
    "plt.colorbar()\n",
    "plt.title('linear')\n",
    "plt.grid(False)\n",
    "plt.subplot(222)\n",
    "plt.imshow(residual_img, cmap='gray',norm=LogNorm())\n",
    "plt.colorbar()\n",
    "plt.title('log')\n",
    "plt.grid(False)"
   ]
  },
  {
   "cell_type": "code",
   "execution_count": null,
   "metadata": {
    "collapsed": true
   },
   "outputs": [],
   "source": [
    "result_fit_single_image.params\n"
   ]
  },
  {
   "cell_type": "code",
   "execution_count": null,
   "metadata": {
    "collapsed": true
   },
   "outputs": [],
   "source": [
    "single_image_analysis.report()"
   ]
  },
  {
   "cell_type": "markdown",
   "metadata": {
    "heading_collapsed": true
   },
   "source": [
    "#    <span style=\"color:red\">Which pixels are contributing in the final image?  - deprecated</span>"
   ]
  },
  {
   "cell_type": "code",
   "execution_count": null,
   "metadata": {
    "collapsed": true,
    "hidden": true
   },
   "outputs": [],
   "source": [
    "kinda_sigma_map=np.sqrt(scidata_cuts12[5])\n",
    "map_where_chi2=(residual_img/kinda_sigma_map)**2"
   ]
  },
  {
   "cell_type": "code",
   "execution_count": null,
   "metadata": {
    "collapsed": true,
    "hidden": true,
    "scrolled": true
   },
   "outputs": [],
   "source": [
    "plt.figure(figsize=(20,20))\n",
    "plt.subplot(221)\n",
    "plt.imshow(np.nan_to_num(map_where_chi2), cmap='gray')\n",
    "plt.colorbar()\n",
    "plt.title('linear')\n",
    "plt.grid(False)\n",
    "plt.subplot(222)\n",
    "plt.imshow(np.nan_to_num(map_where_chi2), cmap='gray',norm=LogNorm())\n",
    "plt.colorbar()\n",
    "plt.title('log')\n",
    "plt.grid(False)"
   ]
  },
  {
   "cell_type": "code",
   "execution_count": null,
   "metadata": {
    "collapsed": true,
    "hidden": true
   },
   "outputs": [],
   "source": [
    "# The problem is in the innermost pixes - optical tshings"
   ]
  },
  {
   "cell_type": "code",
   "execution_count": null,
   "metadata": {
    "collapsed": true,
    "hidden": true
   },
   "outputs": [],
   "source": [
    "best_img=single_image_analysis.best_image_Neven(result_fit_single_image.params)"
   ]
  },
  {
   "cell_type": "code",
   "execution_count": null,
   "metadata": {
    "collapsed": true,
    "hidden": true
   },
   "outputs": [],
   "source": [
    "result_fit_single_image.params"
   ]
  },
  {
   "cell_type": "markdown",
   "metadata": {
    "hidden": true
   },
   "source": [
    "## Ok the problem is that I have not modeled the  pupil"
   ]
  },
  {
   "cell_type": "code",
   "execution_count": null,
   "metadata": {
    "collapsed": true,
    "hidden": true
   },
   "outputs": [],
   "source": [
    "# This will be quite complex\n",
    "# Lets first make any psf with roughly the reasonable aperature"
   ]
  },
  {
   "cell_type": "code",
   "execution_count": null,
   "metadata": {
    "collapsed": true,
    "hidden": true
   },
   "outputs": [],
   "source": [
    "from __future__ import absolute_import, division, print_function\n",
    "\n",
    "__all__ = ['PupilFactory_Neven', 'Pupil']\n",
    "\n",
    "import numpy as np\n",
    "\n",
    "\n",
    "class Pupil(object):\n",
    "    \"\"\"!Pupil obscuration function.\n",
    "    \"\"\"\n",
    "\n",
    "    def __init__(self, illuminated, size, scale):\n",
    "        \"\"\"!Construct a Pupil\n",
    "\n",
    "        @param[in] illuminated  2D numpy array indicating which parts of\n",
    "                                the pupil plane are illuminated.\n",
    "        @param[in] size         Size of pupil plane array in meters.  Note\n",
    "                                that this may be larger than the actual\n",
    "                                diameter of the illuminated pupil to\n",
    "                                accommodate zero-padding.\n",
    "        @param[in] scale        Sampling interval of pupil plane array in\n",
    "                                meters.\n",
    "        \"\"\"\n",
    "        self.illuminated = illuminated\n",
    "        self.size = size\n",
    "        self.scale = scale\n",
    "\n",
    "\n",
    "class PupilFactory_Neven(object):\n",
    "    \"\"\"!Pupil obscuration function factory for use with Fourier optics.\n",
    "    \"\"\"\n",
    "\n",
    "    def __init__(self, pupilSize, npix):\n",
    "        \"\"\"!Construct a PupilFactory.\n",
    "\n",
    "        @param[in] visitInfo  VisitInfo object for a particular exposure.\n",
    "        @param[in] pupilSize  Size in meters of constructed Pupil array.\n",
    "                              Note that this may be larger than the actual\n",
    "                              diameter of the illuminated pupil to\n",
    "                              accommodate zero-padding.\n",
    "        @param[in] npix       Constructed Pupils will be npix x npix.\n",
    "        \"\"\"\n",
    "        self.pupilSize = pupilSize\n",
    "        self.npix = npix\n",
    "        self.pupilScale = pupilSize/npix\n",
    "        u = (np.arange(npix, dtype=np.float64) - (npix - 1)/2) * self.pupilScale\n",
    "        self.u, self.v = np.meshgrid(u, u)\n",
    "\n",
    "    def getPupil(self, point):\n",
    "        \"\"\"!Calculate a Pupil at a given point in the focal plane.\n",
    "\n",
    "        @param point  Point2D indicating focal plane coordinates.\n",
    "        @returns      Pupil\n",
    "        \"\"\"\n",
    "        raise NotImplementedError(\n",
    "            \"PupilFactory not implemented for this camera\")\n",
    "\n",
    "    @staticmethod\n",
    "    def _pointLineDistance(p0, p1, p2):\n",
    "        \"\"\"Compute the right-angle distance between the points given by `p0`\n",
    "        and the line that passes through `p1` and `p2`.\n",
    "\n",
    "        @param[in] p0  2-tuple of numpy arrays (x,y coords)\n",
    "        @param[in] p1  2-tuple of scalars (x,y coords)\n",
    "        @param[in] p2  2-tuple of scalars (x,y coords)\n",
    "        @returns       numpy array of distances; shape congruent to p0[0]\n",
    "        \"\"\"\n",
    "        x0, y0 = p0\n",
    "        x1, y1 = p1\n",
    "        x2, y2 = p2\n",
    "        dy21 = y2 - y1\n",
    "        dx21 = x2 - x1\n",
    "        return np.abs(dy21*x0 - dx21*y0 + x2*y1 - y2*x1)/np.hypot(dy21, dx21)\n",
    "\n",
    "    def _fullPupil(self):\n",
    "        \"\"\"Make a fully-illuminated Pupil.\n",
    "\n",
    "        @returns Pupil\n",
    "        \"\"\"\n",
    "        illuminated = np.ones(self.u.shape, dtype=np.bool)\n",
    "        return Pupil(illuminated, self.pupilSize, self.pupilScale)\n",
    "\n",
    "    def _cutCircleInterior(self, pupil, p0, r):\n",
    "        \"\"\"Cut out the interior of a circular region from a Pupil.\n",
    "\n",
    "        @param[in,out] pupil  Pupil to modify in place\n",
    "        @param[in] p0         2-tuple indicating region center\n",
    "        @param[in] r          Circular region radius\n",
    "        \"\"\"\n",
    "        r2 = (self.u - p0[0])**2 + (self.v - p0[1])**2\n",
    "        pupil.illuminated[r2 < r**2] = False\n",
    "\n",
    "    def _cutCircleExterior(self, pupil, p0, r):\n",
    "        \"\"\"Cut out the exterior of a circular region from a Pupil.\n",
    "\n",
    "        @param[in,out] pupil  Pupil to modify in place\n",
    "        @param[in] p0     2-tuple indicating region center\n",
    "        @param[in] r      Circular region radius\n",
    "        \"\"\"\n",
    "        r2 = (self.u - p0[0])**2 + (self.v - p0[1])**2\n",
    "        pupil.illuminated[r2 > r**2] = False\n",
    "\n",
    "    def _cutRay(self, pupil, p0, angle, thickness):\n",
    "        \"\"\"Cut out a ray from a Pupil.\n",
    "\n",
    "        @param[in,out] pupil  Pupil to modify in place\n",
    "        @param[in] p0         2-tuple indicating ray starting point\n",
    "        @param[in] angle      Ray angle measured CCW from +x.\n",
    "        @param[in] thickness  Thickness of cutout\n",
    "        \"\"\"\n",
    "        angleRad = angle.asRadians()\n",
    "        # the 1 is arbitrary, just need something to define another point on\n",
    "        # the line\n",
    "        p1 = (p0[0] + 1, p0[1] + np.tan(angleRad))\n",
    "        d = PupilFactory._pointLineDistance((self.u, self.v), p0, p1)\n",
    "        pupil.illuminated[(d < 0.5*thickness) &\n",
    "                          ((self.u - p0[0])*np.cos(angleRad) +\n",
    "                           (self.v - p0[1])*np.sin(angleRad) >= 0)] = False"
   ]
  },
  {
   "cell_type": "code",
   "execution_count": null,
   "metadata": {
    "collapsed": true,
    "hidden": true
   },
   "outputs": [],
   "source": [
    "from __future__ import absolute_import, division, print_function\n",
    "\n",
    "from lsst.afw.cameraGeom import PupilFactory\n",
    "from lsst.afw.geom import Angle, degrees\n",
    "import numpy as np\n",
    "\n",
    "\n",
    "class PFSPupilFactory(PupilFactory_Neven):\n",
    "    \"\"\"!Pupil obscuration function factory for PFS - work in progress.\n",
    "    \"\"\"\n",
    "    def __init__(self, pupilSize, npix):\n",
    "        \"\"\"!Construct a PupilFactory.\n",
    "\n",
    "        @param[in] visitInfo  VisitInfo object for a particular exposure.\n",
    "        @param[in] pupilSize  Size in meters of constructed Pupils.\n",
    "        @param[in] npix       Constructed Pupils will be npix x npix.\n",
    "        \"\"\"\n",
    "        PupilFactory_Neven.__init__(self, pupilSize, npix)\n",
    "        \n",
    "        hra = self._horizonRotAngle()\n",
    "        hraRad = hra.asRadians()\n",
    "        rot = np.array([[np.cos(hraRad), np.sin(hraRad)],\n",
    "                        [-np.sin(hraRad), np.cos(hraRad)]])\n",
    "\n",
    "        # Compute spider shadow parameters accounting for rotation angle.\n",
    "        # Location where pairs of struts meet near prime focus.\n",
    "        unrotStartPos = [np.array([0.43, 0.43]),\n",
    "                         np.array([0.43, 0.43]),\n",
    "                         np.array([-0.43, -0.43]),\n",
    "                         np.array([-0.43, -0.43])]\n",
    "        # Half angle between pair of struts that meet at Subaru prime focus\n",
    "        # ring.\n",
    "        strutAngle = 51.75*degrees\n",
    "        alpha = strutAngle - 45.0*degrees\n",
    "        unrotAngles = [90*degrees + alpha,\n",
    "                       -alpha,\n",
    "                       180*degrees - alpha,\n",
    "                       270*degrees + alpha]\n",
    "        # Apply rotation and save the results\n",
    "        self._spiderStartPos = []\n",
    "        self._spiderAngles = []\n",
    "        for pos, angle in zip(unrotStartPos, unrotAngles):\n",
    "            self._spiderStartPos.append(np.dot(rot, pos))\n",
    "            self._spiderAngles.append(angle - hra)\n",
    "\n",
    "    telescopeDiameter = 8.2  # meters\n",
    "\n",
    "    def _horizonRotAngle(self):\n",
    "        \"\"\"!Compute rotation angle of camera with respect to horizontal\n",
    "        coordinates from self.visitInfo.\n",
    "\n",
    "        @returns horizon rotation angle.\n",
    "        \n",
    "        observatory = self.visitInfo.getObservatory()\n",
    "        lat = observatory.getLatitude()\n",
    "        lon = observatory.getLongitude()\n",
    "        radec = self.visitInfo.getBoresightRaDec()\n",
    "        ra = radec.getRa()\n",
    "        dec = radec.getDec()\n",
    "        era = self.visitInfo.getEra()\n",
    "        ha = (era + lon - ra).wrap()\n",
    "        alt = self.visitInfo.getBoresightAzAlt().getLatitude()\n",
    "\n",
    "        # parallactic angle\n",
    "        sinParAng = (np.cos(lat.asRadians()) * np.sin(ha.asRadians()) /\n",
    "                     np.cos(alt.asRadians()))\n",
    "        cosParAng = np.sqrt(1 - sinParAng*sinParAng)\n",
    "        if dec > lat:\n",
    "            cosParAng = -cosParAng\n",
    "        parAng = Angle(np.arctan2(sinParAng, cosParAng))\n",
    "\n",
    "        bra = self.visitInfo.getBoresightRotAngle()\n",
    "        #return (bra - parAng).wrap()\n",
    "        \"\"\"\n",
    "        parAng = Angle(np.arctan2(0, 1))\n",
    "        return parAng.wrap()\n",
    "\n",
    "    def getPupil(self, point):\n",
    "        \"\"\"!Calculate a Pupil at a given point in the focal plane.\n",
    "\n",
    "        @param point  Point2D indicating focal plane coordinates.\n",
    "        @returns      Pupil\n",
    "        \"\"\"\n",
    "        subaruRadius = self.telescopeDiameter/2\n",
    "\n",
    "        hscFrac = 0.231  # linear fraction\n",
    "        # radius of HSC camera shadow in meters\n",
    "        hscRadius = hscFrac * subaruRadius\n",
    "\n",
    "        subaruStrutThick = 0.22  # meters\n",
    "\n",
    "        # See DM-8589 for more detailed description of following parameters\n",
    "        # d(lensCenter)/d(theta) in meters per degree\n",
    "        lensRate = 0.0276 * 3600 / 128.9 * subaruRadius\n",
    "        # d(cameraCenter)/d(theta) in meters per degree\n",
    "        hscRate = 0.00558 * 3600 / 128.9 * subaruRadius\n",
    "        # Projected radius of lens obstruction in meters\n",
    "        lensRadius = subaruRadius * 138./128.98\n",
    "\n",
    "        # Focal plane location in degrees\n",
    "        hscPlateScale = 0.168  # arcsec/pixel\n",
    "        thetaX = point.getX() * hscPlateScale / 3600\n",
    "        thetaY = point.getY() * hscPlateScale / 3600\n",
    "\n",
    "        pupil = self._fullPupil()\n",
    "        # Cut out primary mirror exterior\n",
    "        self._cutCircleExterior(pupil, (0.0, 0.0), subaruRadius)\n",
    "        # Cut out camera shadow\n",
    "        camX = thetaX * hscRate\n",
    "        camY = thetaY * hscRate\n",
    "        self._cutCircleInterior(pupil, (camX, camY), hscRadius)\n",
    "        # Cut outer edge where L1 is too small\n",
    "        lensX = thetaX * lensRate\n",
    "        lensY = thetaY * lensRate\n",
    "        self._cutCircleExterior(pupil, (lensX, lensY), lensRadius)\n",
    "        # Cut out spider shadow\n",
    "        for pos, angle in zip(self._spiderStartPos, self._spiderAngles):\n",
    "            x = pos[0] + camX\n",
    "            y = pos[1] + camY\n",
    "            self._cutRay(pupil, (x, y), angle, subaruStrutThick)\n",
    "        return pupil"
   ]
  },
  {
   "cell_type": "code",
   "execution_count": null,
   "metadata": {
    "collapsed": true,
    "hidden": true
   },
   "outputs": [],
   "source": [
    "HscPupil=PFSPupilFactory(5,10)"
   ]
  },
  {
   "cell_type": "code",
   "execution_count": null,
   "metadata": {
    "collapsed": true,
    "hidden": true
   },
   "outputs": [],
   "source": [
    "iluminated.shape[0]"
   ]
  },
  {
   "cell_type": "code",
   "execution_count": null,
   "metadata": {
    "collapsed": true,
    "hidden": true
   },
   "outputs": [],
   "source": [
    "iluminated=np.ones((4,4),dtype=np.int16)\n",
    "diam=1\n",
    "pupil=Pupil(iluminated,1,0.1)\n",
    "\n",
    "aper_test = galsim.Aperture(\n",
    "            diam = diam,\n",
    "            pupil_plane_im = pupil.illuminated.astype(np.int16),\n",
    "            pupil_plane_scale = pupil.scale,\n",
    "            pupil_plane_size = pupil.size)"
   ]
  },
  {
   "cell_type": "code",
   "execution_count": null,
   "metadata": {
    "collapsed": true,
    "hidden": true
   },
   "outputs": [],
   "source": [
    "def _getOptPsf(params):\n",
    "    #Added .value to the params[] -> params[].value\n",
    "    \n",
    "    #This line for aberrations below surely works\n",
    "    aberrations_init=[0.0,0.0,0.0,0.0]\n",
    "    aberrations = aberrations_init\n",
    "    #aberrations = aberrations_init+aber_4_to_11\n",
    "    for i in range(4, zmax + 1):\n",
    "        aberrations.append(params['z{}'.format(i)].value)\n",
    "    \n",
    "    #There is a part here related to optical properties of telescope....\n",
    "    # Define the optical part of the PSF:\n",
    "    # The first argument of OpticalPSF below is lambda/diam (wavelength of light / telescope\n",
    "    # diameter), which needs to be in the same units used to specify the image scale.  We are using\n",
    "    # arcsec for that, so we have to self-consistently use arcsec here, using the following\n",
    "    # calculation:\n",
    "    tel_diam = 1.          # meters\n",
    "    lam = 1000              # nm    NB: don't use lambda - that's a reserved word.\n",
    "    lam_over_diam = lam * 1.e-9 / tel_diam # radians\n",
    "    lam_over_diam *= 206265  # arcsec\n",
    "    #Uncomment below to show lam_over_diam\n",
    "    #print(\"wavelenght over diameter of the telescope is \"+str(lam_over_diam)+\" arcsec\" )\n",
    "    # The rest of the values should be given in units of the wavelength of the incident light.\n",
    "    return galsim.OpticalPSF(lam=lam,diam=tel_diam, aberrations = aberrations,aper=aper_test)"
   ]
  },
  {
   "cell_type": "code",
   "execution_count": null,
   "metadata": {
    "collapsed": true,
    "hidden": true
   },
   "outputs": [],
   "source": [
    "import galsim\n",
    "from galsim import phase_psf\n",
    "\n",
    "zmax=11\n",
    "_getOptPsf(result_fit_single_image.params)"
   ]
  },
  {
   "cell_type": "code",
   "execution_count": null,
   "metadata": {
    "collapsed": true,
    "hidden": true
   },
   "outputs": [],
   "source": [
    "dir(HscPupil)"
   ]
  },
  {
   "cell_type": "code",
   "execution_count": null,
   "metadata": {
    "collapsed": true,
    "hidden": true
   },
   "outputs": [],
   "source": []
  },
  {
   "cell_type": "code",
   "execution_count": null,
   "metadata": {
    "collapsed": true,
    "hidden": true
   },
   "outputs": [],
   "source": []
  },
  {
   "cell_type": "code",
   "execution_count": null,
   "metadata": {
    "collapsed": true,
    "hidden": true
   },
   "outputs": [],
   "source": []
  },
  {
   "cell_type": "code",
   "execution_count": null,
   "metadata": {
    "collapsed": true,
    "hidden": true
   },
   "outputs": [],
   "source": []
  },
  {
   "cell_type": "code",
   "execution_count": null,
   "metadata": {
    "collapsed": true,
    "hidden": true
   },
   "outputs": [],
   "source": []
  },
  {
   "cell_type": "code",
   "execution_count": null,
   "metadata": {
    "collapsed": true,
    "hidden": true
   },
   "outputs": [],
   "source": []
  },
  {
   "cell_type": "code",
   "execution_count": null,
   "metadata": {
    "collapsed": true,
    "hidden": true
   },
   "outputs": [],
   "source": []
  },
  {
   "cell_type": "code",
   "execution_count": null,
   "metadata": {
    "collapsed": true,
    "hidden": true
   },
   "outputs": [],
   "source": []
  },
  {
   "cell_type": "code",
   "execution_count": null,
   "metadata": {
    "collapsed": true,
    "hidden": true
   },
   "outputs": [],
   "source": []
  },
  {
   "cell_type": "markdown",
   "metadata": {
    "collapsed": true,
    "heading_collapsed": true
   },
   "source": [
    "#  <span style=\"color:red\">Ok, now the class with some aperature  - deprecated</span>"
   ]
  },
  {
   "cell_type": "code",
   "execution_count": 1,
   "metadata": {
    "hidden": true
   },
   "outputs": [
    {
     "data": {
      "text/plain": [
       "'\\nCreated on Tue Sep 19 12:24:03 2017\\n\\n@author: ncaplar\\n\\n'"
      ]
     },
     "execution_count": 1,
     "metadata": {},
     "output_type": "execute_result"
    }
   ],
   "source": [
    "\"\"\"\n",
    "Created on Tue Sep 19 12:24:03 2017\n",
    "\n",
    "@author: ncaplar\n",
    "\n",
    "\"\"\"\n"
   ]
  },
  {
   "cell_type": "code",
   "execution_count": 4,
   "metadata": {
    "ExecuteTime": {
     "end_time": "2017-09-23T22:55:16.930299Z",
     "start_time": "2017-09-23T22:55:15.329842Z"
    },
    "collapsed": true,
    "hidden": true
   },
   "outputs": [],
   "source": [
    "from __future__ import absolute_import, division, print_function\n",
    "\n",
    "import lmfit\n",
    "import galsim\n",
    "import numpy as np\n",
    "import lsst.afw\n",
    "import astropy\n",
    "\n",
    "from astropy.io import fits\n",
    "from lsst.afw.cameraGeom import PupilFactory\n",
    "from lsst.afw.geom import Angle, degrees\n",
    "from lsst.afw import geom\n",
    "from lsst.afw.geom import Point2D\n",
    "from matplotlib.colors import LogNorm\n",
    "\n",
    "import matplotlib\n",
    "%config InlineBackend.rc = {}\n",
    "matplotlib.rcParams.update({'font.size': 22})\n",
    "#matplotlib.rc_file(\"../../templates/matplotlibrc\")\n",
    "import matplotlib.pyplot as plt\n",
    "%matplotlib inline"
   ]
  },
  {
   "cell_type": "markdown",
   "metadata": {
    "hidden": true
   },
   "source": [
    "## Select donuts from the actual data"
   ]
  },
  {
   "cell_type": "code",
   "execution_count": 136,
   "metadata": {
    "ExecuteTime": {
     "end_time": "2017-09-24T00:07:51.365621Z",
     "start_time": "2017-09-24T00:07:51.342196Z"
    },
    "collapsed": true,
    "hidden": true
   },
   "outputs": [],
   "source": [
    "data=fits.open('/media/caplarn/PFSData/PFS/Data_Sep_15/2017-08-16/v0003617/PFLAr1.fits')\n",
    "scidata=data[1].data\n",
    "#data=fits.open('/home/caplarn/Downloads/pfsArc-2016-11-11-0-r1.fits')\n",
    "#scidata=data[0].data"
   ]
  },
  {
   "cell_type": "code",
   "execution_count": 137,
   "metadata": {
    "ExecuteTime": {
     "end_time": "2017-09-24T00:07:53.597851Z",
     "start_time": "2017-09-24T00:07:52.504152Z"
    },
    "collapsed": true,
    "hidden": true
   },
   "outputs": [],
   "source": [
    "#Collumns in which there is data\n",
    "pos_x_of_donuts=np.where(scidata.max(axis=0)>100)\n",
    "idx = np.where((np.diff(pos_x_of_donuts).ravel()>10)!=False)[0]\n",
    "idx=np.insert(idx,0,1)\n",
    "#This gives position of the collumns \n",
    "pos_x_of_donuts_subarray=[]\n",
    "for i in range(len(idx)-1):\n",
    "    pos_x_of_donuts_subarray=np.append(pos_x_of_donuts_subarray,np.mean(pos_x_of_donuts[0][(idx[i]+1):(idx[i+1]+1)]))\n",
    "    pos_x_of_donuts_subarray=np.round(pos_x_of_donuts_subarray)\n",
    "onefiber_x_position=int(pos_x_of_donuts_subarray[5])    \n",
    "onefiber=scidata[:,onefiber_x_position-20:onefiber_x_position+20]\n",
    "pos_y_of_donuts=np.where(onefiber.max(axis=1)>50)\n",
    "idy = np.where((np.diff(pos_y_of_donuts).ravel()>10)!=False)[0]\n",
    "idy=np.insert(idy,0,1)\n",
    "#This gives position of rows \n",
    "pos_y_of_donuts_subarray=[]\n",
    "pos_y_of_donuts_subarray_len=[]\n",
    "for i in range(len(idy)-1):\n",
    "    pos_y_of_donuts_subarray=np.append(pos_y_of_donuts_subarray,np.mean(pos_y_of_donuts[0][(idy[i]+1):(idy[i+1]+1)]))\n",
    "    pos_y_of_donuts_subarray_len=np.append(pos_y_of_donuts_subarray_len,len(pos_y_of_donuts[0][(idy[i]+1):(idy[i+1]+1)]))\n",
    "    pos_y_of_donuts_subarray=np.round(pos_y_of_donuts_subarray)"
   ]
  },
  {
   "cell_type": "code",
   "execution_count": 138,
   "metadata": {
    "ExecuteTime": {
     "end_time": "2017-09-24T00:07:53.813899Z",
     "start_time": "2017-09-24T00:07:53.629614Z"
    },
    "hidden": true
   },
   "outputs": [
    {
     "data": {
      "image/png": "[encoded data removed]",
      "text/plain": [
       "<matplotlib.figure.Figure at 0x7f2edf9de350>"
      ]
     },
     "metadata": {},
     "output_type": "display_data"
    }
   ],
   "source": [
    ">>> plt.hist(pos_y_of_donuts_subarray_len, bins='auto')  # arguments are passed to np.histogram\n",
    ">>> plt.title(\"Histogram with 'auto' bins\")\n",
    ">>> plt.show()"
   ]
  },
  {
   "cell_type": "code",
   "execution_count": 139,
   "metadata": {
    "ExecuteTime": {
     "end_time": "2017-09-24T00:07:53.997578Z",
     "start_time": "2017-09-24T00:07:53.994925Z"
    },
    "collapsed": true,
    "hidden": true
   },
   "outputs": [],
   "source": [
    "#Cutting above 30 pixels in this example (keep the one at 29 pixels just to see what happens)"
   ]
  },
  {
   "cell_type": "code",
   "execution_count": 140,
   "metadata": {
    "ExecuteTime": {
     "end_time": "2017-09-24T00:07:54.596588Z",
     "start_time": "2017-09-24T00:07:54.593633Z"
    },
    "collapsed": true,
    "hidden": true
   },
   "outputs": [],
   "source": [
    "pos_y_of_donuts_subarray_single_donut=pos_y_of_donuts_subarray[pos_y_of_donuts_subarray_len<30]"
   ]
  },
  {
   "cell_type": "code",
   "execution_count": 141,
   "metadata": {
    "ExecuteTime": {
     "end_time": "2017-09-24T00:07:55.171038Z",
     "start_time": "2017-09-24T00:07:55.166750Z"
    },
    "collapsed": true,
    "hidden": true
   },
   "outputs": [],
   "source": [
    "scidata_cuts=[[]]\n",
    "for i in range(len(pos_y_of_donuts_subarray_single_donut)-1):\n",
    "    single_scidata_cut=onefiber[(int(pos_y_of_donuts_subarray_single_donut[i])-20):(int(pos_y_of_donuts_subarray_single_donut[i])+20),:]\n",
    "    scidata_cuts=np.append(scidata_cuts,single_scidata_cut)"
   ]
  },
  {
   "cell_type": "code",
   "execution_count": 142,
   "metadata": {
    "ExecuteTime": {
     "end_time": "2017-09-24T00:07:55.832816Z",
     "start_time": "2017-09-24T00:07:55.828360Z"
    },
    "collapsed": true,
    "hidden": true
   },
   "outputs": [],
   "source": [
    "scidata_cuts12=np.split(scidata_cuts,12)\n",
    "for i in range(len(scidata_cuts12)-1):\n",
    "    scidata_cuts12[i]=scidata_cuts12[i].reshape(40,40)"
   ]
  },
  {
   "cell_type": "code",
   "execution_count": 143,
   "metadata": {
    "ExecuteTime": {
     "end_time": "2017-09-24T00:07:57.975829Z",
     "start_time": "2017-09-24T00:07:56.477917Z"
    },
    "hidden": true
   },
   "outputs": [
    {
     "data": {
      "image/png": "[encoded data removed]",
      "text/plain": [
       "<matplotlib.figure.Figure at 0x7f2ecac826d0>"
      ]
     },
     "metadata": {},
     "output_type": "display_data"
    },
    {
     "data": {
      "image/png": "[encoded data removed]",
      "text/plain": [
       "<matplotlib.figure.Figure at 0x7f2ede741c90>"
      ]
     },
     "metadata": {},
     "output_type": "display_data"
    },
    {
     "data": {
      "image/png": "[encoded data removed]",
      "text/plain": [
       "<matplotlib.figure.Figure at 0x7f2ede653b50>"
      ]
     },
     "metadata": {},
     "output_type": "display_data"
    },
    {
     "data": {
      "image/png": "[encoded data removed]",
      "text/plain": [
       "<matplotlib.figure.Figure at 0x7f2ede5d2210>"
      ]
     },
     "metadata": {},
     "output_type": "display_data"
    },
    {
     "data": {
      "image/png": "[encoded data removed]",
      "text/plain": [
       "<matplotlib.figure.Figure at 0x7f2ede5661d0>"
      ]
     },
     "metadata": {},
     "output_type": "display_data"
    },
    {
     "data": {
      "image/png": "[encoded data removed]",
      "text/plain": [
       "<matplotlib.figure.Figure at 0x7f2ede4d5c90>"
      ]
     },
     "metadata": {},
     "output_type": "display_data"
    },
    {
     "data": {
      "image/png": "[encoded data removed]",
      "text/plain": [
       "<matplotlib.figure.Figure at 0x7f2ede466b90>"
      ]
     },
     "metadata": {},
     "output_type": "display_data"
    },
    {
     "data": {
      "image/png": "[encoded data removed]",
      "text/plain": [
       "<matplotlib.figure.Figure at 0x7f2ecac09e90>"
      ]
     },
     "metadata": {},
     "output_type": "display_data"
    },
    {
     "data": {
      "image/png": "[encoded data removed]",
      "text/plain": [
       "<matplotlib.figure.Figure at 0x7f2ecb509f50>"
      ]
     },
     "metadata": {},
     "output_type": "display_data"
    },
    {
     "data": {
      "image/png": "[encoded data removed]",
      "text/plain": [
       "<matplotlib.figure.Figure at 0x7f2ecb55f710>"
      ]
     },
     "metadata": {},
     "output_type": "display_data"
    },
    {
     "data": {
      "image/png": "[encoded data removed]",
      "text/plain": [
       "<matplotlib.figure.Figure at 0x7f2ecac73290>"
      ]
     },
     "metadata": {},
     "output_type": "display_data"
    }
   ],
   "source": [
    "for ima in range(0,len(scidata_cuts12)-1):\n",
    "    plt.figure()\n",
    "    plt.imshow(scidata_cuts12[ima], cmap='gray')"
   ]
  },
  {
   "cell_type": "code",
   "execution_count": null,
   "metadata": {
    "collapsed": true,
    "hidden": true
   },
   "outputs": [],
   "source": [
    "__all__ = ['PupilFactory_Neven', 'Pupil']\n",
    "\n",
    "\n",
    "class Pupil(object):\n",
    "    \"\"\"!Pupil obscuration function.\n",
    "    \"\"\"\n",
    "\n",
    "    def __init__(self, illuminated, size, scale):\n",
    "        \"\"\"!Construct a Pupil\n",
    "\n",
    "        @param[in] illuminated  2D numpy array indicating which parts of\n",
    "                                the pupil plane are illuminated.\n",
    "        @param[in] size         Size of pupil plane array in meters.  Note\n",
    "                                that this may be larger than the actual\n",
    "                                diameter of the illuminated pupil to\n",
    "                                accommodate zero-padding.\n",
    "        @param[in] scale        Sampling interval of pupil plane array in\n",
    "                                meters.\n",
    "        \"\"\"\n",
    "        self.illuminated = illuminated\n",
    "        self.size = size\n",
    "        self.scale = scale\n",
    "\n",
    "\n",
    "class PupilFactory_Neven(object):\n",
    "    \"\"\"!Pupil obscuration function factory for use with Fourier optics.\n",
    "    \"\"\"\n",
    "\n",
    "    def __init__(self, pupilSize, npix):\n",
    "        \"\"\"!Construct a PupilFactory.\n",
    "\n",
    "        @param[in] visitInfo  VisitInfo object for a particular exposure.\n",
    "        @param[in] pupilSize  Size in meters of constructed Pupil array.\n",
    "                              Note that this may be larger than the actual\n",
    "                              diameter of the illuminated pupil to\n",
    "                              accommodate zero-padding.\n",
    "        @param[in] npix       Constructed Pupils will be npix x npix.\n",
    "        \"\"\"\n",
    "        self.pupilSize = pupilSize\n",
    "        self.npix = npix\n",
    "        self.pupilScale = pupilSize/npix\n",
    "        u = (np.arange(npix, dtype=np.float64) - (npix - 1)/2) * self.pupilScale\n",
    "        self.u, self.v = np.meshgrid(u, u)\n",
    "\n",
    "    def getPupil(self, point):\n",
    "        \"\"\"!Calculate a Pupil at a given point in the focal plane.\n",
    "\n",
    "        @param point  Point2D indicating focal plane coordinates.\n",
    "        @returns      Pupil\n",
    "        \"\"\"\n",
    "        raise NotImplementedError(\n",
    "            \"PupilFactory not implemented for this camera\")\n",
    "\n",
    "    @staticmethod\n",
    "    def _pointLineDistance(p0, p1, p2):\n",
    "        \"\"\"Compute the right-angle distance between the points given by `p0`\n",
    "        and the line that passes through `p1` and `p2`.\n",
    "\n",
    "        @param[in] p0  2-tuple of numpy arrays (x,y coords)\n",
    "        @param[in] p1  2-tuple of scalars (x,y coords)\n",
    "        @param[in] p2  2-tuple of scalars (x,y coords)\n",
    "        @returns       numpy array of distances; shape congruent to p0[0]\n",
    "        \"\"\"\n",
    "        x0, y0 = p0\n",
    "        x1, y1 = p1\n",
    "        x2, y2 = p2\n",
    "        dy21 = y2 - y1\n",
    "        dx21 = x2 - x1\n",
    "        return np.abs(dy21*x0 - dx21*y0 + x2*y1 - y2*x1)/np.hypot(dy21, dx21)\n",
    "\n",
    "    def _fullPupil(self):\n",
    "        \"\"\"Make a fully-illuminated Pupil.\n",
    "\n",
    "        @returns Pupil\n",
    "        \"\"\"\n",
    "        illuminated = np.ones(self.u.shape, dtype=np.bool)\n",
    "        return Pupil(illuminated, self.pupilSize, self.pupilScale)\n",
    "\n",
    "    def _cutCircleInterior(self, pupil, p0, r):\n",
    "        \"\"\"Cut out the interior of a circular region from a Pupil.\n",
    "\n",
    "        @param[in,out] pupil  Pupil to modify in place\n",
    "        @param[in] p0         2-tuple indicating region center\n",
    "        @param[in] r          Circular region radius\n",
    "        \"\"\"\n",
    "        print(self.u)\n",
    "        print(self.v)\n",
    "        r2 = (self.u - p0[0])**2 + (self.v - p0[1])**2\n",
    "        pupil.illuminated[r2 < r**2] = False\n",
    "\n",
    "    def _cutCircleExterior(self, pupil, p0, r):\n",
    "        \"\"\"Cut out the exterior of a circular region from a Pupil.\n",
    "\n",
    "        @param[in,out] pupil  Pupil to modify in place\n",
    "        @param[in] p0     2-tuple indicating region center\n",
    "        @param[in] r      Circular region radius\n",
    "        \"\"\"\n",
    "        r2 = (self.u - p0[0])**2 + (self.v - p0[1])**2\n",
    "        pupil.illuminated[r2 > r**2] = False\n",
    "        \n",
    "    def _cutSquare(self,pupil, p0, r):\n",
    "        \"\"\"Cut out the interior of a circular region from a Pupil.\n",
    "\n",
    "        @param[in,out] pupil  Pupil to modify in place\n",
    "        @param[in] p0         2-tuple indicating region center\n",
    "        @param[in] r          half lenght of the length of square side\n",
    "        \"\"\"\n",
    "        x21 = int(np.floor(p0[0]-r/2))\n",
    "        x22 = int(np.ceil(p0[0]+r/2))\n",
    "        y21 = int(np.floor(p0[1]-r/2))\n",
    "        y22 = int(np.ceil(p0[1]+r/2))\n",
    "        pupil[np.logical_and((self.u<x22) & (self.u>x21),(self.v<y22) & (self.v>y21))] = False\n",
    "\n",
    "    def _cutRay(self, pupil, p0, angle, thickness):\n",
    "        \"\"\"Cut out a ray from a Pupil.\n",
    "\n",
    "        @param[in,out] pupil  Pupil to modify in place\n",
    "        @param[in] p0         2-tuple indicating ray starting point\n",
    "        @param[in] angle      Ray angle measured CCW from +x.\n",
    "        @param[in] thickness  Thickness of cutout\n",
    "        \"\"\"\n",
    "        angleRad = angle.asRadians()\n",
    "        # the 1 is arbitrary, just need something to define another point on\n",
    "        # the line\n",
    "        p1 = (p0[0] + 1, p0[1] + np.tan(angleRad))\n",
    "        d = PupilFactory._pointLineDistance((self.u, self.v), p0, p1)\n",
    "        pupil.illuminated[(d < 0.5*thickness) &\n",
    "                          ((self.u - p0[0])*np.cos(angleRad) +\n",
    "                           (self.v - p0[1])*np.sin(angleRad) >= 0)] = False"
   ]
  },
  {
   "cell_type": "code",
   "execution_count": null,
   "metadata": {
    "collapsed": true,
    "hidden": true
   },
   "outputs": [],
   "source": [
    "class PFSPupilFactory(PupilFactory_Neven):\n",
    "    \"\"\"!Pupil obscuration function factory for PFS - work in progress.\n",
    "    \"\"\"\n",
    "    def __init__(self, pupilSize, npix):\n",
    "        \"\"\"!Construct a PupilFactory.\n",
    "\n",
    "        @param[in] visitInfo  VisitInfo object for a particular exposure.\n",
    "        @param[in] pupilSize  Size in meters of constructed Pupils.\n",
    "        @param[in] npix       Constructed Pupils will be npix x npix.\n",
    "        \"\"\"\n",
    "        PupilFactory_Neven.__init__(self, pupilSize, npix)\n",
    "        \n",
    "        hra = self._horizonRotAngle()\n",
    "        hraRad = hra.asRadians()\n",
    "        rot = np.array([[np.cos(hraRad), np.sin(hraRad)],\n",
    "                        [-np.sin(hraRad), np.cos(hraRad)]])\n",
    "\n",
    "        # Compute spider shadow parameters accounting for rotation angle.\n",
    "        # Location where pairs of struts meet near prime focus.\n",
    "        unrotStartPos = [np.array([0.43, 0.43]),\n",
    "                         np.array([0.43, 0.43]),\n",
    "                         np.array([-0.43, -0.43]),\n",
    "                         np.array([-0.43, -0.43])]\n",
    "        # Half angle between pair of struts that meet at Subaru prime focus\n",
    "        # ring.\n",
    "        strutAngle = 51.75*degrees\n",
    "        alpha = strutAngle - 45.0*degrees\n",
    "        unrotAngles = [90*degrees + alpha,\n",
    "                       -alpha,\n",
    "                       180*degrees - alpha,\n",
    "                       270*degrees + alpha]\n",
    "        # Apply rotation and save the results\n",
    "        self._spiderStartPos = []\n",
    "        self._spiderAngles = []\n",
    "        for pos, angle in zip(unrotStartPos, unrotAngles):\n",
    "            self._spiderStartPos.append(np.dot(rot, pos))\n",
    "            self._spiderAngles.append(angle - hra)\n",
    "\n",
    "    telescopeDiameter = 8.2  # meters\n",
    "\n",
    "    def _horizonRotAngle(self):\n",
    "        \"\"\"!Compute rotation angle of camera with respect to horizontal\n",
    "        coordinates from self.visitInfo.\n",
    "\n",
    "        @returns horizon rotation angle.\n",
    "        \n",
    "        observatory = self.visitInfo.getObservatory()\n",
    "        lat = observatory.getLatitude()\n",
    "        lon = observatory.getLongitude()\n",
    "        radec = self.visitInfo.getBoresightRaDec()\n",
    "        ra = radec.getRa()\n",
    "        dec = radec.getDec()\n",
    "        era = self.visitInfo.getEra()\n",
    "        ha = (era + lon - ra).wrap()\n",
    "        alt = self.visitInfo.getBoresightAzAlt().getLatitude()\n",
    "\n",
    "        # parallactic angle\n",
    "        sinParAng = (np.cos(lat.asRadians()) * np.sin(ha.asRadians()) /\n",
    "                     np.cos(alt.asRadians()))\n",
    "        cosParAng = np.sqrt(1 - sinParAng*sinParAng)\n",
    "        if dec > lat:\n",
    "            cosParAng = -cosParAng\n",
    "        parAng = Angle(np.arctan2(sinParAng, cosParAng))\n",
    "\n",
    "        bra = self.visitInfo.getBoresightRotAngle()\n",
    "        #return (bra - parAng).wrap()\n",
    "        \"\"\"\n",
    "        parAng = Angle(np.arctan2(0, 1))\n",
    "        return parAng.wrap()\n",
    "\n",
    "    def getPupil(self, point):\n",
    "        \"\"\"!Calculate a Pupil at a given point in the focal plane.\n",
    "\n",
    "        @param point  Point2D indicating focal plane coordinates.\n",
    "        @returns      Pupil\n",
    "        \"\"\"\n",
    "        subaruRadius = self.telescopeDiameter/2\n",
    "\n",
    "        hscFrac = 0.231  # linear fraction\n",
    "        # radius of HSC camera shadow in meters\n",
    "        hscRadius = hscFrac * subaruRadius\n",
    "\n",
    "        subaruStrutThick = 0.22  # meters\n",
    "\n",
    "        # See DM-8589 for more detailed description of following parameters\n",
    "        # d(lensCenter)/d(theta) in meters per degree\n",
    "        lensRate = 0.0276 * 3600 / 128.9 * subaruRadius\n",
    "        # d(cameraCenter)/d(theta) in meters per degree\n",
    "        hscRate = 0.00558 * 3600 / 128.9 * subaruRadius\n",
    "        # Projected radius of lens obstruction in meters\n",
    "        lensRadius = subaruRadius * 138./128.98\n",
    "\n",
    "        # Focal plane location in degrees\n",
    "        hscPlateScale = 0.168  # arcsec/pixel\n",
    "        thetaX = point.getX() * hscPlateScale / 3600\n",
    "        thetaY = point.getY() * hscPlateScale / 3600\n",
    "\n",
    "        pupil = self._fullPupil()\n",
    "        # Cut out primary mirror exterior\n",
    "        self._cutCircleExterior(pupil, (0.0, 0.0), subaruRadius)\n",
    "        # Cut out camera shadow\n",
    "        camX = thetaX * hscRate\n",
    "        camY = thetaY * hscRate\n",
    "        self._cutSquare(pupil, (camX, camY), hscRadius)\n",
    "        # Cut outer edge where L1 is too small\n",
    "        lensX = thetaX * lensRate\n",
    "        lensY = thetaY * lensRate\n",
    "        self._cutCircleExterior(pupil, (lensX, lensY), lensRadius)\n",
    "        # Cut out spider shadow\n",
    "        for pos, angle in zip(self._spiderStartPos, self._spiderAngles):\n",
    "            x = pos[0] + camX\n",
    "            y = pos[1] + camY\n",
    "            self._cutRay(pupil, (x, y), angle, subaruStrutThick)\n",
    "        return pupil"
   ]
  },
  {
   "cell_type": "code",
   "execution_count": null,
   "metadata": {
    "collapsed": true,
    "hidden": true
   },
   "outputs": [],
   "source": [
    "class ZernikeFitter_PSF(object):\n",
    "    \n",
    "    \"\"\"Description comes here\n",
    "    \"\"\"\n",
    "    def __init__(self, image, pupil, diam, pixelScale=None,\n",
    "                 jacobian=None,**kwargs):\n",
    "        \"\"\"\n",
    "Description of parameters comes here\n",
    "        \"\"\"\n",
    "        print('init_start')\n",
    "        self.image = image\n",
    "        #pixel scale choosen so that one pixel = 3/8 arcsec, taken from Smee et al., 2014\n",
    "        #pixelScale=geom.Angle(0.000001818)\n",
    "        #pixelScale=geom.radToArcsec(pixelScale)\n",
    "        pixelScale=geom.Angle(0.000001118)\n",
    "        pixelScale=geom.radToArcsec(pixelScale)\n",
    "        self.pixelScale=pixelScale\n",
    "        if jacobian is None:\n",
    "            jacobian = np.eye(2, dtype=np.float64)\n",
    "        self.jacobian = jacobian\n",
    "        zmax=11\n",
    "        self.zmax = zmax\n",
    "        wavelength=6000\n",
    "        self.wavelength=wavelength\n",
    "        \n",
    "        self.aper = galsim.Aperture(\n",
    "            diam = diam,\n",
    "            pupil_plane_im = pupil.illuminated.astype(np.int16),\n",
    "            pupil_plane_scale = pupil.scale,\n",
    "            pupil_plane_size = pupil.size)\n",
    "        self.kwargs = kwargs\n",
    "        print('init_finished')\n",
    "    \n",
    "    def initParams(self, z4Init, z4Range, zRange,\n",
    "                   centroidRange, fluxRelativeRange):\n",
    "        \"\"\"Initialize lmfit Parameters object.\n",
    "        @param z4Init   Initial Z4 aberration value in waves.\n",
    "        @param z4Range  2-tuple for allowed range of Z4 aberration in waves.\n",
    "        @param zRange   2-tuple for allowed range of Zernike aberrations higher\n",
    "                        than 4 in waves.\n",
    "        @param r0Init   Initial value for Fried parameter r0 in meters.\n",
    "        @param r0Range  2-tuple for allowed range of r0 in meters.\n",
    "        @param centroidRange  2-tuple for allowed range of centroid in pixels.\n",
    "                              Note this is the same for both x and y.\n",
    "        @param fluxRelativeRange  2-tuple for the allowed range of flux\n",
    "                                  relative to the pixel sum of the input image.\n",
    "        \"\"\"\n",
    "        # Note that order of parameters here must be consistent with order of\n",
    "        # parameters in the fitDonut schema.\n",
    "        print('init_params_start')\n",
    "        params = lmfit.Parameters()\n",
    "        params.add('dx', 0.0, min=centroidRange[0], max=centroidRange[1])\n",
    "        params.add('dy', 0.0, min=centroidRange[0], max=centroidRange[1])\n",
    "        image = self.image\n",
    "        flux = float(np.sum(image))\n",
    "        #self.flux=flux\n",
    "        params.add('flux', flux,\n",
    "                   min = fluxRelativeRange[0]*flux,\n",
    "                   max = fluxRelativeRange[1]*flux)\n",
    "        params.add('z4', z4Init, min=z4Range[0], max=z4Range[1])\n",
    "        for i in range(5, self.zmax+1):\n",
    "            params.add('z{}'.format(i), 0.0, min=zRange[0], max=zRange[1])\n",
    "        self.params = params\n",
    "        print('init_params_finish')\n",
    "        \n",
    "    def _getOptPsf(self,params):\n",
    "\n",
    "        aberrations_init=[0.0,0.0,0.0,0.0]\n",
    "        aberrations = aberrations_init\n",
    "        #aberrations = aberrations_init+aber_4_to_11\n",
    "        for i in range(4, self.zmax + 1):\n",
    "            aberrations.append(params['z{}'.format(i)])\n",
    "\n",
    "        #There is a part here related to optical properties of telescope....\n",
    "        # Define the optical part of the PSF:\n",
    "        # The first argument of OpticalPSF below is lambda/diam (wavelength of light / telescope\n",
    "        # diameter), which needs to be in the same units used to specify the image scale.  We are using\n",
    "        # arcsec for that, so we have to self-consistently use arcsec here, using the following\n",
    "        # calculation:\n",
    "        #tel_diam = 1.          # meters\n",
    "        #lam = 1000              # nm    NB: don't use lambda - that's a reserved word.\n",
    "        #lam_over_diam = lam * 1.e-9 / tel_diam # radians\n",
    "        #lam_over_diam *= 206265  # arcsec\n",
    "        #Uncomment below to show lam_over_diam\n",
    "        #print(\"wavelenght over diameter of the telescope is \"+str(lam_over_diam)+\" arcsec\" )\n",
    "        # The rest of the values should be given in units of the wavelength of the incident light.\n",
    "        return galsim.OpticalPSF(lam=self.wavelength,diam=self.aper.diam, aberrations = aberrations,aper=self.aper)\n",
    "\n",
    "    def constructModelImage_Neven(self,params=None,shape=None,pixelScale=None,jacobian=None):\n",
    "        if params is None:\n",
    "            params = self.params\n",
    "        if shape is None:\n",
    "            shape = self.image.shape\n",
    "        if pixelScale is None:\n",
    "            pixelScale = self.pixelScale\n",
    "        if jacobian is None:\n",
    "            jacobian = self.jacobian    \n",
    "        #params.add('flux', flux,\n",
    "        #       min = fluxRelativeRange[0]*flux,\n",
    "        #       max = fluxRelativeRange[1]*flux)\n",
    "        try:\n",
    "            v = params.valuesdict()\n",
    "        except AttributeError:\n",
    "            v = params\n",
    "\n",
    "        #This creates opticalpsf\n",
    "        optPsf=self._getOptPsf(v)\n",
    "        #We skip atmospheric term Kolmogorov term and declare total psf to be optical psf\n",
    "        psf = optPsf\n",
    "        psf = psf.shift(v['dx'], v['dy'])*v['flux']\n",
    "        #pixel scale at the moment choosen at random, made to be same to lam_over_diam\n",
    "        #pixelScale=geom.Angle(0.000001)\n",
    "        #pixelScale=geom.radToArcsec(pixelScale)\n",
    "        #Uncomment below to show pixes scale\n",
    "        #print(\"You have set pixel scale to be \"+str(pixelScale)+\" arcsec\")\n",
    "        #jacobian = np.eye(2, dtype=np.float64)\n",
    "        wcs = galsim.JacobianWCS(*list(pixelScale*jacobian.ravel()))\n",
    "        #shape=np.shape(image)\n",
    "        modelImg = psf.drawImage(\n",
    "        nx = shape[0],\n",
    "        ny = shape[1],\n",
    "        wcs = wcs)\n",
    "        #multiplicative_factor=np.sum(modelImg.array)\n",
    "        return 1*modelImg.array\n",
    "    \n",
    "    def _chi_Neven(self, params):\n",
    "        \"\"\"Compute 'chi' image: (data - model)/sigma\n",
    "        @param params  lmfit.Parameters object.\n",
    "        @returns       Unraveled chi vector.\n",
    "\n",
    "        Original code below, hacking now to use pure image files\n",
    "        modelImg = constructModelImage(params)\n",
    "        image = maskedImage.getImage().getArray()\n",
    "        sigma = maskedImage.getVariance().getArray()\n",
    "        chi = (image - modelImg)/sigma\n",
    "\n",
    "        \"\"\"\n",
    "        modelImg = self.constructModelImage_Neven(params)\n",
    "        sigma = np.sqrt(self.image)\n",
    "        chi = (self.image - modelImg)/sigma\n",
    "        chi_without_nan=[]\n",
    "        chi_without_nan = chi.ravel()[~np.isnan(chi.ravel())]\n",
    "        print(\"chi**2/d.o.f. is:\"+str(np.mean(chi_without_nan)**2))\n",
    "        return chi_without_nan\n",
    "    \n",
    "    def best_image_Neven(self, params):\n",
    "        \"\"\"Compute 'chi' image: (data - model)/sigma\n",
    "        @param params  lmfit.Parameters object.\n",
    "        @returns       Unraveled chi vector.\n",
    "\n",
    "        Original code below, hacking now to use pure image files\n",
    "        modelImg = constructModelImage(params)\n",
    "        image = maskedImage.getImage().getArray()\n",
    "        sigma = maskedImage.getVariance().getArray()\n",
    "        chi = (image - modelImg)/sigma\n",
    "\n",
    "        \"\"\"\n",
    "        modelImg = self.constructModelImage_Neven(params)\n",
    "        return modelImg\n",
    "    \n",
    "    def residual_image_Neven(self, params):\n",
    "        \"\"\"Compute 'chi' image: (data - model)/sigma\n",
    "        @param params  lmfit.Parameters object.\n",
    "        @returns       Unraveled chi vector.\n",
    "\n",
    "        Original code below, hacking now to use pure image files\n",
    "        modelImg = constructModelImage(params)\n",
    "        image = maskedImage.getImage().getArray()\n",
    "        sigma = maskedImage.getVariance().getArray()\n",
    "        chi = (image - modelImg)/sigma\n",
    "\n",
    "        \"\"\"\n",
    "        modelImg = self.constructModelImage_Neven(params)\n",
    "        return (self.image - modelImg)\n",
    "    \n",
    "    def fit_Neven(self):\n",
    "        \"\"\"Do the fit\n",
    "        @returns  result as an lmfit.MinimizerResult.\n",
    "        \"\"\"\n",
    "        print(\"Doing fit\")\n",
    "        self.result = lmfit.minimize(self._chi_Neven, self.params,**self.kwargs)\n",
    "        return self.result\n",
    "    \n",
    "    def report(self, *args, **kwargs):\n",
    "        \"\"\"Return a string with fit results.\"\"\"\n",
    "        return lmfit.fit_report(self.result, *args, **kwargs)"
   ]
  },
  {
   "cell_type": "code",
   "execution_count": null,
   "metadata": {
    "collapsed": true,
    "hidden": true
   },
   "outputs": [],
   "source": [
    "%pdb\n",
    "from lsst.afw.geom import Point2D\n",
    "HscPupil=PFSPupilFactory(8,100)\n",
    "point=Point2D(0,0)\n",
    "HscPupil.getPupil(point)\n",
    "pupil=HscPupil.getPupil(point)\n",
    "plt.imshow(HscPupil.getPupil(point).illuminated, cmap='gray')\n"
   ]
  },
  {
   "cell_type": "code",
   "execution_count": null,
   "metadata": {
    "collapsed": true,
    "hidden": true
   },
   "outputs": [],
   "source": [
    "#iluminated=HscPupil.getPupil(point)\n",
    "#iluminated[:4]=0\n",
    "#iluminated\n",
    "diam=8.2\n",
    "pupil=HscPupil.getPupil(point)\n",
    "\n",
    "aper_test = galsim.Aperture(\n",
    "            diam = diam,\n",
    "            pupil_plane_im = pupil.illuminated.astype(np.int16),\n",
    "            pupil_plane_scale = pupil.scale,\n",
    "            pupil_plane_size = pupil.size)"
   ]
  },
  {
   "cell_type": "code",
   "execution_count": null,
   "metadata": {
    "collapsed": true,
    "hidden": true
   },
   "outputs": [],
   "source": [
    "#ZernikeFitter_PSF takes one image, only used to deduce shape, the pupil and the diameter\n",
    "single_image_analysis=ZernikeFitter_PSF(scidata_cuts12[5],pupil,diam=8)\n",
    "single_image_analysis.initParams(z4Init=0.0,z4Range=(0,2),zRange=(-1,1),\\\n",
    "                                 centroidRange=(-5,5),fluxRelativeRange=(0,0.8))"
   ]
  },
  {
   "cell_type": "code",
   "execution_count": null,
   "metadata": {
    "collapsed": true,
    "hidden": true
   },
   "outputs": [],
   "source": [
    "#Run below only if you really want to fit"
   ]
  },
  {
   "cell_type": "code",
   "execution_count": null,
   "metadata": {
    "collapsed": true,
    "hidden": true
   },
   "outputs": [],
   "source": [
    "result_fit_single_image=single_image_analysis.fit_Neven()"
   ]
  },
  {
   "cell_type": "code",
   "execution_count": null,
   "metadata": {
    "collapsed": true,
    "hidden": true
   },
   "outputs": [],
   "source": [
    "best_img=single_image_analysis.best_image_Neven(result_fit_single_image.params)\n",
    "residual_img=single_image_analysis.residual_image_Neven(result_fit_single_image.params)"
   ]
  },
  {
   "cell_type": "code",
   "execution_count": null,
   "metadata": {
    "collapsed": true,
    "hidden": true
   },
   "outputs": [],
   "source": [
    "plt.figure(figsize=(20,20))\n",
    "plt.subplot(221)\n",
    "plt.imshow(scidata_cuts12[5], cmap='gray')\n",
    "plt.colorbar()\n",
    "plt.title('linear')\n",
    "plt.grid(False)\n",
    "plt.subplot(222)\n",
    "plt.imshow(scidata_cuts12[5], cmap='gray',norm=LogNorm())\n",
    "plt.colorbar()\n",
    "plt.title('log')\n",
    "plt.grid(False)"
   ]
  },
  {
   "cell_type": "code",
   "execution_count": null,
   "metadata": {
    "collapsed": true,
    "hidden": true
   },
   "outputs": [],
   "source": [
    "plt.figure(figsize=(20,20))\n",
    "plt.subplot(221)\n",
    "plt.imshow(best_img, cmap='gray')\n",
    "plt.colorbar()\n",
    "plt.title('linear')\n",
    "plt.grid(False)\n",
    "plt.subplot(222)\n",
    "plt.imshow(best_img, cmap='gray',norm=LogNorm())\n",
    "plt.colorbar()\n",
    "plt.title('log')\n",
    "plt.grid(False)"
   ]
  },
  {
   "cell_type": "code",
   "execution_count": null,
   "metadata": {
    "collapsed": true,
    "hidden": true
   },
   "outputs": [],
   "source": [
    "plt.figure(figsize=(20,20))\n",
    "plt.subplot(221)\n",
    "plt.imshow(residual_img, cmap='gray')\n",
    "plt.colorbar()\n",
    "plt.title('linear')\n",
    "plt.grid(False)\n",
    "plt.subplot(222)\n",
    "plt.imshow(residual_img, cmap='gray',norm=LogNorm())\n",
    "plt.colorbar()\n",
    "plt.title('log')\n",
    "plt.grid(False)"
   ]
  },
  {
   "cell_type": "code",
   "execution_count": null,
   "metadata": {
    "collapsed": true,
    "hidden": true
   },
   "outputs": [],
   "source": [
    "result_fit_single_image.params"
   ]
  },
  {
   "cell_type": "markdown",
   "metadata": {
    "heading_collapsed": true
   },
   "source": [
    "#  <span style=\"color:red\">Which pixels are contributing in the final image?  - deprecated</span>"
   ]
  },
  {
   "cell_type": "code",
   "execution_count": null,
   "metadata": {
    "collapsed": true,
    "hidden": true
   },
   "outputs": [],
   "source": [
    "kinda_sigma_map=np.sqrt(scidata_cuts12[5])\n",
    "map_where_chi2=(residual_img/kinda_sigma_map)**2"
   ]
  },
  {
   "cell_type": "code",
   "execution_count": null,
   "metadata": {
    "collapsed": true,
    "hidden": true
   },
   "outputs": [],
   "source": [
    "plt.figure(figsize=(20,20))\n",
    "plt.subplot(221)\n",
    "plt.imshow(np.nan_to_num(map_where_chi2), cmap='gray')\n",
    "plt.colorbar()\n",
    "plt.title('linear')\n",
    "plt.grid(False)\n",
    "plt.subplot(222)\n",
    "plt.imshow(np.nan_to_num(map_where_chi2), cmap='gray',norm=LogNorm())\n",
    "plt.colorbar()\n",
    "plt.title('log')\n",
    "plt.grid(False)"
   ]
  },
  {
   "cell_type": "markdown",
   "metadata": {},
   "source": [
    "# Modeling PSF pupil and creating one realistic image"
   ]
  },
  {
   "cell_type": "code",
   "execution_count": 6,
   "metadata": {
    "ExecuteTime": {
     "end_time": "2017-09-23T23:00:11.072088Z",
     "start_time": "2017-09-23T23:00:11.067639Z"
    }
   },
   "outputs": [
    {
     "data": {
      "text/plain": [
       "'\\nCreated on Mon Sep 23 18:59 2017\\n\\n@author: ncaplar@princeton.edu\\n\\nGoals\\n\\n'"
      ]
     },
     "execution_count": 6,
     "metadata": {},
     "output_type": "execute_result"
    }
   ],
   "source": [
    "\"\"\"\n",
    "(Re-)Created on Mon Sep 23 18:59 2017\n",
    "\n",
    "@author: ncaplar@princeton.edu\n",
    "\n",
    "Goals\n",
    "1. Creating single pupil\n",
    "    -using HSC scales\n",
    "    -using PFS scales \n",
    "    \n",
    "This is done, perhaps not correct roations and movement in focal plane\n",
    "\n",
    "2. Create a single image which looks kinda like the real data\n",
    "3. \n",
    "\n",
    "\"\"\""
   ]
  },
  {
   "cell_type": "code",
   "execution_count": 1,
   "metadata": {
    "ExecuteTime": {
     "end_time": "2017-09-24T01:07:40.056337Z",
     "start_time": "2017-09-24T01:07:38.604468Z"
    },
    "collapsed": true
   },
   "outputs": [],
   "source": [
    "from __future__ import absolute_import, division, print_function\n",
    "\n",
    "import lmfit\n",
    "import galsim\n",
    "import numpy as np\n",
    "import lsst.afw\n",
    "import astropy\n",
    "\n",
    "from astropy.io import fits\n",
    "from lsst.afw.cameraGeom import PupilFactory\n",
    "from lsst.afw.geom import Angle, degrees\n",
    "from lsst.afw import geom\n",
    "from lsst.afw.geom import Point2D\n",
    "from matplotlib.colors import LogNorm\n",
    "\n",
    "import matplotlib\n",
    "%config InlineBackend.rc = {}\n",
    "matplotlib.rcParams.update({'font.size': 22})\n",
    "#matplotlib.rc_file(\"../../templates/matplotlibrc\")\n",
    "import matplotlib.pyplot as plt\n",
    "%matplotlib inline"
   ]
  },
  {
   "cell_type": "markdown",
   "metadata": {
    "heading_collapsed": true
   },
   "source": [
    "## Creating single pupil - done, for HSC size"
   ]
  },
  {
   "cell_type": "code",
   "execution_count": 8,
   "metadata": {
    "ExecuteTime": {
     "end_time": "2017-09-23T23:00:21.560360Z",
     "start_time": "2017-09-23T23:00:21.216648Z"
    },
    "collapsed": true,
    "hidden": true
   },
   "outputs": [],
   "source": [
    "__all__ = ['PupilFactory_Neven', 'Pupil']\n",
    "\n",
    "\n",
    "class Pupil(object):\n",
    "    \"\"\"!Pupil obscuration function.\n",
    "    \"\"\"\n",
    "\n",
    "    def __init__(self, illuminated, size, scale):\n",
    "        \"\"\"!Construct a Pupil\n",
    "\n",
    "        @param[in] illuminated  2D numpy array indicating which parts of\n",
    "                                the pupil plane are illuminated.\n",
    "        @param[in] size         Size of pupil plane array in meters.  Note\n",
    "                                that this may be larger than the actual\n",
    "                                diameter of the illuminated pupil to\n",
    "                                accommodate zero-padding.\n",
    "        @param[in] scale        Sampling interval of pupil plane array in\n",
    "                                meters.\n",
    "        \"\"\"\n",
    "        self.illuminated = illuminated\n",
    "        self.size = size\n",
    "        self.scale = scale\n",
    "\n",
    "\n",
    "\n",
    "class PupilFactory_Neven(object):\n",
    "    \"\"\"!Pupil obscuration function factory for use with Fourier optics.\n",
    "    \"\"\"\n",
    "\n",
    "    def __init__(self, pupilSize, npix,input_angle):\n",
    "        \"\"\"!Construct a PupilFactory.\n",
    "\n",
    "        @param[in] visitInfo  VisitInfo object for a particular exposure.\n",
    "        @param[in] pupilSize  Size in meters of constructed Pupil array.\n",
    "                              Note that this may be larger than the actual\n",
    "                              diameter of the illuminated pupil to\n",
    "                              accommodate zero-padding.\n",
    "        @param[in] npix       Constructed Pupils will be npix x npix.\n",
    "        \"\"\"\n",
    "        self.pupilSize = pupilSize\n",
    "        self.npix = npix\n",
    "        self.input_angle=input_angle\n",
    "        self.pupilScale = pupilSize/npix\n",
    "        u = (np.arange(npix, dtype=np.float64) - (npix - 1)/2) * self.pupilScale\n",
    "        self.u, self.v = np.meshgrid(u, u)\n",
    "\n",
    "    def getPupil(self, point):\n",
    "        \"\"\"!Calculate a Pupil at a given point in the focal plane.\n",
    "\n",
    "        @param point  Point2D indicating focal plane coordinates.\n",
    "        @returns      Pupil\n",
    "        \"\"\"\n",
    "        raise NotImplementedError(\n",
    "            \"PupilFactory not implemented for this camera\")\n",
    "\n",
    "    @staticmethod\n",
    "    def _pointLineDistance(p0, p1, p2):\n",
    "        \"\"\"Compute the right-angle distance between the points given by `p0`\n",
    "        and the line that passes through `p1` and `p2`.\n",
    "\n",
    "        @param[in] p0  2-tuple of numpy arrays (x,y coords)\n",
    "        @param[in] p1  2-tuple of scalars (x,y coords)\n",
    "        @param[in] p2  2-tuple of scalars (x,y coords)\n",
    "        @returns       numpy array of distances; shape congruent to p0[0]\n",
    "        \"\"\"\n",
    "        x0, y0 = p0\n",
    "        x1, y1 = p1\n",
    "        x2, y2 = p2\n",
    "        dy21 = y2 - y1\n",
    "        dx21 = x2 - x1\n",
    "        return np.abs(dy21*x0 - dx21*y0 + x2*y1 - y2*x1)/np.hypot(dy21, dx21)\n",
    "\n",
    "    def _fullPupil(self):\n",
    "        \"\"\"Make a fully-illuminated Pupil.\n",
    "\n",
    "        @returns Pupil\n",
    "        \"\"\"\n",
    "        illuminated = np.ones(self.u.shape, dtype=np.bool)\n",
    "        return Pupil(illuminated, self.pupilSize, self.pupilScale)\n",
    "\n",
    "    def _cutCircleInterior(self, pupil, p0, r):\n",
    "        \"\"\"Cut out the interior of a circular region from a Pupil.\n",
    "\n",
    "        @param[in,out] pupil  Pupil to modify in place\n",
    "        @param[in] p0         2-tuple indicating region center\n",
    "        @param[in] r          Circular region radius\n",
    "        \"\"\"\n",
    "        print(self.u)\n",
    "        print(self.v)\n",
    "        r2 = (self.u - p0[0])**2 + (self.v - p0[1])**2\n",
    "        pupil.illuminated[r2 < r**2] = False\n",
    "\n",
    "    def _cutCircleExterior(self, pupil, p0, r):\n",
    "        \"\"\"Cut out the exterior of a circular region from a Pupil.\n",
    "\n",
    "        @param[in,out] pupil  Pupil to modify in place\n",
    "        @param[in] p0     2-tuple indicating region center\n",
    "        @param[in] r      Circular region radius\n",
    "        \"\"\"\n",
    "        r2 = (self.u - p0[0])**2 + (self.v - p0[1])**2\n",
    "        pupil.illuminated[r2 > r**2] = False\n",
    "        \n",
    "    def _cutSquare(self,pupil, p0, r,angle):\n",
    "        \"\"\"Cut out the interior of a circular region from a Pupil.\n",
    "\n",
    "        @param[in,out] pupil  Pupil to modify in place\n",
    "        @param[in] p0         2-tuple indicating region center\n",
    "        @param[in] r          half lenght of the length of square side\n",
    "        \"\"\"\n",
    "        x21 = int(np.floor(p0[0]-r/2))\n",
    "        x22 = int(np.ceil(p0[0]+r/2))\n",
    "        y21 = int(np.floor(p0[1]-r/2))\n",
    "        y22 = int(np.ceil(p0[1]+r/2))\n",
    "        print(\"I am not sure that central square moves properly when moving and rotating on focal plane!!!!!\")\n",
    "        #pupil.illuminated[np.logical_and((self.u<x22) & (self.u>x21),(self.v<y22) & (self.v>y21))] = False\n",
    "        angleRad = angle\n",
    "        pupil.illuminated[np.logical_and((self.u*np.cos(-angle)+self.v*np.sin(-angleRad)<x22) & \\\n",
    "                          (self.u*np.cos(-angleRad)+self.v*np.sin(-angleRad)>x21),\\\n",
    "                          (self.v*np.cos(-angleRad)-self.u*np.sin(-angleRad)<y22) & \\\n",
    "                          (self.v*np.cos(-angleRad)-self.u*np.sin(-angleRad)>y21))] = False\n",
    "\n",
    "    def _cutRay(self, pupil, p0, angle, thickness):\n",
    "        \"\"\"Cut out a ray from a Pupil.\n",
    "\n",
    "        @param[in,out] pupil  Pupil to modify in place\n",
    "        @param[in] p0         2-tuple indicating ray starting point\n",
    "        @param[in] angle      Ray angle measured CCW from +x.\n",
    "        @param[in] thickness  Thickness of cutout\n",
    "        \"\"\"\n",
    "        angleRad = angle.asRadians()\n",
    "        # the 1 is arbitrary, just need something to define another point on\n",
    "        # the line\n",
    "        p1 = (p0[0] + 1, p0[1] + np.tan(angleRad))\n",
    "        d = PupilFactory._pointLineDistance((self.u, self.v), p0, p1)\n",
    "        pupil.illuminated[(d < 0.5*thickness) &\n",
    "                          ((self.u - p0[0])*np.cos(angleRad) +\n",
    "                           (self.v - p0[1])*np.sin(angleRad) >= 0)] = False        \n",
    "        \n",
    "        \n",
    "class PFSPupilFactory(PupilFactory_Neven):\n",
    "    \"\"\"!Pupil obscuration function factory for PFS - work in progress.\n",
    "    \"\"\"\n",
    "    def __init__(self, pupilSize, npix,input_angle):\n",
    "        \"\"\"!Construct a PupilFactory.\n",
    "\n",
    "        @param[in] visitInfo  VisitInfo object for a particular exposure.\n",
    "        @param[in] pupilSize  Size in meters of constructed Pupils.\n",
    "        @param[in] npix       Constructed Pupils will be npix x npix.\n",
    "        \"\"\"\n",
    "        PupilFactory_Neven.__init__(self, pupilSize, npix,input_angle)\n",
    "        \n",
    "        hra = self._horizonRotAngle()\n",
    "        hraRad = hra.asRadians()\n",
    "        rot = np.array([[np.cos(hraRad), np.sin(hraRad)],\n",
    "                        [-np.sin(hraRad), np.cos(hraRad)]])\n",
    "\n",
    "        # Compute spider shadow parameters accounting for rotation angle.\n",
    "        # Location where pairs of struts meet near prime focus.\n",
    "        unrotStartPos = [np.array([0., 0]),\n",
    "                         np.array([0., 0.]),\n",
    "                         np.array([0, 0])]\n",
    "        # Half angle between pair of struts that meet at Subaru prime focus\n",
    "        # ring.\n",
    "        strutAngle =60*degrees\n",
    "        alpha = strutAngle - 60.0*degrees\n",
    "        unrotAngles = [90*degrees + alpha,\n",
    "                       210*degrees - alpha,\n",
    "                       330*degrees + alpha]\n",
    "        # Apply rotation and save the results\n",
    "        self._spiderStartPos = []\n",
    "        self._spiderAngles = []\n",
    "        for pos, angle in zip(unrotStartPos, unrotAngles):\n",
    "            self._spiderStartPos.append(np.dot(rot, pos))\n",
    "            self._spiderAngles.append(angle - hra)\n",
    "\n",
    "    telescopeDiameter = 8.3  # meters\n",
    "\n",
    "    def _horizonRotAngle(self):\n",
    "        \"\"\"!Compute rotation angle of camera with respect to horizontal\n",
    "        coordinates from self.visitInfo.\n",
    "\n",
    "        @returns horizon rotation angle.\n",
    "        \n",
    "        observatory = self.visitInfo.getObservatory()\n",
    "        lat = observatory.getLatitude()\n",
    "        lon = observatory.getLongitude()\n",
    "        radec = self.visitInfo.getBoresightRaDec()\n",
    "        ra = radec.getRa()\n",
    "        dec = radec.getDec()\n",
    "        era = self.visitInfo.getEra()\n",
    "        ha = (era + lon - ra).wrap()\n",
    "        alt = self.visitInfo.getBoresightAzAlt().getLatitude()\n",
    "\n",
    "        # parallactic angle\n",
    "        sinParAng = (np.cos(lat.asRadians()) * np.sin(ha.asRadians()) /\n",
    "                     np.cos(alt.asRadians()))\n",
    "        cosParAng = np.sqrt(1 - sinParAng*sinParAng)\n",
    "        if dec > lat:\n",
    "            cosParAng = -cosParAng\n",
    "        parAng = Angle(np.arctan2(sinParAng, cosParAng))\n",
    "\n",
    "        bra = self.visitInfo.getBoresightRotAngle()\n",
    "        #return (bra - parAng).wrap()\n",
    "        \"\"\"\n",
    "        parAng = Angle(self.input_angle)\n",
    "        print(parAng)\n",
    "        return parAng.wrap()\n",
    "\n",
    "    def getPupil(self, point):\n",
    "        \"\"\"!Calculate a Pupil at a given point in the focal plane.\n",
    "\n",
    "        @param point  Point2D indicating focal plane coordinates.\n",
    "        @returns      Pupil\n",
    "        \"\"\"\n",
    "        subaruRadius = self.telescopeDiameter/2\n",
    "\n",
    "        hscFrac = 0.231  # linear fraction\n",
    "        # radius of HSC camera shadow in meters\n",
    "        hscRadius = hscFrac * subaruRadius\n",
    "\n",
    "        subaruStrutThick = 0.22  # meters\n",
    "\n",
    "        # See DM-8589 for more detailed description of following parameters\n",
    "        # d(lensCenter)/d(theta) in meters per degree\n",
    "        lensRate = 0.0276 * 3600 / 128.9 * subaruRadius\n",
    "        # d(cameraCenter)/d(theta) in meters per degree\n",
    "        hscRate = 0.00558 * 3600 / 128.9 * subaruRadius\n",
    "        # Projected radius of lens obstruction in meters\n",
    "        lensRadius = subaruRadius * 138./128.98\n",
    "\n",
    "        # Focal plane location in degrees\n",
    "        hscPlateScale = 0.168  # arcsec/pixel\n",
    "        thetaX = point.getX() * hscPlateScale / 3600\n",
    "        thetaY = point.getY() * hscPlateScale / 3600\n",
    "\n",
    "        pupil = self._fullPupil()\n",
    "        # Cut out primary mirror exterior\n",
    "        self._cutCircleExterior(pupil, (0.0, 0.0), subaruRadius)\n",
    "        # Cut out camera shadow\n",
    "        camX = thetaX * hscRate\n",
    "        camY = thetaY * hscRate\n",
    "        #self._cutCircleInterior(pupil, (camX, camY), hscRadius)\n",
    "        self._cutSquare(pupil, (camX, camY), hscRadius,self.input_angle)\n",
    "        # Cut outer edge where L1 is too small\n",
    "        lensX = thetaX * lensRate\n",
    "        lensY = thetaY * lensRate\n",
    "        self._cutCircleExterior(pupil, (lensX, lensY), lensRadius)\n",
    "        # Cut out spider shadow\n",
    "        for pos, angle in zip(self._spiderStartPos, self._spiderAngles):\n",
    "            x = pos[0] + camX\n",
    "            y = pos[1] + camY\n",
    "            self._cutRay(pupil, (x, y), angle, subaruStrutThick)\n",
    "        return pupil"
   ]
  },
  {
   "cell_type": "code",
   "execution_count": 9,
   "metadata": {
    "ExecuteTime": {
     "end_time": "2017-09-23T23:00:22.932900Z",
     "start_time": "2017-09-23T23:00:22.743129Z"
    },
    "hidden": true,
    "hide_input": false
   },
   "outputs": [
    {
     "name": "stdout",
     "output_type": "stream",
     "text": [
      "0.392699 rad\n",
      "I am not sure that central square moves properly when moving and rotating on focal plane!!!!!\n",
      "I am not sure that central square moves properly when moving and rotating on focal plane!!!!!\n",
      "I am not sure that central square moves properly when moving and rotating on focal plane!!!!!\n"
     ]
    },
    {
     "data": {
      "text/plain": [
       "<matplotlib.image.AxesImage at 0x7f2ed22bb050>"
      ]
     },
     "execution_count": 9,
     "metadata": {},
     "output_type": "execute_result"
    },
    {
     "data": {
      "image/png": "[encoded data removed]",
      "text/plain": [
       "<matplotlib.figure.Figure at 0x7f2ede7bbb50>"
      ]
     },
     "metadata": {},
     "output_type": "display_data"
    }
   ],
   "source": [
    "HscPupil=PFSPupilFactory(8.3,100,np.pi/8)\n",
    "point=Point2D(0,0)\n",
    "HscPupil.getPupil(point)\n",
    "pupil=HscPupil.getPupil(point)\n",
    "plt.imshow(HscPupil.getPupil(point).illuminated, cmap='gray')"
   ]
  },
  {
   "cell_type": "markdown",
   "metadata": {},
   "source": [
    "## Creating single pupil, PFS size"
   ]
  },
  {
   "cell_type": "code",
   "execution_count": 2,
   "metadata": {
    "ExecuteTime": {
     "end_time": "2017-09-24T01:07:47.168930Z",
     "start_time": "2017-09-24T01:07:46.849136Z"
    },
    "collapsed": true
   },
   "outputs": [],
   "source": [
    "__all__ = ['PupilFactory_Neven', 'Pupil']\n",
    "\n",
    "\n",
    "class Pupil(object):\n",
    "    \"\"\"!Pupil obscuration function.\n",
    "    \"\"\"\n",
    "\n",
    "    def __init__(self, illuminated, size, scale):\n",
    "        \"\"\"!Construct a Pupil\n",
    "\n",
    "        @param[in] illuminated  2D numpy array indicating which parts of\n",
    "                                the pupil plane are illuminated.\n",
    "        @param[in] size         Size of pupil plane array in meters.  Note\n",
    "                                that this may be larger than the actual\n",
    "                                diameter of the illuminated pupil to\n",
    "                                accommodate zero-padding.\n",
    "        @param[in] scale        Sampling interval of pupil plane array in\n",
    "                                meters.\n",
    "        \"\"\"\n",
    "        self.illuminated = illuminated\n",
    "        self.size = size\n",
    "        self.scale = scale\n",
    "\n",
    "\n",
    "\n",
    "class PupilFactory_Neven(object):\n",
    "    \"\"\"!Pupil obscuration function factory for use with Fourier optics.\n",
    "    \"\"\"\n",
    "\n",
    "    def __init__(self, pupilSize, npix,input_angle):\n",
    "        \"\"\"!Construct a PupilFactory.\n",
    "\n",
    "        @param[in] visitInfo  VisitInfo object for a particular exposure.\n",
    "        @param[in] pupilSize  Size in meters of constructed Pupil array.\n",
    "                              Note that this may be larger than the actual\n",
    "                              diameter of the illuminated pupil to\n",
    "                              accommodate zero-padding.\n",
    "        @param[in] npix       Constructed Pupils will be npix x npix.\n",
    "        \"\"\"\n",
    "        self.pupilSize = pupilSize\n",
    "        self.npix = npix\n",
    "        self.input_angle=input_angle\n",
    "        self.pupilScale = pupilSize/npix\n",
    "        u = (np.arange(npix, dtype=np.float64) - (npix - 1)/2) * self.pupilScale\n",
    "        self.u, self.v = np.meshgrid(u, u)\n",
    "\n",
    "    def getPupil(self, point):\n",
    "        \"\"\"!Calculate a Pupil at a given point in the focal plane.\n",
    "\n",
    "        @param point  Point2D indicating focal plane coordinates.\n",
    "        @returns      Pupil\n",
    "        \"\"\"\n",
    "        raise NotImplementedError(\n",
    "            \"PupilFactory not implemented for this camera\")\n",
    "\n",
    "    @staticmethod\n",
    "    def _pointLineDistance(p0, p1, p2):\n",
    "        \"\"\"Compute the right-angle distance between the points given by `p0`\n",
    "        and the line that passes through `p1` and `p2`.\n",
    "\n",
    "        @param[in] p0  2-tuple of numpy arrays (x,y coords)\n",
    "        @param[in] p1  2-tuple of scalars (x,y coords)\n",
    "        @param[in] p2  2-tuple of scalars (x,y coords)\n",
    "        @returns       numpy array of distances; shape congruent to p0[0]\n",
    "        \"\"\"\n",
    "        x0, y0 = p0\n",
    "        x1, y1 = p1\n",
    "        x2, y2 = p2\n",
    "        dy21 = y2 - y1\n",
    "        dx21 = x2 - x1\n",
    "        return np.abs(dy21*x0 - dx21*y0 + x2*y1 - y2*x1)/np.hypot(dy21, dx21)\n",
    "\n",
    "    def _fullPupil(self):\n",
    "        \"\"\"Make a fully-illuminated Pupil.\n",
    "\n",
    "        @returns Pupil\n",
    "        \"\"\"\n",
    "        illuminated = np.ones(self.u.shape, dtype=np.bool)\n",
    "        return Pupil(illuminated, self.pupilSize, self.pupilScale)\n",
    "\n",
    "    def _cutCircleInterior(self, pupil, p0, r):\n",
    "        \"\"\"Cut out the interior of a circular region from a Pupil.\n",
    "\n",
    "        @param[in,out] pupil  Pupil to modify in place\n",
    "        @param[in] p0         2-tuple indicating region center\n",
    "        @param[in] r          Circular region radius\n",
    "        \"\"\"\n",
    "\n",
    "        r2 = (self.u - p0[0])**2 + (self.v - p0[1])**2\n",
    "        pupil.illuminated[r2 < r**2] = False\n",
    "\n",
    "    def _cutCircleExterior(self, pupil, p0, r):\n",
    "        \"\"\"Cut out the exterior of a circular region from a Pupil.\n",
    "\n",
    "        @param[in,out] pupil  Pupil to modify in place\n",
    "        @param[in] p0     2-tuple indicating region center\n",
    "        @param[in] r      Circular region radius\n",
    "        \"\"\"\n",
    "        r2 = (self.u - p0[0])**2 + (self.v - p0[1])**2\n",
    "        pupil.illuminated[r2 > r**2] = False\n",
    "        \n",
    "    def _cutSquare(self,pupil, p0, r,angle):\n",
    "        \"\"\"Cut out the interior of a circular region from a Pupil.\n",
    "\n",
    "        @param[in,out] pupil  Pupil to modify in place\n",
    "        @param[in] p0         2-tuple indicating region center\n",
    "        @param[in] r          half lenght of the length of square side\n",
    "        @param[in] angle      angle that the camera is rotated\n",
    "        \"\"\"\n",
    "        x21 = p0[0]-r/2\n",
    "        x22 = p0[0]+r/2\n",
    "        y21 = p0[1]-r/2\n",
    "        y22 = p0[1]+r/2\n",
    "        print(\"I am not sure that central square moves properly when moving and rotating on focal plane!!!!!\")\n",
    "        #pupil.illuminated[np.logical_and((self.u<x22) & (self.u>x21),(self.v<y22) & (self.v>y21))] = False\n",
    "        angleRad = angle\n",
    "        pupil.illuminated[np.logical_and((self.u*np.cos(-angle)+self.v*np.sin(-angleRad)<x22) & \\\n",
    "                          (self.u*np.cos(-angleRad)+self.v*np.sin(-angleRad)>x21),\\\n",
    "                          (self.v*np.cos(-angleRad)-self.u*np.sin(-angleRad)<y22) & \\\n",
    "                          (self.v*np.cos(-angleRad)-self.u*np.sin(-angleRad)>y21))] = False\n",
    "\n",
    "    def _cutRay(self, pupil, p0, angle, thickness):\n",
    "        \"\"\"Cut out a ray from a Pupil.\n",
    "\n",
    "        @param[in,out] pupil  Pupil to modify in place\n",
    "        @param[in] p0         2-tuple indicating ray starting point\n",
    "        @param[in] angle      Ray angle measured CCW from +x.\n",
    "        @param[in] thickness  Thickness of cutout\n",
    "        \"\"\"\n",
    "        angleRad = angle.asRadians()\n",
    "        # the 1 is arbitrary, just need something to define another point on\n",
    "        # the line\n",
    "        p1 = (p0[0] + 1, p0[1] + np.tan(angleRad))\n",
    "        d = PupilFactory._pointLineDistance((self.u, self.v), p0, p1)\n",
    "        pupil.illuminated[(d < 0.5*thickness) &\n",
    "                          ((self.u - p0[0])*np.cos(angleRad) +\n",
    "                           (self.v - p0[1])*np.sin(angleRad) >= 0)] = False        \n",
    "        \n",
    "        \n",
    "class PFSPupilFactory(PupilFactory_Neven):\n",
    "    \"\"\"!Pupil obscuration function factory for PFS - work in progress.\n",
    "    \"\"\"\n",
    "    def __init__(self, pupilSize, npix,input_angle):\n",
    "        \"\"\"!Construct a PupilFactory.\n",
    "\n",
    "        @param[in] visitInfo  VisitInfo object for a particular exposure.\n",
    "        @param[in] pupilSize  Size in meters of constructed Pupils.\n",
    "        @param[in] npix       Constructed Pupils will be npix x npix.\n",
    "        \"\"\"\n",
    "        PupilFactory_Neven.__init__(self, pupilSize, npix,input_angle)\n",
    "        \n",
    "        hra = self._horizonRotAngle()\n",
    "        hraRad = hra.asRadians()\n",
    "        rot = np.array([[np.cos(hraRad), np.sin(hraRad)],\n",
    "                        [-np.sin(hraRad), np.cos(hraRad)]])\n",
    "\n",
    "        # Compute spider shadow parameters accounting for rotation angle.\n",
    "        # Location where pairs of struts meet near prime focus.\n",
    "        unrotStartPos = [np.array([0., 0]),\n",
    "                         np.array([0., 0.]),\n",
    "                         np.array([0, 0])]\n",
    "        # Half angle between pair of struts that meet at Subaru prime focus\n",
    "        # ring.\n",
    "        strutAngle =60*degrees\n",
    "        alpha = strutAngle - 60.0*degrees\n",
    "        unrotAngles = [90*degrees + alpha,\n",
    "                       210*degrees - alpha,\n",
    "                       330*degrees + alpha]\n",
    "        # Apply rotation and save the results\n",
    "        self._spiderStartPos = []\n",
    "        self._spiderAngles = []\n",
    "        for pos, angle in zip(unrotStartPos, unrotAngles):\n",
    "            self._spiderStartPos.append(np.dot(rot, pos))\n",
    "            self._spiderAngles.append(angle - hra)\n",
    "\n",
    "    telescopeDiameter = 0.3  # meters\n",
    "\n",
    "    def _horizonRotAngle(self):\n",
    "        \"\"\"!Compute rotation angle of camera with respect to horizontal\n",
    "        coordinates from self.visitInfo.\n",
    "\n",
    "        @returns horizon rotation angle.\n",
    "        \n",
    "        observatory = self.visitInfo.getObservatory()\n",
    "        lat = observatory.getLatitude()\n",
    "        lon = observatory.getLongitude()\n",
    "        radec = self.visitInfo.getBoresightRaDec()\n",
    "        ra = radec.getRa()\n",
    "        dec = radec.getDec()\n",
    "        era = self.visitInfo.getEra()\n",
    "        ha = (era + lon - ra).wrap()\n",
    "        alt = self.visitInfo.getBoresightAzAlt().getLatitude()\n",
    "\n",
    "        # parallactic angle\n",
    "        sinParAng = (np.cos(lat.asRadians()) * np.sin(ha.asRadians()) /\n",
    "                     np.cos(alt.asRadians()))\n",
    "        cosParAng = np.sqrt(1 - sinParAng*sinParAng)\n",
    "        if dec > lat:\n",
    "            cosParAng = -cosParAng\n",
    "        parAng = Angle(np.arctan2(sinParAng, cosParAng))\n",
    "\n",
    "        bra = self.visitInfo.getBoresightRotAngle()\n",
    "        #return (bra - parAng).wrap()\n",
    "        \"\"\"\n",
    "        parAng = Angle(self.input_angle)\n",
    "        print(parAng)\n",
    "        return parAng.wrap()\n",
    "\n",
    "    def getPupil(self, point):\n",
    "        \"\"\"!Calculate a Pupil at a given point in the focal plane.\n",
    "\n",
    "        @param point  Point2D indicating focal plane coordinates.\n",
    "        @returns      Pupil\n",
    "        \"\"\"\n",
    "        subaruRadius = self.telescopeDiameter/2\n",
    "\n",
    "        hscFrac = 0.49  # linear fraction\n",
    "        # radius of PSF camera shadow in meters - deduced from Figure 9 in Smee et al. (2014)\n",
    "        hscRadius = hscFrac * subaruRadius\n",
    "\n",
    "        subaruStrutThick = 0.012 # meters - current value is basically random\n",
    "\n",
    "        # See DM-8589 for more detailed description of following parameters\n",
    "        # d(lensCenter)/d(theta) in meters per degree\n",
    "        lensRate = 0.0276 * 3600 / 128.9 * subaruRadius\n",
    "        # d(cameraCenter)/d(theta) in meters per degree\n",
    "        hscRate = 0.00558 * 3600 / 128.9 * subaruRadius\n",
    "        # Projected radius of lens obstruction in meters\n",
    "        lensRadius = subaruRadius * 138./128.98\n",
    "\n",
    "        # Focal plane location in degrees\n",
    "        hscPlateScale = 0.168  # arcsec/pixel\n",
    "        thetaX = point.getX() * hscPlateScale / 3600\n",
    "        thetaY = point.getY() * hscPlateScale / 3600\n",
    "\n",
    "        pupil = self._fullPupil()\n",
    "        # Cut out primary mirror exterior\n",
    "        self._cutCircleExterior(pupil, (0.0, 0.0), subaruRadius)\n",
    "        # Cut out camera shadow\n",
    "        camX = thetaX * hscRate\n",
    "        camY = thetaY * hscRate\n",
    "        #self._cutCircleInterior(pupil, (camX, camY), hscRadius)\n",
    "        self._cutSquare(pupil, (camX, camY), hscRadius,self.input_angle)\n",
    "        # Cut outer edge where L1 is too small\n",
    "        lensX = thetaX * lensRate\n",
    "        lensY = thetaY * lensRate\n",
    "        #self._cutCircleExterior(pupil, (lensX, lensY), lensRadius)\n",
    "        # Cut out spider shadow\n",
    "        for pos, angle in zip(self._spiderStartPos, self._spiderAngles):\n",
    "            x = pos[0] + camX\n",
    "            y = pos[1] + camY\n",
    "            self._cutRay(pupil, (x, y), angle, subaruStrutThick)\n",
    "        return pupil"
   ]
  },
  {
   "cell_type": "code",
   "execution_count": 91,
   "metadata": {
    "ExecuteTime": {
     "end_time": "2017-09-24T03:27:46.707780Z",
     "start_time": "2017-09-24T03:27:46.559648Z"
    },
    "hide_input": false
   },
   "outputs": [
    {
     "name": "stdout",
     "output_type": "stream",
     "text": [
      "-0.52 rad\n",
      "I am not sure that central square moves properly when moving and rotating on focal plane!!!!!\n"
     ]
    },
    {
     "data": {
      "text/plain": [
       "<matplotlib.image.AxesImage at 0x7f426157a9d0>"
      ]
     },
     "execution_count": 91,
     "metadata": {},
     "output_type": "execute_result"
    },
    {
     "data": {
      "image/png": "[encoded data removed]",
      "text/plain": [
       "<matplotlib.figure.Figure at 0x7f426157a110>"
      ]
     },
     "metadata": {},
     "output_type": "display_data"
    }
   ],
   "source": [
    "HscPupil=PFSPupilFactory(0.3,200,-0.52)\n",
    "point=Point2D(0,0)\n",
    "pupil=HscPupil.getPupil(point)\n",
    "fig = plt.figure(figsize=(3.2, 10))\n",
    "plt.imshow(pupil.illuminated, cmap='gray')"
   ]
  },
  {
   "cell_type": "markdown",
   "metadata": {
    "heading_collapsed": true
   },
   "source": [
    "## Ok - create array of pupils and \"experimentally\" deduce which one we need - WIP"
   ]
  },
  {
   "cell_type": "code",
   "execution_count": 169,
   "metadata": {
    "ExecuteTime": {
     "end_time": "2017-09-24T00:24:08.116139Z",
     "start_time": "2017-09-24T00:24:08.106446Z"
    },
    "hidden": true
   },
   "outputs": [
    {
     "data": {
      "text/plain": [
       "'\\n(Re-)Created on Mon Sep 23 19:56 2017\\n\\n@author: ncaplar@princeton.edu\\n\\n\\nDependencies:\\n10.2\\n\\n\\nGoals\\n\\n'"
      ]
     },
     "execution_count": 169,
     "metadata": {},
     "output_type": "execute_result"
    }
   ],
   "source": [
    "\"\"\"\n",
    "(Re-)Created on Mon Sep 23 19:56 2017\n",
    "\n",
    "@author: ncaplar@princeton.edu\n",
    "\n",
    "\n",
    "Dependencies:\n",
    "9.2\n",
    "\n",
    "\n",
    "Goals\n",
    "\n",
    "\"\"\""
   ]
  },
  {
   "cell_type": "markdown",
   "metadata": {
    "heading_collapsed": true
   },
   "source": [
    "#Import data "
   ]
  },
  {
   "cell_type": "code",
   "execution_count": 12,
   "metadata": {
    "ExecuteTime": {
     "end_time": "2017-09-24T01:08:20.012424Z",
     "start_time": "2017-09-24T01:08:20.000088Z"
    },
    "collapsed": true,
    "hidden": true
   },
   "outputs": [],
   "source": [
    "data=fits.open('/media/caplarn/PFSData/PFS/Data_Sep_15/2017-08-16/v0003617/PFLAr1.fits')\n",
    "scidata=data[1].data"
   ]
  },
  {
   "cell_type": "code",
   "execution_count": 13,
   "metadata": {
    "ExecuteTime": {
     "end_time": "2017-09-24T01:08:20.644850Z",
     "start_time": "2017-09-24T01:08:20.589863Z"
    },
    "collapsed": true,
    "hidden": true
   },
   "outputs": [],
   "source": [
    "#Collumns in which there is data\n",
    "pos_x_of_donuts=np.where(scidata.max(axis=0)>100)\n",
    "idx = np.where((np.diff(pos_x_of_donuts).ravel()>10)!=False)[0]\n",
    "idx=np.insert(idx,0,1)\n",
    "#This gives position of the collumns \n",
    "pos_x_of_donuts_subarray=[]\n",
    "for i in range(len(idx)-1):\n",
    "    pos_x_of_donuts_subarray=np.append(pos_x_of_donuts_subarray,np.mean(pos_x_of_donuts[0][(idx[i]+1):(idx[i+1]+1)]))\n",
    "    pos_x_of_donuts_subarray=np.round(pos_x_of_donuts_subarray)\n",
    "onefiber_x_position=int(pos_x_of_donuts_subarray[5])    \n",
    "onefiber=scidata[:,onefiber_x_position-20:onefiber_x_position+20]\n",
    "pos_y_of_donuts=np.where(onefiber.max(axis=1)>50)\n",
    "idy = np.where((np.diff(pos_y_of_donuts).ravel()>10)!=False)[0]\n",
    "idy=np.insert(idy,0,1)\n",
    "#This gives position of rows \n",
    "pos_y_of_donuts_subarray=[]\n",
    "pos_y_of_donuts_subarray_len=[]\n",
    "for i in range(len(idy)-1):\n",
    "    pos_y_of_donuts_subarray=np.append(pos_y_of_donuts_subarray,np.mean(pos_y_of_donuts[0][(idy[i]+1):(idy[i+1]+1)]))\n",
    "    pos_y_of_donuts_subarray_len=np.append(pos_y_of_donuts_subarray_len,len(pos_y_of_donuts[0][(idy[i]+1):(idy[i+1]+1)]))\n",
    "    pos_y_of_donuts_subarray=np.round(pos_y_of_donuts_subarray)"
   ]
  },
  {
   "cell_type": "code",
   "execution_count": 14,
   "metadata": {
    "ExecuteTime": {
     "end_time": "2017-09-24T01:08:21.577661Z",
     "start_time": "2017-09-24T01:08:21.412104Z"
    },
    "hidden": true
   },
   "outputs": [
    {
     "data": {
      "image/png": "[encoded data removed]",
      "text/plain": [
       "<matplotlib.figure.Figure at 0x7f4273732690>"
      ]
     },
     "metadata": {},
     "output_type": "display_data"
    }
   ],
   "source": [
    "plt.hist(pos_y_of_donuts_subarray_len, bins='auto')  # arguments are passed to np.histogram\n",
    "plt.title(\"Histogram with 'auto' bins\")\n",
    "plt.show()"
   ]
  },
  {
   "cell_type": "code",
   "execution_count": 15,
   "metadata": {
    "ExecuteTime": {
     "end_time": "2017-09-24T01:08:21.844068Z",
     "start_time": "2017-09-24T01:08:21.837011Z"
    },
    "collapsed": true,
    "hidden": true
   },
   "outputs": [],
   "source": [
    "#Cutting above 30 pixels in this example (keep the one at 29 pixels just to see what happens)"
   ]
  },
  {
   "cell_type": "code",
   "execution_count": 16,
   "metadata": {
    "ExecuteTime": {
     "end_time": "2017-09-24T01:08:22.443117Z",
     "start_time": "2017-09-24T01:08:22.437072Z"
    },
    "collapsed": true,
    "hidden": true
   },
   "outputs": [],
   "source": [
    "pos_y_of_donuts_subarray_single_donut=pos_y_of_donuts_subarray[pos_y_of_donuts_subarray_len<30]"
   ]
  },
  {
   "cell_type": "code",
   "execution_count": 17,
   "metadata": {
    "ExecuteTime": {
     "end_time": "2017-09-24T01:08:22.949420Z",
     "start_time": "2017-09-24T01:08:22.938968Z"
    },
    "collapsed": true,
    "hidden": true
   },
   "outputs": [],
   "source": [
    "scidata_cuts=[[]]\n",
    "for i in range(len(pos_y_of_donuts_subarray_single_donut)-1):\n",
    "    single_scidata_cut=onefiber[(int(pos_y_of_donuts_subarray_single_donut[i])-20):(int(pos_y_of_donuts_subarray_single_donut[i])+20),:]\n",
    "    scidata_cuts=np.append(scidata_cuts,single_scidata_cut)"
   ]
  },
  {
   "cell_type": "code",
   "execution_count": 18,
   "metadata": {
    "ExecuteTime": {
     "end_time": "2017-09-24T01:08:23.227403Z",
     "start_time": "2017-09-24T01:08:23.223822Z"
    },
    "collapsed": true,
    "hidden": true
   },
   "outputs": [],
   "source": [
    "scidata_cuts12=np.split(scidata_cuts,12)\n",
    "for i in range(len(scidata_cuts12)-1):\n",
    "    scidata_cuts12[i]=scidata_cuts12[i].reshape(40,40)"
   ]
  },
  {
   "cell_type": "code",
   "execution_count": 19,
   "metadata": {
    "ExecuteTime": {
     "end_time": "2017-09-24T01:08:25.040600Z",
     "start_time": "2017-09-24T01:08:23.539423Z"
    },
    "hidden": true
   },
   "outputs": [
    {
     "data": {
      "image/png": "[encoded data removed]",
      "text/plain": [
       "<matplotlib.figure.Figure at 0x7f426def7890>"
      ]
     },
     "metadata": {},
     "output_type": "display_data"
    },
    {
     "data": {
      "image/png": "[encoded data removed]",
      "text/plain": [
       "<matplotlib.figure.Figure at 0x7f426de4ded0>"
      ]
     },
     "metadata": {},
     "output_type": "display_data"
    },
    {
     "data": {
      "image/png": "[encoded data removed]",
      "text/plain": [
       "<matplotlib.figure.Figure at 0x7f426dde0d90>"
      ]
     },
     "metadata": {},
     "output_type": "display_data"
    },
    {
     "data": {
      "image/png": "[encoded data removed]",
      "text/plain": [
       "<matplotlib.figure.Figure at 0x7f426dd602d0>"
      ]
     },
     "metadata": {},
     "output_type": "display_data"
    },
    {
     "data": {
      "image/png": "[encoded data removed]",
      "text/plain": [
       "<matplotlib.figure.Figure at 0x7f426dcf30d0>"
      ]
     },
     "metadata": {},
     "output_type": "display_data"
    },
    {
     "data": {
      "image/png": "[encoded data removed]",
      "text/plain": [
       "<matplotlib.figure.Figure at 0x7f4254f17950>"
      ]
     },
     "metadata": {},
     "output_type": "display_data"
    },
    {
     "data": {
      "image/png": "[encoded data removed]",
      "text/plain": [
       "<matplotlib.figure.Figure at 0x7f426134e0d0>"
      ]
     },
     "metadata": {},
     "output_type": "display_data"
    },
    {
     "data": {
      "image/png": "[encoded data removed]",
      "text/plain": [
       "<matplotlib.figure.Figure at 0x7f42615d5bd0>"
      ]
     },
     "metadata": {},
     "output_type": "display_data"
    },
    {
     "data": {
      "image/png": "[encoded data removed]",
      "text/plain": [
       "<matplotlib.figure.Figure at 0x7f4261710650>"
      ]
     },
     "metadata": {},
     "output_type": "display_data"
    },
    {
     "data": {
      "image/png": "[encoded data removed]",
      "text/plain": [
       "<matplotlib.figure.Figure at 0x7f426180ced0>"
      ]
     },
     "metadata": {},
     "output_type": "display_data"
    },
    {
     "data": {
      "image/png": "[encoded data removed]",
      "text/plain": [
       "<matplotlib.figure.Figure at 0x7f426144bcd0>"
      ]
     },
     "metadata": {},
     "output_type": "display_data"
    }
   ],
   "source": [
    "for ima in range(0,len(scidata_cuts12)-1):\n",
    "    plt.figure()\n",
    "    plt.imshow(scidata_cuts12[ima], cmap='gray')"
   ]
  },
  {
   "cell_type": "markdown",
   "metadata": {},
   "source": [
    "#Create fitter"
   ]
  },
  {
   "cell_type": "code",
   "execution_count": 92,
   "metadata": {
    "ExecuteTime": {
     "end_time": "2017-09-24T03:27:50.948545Z",
     "start_time": "2017-09-24T03:27:50.764330Z"
    },
    "collapsed": true
   },
   "outputs": [],
   "source": [
    "class ZernikeFitter_PSF(object):\n",
    "    \n",
    "    \"\"\"Description comes here\n",
    "    \"\"\"\n",
    "    def __init__(self, image, pupil, diam, pixelScale=None,\n",
    "                 jacobian=None,**kwargs):\n",
    "        \"\"\"\n",
    "Description of parameters comes here\n",
    "        \"\"\"\n",
    "        self.image = image\n",
    "        #pixel scale choosen so that one pixel = 3/8 arcsec, taken from Smee et al., 2014\n",
    "        pixelScale=geom.Angle(0.000001818)\n",
    "        pixelScale=geom.radToArcsec(pixelScale)\n",
    "        #pixelScale=geom.Angle(0.000001118)\n",
    "        #pixelScale=geom.radToArcsec(pixelScale)\n",
    "        self.pixelScale=pixelScale\n",
    "        if jacobian is None:\n",
    "            jacobian = np.eye(2, dtype=np.float64)\n",
    "        self.jacobian = jacobian\n",
    "        zmax=11\n",
    "        self.zmax = zmax\n",
    "        wavelength=300\n",
    "        self.wavelength=wavelength\n",
    "        \n",
    "        self.aper = galsim.Aperture(\n",
    "            diam = diam,\n",
    "            pupil_plane_im = pupil.illuminated.astype(np.int16),\n",
    "            pupil_plane_scale = pupil.scale,\n",
    "            pupil_plane_size = pupil.size)\n",
    "        self.kwargs = kwargs\n",
    "    \n",
    "    def initParams(self, z4Init, z4Range, zRange,\n",
    "                   centroidRange, fluxRelativeRange):\n",
    "        \"\"\"Initialize lmfit Parameters object.\n",
    "        @param z4Init   Initial Z4 aberration value in waves.\n",
    "        @param z4Range  2-tuple for allowed range of Z4 aberration in waves.\n",
    "        @param zRange   2-tuple for allowed range of Zernike aberrations higher\n",
    "                        than 4 in waves.\n",
    "        @param r0Init   Initial value for Fried parameter r0 in meters.\n",
    "        @param r0Range  2-tuple for allowed range of r0 in meters.\n",
    "        @param centroidRange  2-tuple for allowed range of centroid in pixels.\n",
    "                              Note this is the same for both x and y.\n",
    "        @param fluxRelativeRange  2-tuple for the allowed range of flux\n",
    "                                  relative to the pixel sum of the input image.\n",
    "        \"\"\"\n",
    "        # Note that order of parameters here must be consistent with order of\n",
    "        # parameters in the fitDonut schema.\n",
    "        params = lmfit.Parameters()\n",
    "        params.add('dx', 0.0, min=centroidRange[0], max=centroidRange[1])\n",
    "        params.add('dy', 0.0, min=centroidRange[0], max=centroidRange[1])\n",
    "        image = self.image\n",
    "        #flux = float(np.sum(image))\n",
    "        #self.flux=flux\n",
    "        #params.add('flux', flux,\n",
    "        #           min = fluxRelativeRange[0]*flux,\n",
    "        #           max = fluxRelativeRange[1]*flux)\n",
    "        #params.add('z4', z4Init, min=z4Range[0], max=z4Range[1])\n",
    "        #for i in range(5, self.zmax+1):\n",
    "        #    params.add('z{}'.format(i), 0.0, min=zRange[0], max=zRange[1])\n",
    "        self.params = params\n",
    "        \n",
    "    def _getOptPsf(self,params):\n",
    "\n",
    "        aberrations_init=[0.0,0.0,0.0,0.0]\n",
    "        aberrations = aberrations_init\n",
    "        #aberrations = aberrations_init+aber_4_to_11\n",
    "        for i in range(4, self.zmax + 1):\n",
    "            aberrations.append(params['z{}'.format(i)])\n",
    "\n",
    "        #There is a part here related to optical properties of telescope....\n",
    "        # Define the optical part of the PSF:\n",
    "        # The first argument of OpticalPSF below is lambda/diam (wavelength of light / telescope\n",
    "        # diameter), which needs to be in the same units used to specify the image scale.  We are using\n",
    "        # arcsec for that, so we have to self-consistently use arcsec here, using the following\n",
    "        # calculation:\n",
    "        #tel_diam = 1.          # meters\n",
    "        #lam = 1000              # nm    NB: don't use lambda - that's a reserved word.\n",
    "        #lam_over_diam = lam * 1.e-9 / tel_diam # radians\n",
    "        #lam_over_diam *= 206265  # arcsec\n",
    "        #Uncomment below to show lam_over_diam\n",
    "        #print(\"wavelenght over diameter of the telescope is \"+str(lam_over_diam)+\" arcsec\" )\n",
    "        # The rest of the values should be given in units of the wavelength of the incident light.\n",
    "        return galsim.OpticalPSF(lam=self.wavelength,diam=self.aper.diam, aberrations = aberrations,aper=self.aper)\n",
    "\n",
    "    def constructModelImage_Neven(self,params=None,shape=None,pixelScale=None,jacobian=None):\n",
    "        if params is None:\n",
    "            params = self.params\n",
    "        if shape is None:\n",
    "            shape = self.image.shape\n",
    "        if pixelScale is None:\n",
    "            pixelScale = self.pixelScale\n",
    "        if jacobian is None:\n",
    "            jacobian = self.jacobian    \n",
    "        #params.add('flux', flux,\n",
    "        #       min = fluxRelativeRange[0]*flux,\n",
    "        #       max = fluxRelativeRange[1]*flux)\n",
    "        try:\n",
    "            v = params.valuesdict()\n",
    "        except AttributeError:\n",
    "            v = params\n",
    "\n",
    "        #This creates opticalpsf\n",
    "        optPsf=self._getOptPsf(v)\n",
    "        #We skip atmospheric term Kolmogorov term and declare total psf to be optical psf\n",
    "        psf = optPsf\n",
    "        print(v['flux'])\n",
    "        psf = psf.shift(v['dx'], v['dy'])*v['flux']\n",
    "        #pixel scale at the moment choosen at random, made to be same to lam_over_diam\n",
    "        #pixelScale=geom.Angle(0.000001)\n",
    "        #pixelScale=geom.radToArcsec(pixelScale)\n",
    "        #Uncomment below to show pixes scale\n",
    "        #print(\"You have set pixel scale to be \"+str(pixelScale)+\" arcsec\")\n",
    "        #jacobian = np.eye(2, dtype=np.float64)\n",
    "        wcs = galsim.JacobianWCS(*list(pixelScale*jacobian.ravel()))\n",
    "        #shape=np.shape(image)\n",
    "        modelImg = psf.drawImage(\n",
    "        nx = shape[0],\n",
    "        ny = shape[1],\n",
    "        wcs = wcs)\n",
    "        #multiplicative_factor=np.sum(modelImg.array)\n",
    "        return modelImg.array\n",
    "    \n",
    "    def _chi_Neven(self, params):\n",
    "        \"\"\"Compute 'chi' image: (data - model)/sigma\n",
    "        @param params  lmfit.Parameters object.\n",
    "        @returns       Unraveled chi vector.\n",
    "\n",
    "        Original code below, hacking now to use pure image files\n",
    "        modelImg = constructModelImage(params)\n",
    "        image = maskedImage.getImage().getArray()\n",
    "        sigma = maskedImage.getVariance().getArray()\n",
    "        chi = (image - modelImg)/sigma\n",
    "\n",
    "        \"\"\"\n",
    "        modelImg = self.constructModelImage_Neven(params)\n",
    "        sigma = np.sqrt(self.image)\n",
    "        chi = (self.image - modelImg)/sigma\n",
    "        chi_without_nan=[]\n",
    "        chi_without_nan = chi.ravel()[~np.isnan(chi.ravel())]\n",
    "        print(\"chi**2/d.o.f. is:\"+str(np.mean(chi_without_nan)**2))\n",
    "        return chi_without_nan\n",
    "    \n",
    "    def best_image_Neven(self, params):\n",
    "        \"\"\"Compute 'chi' image: (data - model)/sigma\n",
    "        @param params  lmfit.Parameters object.\n",
    "        @returns       Unraveled chi vector.\n",
    "\n",
    "        Original code below, hacking now to use pure image files\n",
    "        modelImg = constructModelImage(params)\n",
    "        image = maskedImage.getImage().getArray()\n",
    "        sigma = maskedImage.getVariance().getArray()\n",
    "        chi = (image - modelImg)/sigma\n",
    "\n",
    "        \"\"\"\n",
    "        modelImg = self.constructModelImage_Neven(params)\n",
    "        return modelImg\n",
    "    \n",
    "    def residual_image_Neven(self, params):\n",
    "        \"\"\"Compute 'chi' image: (data - model)/sigma\n",
    "        @param params  lmfit.Parameters object.\n",
    "        @returns       Unraveled chi vector.\n",
    "\n",
    "        Original code below, hacking now to use pure image files\n",
    "        modelImg = constructModelImage(params)\n",
    "        image = maskedImage.getImage().getArray()\n",
    "        sigma = maskedImage.getVariance().getArray()\n",
    "        chi = (image - modelImg)/sigma\n",
    "\n",
    "        \"\"\"\n",
    "        modelImg = self.constructModelImage_Neven(params)\n",
    "        return (self.image - modelImg)\n",
    "    \n",
    "    def fit_Neven(self):\n",
    "        \"\"\"Do the fit\n",
    "        @returns  result as an lmfit.MinimizerResult.\n",
    "        \"\"\"\n",
    "        print(\"Doing fit\")\n",
    "        self.result = lmfit.minimize(self._chi_Neven, self.params,**self.kwargs)\n",
    "        return self.result\n",
    "    \n",
    "    def report(self, *args, **kwargs):\n",
    "        \"\"\"Return a string with fit results.\"\"\"\n",
    "        return lmfit.fit_report(self.result, *args, **kwargs)"
   ]
  },
  {
   "cell_type": "markdown",
   "metadata": {},
   "source": [
    "#Create single mock image"
   ]
  },
  {
   "cell_type": "code",
   "execution_count": 93,
   "metadata": {
    "ExecuteTime": {
     "end_time": "2017-09-24T03:27:52.218557Z",
     "start_time": "2017-09-24T03:27:52.215621Z"
    },
    "collapsed": true
   },
   "outputs": [],
   "source": [
    "#1. Figure how to create a single reasonable mock image"
   ]
  },
  {
   "cell_type": "code",
   "execution_count": 94,
   "metadata": {
    "ExecuteTime": {
     "end_time": "2017-09-24T03:27:52.693289Z",
     "start_time": "2017-09-24T03:27:52.682626Z"
    }
   },
   "outputs": [],
   "source": [
    "test_par=lmfit.Parameters()\n",
    "#opens most generic parameters\n",
    "file_par=open('/home/caplarn/Documents/PFS/PFS_Work_In_Progress/JSONparameters/0.json',\"r\")\n",
    "test_par.load(file_par)\n",
    "#This set flux in the simulated image to be the same as in the target image\n",
    "test_par['flux'].set(np.sum(scidata_cuts12[5]))\n",
    "test_par['z4'].set(1.2)\n",
    "single_image_analysis=ZernikeFitter_PSF(scidata_cuts12[5],pupil,diam=0.3)"
   ]
  },
  {
   "cell_type": "code",
   "execution_count": 95,
   "metadata": {
    "ExecuteTime": {
     "end_time": "2017-09-24T03:27:54.502573Z",
     "start_time": "2017-09-24T03:27:53.381801Z"
    },
    "scrolled": false
   },
   "outputs": [
    {
     "name": "stdout",
     "output_type": "stream",
     "text": [
      "143761.988465\n",
      "142030.0\n"
     ]
    },
    {
     "data": {
      "image/png": "[encoded data removed]",
      "text/plain": [
       "<matplotlib.figure.Figure at 0x7f4261930f90>"
      ]
     },
     "metadata": {},
     "output_type": "display_data"
    }
   ],
   "source": [
    "#test_par=result_fit_single_image.params\n",
    "#I am noticing that this a lot less then in flux parameter\n",
    "test_img=single_image_analysis.best_image_Neven(test_par)\n",
    "plt.figure(figsize=(20,20))\n",
    "plt.subplot(221)\n",
    "plt.imshow(test_img, cmap='gray')\n",
    "plt.colorbar()\n",
    "plt.title('linear')\n",
    "plt.grid(False)\n",
    "plt.subplot(222)\n",
    "plt.imshow(test_img, cmap='gray',norm=LogNorm())\n",
    "plt.colorbar()\n",
    "plt.title('log')\n",
    "plt.grid(False)\n",
    "\n",
    "print(np.sum(test_img))"
   ]
  },
  {
   "cell_type": "code",
   "execution_count": 26,
   "metadata": {
    "ExecuteTime": {
     "end_time": "2017-09-24T01:14:43.649054Z",
     "start_time": "2017-09-24T01:14:42.658765Z"
    }
   },
   "outputs": [
    {
     "name": "stdout",
     "output_type": "stream",
     "text": [
      "143761.988465\n"
     ]
    },
    {
     "data": {
      "image/png": "[encoded data removed]",
      "text/plain": [
       "<matplotlib.figure.Figure at 0x7f4261acd8d0>"
      ]
     },
     "metadata": {},
     "output_type": "display_data"
    }
   ],
   "source": [
    "plt.figure(figsize=(20,20))\n",
    "plt.subplot(221)\n",
    "plt.imshow(scidata_cuts12[5], cmap='gray')\n",
    "plt.colorbar()\n",
    "plt.title('linear')\n",
    "plt.grid(False)\n",
    "plt.subplot(222)\n",
    "plt.imshow(scidata_cuts12[5], cmap='gray',norm=LogNorm())\n",
    "plt.colorbar()\n",
    "plt.title('log')\n",
    "plt.grid(False)\n",
    "print(np.sum(scidata_cuts12[5]))"
   ]
  },
  {
   "cell_type": "code",
   "execution_count": 62,
   "metadata": {
    "ExecuteTime": {
     "end_time": "2017-09-24T03:16:33.807818Z",
     "start_time": "2017-09-24T03:16:33.802182Z"
    }
   },
   "outputs": [
    {
     "data": {
      "text/plain": [
       "Parameters([(u'dx', <Parameter 'dx', -0.0, bounds=[-5:5]>),\n",
       "            (u'dy', <Parameter 'dy', -0.0, bounds=[-5:5]>),\n",
       "            (u'flux',\n",
       "             <Parameter 'flux', 2189.943716257398, bounds=[0.0:115009.59077219517]>),\n",
       "            (u'z4', <Parameter 'z4', 1, bounds=[-inf:inf]>),\n",
       "            (u'z5', <Parameter 'z5', -0.0, bounds=[-1:1]>),\n",
       "            (u'z6', <Parameter 'z6', -0.0, bounds=[-1:1]>),\n",
       "            (u'z7', <Parameter 'z7', 0.0, bounds=[-1:1]>),\n",
       "            (u'z8', <Parameter 'z8', 0.0, bounds=[-1:1]>),\n",
       "            (u'z9', <Parameter 'z9', 0.0, bounds=[-1:1]>),\n",
       "            (u'z10', <Parameter 'z10', 0.0, bounds=[-1:1]>),\n",
       "            (u'z11', <Parameter 'z11', 0.0, bounds=[-1:1]>)])"
      ]
     },
     "execution_count": 62,
     "metadata": {},
     "output_type": "execute_result"
    }
   ],
   "source": [
    "test_par['z4'].set(1)\n",
    "test_par"
   ]
  },
  {
   "cell_type": "code",
   "execution_count": null,
   "metadata": {
    "collapsed": true
   },
   "outputs": [],
   "source": [
    "#This code can be used to try different paramters\n",
    "PFSPF1=5\n",
    "Zernike=1\n",
    "Defocus=9\n",
    "img_analyzed=scidata_cuts12[5]\n",
    "HscPupil=PFSPupilFactory(PFSPF1,100)\n",
    "point=Point2D(0,0)\n",
    "HscPupil.getPupil(point)\n",
    "pupil=HscPupil.getPupil(point)\n",
    "test_image_analysis=ZernikeFitter_PSF(img_analyzed,pupil,Zernike)\n",
    "file_par=open('/home/caplarn/Documents/PFS/RandomCode/JSONparameters/'+str(Defocus)+'.json',\"r\")\n",
    "test_par = lmfit.Parameters()\n",
    "test_par.load(file_par)\n",
    "test_img=test_image_analysis.best_image_Neven(test_par)\n",
    "plt.figure(figsize=img_analyzed.shape)\n",
    "plt.subplot(221)\n",
    "plt.imshow(test_img, cmap='gray')\n",
    "plt.colorbar()\n",
    "plt.title('linear')\n",
    "plt.grid(False)\n",
    "plt.subplot(222)\n",
    "plt.imshow(test_img, cmap='gray',norm=LogNorm())\n",
    "plt.colorbar()\n",
    "plt.title('log')\n",
    "plt.grid(False)\n",
    "#plt.savefig('/home/caplarn/Documents/PFS/RandomCode/Plots/'+str(PFSPF1)+str(Zernike)+str(Defocus)+'.png')"
   ]
  },
  {
   "cell_type": "code",
   "execution_count": null,
   "metadata": {
    "collapsed": true
   },
   "outputs": [],
   "source": [
    "#This code can be used to try different paramters - many attempts\n",
    "matplotlib.rcParams.update({'font.size': 36})\n",
    "for PFSPF1 in range(1,6):\n",
    "    for Zernike in range(1,6):\n",
    "        if PFSPF1<=Zernike:\n",
    "            print('PFSPF1<Zernike')\n",
    "        else:\n",
    "            for Defocus in range(1,6):\n",
    "                img_analyzed=scidata_cuts12[5]\n",
    "                HscPupil=PFSPupilFactory(PFSPF1,100)\n",
    "                point=Point2D(1800,1800)\n",
    "                HscPupil.getPupil(point)\n",
    "                pupil=HscPupil.getPupil(point)\n",
    "                test_image_analysis=ZernikeFitter_PSF(img_analyzed,pupil,2)\n",
    "                file_par=open('/home/caplarn/Documents/PFS/RandomCode/JSONparameters/'+str(Defocus)+'.json',\"r\")\n",
    "                test_par = lmfit.Parameters()\n",
    "                test_par.load(file_par)\n",
    "                test_img=test_image_analysis.best_image_Neven(test_par)\n",
    "                plt.figure(figsize=img_analyzed.shape)\n",
    "                plt.subplot(221)\n",
    "                plt.imshow(test_img, cmap='gray')\n",
    "                plt.colorbar()\n",
    "                plt.title('linear')\n",
    "                plt.grid(False)\n",
    "                plt.subplot(222)\n",
    "                plt.imshow(test_img, cmap='gray',norm=LogNorm())\n",
    "                plt.colorbar()\n",
    "                plt.title('log')\n",
    "                plt.grid(False)\n",
    "                plt.savefig('/home/caplarn/Documents/PFS/RandomCode/Plots/'+str(PFSPF1)+str(Zernike)+str(Defocus)+'.png')"
   ]
  },
  {
   "cell_type": "markdown",
   "metadata": {},
   "source": [
    "# Fitting real data on one chip?"
   ]
  },
  {
   "cell_type": "code",
   "execution_count": null,
   "metadata": {
    "collapsed": true
   },
   "outputs": [],
   "source": []
  }
 ],
 "metadata": {
  "hide_input": false,
  "kernelspec": {
   "display_name": "Python [conda root]",
   "language": "python",
   "name": "conda-root-py"
  },
  "language_info": {
   "codemirror_mode": {
    "name": "ipython",
    "version": 2
   },
   "file_extension": ".py",
   "mimetype": "text/x-python",
   "name": "python",
   "nbconvert_exporter": "python",
   "pygments_lexer": "ipython2",
   "version": "2.7.13"
  },
  "nbTranslate": {
   "displayLangs": [
    "*"
   ],
   "hotkey": "alt-t",
   "langInMainMenu": true,
   "sourceLang": "en",
   "targetLang": "fr",
   "useGoogleTranslate": true
  },
  "toc": {
   "nav_menu": {},
   "number_sections": true,
   "sideBar": true,
   "skip_h1_title": false,
   "toc_cell": false,
   "toc_position": {},
   "toc_section_display": "block",
   "toc_window_display": false
  },
  "varInspector": {
   "cols": {
    "lenName": 16,
    "lenType": 16,
    "lenVar": 40
   },
   "kernels_config": {
    "python": {
     "delete_cmd_postfix": "",
     "delete_cmd_prefix": "del ",
     "library": "var_list.py",
     "varRefreshCmd": "print(var_dic_list())"
    },
    "r": {
     "delete_cmd_postfix": ") ",
     "delete_cmd_prefix": "rm(",
     "library": "var_list.r",
     "varRefreshCmd": "cat(var_dic_list()) "
    }
   },
   "types_to_exclude": [
    "module",
    "function",
    "builtin_function_or_method",
    "instance",
    "_Feature"
   ],
   "window_display": false
  }
 },
 "nbformat": 4,
 "nbformat_minor": 2
}
