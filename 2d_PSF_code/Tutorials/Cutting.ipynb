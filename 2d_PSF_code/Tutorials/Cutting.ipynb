{
 "cells": [
  {
   "cell_type": "code",
   "execution_count": 1,
   "metadata": {},
   "outputs": [
    {
     "name": "stdout",
     "output_type": "stream",
     "text": [
      "3.8.13 | packaged by conda-forge | (default, Mar 25 2022, 06:04:10) \n",
      "[GCC 10.3.0]\n"
     ]
    }
   ],
   "source": [
    "import sys\n",
    "print(sys.version)\n",
    "\n",
    "from astropy.io import fits \n",
    "\n",
    "#matplotlib\n",
    "import matplotlib\n",
    "import matplotlib.pyplot as plt\n",
    "from matplotlib.colors import LogNorm\n",
    "matplotlib.rcParams.update({'font.size': 18})\n",
    "%config InlineBackend.rc = {}\n",
    "%matplotlib inline\n",
    "\n",
    "import numpy as np\n",
    "np.set_printoptions(suppress=True)\n",
    "np.seterr(divide='ignore', invalid='ignore')\n",
    "\n",
    "%load_ext autoreload\n",
    "%autoreload 2\n",
    "%reload_ext autoreload\n",
    "    \n",
    "import Zernike_Cutting_Module\n",
    "from Zernike_Cutting_Module import *\n",
    "Zernike_Cutting_Module.__version__\n",
    "\n",
    "from tqdm import tqdm\n"
   ]
  },
  {
   "cell_type": "code",
   "execution_count": null,
   "metadata": {},
   "outputs": [],
   "source": [
    "# Specify the path to a detector map here\n",
    "aux_data_path = '/home/ncaplar/Code/dev_2ddrp/2d_PSF_code/data/'\n",
    "pfsDetectorMap_path = '/home/ncaplar/Code/dev_2ddrp/2d_PSF_code/data/pfsDetectorMap-045744-r1.fits'\n",
    "# specify the visit_id of the first visit of the whole defocused Arc routine\n",
    "run_0 = 59655\n",
    "# which arcline you are using\n",
    "arc = 'Ne'\n",
    "\n",
    "# open the detectorMap and create the dataframe contaning the information about all the spots\n",
    "pfsDetectorMap=fits.open(pfsDetectorMap_path)\n",
    "create_Zernike_info_df(pfsDetectorMap, 'Ne', aux_data_path, str(run_0), pfsConfig=21)\n",
    "\n",
    "Zernike_info_df_Ne_59655=np.load(aux_data_path + 'Dataframes/Zernike_info_df_' + str(arc) + '_' + str(run_0),\n",
    "                                 allow_pickle=True)"
   ]
  },
  {
   "cell_type": "code",
   "execution_count": null,
   "metadata": {},
   "outputs": [],
   "source": [
    "# where is the reduced data stored \n",
    "DATA_FOLDER = '/Volumes/Saturn_USA/PFS/ReducedData/Data_May25_2021/'\n",
    "\n",
    "# how many images at same defocus\n",
    "number_of_images = 12\n",
    "# has the data been taken at LAM or SUB (Subaru)\n",
    "SUB_LAM = 'SUB'\n",
    "# do you want to subtract continuum (dont do it unless analyzing HgAr)\n",
    "subtract_continuum = False\n",
    "# how dithered is data (dither = =1 if it is not dithered)\n",
    "dither = 1\n",
    "verbosity = 1\n",
    "save = True\n",
    "# use image that you have previously stacked\n",
    "use_previous_full_stacked_images = False\n",
    "# what where the value of defocus in the defocused sequence\n",
    "defocus_values = np.array([-4, -3.5, -3, -2.5, -2, -1.5, -1, -0.5, 0,\n",
    "                           0.5, +1, 1.5, 2, 2.5, 3, 3.5, 4])\n",
    "\n",
    "array_of_run_i = np.arange(0, number_of_images*len(defocus_values),\n",
    "                           number_of_images)+run_0\n",
    "\n",
    "for i in range(len(defocus_values)):\n",
    "    \n",
    "    run_i=array_of_run_i[i]\n",
    "    exposure_defocus_explicit_value=defocus_values[i]\n",
    "    Zernike_cuttinge_instance=Zernike_cutting(DATA_FOLDER=DATA_FOLDER,run_0=run_i,number_of_images=number_of_images,SUB_LAM=SUB_LAM,\\\n",
    "                                      subtract_continuum=subtract_continuum,Zernike_info_df=Zernike_info_df_Ne_59655,dither=dither,\\\n",
    "                                                verbosity=verbosity,save=True,use_previous_full_stacked_images=use_previous_full_stacked_images,\\\n",
    "                                               use_median_rejected_stacked_images=True,exposure_arc=arc,exposure_defocus_explicit=exposure_defocus_explicit_value)\n",
    "    Zernike_cuttinge_instance.create_poststamps()"
   ]
  }
 ],
 "metadata": {
  "kernelspec": {
   "display_name": "Python 3 (ipykernel)",
   "language": "python",
   "name": "python3"
  },
  "language_info": {
   "codemirror_mode": {
    "name": "ipython",
    "version": 3
   },
   "file_extension": ".py",
   "mimetype": "text/x-python",
   "name": "python",
   "nbconvert_exporter": "python",
   "pygments_lexer": "ipython3",
   "version": "3.8.13"
  },
  "orig_nbformat": 4
 },
 "nbformat": 4,
 "nbformat_minor": 2
}
