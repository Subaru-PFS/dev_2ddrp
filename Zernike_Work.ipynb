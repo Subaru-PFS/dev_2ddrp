{
 "cells": [
  {
   "cell_type": "code",
   "execution_count": 1,
   "metadata": {
    "ExecuteTime": {
     "end_time": "2018-08-15T20:08:58.920332Z",
     "start_time": "2018-08-15T20:08:58.907506Z"
    },
    "collapsed": true
   },
   "outputs": [],
   "source": [
    "#!/usr/bin/env python2\n",
    "# -*- coding: utf-8 -*-\n",
    "\"\"\"\n",
    "Created on August 13 2018\n",
    "@author: ncaplar@princeton.edu\n",
    "\n",
    "These comments are theoretically the only ones you need to read to run the notebook\n",
    "\n",
    "1. Specify the directory in which you want to run the analysis below (PSF_DIRECTORY)\n",
    "2. Name and place the data in DATA_FOLDER. The data is avaliable at https://github.com/nevencaplar/PFS_Work_In_Progress/tree/master/CutsForTigerMay2\n",
    "3. TESTING_FOLDER will be filled during the run with images from the analysis analysis\n",
    "\n",
    "4. (OPTIONAL)Next cell contains some extensions that I use that make life much easier when using jupyter notebook \n",
    "    Without them this notebook becomes reallllly huge and hard to deal with\n",
    "    These can be downloaded from https://github.com/ipython-contrib/jupyter_contrib_nbextensions\n",
    "\n",
    "\"\"\"\n",
    "############################################################\n",
    "# name your directory where you want to have files!\n",
    "PSF_DIRECTORY='/Users/nevencaplar/Documents/PFS/'\n",
    "# place cutouts in this folder - name as you wish\n",
    "DATA_FOLDER=PSF_DIRECTORY+'TigerAnalysis/CutsForTigerMay2/'\n",
    "############################################################\n",
    "    \n",
    "\n",
    "TESTING_FOLDER=PSF_DIRECTORY+'Testing/'\n",
    "TESTING_PUPIL_IMAGES_FOLDER=TESTING_FOLDER+'Pupil_Images/'\n",
    "TESTING_WAVEFRONT_IMAGES_FOLDER=TESTING_FOLDER+'Wavefront_Images/'\n",
    "TESTING_FINAL_IMAGES_FOLDER=TESTING_FOLDER+'Final_Images/'\n",
    "import os\n",
    "\n",
    "for i in [PSF_DIRECTORY,DATA_FOLDER,TESTING_PUPIL_IMAGES_FOLDER,TESTING_WAVEFRONT_IMAGES_FOLDER,TESTING_FINAL_IMAGES_FOLDER]:\n",
    "    if not os.path.exists(i):\n",
    "        os.makedirs(i)    \n",
    "    "
   ]
  },
  {
   "cell_type": "code",
   "execution_count": 2,
   "metadata": {
    "ExecuteTime": {
     "end_time": "2018-08-15T20:08:58.939605Z",
     "start_time": "2018-08-15T20:08:58.922890Z"
    }
   },
   "outputs": [
    {
     "data": {
      "application/javascript": [
       "try {\n",
       "  require(['base/js/utils'], function (utils) {\n",
       "    utils.load_extension('code_prettify/code_prettify');\n",
       "    utils.load_extension('collapsible_headings/main'); \n",
       "    utils.load_extension('codefolding/edit'); \n",
       "    utils.load_extension('codefolding/main'); \n",
       "    utils.load_extension('execute_time/ExecuteTime');   \n",
       "    utils.load_extension('toc2/main'); \n",
       "  });\n",
       "}\n",
       "catch (err) {\n",
       "  console.log('toc2 load error:', err);\n",
       "}"
      ],
      "text/plain": [
       "<IPython.core.display.Javascript object>"
      ]
     },
     "metadata": {},
     "output_type": "display_data"
    }
   ],
   "source": [
    "%%javascript\n",
    "try {\n",
    "  require(['base/js/utils'], function (utils) {\n",
    "    utils.load_extension('code_prettify/code_prettify');\n",
    "    utils.load_extension('collapsible_headings/main'); \n",
    "    utils.load_extension('codefolding/edit'); \n",
    "    utils.load_extension('codefolding/main'); \n",
    "    utils.load_extension('execute_time/ExecuteTime');   \n",
    "    utils.load_extension('toc2/main'); \n",
    "  });\n",
    "}\n",
    "catch (err) {\n",
    "  console.log('toc2 load error:', err);\n",
    "}"
   ]
  },
  {
   "cell_type": "code",
   "execution_count": 3,
   "metadata": {
    "ExecuteTime": {
     "end_time": "2018-08-15T20:08:58.948996Z",
     "start_time": "2018-08-15T20:08:58.942445Z"
    }
   },
   "outputs": [
    {
     "data": {
      "text/html": [
       "<style>.container { width:100% !important; }</style>"
      ],
      "text/plain": [
       "<IPython.core.display.HTML object>"
      ]
     },
     "metadata": {},
     "output_type": "display_data"
    }
   ],
   "source": [
    "# make notebook nice and wide to fill the entire screen\n",
    "from IPython.core.display import display, HTML\n",
    "display(HTML(\"<style>.container { width:100% !important; }</style>\"))"
   ]
  },
  {
   "cell_type": "code",
   "execution_count": 4,
   "metadata": {
    "ExecuteTime": {
     "end_time": "2018-08-15T20:09:07.956007Z",
     "start_time": "2018-08-15T20:08:58.952237Z"
    },
    "collapsed": true
   },
   "outputs": [],
   "source": [
    "import Zernike_Module\n",
    "from Zernike_Module import LNP_PFS,LN_PFS_single,create_parInit"
   ]
  },
  {
   "cell_type": "code",
   "execution_count": 5,
   "metadata": {
    "ExecuteTime": {
     "end_time": "2018-08-15T20:09:08.011874Z",
     "start_time": "2018-08-15T20:09:07.962498Z"
    },
    "collapsed": true
   },
   "outputs": [],
   "source": [
    "#general import statments\n",
    "from __future__ import absolute_import, division, print_function\n",
    "import galsim\n",
    "import numpy as np\n",
    "np.set_printoptions(suppress=True)\n",
    "np.seterr(divide='ignore', invalid='ignore')\n",
    "import pandas as pd\n",
    "import io\n",
    "import math\n",
    "\n",
    "#tqdm is not necesarry, it is the monitor evaluation of the 'for' loops\n",
    "from tqdm import tqdm\n",
    "\n",
    "# lsst stack\n",
    "#import lsst.afw\n",
    "from lsst.afw.cameraGeom import PupilFactory\n",
    "from lsst.afw.geom import Angle, degrees\n",
    "#from lsst.afw import geom\n",
    "from lsst.afw.geom import Point2D\n",
    "\n",
    "# astropy\n",
    "import astropy\n",
    "import astropy.convolution\n",
    "from astropy.convolution import Gaussian2DKernel\n",
    "\n",
    "# scipy and skimage\n",
    "#from scipy.ndimage import gaussian_filter\n",
    "import scipy.misc\n",
    "import skimage.transform\n",
    "\n",
    "#lmfit\n",
    "import lmfit\n",
    "\n",
    "#matplotlib\n",
    "import matplotlib\n",
    "import matplotlib.pyplot as plt\n",
    "from matplotlib.colors import LogNorm\n",
    "matplotlib.rcParams.update({'font.size': 22})\n",
    "%config InlineBackend.rc = {}\n",
    "%matplotlib inline"
   ]
  },
  {
   "cell_type": "code",
   "execution_count": 42,
   "metadata": {
    "ExecuteTime": {
     "end_time": "2018-08-15T20:43:22.290302Z",
     "start_time": "2018-08-15T20:43:22.216581Z"
    }
   },
   "outputs": [],
   "source": [
    "#specify number of observation which you want to analyze\n",
    "obs='8600'\n",
    "#specify single number which specifies which spot you want to anallyze - values are from 0 to 100, '55' is in the center of the detector \n",
    "single_number='55'\n",
    "#load scientific and variance image\n",
    "#sci_image =np.load(DATA_FOLDER+'sci'+str(obs)+str(single_number)+'Stacked.npy')\n",
    "#var_image =np.load(DATA_FOLDER+'var'+str(obs)+str(single_number)+'Stacked.npy')\n",
    "\n",
    "image_index=55\n",
    "if obs=='8600':\n",
    "    sci_image=np.load(\"/Users/nevencaplar/Documents/PFS/TigerAnalysis/CutsForTigerAug15/sci\"+str(obs)+str(image_index)+'Stacked_Cleaned_Dithered.npy')\n",
    "    var_image=np.load(\"/Users/nevencaplar/Documents/PFS/TigerAnalysis/CutsForTigerAug15/var\"+str(obs)+str(image_index)+'Stacked_Dithered.npy')\n",
    "else:       \n",
    "    sci_image=np.load(\"/Users/nevencaplar/Documents/PFS/TigerAnalysis/CutsForTigerAug15/sci\"+str(obs)+str(image_index)+'Stacked_Cleaned.npy')\n",
    "    var_image=np.load(\"/Users/nevencaplar/Documents/PFS/TigerAnalysis/CutsForTigerAug15/var\"+str(obs)+str(image_index)+'Stacked.npy')\n",
    "\n",
    "\n",
    "\n",
    "obs_int=int(obs)\n",
    "obs_possibilites=np.array([8564,8567,8570,8573,8603,8600,8606,8609,8612,8615])\n",
    "z4Input_possibilites=np.array([14,10.5,7,3.5,0,0,-3.5,-7,-10.5,-14])\n",
    "z4Input=z4Input_possibilites[obs_possibilites==obs_int][0]\n",
    "\n",
    "columns=['z4','z5','z6','z7','z8','z9','z10','z11',\n",
    "                      'hscFrac','strutFrac','dxFocal','dyFocal','slitFrac','slitFrac_dy',\n",
    "                      'radiometricEffect','radiometricExponent',\n",
    "                      'x_ilum','y_ilum','minorAxis','pupilAngle',\n",
    "                      'grating_lines','scattering_radius','scattering_slope','scattering_amplitude',\n",
    "                      'pixel_effect','flux']  \n",
    "\"\"\"\n",
    "@param z4                     defocus parameter - if you give the observations number it will automaticly adjust but you can also pass the value manually below\n",
    "@param z5-z11                 Zernike coefficents, following Noel convention\n",
    "\n",
    "@param hscFrac                controls the size of the central obscuration (name is relic of the code when it was used for Hyper Suprime cam project)\n",
    "@param hscFrac                controls the size of the struts\n",
    "@param dxFocal, dyFocal       positions of central obscuraiton, i.e., where on detector is the spot\n",
    "@param slitFrac               size of the slit \n",
    "@param slitFrac_dy            position of the slit \n",
    "\n",
    "@param radiometricEffect      parameter describing non-uniform illumination of the pupil (1-params['radiometricEffect']**2*r**2)**(params['radiometricExponent'])\n",
    "@param radiometricExponent    parameter describing non-uniform illumination of the pupil (1-params['radiometricEffect']**2*r**2)**(params['radiometricExponent'])\n",
    "\n",
    "@param x_ilum, y_ilum         positions of the centrer of the nonuniform illumination\n",
    "@param minorAxis,pupilAngle   describing ellipse if the exit puppil is not circle\n",
    "\n",
    "@param grating_lines          how many effective lines does the grating has\n",
    "@param scattering_radius      minimal radius to which extended the scattering\n",
    "@param scattering_slope       slope of scattering\n",
    "@param scattering_amplitude   amplitude of scattering compared to optical PSF\n",
    "\n",
    "@param pixel_effect           parameters describing charge-diffusion effect, modelled with Gaussian with sigma=pixel_effect\n",
    "@param flux                   total number of counts in the modelled image compared to the data (probably around 1)\n",
    "\"\"\"\n",
    "\n",
    "allparameters_proposal=np.array([z4Input,0.09,0.02,-0.1,0.0,0.1,0.02,0.2,\n",
    "                                 0.65,0.1,0.0,0.0,0.08,0.0,\n",
    "                                 0.7,2,\n",
    "                                 -0.2,0.00,0.99,0.0,\n",
    "                                 50000,50,2.5,10**-1.2,\n",
    "                                 0.47,1.0])\n",
    "\n",
    "#This is part of the code that I use to create starting point for the parallel tempering code when searching for best fit values on the cluster\n",
    "nT=4\n",
    "parInit1=create_parInit(allparameters_proposal)\n",
    "parInit2=create_parInit(allparameters_proposal)\n",
    "parInit3=create_parInit(allparameters_proposal)\n",
    "parInit4=create_parInit(allparameters_proposal)\n",
    "parInitnT=np.array([parInit1,parInit2,parInit3,parInit4])\n",
    "\n",
    "if obs=='8600':\n",
    "    model = LN_PFS_single(sci_image,var_image,dithering=2)\n",
    "else:\n",
    "    model = LN_PFS_single(sci_image,var_image,dithering=1)   \n",
    "\n",
    "modelP =LNP_PFS(sci_image,var_image)"
   ]
  },
  {
   "cell_type": "code",
   "execution_count": 43,
   "metadata": {
    "ExecuteTime": {
     "end_time": "2018-08-15T20:43:24.452458Z",
     "start_time": "2018-08-15T20:43:24.443910Z"
    }
   },
   "outputs": [
    {
     "data": {
      "text/plain": [
       "array([     0.        ,      0.09      ,      0.02      ,     -0.1       ,\n",
       "            0.        ,      0.1       ,      0.02      ,      0.2       ,\n",
       "            0.65      ,      0.1       ,      0.        ,      0.        ,\n",
       "            0.08      ,      0.        ,      0.7       ,      2.        ,\n",
       "           -0.2       ,      0.        ,      0.99      ,      0.        ,\n",
       "        50000.        ,     50.        ,      2.5       ,      0.06309573,\n",
       "            0.47      ,      1.        ])"
      ]
     },
     "execution_count": 43,
     "metadata": {},
     "output_type": "execute_result"
    }
   ],
   "source": [
    "allparameters_proposal"
   ]
  },
  {
   "cell_type": "code",
   "execution_count": 44,
   "metadata": {
    "ExecuteTime": {
     "end_time": "2018-08-15T20:43:34.116925Z",
     "start_time": "2018-08-15T20:43:33.955263Z"
    }
   },
   "outputs": [
    {
     "data": {
      "text/plain": [
       "<matplotlib.image.AxesImage at 0x1c33190350>"
      ]
     },
     "execution_count": 44,
     "metadata": {},
     "output_type": "execute_result"
    },
    {
     "data": {
      "image/png": "[encoded data removed]",
      "text/plain": [
       "<matplotlib.figure.Figure at 0x1c33124090>"
      ]
     },
     "metadata": {},
     "output_type": "display_data"
    }
   ],
   "source": [
    "plt.imshow(sci_image,norm=LogNorm())"
   ]
  },
  {
   "cell_type": "code",
   "execution_count": 47,
   "metadata": {
    "ExecuteTime": {
     "end_time": "2018-08-15T20:45:32.185767Z",
     "start_time": "2018-08-15T20:45:26.066044Z"
    },
    "scrolled": false
   },
   "outputs": [
    {
     "name": "stdout",
     "output_type": "stream",
     "text": [
      "oversampling of optPSF is: 20.0135710609\n",
      "oversampling of optPsf_downsampled is: 5\n",
      " "
     ]
    }
   ],
   "source": [
    "%prun model(allparameters_proposal)"
   ]
  },
  {
   "cell_type": "code",
   "execution_count": 46,
   "metadata": {
    "ExecuteTime": {
     "end_time": "2018-08-15T20:43:41.870477Z",
     "start_time": "2018-08-15T20:43:41.023694Z"
    }
   },
   "outputs": [
    {
     "data": {
      "text/plain": [
       "<matplotlib.colorbar.Colorbar at 0x1c31445fd0>"
      ]
     },
     "execution_count": 46,
     "metadata": {},
     "output_type": "execute_result"
    },
    {
     "data": {
      "image/png": "[encoded data removed]",
      "text/plain": [
       "<matplotlib.figure.Figure at 0x1c331ae510>"
      ]
     },
     "metadata": {},
     "output_type": "display_data"
    }
   ],
   "source": [
    "optPsf=np.load(TESTING_FINAL_IMAGES_FOLDER+'optPsf.npy')\n",
    "optPsf_downsampled=np.load(TESTING_FINAL_IMAGES_FOLDER+'optPsf_downsampled.npy')\n",
    "optPsf_fiber_convolved=np.load(TESTING_FINAL_IMAGES_FOLDER+'optPsf_fiber_convolved.npy')\n",
    "\n",
    "optPsf_downsampled_scattered=np.load(TESTING_FINAL_IMAGES_FOLDER+'optPsf_downsampled_scattered.npy')\n",
    "\n",
    "optPsf_cut_fiber_convolved=np.load(TESTING_FINAL_IMAGES_FOLDER+'optPsf_cut_fiber_convolved.npy')\n",
    "optPsf_cut_pixel_response_convolved=np.load(TESTING_FINAL_IMAGES_FOLDER+'optPsf_cut_pixel_response_convolved.npy')\n",
    "optPsf_cut_grating_convolved=np.load(TESTING_FINAL_IMAGES_FOLDER+'optPsf_cut_grating_convolved.npy')\n",
    "optPsf_cut_fiber_convolved_downsampled=np.load(TESTING_FINAL_IMAGES_FOLDER+'optPsf_cut_fiber_convolved_downsampled.npy')\n",
    "\n",
    "plt.imshow(optPsf_cut_fiber_convolved_downsampled,norm=LogNorm(),vmax=np.max(optPsf_cut_fiber_convolved_downsampled),vmin=1)\n",
    "plt.colorbar()"
   ]
  },
  {
   "cell_type": "markdown",
   "metadata": {},
   "source": [
    "# Preliminary analysis"
   ]
  },
  {
   "cell_type": "markdown",
   "metadata": {
    "heading_collapsed": true
   },
   "source": [
    "## some functions I still need -deprecated"
   ]
  },
  {
   "cell_type": "code",
   "execution_count": null,
   "metadata": {
    "ExecuteTime": {
     "end_time": "2018-08-15T15:29:32.269798Z",
     "start_time": "2018-08-15T15:29:22.722Z"
    },
    "code_folding": [],
    "collapsed": true,
    "hidden": true
   },
   "outputs": [],
   "source": [
    "def create_res_data(FFTTest_fiber_and_pixel_convolved_downsampled_40,mask=None,custom_cent=None,size_pixel=None):\n",
    "    \n",
    "    if size_pixel is None:\n",
    "        size_pixel=7.5\n",
    "    \n",
    "    image_shape=np.array(FFTTest_fiber_and_pixel_convolved_downsampled_40.shape)\n",
    "    if custom_cent is None:\n",
    "        xs0=0\n",
    "        ys0=0\n",
    "    else:\n",
    "\n",
    "        xs0=(find_centroid_of_flux(FFTTest_fiber_and_pixel_convolved_downsampled_40)[0]-int(image_shape[0]/2))*size_pixel\n",
    "        ys0=(find_centroid_of_flux(FFTTest_fiber_and_pixel_convolved_downsampled_40)[1]-int(image_shape[0]/2))*size_pixel\n",
    "    pointsx = np.linspace(-(int(image_shape[0]*size_pixel)-size_pixel)/2,(int(image_shape[0]*size_pixel)-size_pixel)/2,num=int(image_shape[0]))\n",
    "    pointsy = np.linspace(-(int(image_shape[0]*size_pixel)-size_pixel)/2,(int(image_shape[0]*size_pixel)-size_pixel)/2,num=int(image_shape[0]))\n",
    "    xs, ys = np.meshgrid(pointsx, pointsy)\n",
    "    r0 = np.sqrt((xs-xs0)** 2 + (ys-ys0)** 2)\n",
    "    \n",
    "    if mask is None:\n",
    "        mask=np.ones((FFTTest_fiber_and_pixel_convolved_downsampled_40.shape[0],FFTTest_fiber_and_pixel_convolved_downsampled_40.shape[1]))\n",
    "    \n",
    "    distances=range(int(image_shape[0]/2*size_pixel*1.2))\n",
    "\n",
    "    res_test_data=[]\n",
    "    for r in distances:\n",
    "        pixels_upper_limit=(mask*FFTTest_fiber_and_pixel_convolved_downsampled_40)[r0<(r+size_pixel)]\n",
    "        pixels_lower_limit=(mask*FFTTest_fiber_and_pixel_convolved_downsampled_40)[r0<(r)]\n",
    "        \n",
    "        mask_upper_limit=mask[r0<(r+size_pixel)]\n",
    "        mask_lower_limit=mask[r0<(r)]\n",
    "        \n",
    "        number_of_valid_pixels=np.sum(mask_upper_limit)-np.sum(mask_lower_limit)\n",
    "        \n",
    "        if number_of_valid_pixels==0:\n",
    "            res_test_data.append(0)\n",
    "        else:                  \n",
    "            average_flux=(np.sum(pixels_upper_limit)-np.sum(pixels_lower_limit))/number_of_valid_pixels\n",
    "            res_test_data.append(average_flux)        \n",
    "\n",
    "    return res_test_data \n",
    "\n",
    "def find_centroid_of_flux(image):\n",
    "    x_center=[]\n",
    "    y_center=[]\n",
    "\n",
    "    I_x=[]\n",
    "    for i in range(image.shape[1]):\n",
    "        I_x.append([i,np.sum(image[:,i])])\n",
    "\n",
    "    I_x=np.array(I_x)\n",
    "\n",
    "    I_y=[]\n",
    "    for i in range(image.shape[0]):\n",
    "        I_y.append([i,np.sum(image[i])])\n",
    "\n",
    "    I_y=np.array(I_y)\n",
    "\n",
    "\n",
    "    x_center=(np.sum(I_x[:,0]*I_x[:,1])/np.sum(I_x[:,1]))\n",
    "    y_center=(np.sum(I_y[:,0]*I_y[:,1])/np.sum(I_y[:,1]))\n",
    "\n",
    "    return(x_center,y_center)\n",
    "\n",
    "def create_mask_100(FFTTest_fiber_and_pixel_convolved_downsampled_40,semi=None,central_cut_size=None):\n",
    "    \n",
    "    if central_cut_size is None:\n",
    "        central_cut_size=6\n",
    "            \n",
    "    central_position=np.array(find_centroid_of_flux(FFTTest_fiber_and_pixel_convolved_downsampled_40))\n",
    "    central_position_int=np.round(central_position)\n",
    "    central_position_int_x=int(central_position_int[0])\n",
    "    central_position_int_y=int(central_position_int[1])\n",
    "    \n",
    "    size=FFTTest_fiber_and_pixel_convolved_downsampled_40.shape[0]\n",
    "    \n",
    "    center_square=np.zeros((size,size))\n",
    "    center_square[central_position_int_y-central_cut_size:+central_position_int_y+central_cut_size,central_position_int_x-central_cut_size:central_position_int_x+central_cut_size]=np.ones((int(2*central_cut_size),int(2*central_cut_size)))\n",
    "\n",
    "    horizontal_cross=np.zeros((size,size))\n",
    "    horizontal_cross[central_position_int_y-central_cut_size:central_position_int_y+central_cut_size,0:size,]=np.ones((int(2*central_cut_size),size))\n",
    "    horizontal_cross_full=horizontal_cross\n",
    "    horizontal_cross=horizontal_cross-center_square\n",
    "\n",
    "    vertical_cross=np.zeros((size,size))\n",
    "    if semi is None:\n",
    "        vertical_cross[0:size,central_position_int_x-central_cut_size:central_position_int_x+central_cut_size]=np.ones((size,int(2*central_cut_size)))\n",
    "        vertical_cross=vertical_cross-center_square\n",
    "    if semi=='+':\n",
    "        vertical_cross[central_position_int_y+central_cut_size:size,central_position_int_x-central_cut_size:central_position_int_x+central_cut_size]=np.ones((size-central_position_int_y-central_cut_size,int(2*central_cut_size)))\n",
    "    if semi=='-':\n",
    "        vertical_cross[0:central_position_int_y-central_cut_size,central_position_int_x-central_cut_size:central_position_int_x+central_cut_size]=np.ones((central_position_int_y-central_cut_size,int(2*central_cut_size)))\n",
    "    vertical_cross_full=vertical_cross\n",
    "\n",
    "\n",
    "    diagonal_cross=np.zeros((size,size))\n",
    "    if semi is None:\n",
    "        diagonal_cross[0:central_position_int_y-int(1.35*central_cut_size),0:central_position_int_x-int(1.35*central_cut_size)]=np.ones((central_position_int_y-int(1.35*central_cut_size),central_position_int_x-int(1.35*central_cut_size)))\n",
    "        diagonal_cross[(central_position_int_y+int(1.35*central_cut_size)):size,0:(central_position_int_x-int(1.35*central_cut_size))]=np.ones((size-(central_position_int_y+int(1.35*central_cut_size)),(central_position_int_x-int(1.35*central_cut_size))))\n",
    "        diagonal_cross[0:(central_position_int_y-int(1.35*central_cut_size)),(central_position_int_x+int(1.35*central_cut_size)):size]=np.ones(((central_position_int_y-int(1.35*central_cut_size)),size-(central_position_int_x+int(1.35*central_cut_size))))\n",
    "        diagonal_cross[(central_position_int_y+int(1.35*central_cut_size)):size,(central_position_int_x+int(1.35*central_cut_size)):size]=np.ones((size-(central_position_int_y+int(1.35*central_cut_size)),size-(central_position_int_x+int(1.35*central_cut_size))))\n",
    "    if semi=='+':\n",
    "        diagonal_cross[(central_position_int_y+int(1.35*central_cut_size)):size,0:(central_position_int_x-int(1.35*central_cut_size))]=np.ones((size-(central_position_int_y+8),(central_position_int_x-int(1.35*central_cut_size))))\n",
    "        diagonal_cross[(central_position_int_y+int(1.35*central_cut_size)):size,(central_position_int_x+int(1.35*central_cut_size)):size]=np.ones((size-(central_position_int_y+8),size-(central_position_int_x+int(1.35*central_cut_size))))\n",
    "    if semi=='-':\n",
    "        diagonal_cross[0:central_position_int_y-int(1.35*central_cut_size),0:central_position_int_x-int(1.35*central_cut_size)]=np.ones((central_position_int_y-int(1.35*central_cut_size),central_position_int_x-int(1.35*central_cut_size)))\n",
    "        diagonal_cross[0:(central_position_int_y-int(1.35*central_cut_size)),(central_position_int_x+int(1.35*central_cut_size)):size]=np.ones(((central_position_int_y-int(1.35*central_cut_size)),size-(central_position_int_x+int(1.35*central_cut_size))))\n",
    "\n",
    "\n",
    "    total_mask=np.zeros((size,size))\n",
    "    if semi is None:\n",
    "        total_mask=np.ones((size,size))\n",
    "    if semi=='+':\n",
    "        total_mask[(central_position_int_y):size,0:size]=np.ones((size-(central_position_int_y),size))\n",
    "    if semi=='-':\n",
    "        total_mask[:(central_position_int_y),0:size]=np.ones(((central_position_int_y),size))\n",
    "    if semi=='r':\n",
    "        total_mask[:(central_position_int_y),0:size]=np.ones(((central_position_int_y),size))  \n",
    "    if semi=='l':\n",
    "        total_mask[:(central_position_int_y),0:size]=np.ones(((central_position_int_y),size))   \n",
    "        \n",
    "    return [center_square,horizontal_cross,vertical_cross,diagonal_cross,total_mask]"
   ]
  },
  {
   "cell_type": "markdown",
   "metadata": {},
   "source": [
    "## single object"
   ]
  },
  {
   "cell_type": "code",
   "execution_count": null,
   "metadata": {
    "ExecuteTime": {
     "end_time": "2018-08-15T15:29:32.272007Z",
     "start_time": "2018-08-15T15:29:22.726Z"
    },
    "collapsed": true
   },
   "outputs": [],
   "source": [
    "distances=range(180)\n",
    "image_index=55\n",
    "sci_image_dithered_pp=np.load(\"/Users/nevencaplar/Documents/PFS/2017-12-15-Rerun/Stamps_long/sci\"+str(8600)+str(image_index)+'Stacked_Dithered.npy') \n",
    "\n",
    "list_of_masks=create_mask_100(sci_image_dithered_pp)\n",
    "horizontal_cross=list_of_masks[1]\n",
    "vertical_cross=list_of_masks[2]\n",
    "diagonal_cross=list_of_masks[3]\n",
    "center_square=list_of_masks[0]\n",
    "\n",
    "res_55=create_res_data(sci_image_dithered_pp,None,1)\n",
    "res_55_horizontal_cross=create_res_data(sci_image_dithered_pp,horizontal_cross,1)\n",
    "res_55_vertical_cross=create_res_data(sci_image_dithered_pp,vertical_cross,1)\n",
    "res_55_diagonal_cross=create_res_data(sci_image_dithered_pp,diagonal_cross,1)\n",
    "res_55_center_square=create_res_data(sci_image_dithered_pp,center_square,1)\n",
    "\n",
    "optPsf_dithered=optPsf_cut_fiber_convolved_downsampled\n",
    "optPsf_dithered_55=create_res_data(optPsf_dithered,None,1)\n",
    "optPsf_dithered_55_horizontal_cross=create_res_data(optPsf_dithered,horizontal_cross,1)\n",
    "optPsf_dithered_55_vertical_cross=create_res_data(optPsf_dithered,vertical_cross,1)\n",
    "optPsf_dithered_55_diagonal_cross=create_res_data(optPsf_dithered,diagonal_cross,1)\n",
    "optPsf_dithered_55_center_square=create_res_data(optPsf_dithered,center_square,1)"
   ]
  },
  {
   "cell_type": "code",
   "execution_count": null,
   "metadata": {
    "ExecuteTime": {
     "end_time": "2018-08-15T15:29:32.274174Z",
     "start_time": "2018-08-15T15:29:22.729Z"
    }
   },
   "outputs": [],
   "source": [
    "plt.figure(figsize=(20,12))\n",
    "#plt.plot(distances,np.log10(res_55),color='black',label='spot 55 ',lw=4)\n",
    "plt.plot(distances,np.log10(res_55_horizontal_cross),color='orange',label='spot 55, horizontal',lw=4)\n",
    "plt.plot(distances,np.log10(res_55_vertical_cross),color='red',label='spot 55, vertical',lw=4)\n",
    "plt.plot(distances,np.log10(res_55_diagonal_cross),color='cyan',label='spot 55, diagonal',lw=4)\n",
    "plt.plot(distances,np.log10(res_55_center_square),color='blue',label='spot 55, center',lw=4)\n",
    "\n",
    "#plt.plot(distances,np.log10(zemax_55),color='black',label='zemax 55 ',lw=2,linestyle='--')\n",
    "plt.plot(distances,np.log10(optPsf_dithered_55_horizontal_cross),color='orange',label='my code 55, horizontal',lw=2,linestyle='--')\n",
    "plt.plot(distances,np.log10(optPsf_dithered_55_vertical_cross),color='red',label='my code  55, vertical',lw=2,linestyle='--')\n",
    "plt.plot(distances,np.log10(optPsf_dithered_55_diagonal_cross),color='cyan',label='my code 55, diagonal',lw=2,linestyle='--')\n",
    "plt.plot(distances,np.log10(optPsf_dithered_55_center_square),color='blue',label='my code  55, center',lw=2,linestyle='--')\n",
    "\n",
    "plt.xlabel('distance from center in micrometers')\n",
    "plt.ylabel('log10(counts in a single pixel [7.5x7.5 microns])')\n",
    "plt.ylim(0.5,4.5)\n",
    "plt.legend(fontsize=22)\n",
    "plt.title('normalized')"
   ]
  },
  {
   "cell_type": "markdown",
   "metadata": {
    "collapsed": true,
    "heading_collapsed": true
   },
   "source": [
    "## getting ready for cluster - testing"
   ]
  },
  {
   "cell_type": "code",
   "execution_count": null,
   "metadata": {
    "ExecuteTime": {
     "end_time": "2018-08-15T15:29:32.276347Z",
     "start_time": "2018-08-15T15:29:22.732Z"
    },
    "hidden": true
   },
   "outputs": [],
   "source": [
    "allparameters_proposal=np.array([z4Input,0.09,0.02,-0.1,0.0,0.1,0.02,0.2,\n",
    "                                 0.65,0.1,0.0,0.0,0.08,0.0,\n",
    "                                 0.7,2,\n",
    "                                 -0.2,0.00,0.99,0.0,\n",
    "                                 9000,20,2.5,10**-1.2,\n",
    "                                 0.47,1.0])\n",
    "\n",
    "nT=4\n",
    "parInit1=create_parInit(allparameters_proposal)\n",
    "parInit2=create_parInit(allparameters_proposal)\n",
    "parInit3=create_parInit(allparameters_proposal)\n",
    "parInit4=create_parInit(allparameters_proposal)\n",
    "parInitnT=np.array([parInit1,parInit2,parInit3,parInit4])"
   ]
  },
  {
   "cell_type": "code",
   "execution_count": null,
   "metadata": {
    "collapsed": true,
    "hidden": true
   },
   "outputs": [],
   "source": []
  },
  {
   "cell_type": "markdown",
   "metadata": {},
   "source": [
    "## making test scripts"
   ]
  },
  {
   "cell_type": "code",
   "execution_count": 30,
   "metadata": {
    "ExecuteTime": {
     "end_time": "2018-08-15T19:14:12.135201Z",
     "start_time": "2018-08-15T19:14:12.118928Z"
    },
    "collapsed": true
   },
   "outputs": [],
   "source": [
    "for obs in [8564,8567,8570,8573,8600,8606,8609,8612,8615]:\n",
    "    for single_spot in [55]:\n",
    "        file = open('/Users/nevencaplar/Documents/PFS/TigerAnalysis/ScriptsForTiger/Test_Perseus'+str(obs)+'Spot'+str(single_spot)+'AugObs_P.sh','w') \n",
    "\n",
    "        file.write(\"#!/bin/bash \\n\")\n",
    "        file.write(\"#SBATCH --nodes=9 # node count \\n\")\n",
    "        file.write(\"#SBATCH --ntasks-per-node=24 \\n\") \n",
    "        file.write(\"#SBATCH --time 14:59:00 \\n\")\n",
    "        file.write(\"#SBATCH --mail-type=begin  \\n\")\n",
    "        file.write(\"#SBATCH --mail-type=end   \\n\") \n",
    "        file.write(\"#SBATCH --mail-user=ncaplar@princeton.edu \\n\")\n",
    "        \n",
    "        file.write(\"\\n\")\n",
    "        file.write(\"#1. Observation (e.g., 8567) \\n\") \n",
    "        file.write(\"#2. Threads \\n\") \n",
    "        file.write(\"#3. Steps \\n\") \n",
    "        file.write(\"\\n\")\n",
    "\n",
    "        file.write(\"mpirun python /home/ncaplar/Code/ZernikeSingle_11_Mix_P_Aug.py \"+str(obs)+\" \"+str(single_spot)+\" 10 1\\n\")\n",
    "        file.close()"
   ]
  },
  {
   "cell_type": "code",
   "execution_count": 33,
   "metadata": {
    "ExecuteTime": {
     "end_time": "2018-08-15T19:16:27.560129Z",
     "start_time": "2018-08-15T19:16:27.553444Z"
    }
   },
   "outputs": [],
   "source": [
    "file = open('/Users/nevencaplar/Documents/PFS/TigerAnalysis/ScriptsForTiger/AugustScriptToSubmitScriptsPerseus'+'.sh','w')\n",
    "file.write(\"#!/bin/bash \\n\")\n",
    "file.write(\"\\n\")\n",
    "for obs in [8600,8606,8615]:\n",
    "    for single_spot in [55]:\n",
    "        file.write('sbatch /home/ncaplar/Scripts/Test_Perseus'+str(obs)+'Spot'+str(single_spot)+'AugObs_P.sh \\n')\n",
    "\n",
    "file.close()"
   ]
  },
  {
   "cell_type": "markdown",
   "metadata": {
    "ExecuteTime": {
     "end_time": "2018-08-15T19:07:26.182137Z",
     "start_time": "2018-08-15T19:07:26.174830Z"
    }
   },
   "source": [
    "## analyzing test run"
   ]
  },
  {
   "cell_type": "code",
   "execution_count": 21,
   "metadata": {
    "ExecuteTime": {
     "end_time": "2018-08-15T20:10:51.115222Z",
     "start_time": "2018-08-15T20:10:51.001754Z"
    }
   },
   "outputs": [
    {
     "name": "stdout",
     "output_type": "stream",
     "text": [
      "(260, 10, 26)\n",
      "(260, 10, 26)\n",
      "(260, 20, 26)\n"
     ]
    }
   ],
   "source": [
    "columns=['z4','z5','z6','z7','z8','z9','z10','z11',\n",
    "                      'hscFrac','strutFrac','dxFocal','dyFocal','slitFrac','slitFrac_dy',\n",
    "                      'radiometricEffect','radiometricExponent',\n",
    "                      'x_ilum','y_ilum','minorAxis','pupilAngle',\n",
    "                      'grating_lines','scattering_radius','scattering_slope','scattering_amplitude',\n",
    "                      'pixel_effect','flux']  \n",
    "\n",
    "method='P'\n",
    "obs='8615'\n",
    "date='Aug15'\n",
    "eps=1\n",
    "single_number='55'\n",
    "image_index=55\n",
    "\n",
    "if obs=='8600':\n",
    "    sci_image=np.load(\"/Users/nevencaplar/Documents/PFS/TigerAnalysis/CutsForTigerAug15/sci\"+str(obs)+str(image_index)+'Stacked_Cleaned_Dithered.npy')\n",
    "    var_image=np.load(\"/Users/nevencaplar/Documents/PFS/TigerAnalysis/CutsForTigerAug15/var\"+str(obs)+str(image_index)+'Stacked_Dithered.npy')\n",
    "else:       \n",
    "    sci_image=np.load(\"/Users/nevencaplar/Documents/PFS/TigerAnalysis/CutsForTigerAug15/sci\"+str(obs)+str(image_index)+'Stacked_Cleaned.npy')\n",
    "    var_image=np.load(\"/Users/nevencaplar/Documents/PFS/TigerAnalysis/CutsForTigerAug15/var\"+str(obs)+str(image_index)+'Stacked.npy')\n",
    "\n",
    "\n",
    "\n",
    "RESULT_FOLDER='/Users/nevencaplar/Documents/PFS/TigerAnalysis/ResultsFromTiger/Aug15/'\n",
    "\n",
    "# This is for August15 run\n",
    "####################################\n",
    "#chain 1\n",
    "####################################\n",
    "chain_Emcee1=np.load(RESULT_FOLDER+'chain'+date+'_Single_'+str(method)+'_'+str(obs)+str(single_number)+str(eps)+'Emcee1.npy')\n",
    "likechain_Emcee1=np.load(RESULT_FOLDER+'likechain'+date+'_Single_'+str(method)+'_'+str(obs)+str(single_number)+str(eps)+'Emcee1.npy')\n",
    "\n",
    "# get chain number 0, which is has lowest temperature\n",
    "likechain0_Emcee1=likechain_Emcee1[0]\n",
    "chain0_Emcee1=chain_Emcee1[0]\n",
    "# check the shape of the chain (number of walkers, number of steps, number of parameters)\n",
    "print(chain0_Emcee1.shape)\n",
    "\n",
    "####################################\n",
    "#chain 2\n",
    "####################################\n",
    "chain_Emcee2=np.load(RESULT_FOLDER+'chain'+date+'_Single_'+str(method)+'_'+str(obs)+str(single_number)+str(eps)+'Emcee2.npy')\n",
    "likechain_Emcee2=np.load(RESULT_FOLDER+'likechain'+date+'_Single_'+str(method)+'_'+str(obs)+str(single_number)+str(eps)+'Emcee2.npy')\n",
    "\n",
    "# get chain number 0, which is has lowest temperature\n",
    "likechain0_Emcee2=likechain_Emcee2[0]\n",
    "chain0_Emcee2=chain_Emcee2[0]\n",
    "# check the shape of the chain (number of walkers, number of steps, number of parameters)\n",
    "chain0_Emcee2.shape\n",
    "\n",
    "chain_Emcee2=np.load(RESULT_FOLDER+'chain'+date+'_Single_'+str(method)+'_'+str(obs)+str(single_number)+str(eps)+'Emcee2.npy')\n",
    "likechain_Emcee2=np.load(RESULT_FOLDER+'likechain'+date+'_Single_'+str(method)+'_'+str(obs)+str(single_number)+str(eps)+'Emcee2.npy')\n",
    "\n",
    "# get chain number 0, which is has lowest temperature\n",
    "likechain0_Emcee2=likechain_Emcee2[0]\n",
    "chain0_Emcee2=chain_Emcee2[0]\n",
    "# check the shape of the chain (number of walkers, number of steps, number of parameters)\n",
    "print(chain0_Emcee2.shape)\n",
    "\n",
    "####################################\n",
    "#chain 3\n",
    "####################################\n",
    "chain_Emcee3=np.load(RESULT_FOLDER+'chain'+date+'_Single_'+str(method)+'_'+str(obs)+str(single_number)+str(eps)+'Emcee2.npy')\n",
    "likechain_Emcee3=np.load(RESULT_FOLDER+'likechain'+date+'_Single_'+str(method)+'_'+str(obs)+str(single_number)+str(eps)+'Emcee2.npy')\n",
    "\n",
    "# get chain number 0, which is has lowest temperature\n",
    "likechain0_Emcee3=likechain_Emcee3[0]\n",
    "chain0_Emcee3=chain_Emcee3[0]\n",
    "# check the shape of the chain (number of walkers, number of steps, number of parameters)\n",
    "chain0_Emcee3.shape\n",
    "\n",
    "chain_Emcee3=np.load(RESULT_FOLDER+'chain'+date+'_Single_'+str(method)+'_'+str(obs)+str(single_number)+str(eps)+'Emcee3.npy')\n",
    "likechain_Emcee3=np.load(RESULT_FOLDER+'likechain'+date+'_Single_'+str(method)+'_'+str(obs)+str(single_number)+str(eps)+'Emcee3.npy')\n",
    "\n",
    "# get chain number 0, which is has lowest temperature\n",
    "likechain0_Emcee3=likechain_Emcee3[0]\n",
    "chain0_Emcee3=chain_Emcee3[0]\n",
    "# check the shape of the chain (number of walkers, number of steps, number of parameters)\n",
    "print(chain0_Emcee3.shape)\n"
   ]
  },
  {
   "cell_type": "code",
   "execution_count": 22,
   "metadata": {
    "ExecuteTime": {
     "end_time": "2018-08-15T20:10:52.159252Z",
     "start_time": "2018-08-15T20:10:52.152251Z"
    }
   },
   "outputs": [
    {
     "data": {
      "text/plain": [
       "13722.306054419885"
      ]
     },
     "execution_count": 22,
     "metadata": {},
     "output_type": "execute_result"
    }
   ],
   "source": [
    "# minimal value of absolute likelihood\n",
    "np.min(np.abs(likechain0_Emcee3))"
   ]
  },
  {
   "cell_type": "code",
   "execution_count": 24,
   "metadata": {
    "ExecuteTime": {
     "end_time": "2018-08-15T20:10:59.381510Z",
     "start_time": "2018-08-15T20:10:59.346584Z"
    }
   },
   "outputs": [
    {
     "name": "stdout",
     "output_type": "stream",
     "text": [
      "[   -16.50606443     -0.0679086       0.40323188     -0.11156629\n",
      "     -0.31938677     -0.08015925     -0.19248356     -0.27833116\n",
      "      0.71320999      0.09732131     -0.0149267       0.02958832\n",
      "      0.05338593      0.07345508      0.61837389      2.39938781\n",
      "      0.06075449      0.02716831      0.99111871      0.27042571\n",
      "  45594.63689485     55.38796807      2.28200189      0.04965618\n",
      "      0.63224565      1.03792212]\n",
      "          z4        z5        z6        z7        z8        z9       z10  \\\n",
      "0 -16.506064 -0.067909  0.403232 -0.111566 -0.319387 -0.080159 -0.192484   \n",
      "\n",
      "        z11  \n",
      "0 -0.278331  \n",
      "   hscFrac  strutFrac   dxFocal   dyFocal  slitFrac  slitFrac_dy  \\\n",
      "0  0.71321   0.097321 -0.014927  0.029588  0.053386     0.073455   \n",
      "\n",
      "   radiometricEffect  radiometricExponent    x_ilum    y_ilum  minorAxis  \\\n",
      "0           0.618374             2.399388  0.060754  0.027168   0.991119   \n",
      "\n",
      "   pupilAngle  grating_lines  scattering_radius  scattering_slope  \\\n",
      "0    0.270426   45594.636895          55.387968          2.282002   \n",
      "\n",
      "   scattering_amplitude  pixel_effect      flux  \n",
      "0              0.049656      0.632246  1.037922  \n"
     ]
    }
   ],
   "source": [
    "# see the best chain, in numpy and pandas form\n",
    "minchain=chain0_Emcee3[np.abs(likechain0_Emcee3)==np.min(np.abs(likechain0_Emcee3))][0]\n",
    "minchain31=minchain\n",
    "print(minchain)\n",
    "dfz22 = pd.DataFrame(np.array([np.array([minchain])[0][0:8]]),columns=columns[0:8])\n",
    "print(dfz22)\n",
    "dfglobal = pd.DataFrame(np.array([np.array([minchain])[0][8:]]),columns=columns[8:])\n",
    "print(dfglobal)"
   ]
  },
  {
   "cell_type": "code",
   "execution_count": 25,
   "metadata": {
    "ExecuteTime": {
     "end_time": "2018-08-15T20:10:59.399912Z",
     "start_time": "2018-08-15T20:10:59.385522Z"
    }
   },
   "outputs": [
    {
     "name": "stdout",
     "output_type": "stream",
     "text": [
      "minimal likelihood is: 13722.3060544\n",
      "minimal chi2 reduced is: 30.4768541592\n"
     ]
    }
   ],
   "source": [
    "like_min=[]\n",
    "for i in range(likechain0_Emcee1.shape[1]):\n",
    "    like_min.append(np.min(np.abs(likechain0_Emcee1[:,i])))\n",
    "\n",
    "for i in range(likechain0_Emcee2.shape[1]):\n",
    "    like_min.append(np.min(np.abs(likechain0_Emcee2[:,i])))    \n",
    "\n",
    "for i in range(likechain0_Emcee3.shape[1]):\n",
    "    like_min.append(np.min(np.abs(likechain0_Emcee3[:,i]))  )  \n",
    "    \n",
    "print('minimal likelihood is: '+str(np.min(like_min)))   \n",
    "chi2=(np.array(like_min)*(2)-np.log(2*np.pi*np.sum(var_image)))/(sci_image.shape[0])**2\n",
    "print('minimal chi2 reduced is: '+str(np.min(chi2)))"
   ]
  },
  {
   "cell_type": "code",
   "execution_count": 26,
   "metadata": {
    "ExecuteTime": {
     "end_time": "2018-08-15T20:10:59.974745Z",
     "start_time": "2018-08-15T20:10:59.403398Z"
    }
   },
   "outputs": [
    {
     "data": {
      "text/plain": [
       "<matplotlib.text.Text at 0x121828190>"
      ]
     },
     "execution_count": 26,
     "metadata": {},
     "output_type": "execute_result"
    },
    {
     "data": {
      "image/png": "[encoded data removed]",
      "text/plain": [
       "<matplotlib.figure.Figure at 0x1c349c6790>"
      ]
     },
     "metadata": {},
     "output_type": "display_data"
    }
   ],
   "source": [
    "plt.figure(figsize=(20,20))\n",
    "plt.subplot(211)\n",
    "plt.plot(np.linspace(0,len(like_min),len(like_min)),like_min,'blue',ls='-')\n",
    "plt.ylabel('chi2 reduced')\n",
    "plt.xlabel('steps')\n",
    "plt.subplot(212)\n",
    "plt.plot(np.linspace(0,len(like_min),len(like_min)),np.log10(like_min),'blue',ls='-')\n",
    "plt.ylabel('log10(chi2 reduced)')\n",
    "plt.xlabel('steps')"
   ]
  },
  {
   "cell_type": "code",
   "execution_count": 27,
   "metadata": {
    "ExecuteTime": {
     "end_time": "2018-08-15T20:10:59.989861Z",
     "start_time": "2018-08-15T20:10:59.977260Z"
    }
   },
   "outputs": [],
   "source": [
    "zparameters=minchain[0:8]\n",
    "globalparameters=minchain[8:]\n",
    "\n",
    "\n",
    "if obs=='8600':\n",
    "    model = LN_PFS_single(sci_image,var_image,dithering=2)\n",
    "else:\n",
    "    model = LN_PFS_single(sci_image,var_image,dithering=1)   \n",
    "\n",
    "x=LN_PFS_single(sci_image,var_image).create_x(zparameters,globalparameters)"
   ]
  },
  {
   "cell_type": "code",
   "execution_count": 28,
   "metadata": {
    "ExecuteTime": {
     "end_time": "2018-08-15T20:11:03.758584Z",
     "start_time": "2018-08-15T20:10:59.993454Z"
    },
    "scrolled": false
   },
   "outputs": [
    {
     "name": "stdout",
     "output_type": "stream",
     "text": [
      "oversampling of optPSF is: 40.0271421218\n",
      "oversampling of optPsf_downsampled is: 10\n"
     ]
    },
    {
     "data": {
      "text/plain": [
       "-13722.306054419932"
      ]
     },
     "execution_count": 28,
     "metadata": {},
     "output_type": "execute_result"
    }
   ],
   "source": [
    "model(x)"
   ]
  },
  {
   "cell_type": "code",
   "execution_count": 29,
   "metadata": {
    "ExecuteTime": {
     "end_time": "2018-08-15T20:11:04.405044Z",
     "start_time": "2018-08-15T20:11:03.762155Z"
    }
   },
   "outputs": [
    {
     "data": {
      "text/plain": [
       "<matplotlib.colorbar.Colorbar at 0x1c35a83050>"
      ]
     },
     "execution_count": 29,
     "metadata": {},
     "output_type": "execute_result"
    },
    {
     "data": {
      "image/png": "[encoded data removed]",
      "text/plain": [
       "<matplotlib.figure.Figure at 0x1c33f9bed0>"
      ]
     },
     "metadata": {},
     "output_type": "display_data"
    }
   ],
   "source": [
    "optPsf=np.load(TESTING_FINAL_IMAGES_FOLDER+'optPsf.npy')\n",
    "optPsf_downsampled=np.load(TESTING_FINAL_IMAGES_FOLDER+'optPsf_downsampled.npy')\n",
    "optPsf_fiber_convolved=np.load(TESTING_FINAL_IMAGES_FOLDER+'optPsf_fiber_convolved.npy')\n",
    "\n",
    "optPsf_downsampled_scattered=np.load(TESTING_FINAL_IMAGES_FOLDER+'optPsf_downsampled_scattered.npy')\n",
    "\n",
    "optPsf_cut_fiber_convolved=np.load(TESTING_FINAL_IMAGES_FOLDER+'optPsf_cut_fiber_convolved.npy')\n",
    "optPsf_cut_pixel_response_convolved=np.load(TESTING_FINAL_IMAGES_FOLDER+'optPsf_cut_pixel_response_convolved.npy')\n",
    "optPsf_cut_grating_convolved=np.load(TESTING_FINAL_IMAGES_FOLDER+'optPsf_cut_grating_convolved.npy')\n",
    "optPsf_cut_fiber_convolved_downsampled=np.load(TESTING_FINAL_IMAGES_FOLDER+'optPsf_cut_fiber_convolved_downsampled.npy')\n",
    "\n",
    "plt.imshow(optPsf_cut_fiber_convolved_downsampled,norm=LogNorm(),vmax=np.max(optPsf_cut_fiber_convolved_downsampled),vmin=1)\n",
    "plt.colorbar()"
   ]
  },
  {
   "cell_type": "code",
   "execution_count": 30,
   "metadata": {
    "ExecuteTime": {
     "end_time": "2018-08-15T20:11:05.448237Z",
     "start_time": "2018-08-15T20:11:04.408341Z"
    }
   },
   "outputs": [
    {
     "name": "stdout",
     "output_type": "stream",
     "text": [
      "chi**2 reduced is: 30.4768541876\n",
      "Abs of residual divided by total flux is: 0.11189335973\n",
      "Abs of residual divided by largest value of a flux in the image is: 0.221215977412\n"
     ]
    },
    {
     "data": {
      "image/png": "[encoded data removed]",
      "text/plain": [
       "<matplotlib.figure.Figure at 0x1c354589d0>"
      ]
     },
     "metadata": {},
     "output_type": "display_data"
    }
   ],
   "source": [
    "res_iapetus=optPsf_cut_fiber_convolved_downsampled\n",
    "inputimage=sci_image\n",
    "var_inputimage=var_image\n",
    "\n",
    "\n",
    "plt.figure(figsize=(20,20))\n",
    "plt.subplot(221)\n",
    "plt.imshow(res_iapetus,origin='lower',vmax=np.max(np.abs(inputimage)))\n",
    "plt.colorbar()\n",
    "plt.title('Model')\n",
    "plt.grid(False)\n",
    "plt.subplot(222)\n",
    "plt.imshow(inputimage,origin='lower',vmax=np.max(np.abs(inputimage)))\n",
    "plt.colorbar()\n",
    "plt.title('Data')\n",
    "plt.grid(False)\n",
    "plt.subplot(223)\n",
    "plt.imshow(res_iapetus-inputimage,origin='lower',cmap='bwr',vmin=-np.max(np.abs(inputimage))/20,vmax=np.max(np.abs(inputimage))/20)\n",
    "plt.colorbar()\n",
    "plt.title('Residual')\n",
    "plt.grid(False)\n",
    "plt.subplot(224)\n",
    "plt.imshow((res_iapetus-inputimage)/np.sqrt(var_inputimage),origin='lower',cmap='bwr',vmax=np.max(np.abs((res_iapetus-inputimage)/np.sqrt(var_inputimage))),vmin=-np.max(np.abs((res_iapetus-inputimage)/np.sqrt(var_inputimage))))\n",
    "plt.colorbar()\n",
    "plt.title('chi map')\n",
    "print('chi**2 reduced is: '+str(np.sum((res_iapetus-inputimage)**2/((var_inputimage.shape[0]*var_inputimage.shape[1])*var_inputimage))))\n",
    "print('Abs of residual divided by total flux is: '+str(np.sum(np.abs((res_iapetus-inputimage)))/np.sum((res_iapetus))))\n",
    "print('Abs of residual divided by largest value of a flux in the image is: '+str(np.max(np.abs((res_iapetus-inputimage)/np.max(res_iapetus)))))"
   ]
  },
  {
   "cell_type": "markdown",
   "metadata": {},
   "source": [
    "# Analysis "
   ]
  },
  {
   "cell_type": "code",
   "execution_count": 39,
   "metadata": {
    "ExecuteTime": {
     "end_time": "2018-08-15T20:21:22.867919Z",
     "start_time": "2018-08-15T20:21:22.810518Z"
    },
    "collapsed": true
   },
   "outputs": [],
   "source": [
    "for single_spot in [55]:\n",
    "    file = open('/Users/nevencaplar/Documents/PFS/TigerAnalysis/ScriptsForTiger/Perseus'+str(1)+'Spot'+str(single_spot)+'AugObs_P.sh','w') \n",
    "    \n",
    "    file.write(\"#!/bin/bash \\n\")\n",
    "    file.write(\"#SBATCH --nodes=9 # node count \\n\")\n",
    "    file.write(\"#SBATCH --ntasks-per-node=24 \\n\") \n",
    "    file.write(\"#SBATCH --time 14:59:00 \\n\")\n",
    "    file.write(\"#SBATCH --mail-type=begin  \\n\")\n",
    "    file.write(\"#SBATCH --mail-type=end   \\n\") \n",
    "    file.write(\"#SBATCH --mail-user=ncaplar@princeton.edu \\n\")\n",
    "\n",
    "    file.write(\"\\n\")\n",
    "    file.write(\"#1. Observation (e.g., 8567) \\n\") \n",
    "    file.write(\"#2. Threads \\n\") \n",
    "    file.write(\"#3. Steps \\n\") \n",
    "    file.write(\"\\n\")\n",
    "\n",
    "    for obs in [8564,8615,8612]:\n",
    "\n",
    "        file.write(\"mpirun python /home/ncaplar/Code/ZernikeSingle_11_Mix_P_Aug.py \"+str(obs)+\" \"+str(single_spot)+\" 175 1\\n\")\n",
    "    file.close()\n",
    "    \n",
    "for single_spot in [55]:\n",
    "    file = open('/Users/nevencaplar/Documents/PFS/TigerAnalysis/ScriptsForTiger/Perseus'+str(2)+'Spot'+str(single_spot)+'AugObs_P.sh','w') \n",
    "    \n",
    "    file.write(\"#!/bin/bash \\n\")\n",
    "    file.write(\"#SBATCH --nodes=9 # node count \\n\")\n",
    "    file.write(\"#SBATCH --ntasks-per-node=24 \\n\") \n",
    "    file.write(\"#SBATCH --time 14:59:00 \\n\")\n",
    "    file.write(\"#SBATCH --mail-type=begin  \\n\")\n",
    "    file.write(\"#SBATCH --mail-type=end   \\n\") \n",
    "    file.write(\"#SBATCH --mail-user=ncaplar@princeton.edu \\n\")\n",
    "\n",
    "    file.write(\"\\n\")\n",
    "    file.write(\"#1. Observation (e.g., 8567) \\n\") \n",
    "    file.write(\"#2. Threads \\n\") \n",
    "    file.write(\"#3. Steps \\n\") \n",
    "    file.write(\"\\n\")\n",
    "\n",
    "    for obs in [8600,8573,8606]:\n",
    "\n",
    "        file.write(\"mpirun python /home/ncaplar/Code/ZernikeSingle_11_Mix_P_Aug.py \"+str(obs)+\" \"+str(single_spot)+\" 175 1\\n\")\n",
    "    file.close()\n",
    "    \n",
    "for single_spot in [55]:\n",
    "    file = open('/Users/nevencaplar/Documents/PFS/TigerAnalysis/ScriptsForTiger/Perseus'+str(3)+'Spot'+str(single_spot)+'AugObs_P.sh','w') \n",
    "    \n",
    "    file.write(\"#!/bin/bash \\n\")\n",
    "    file.write(\"#SBATCH --nodes=9 # node count \\n\")\n",
    "    file.write(\"#SBATCH --ntasks-per-node=24 \\n\") \n",
    "    file.write(\"#SBATCH --time 14:59:00 \\n\")\n",
    "    file.write(\"#SBATCH --mail-type=begin  \\n\")\n",
    "    file.write(\"#SBATCH --mail-type=end   \\n\") \n",
    "    file.write(\"#SBATCH --mail-user=ncaplar@princeton.edu \\n\")\n",
    "\n",
    "    file.write(\"\\n\")\n",
    "    file.write(\"#1. Observation (e.g., 8567) \\n\") \n",
    "    file.write(\"#2. Threads \\n\") \n",
    "    file.write(\"#3. Steps \\n\") \n",
    "    file.write(\"\\n\")\n",
    "\n",
    "    for obs in [8570,8609,8567]:\n",
    "\n",
    "        file.write(\"mpirun python /home/ncaplar/Code/ZernikeSingle_11_Mix_P_Aug.py \"+str(obs)+\" \"+str(single_spot)+\" 175 1\\n\")\n",
    "    file.close()    \n",
    "    \n",
    "    "
   ]
  },
  {
   "cell_type": "code",
   "execution_count": 40,
   "metadata": {
    "ExecuteTime": {
     "end_time": "2018-08-15T20:22:05.887703Z",
     "start_time": "2018-08-15T20:22:05.880787Z"
    },
    "collapsed": true
   },
   "outputs": [],
   "source": [
    "file = open('/Users/nevencaplar/Documents/PFS/TigerAnalysis/ScriptsForTiger/AugustScriptToSubmitScriptsPerseus'+'.sh','w')\n",
    "file.write(\"#!/bin/bash \\n\")\n",
    "file.write(\"\\n\")\n",
    "for obs in [1,2,3]:\n",
    "    for single_spot in [55]:\n",
    "        file.write('sbatch /home/ncaplar/Scripts/Perseus'+str(obs)+'Spot'+str(single_spot)+'AugObs_P.sh \\n')\n",
    "\n",
    "file.close()"
   ]
  },
  {
   "cell_type": "code",
   "execution_count": null,
   "metadata": {
    "collapsed": true
   },
   "outputs": [],
   "source": [
    "inputimage"
   ]
  }
 ],
 "metadata": {
  "kernelspec": {
   "display_name": "Python 2",
   "language": "python",
   "name": "python2"
  },
  "language_info": {
   "codemirror_mode": {
    "name": "ipython",
    "version": 2
   },
   "file_extension": ".py",
   "mimetype": "text/x-python",
   "name": "python",
   "nbconvert_exporter": "python",
   "pygments_lexer": "ipython2",
   "version": "2.7.14"
  },
  "toc": {
   "base_numbering": 1,
   "nav_menu": {},
   "number_sections": true,
   "sideBar": true,
   "skip_h1_title": false,
   "title_cell": "Table of Contents",
   "title_sidebar": "Contents",
   "toc_cell": false,
   "toc_position": {},
   "toc_section_display": true,
   "toc_window_display": false
  }
 },
 "nbformat": 4,
 "nbformat_minor": 2
}
