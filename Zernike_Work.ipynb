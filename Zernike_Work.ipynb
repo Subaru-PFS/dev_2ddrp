{
 "cells": [
  {
   "cell_type": "code",
   "execution_count": 1,
   "metadata": {
    "ExecuteTime": {
     "end_time": "2018-08-15T20:08:58.920332Z",
     "start_time": "2018-08-15T20:08:58.907506Z"
    },
    "collapsed": true
   },
   "outputs": [],
   "source": [
    "#!/usr/bin/env python2\n",
    "# -*- coding: utf-8 -*-\n",
    "\"\"\"\n",
    "Created on August 13 2018\n",
    "@author: ncaplar@princeton.edu\n",
    "\n",
    "These comments are theoretically the only ones you need to read to run the notebook\n",
    "\n",
    "1. Specify the directory in which you want to run the analysis below (PSF_DIRECTORY)\n",
    "2. Name and place the data in DATA_FOLDER. The data is avaliable at https://github.com/nevencaplar/PFS_Work_In_Progress/tree/master/CutsForTigerMay2\n",
    "3. TESTING_FOLDER will be filled during the run with images from the analysis analysis\n",
    "\n",
    "4. (OPTIONAL)Next cell contains some extensions that I use that make life much easier when using jupyter notebook \n",
    "    Without them this notebook becomes reallllly huge and hard to deal with\n",
    "    These can be downloaded from https://github.com/ipython-contrib/jupyter_contrib_nbextensions\n",
    "\n",
    "\"\"\"\n",
    "############################################################\n",
    "# name your directory where you want to have files!\n",
    "PSF_DIRECTORY='/Users/nevencaplar/Documents/PFS/'\n",
    "# place cutouts in this folder - name as you wish\n",
    "DATA_FOLDER=PSF_DIRECTORY+'TigerAnalysis/CutsForTigerMay2/'\n",
    "############################################################\n",
    "    \n",
    "\n",
    "TESTING_FOLDER=PSF_DIRECTORY+'Testing/'\n",
    "TESTING_PUPIL_IMAGES_FOLDER=TESTING_FOLDER+'Pupil_Images/'\n",
    "TESTING_WAVEFRONT_IMAGES_FOLDER=TESTING_FOLDER+'Wavefront_Images/'\n",
    "TESTING_FINAL_IMAGES_FOLDER=TESTING_FOLDER+'Final_Images/'\n",
    "import os\n",
    "\n",
    "for i in [PSF_DIRECTORY,DATA_FOLDER,TESTING_PUPIL_IMAGES_FOLDER,TESTING_WAVEFRONT_IMAGES_FOLDER,TESTING_FINAL_IMAGES_FOLDER]:\n",
    "    if not os.path.exists(i):\n",
    "        os.makedirs(i)    \n",
    "    "
   ]
  },
  {
   "cell_type": "code",
   "execution_count": 2,
   "metadata": {
    "ExecuteTime": {
     "end_time": "2018-08-15T20:08:58.939605Z",
     "start_time": "2018-08-15T20:08:58.922890Z"
    }
   },
   "outputs": [
    {
     "data": {
      "application/javascript": [
       "try {\n",
       "  require(['base/js/utils'], function (utils) {\n",
       "    utils.load_extension('code_prettify/code_prettify');\n",
       "    utils.load_extension('collapsible_headings/main'); \n",
       "    utils.load_extension('codefolding/edit'); \n",
       "    utils.load_extension('codefolding/main'); \n",
       "    utils.load_extension('execute_time/ExecuteTime');   \n",
       "    utils.load_extension('toc2/main'); \n",
       "  });\n",
       "}\n",
       "catch (err) {\n",
       "  console.log('toc2 load error:', err);\n",
       "}"
      ],
      "text/plain": [
       "<IPython.core.display.Javascript object>"
      ]
     },
     "metadata": {},
     "output_type": "display_data"
    }
   ],
   "source": [
    "%%javascript\n",
    "try {\n",
    "  require(['base/js/utils'], function (utils) {\n",
    "    utils.load_extension('code_prettify/code_prettify');\n",
    "    utils.load_extension('collapsible_headings/main'); \n",
    "    utils.load_extension('codefolding/edit'); \n",
    "    utils.load_extension('codefolding/main'); \n",
    "    utils.load_extension('execute_time/ExecuteTime');   \n",
    "    utils.load_extension('toc2/main'); \n",
    "  });\n",
    "}\n",
    "catch (err) {\n",
    "  console.log('toc2 load error:', err);\n",
    "}"
   ]
  },
  {
   "cell_type": "code",
   "execution_count": 3,
   "metadata": {
    "ExecuteTime": {
     "end_time": "2018-08-15T20:08:58.948996Z",
     "start_time": "2018-08-15T20:08:58.942445Z"
    }
   },
   "outputs": [
    {
     "data": {
      "text/html": [
       "<style>.container { width:100% !important; }</style>"
      ],
      "text/plain": [
       "<IPython.core.display.HTML object>"
      ]
     },
     "metadata": {},
     "output_type": "display_data"
    }
   ],
   "source": [
    "# make notebook nice and wide to fill the entire screen\n",
    "from IPython.core.display import display, HTML\n",
    "display(HTML(\"<style>.container { width:100% !important; }</style>\"))"
   ]
  },
  {
   "cell_type": "code",
   "execution_count": 4,
   "metadata": {
    "ExecuteTime": {
     "end_time": "2018-08-15T20:09:07.956007Z",
     "start_time": "2018-08-15T20:08:58.952237Z"
    },
    "collapsed": true
   },
   "outputs": [],
   "source": [
    "import Zernike_Module\n",
    "from Zernike_Module import LNP_PFS,LN_PFS_single,create_parInit"
   ]
  },
  {
   "cell_type": "code",
   "execution_count": 5,
   "metadata": {
    "ExecuteTime": {
     "end_time": "2018-08-15T20:09:08.011874Z",
     "start_time": "2018-08-15T20:09:07.962498Z"
    },
    "collapsed": true
   },
   "outputs": [],
   "source": [
    "#general import statments\n",
    "from __future__ import absolute_import, division, print_function\n",
    "import galsim\n",
    "import numpy as np\n",
    "np.set_printoptions(suppress=True)\n",
    "np.seterr(divide='ignore', invalid='ignore')\n",
    "import pandas as pd\n",
    "import io\n",
    "import math\n",
    "\n",
    "#tqdm is not necesarry, it is the monitor evaluation of the 'for' loops\n",
    "from tqdm import tqdm\n",
    "\n",
    "# lsst stack\n",
    "#import lsst.afw\n",
    "from lsst.afw.cameraGeom import PupilFactory\n",
    "from lsst.afw.geom import Angle, degrees\n",
    "#from lsst.afw import geom\n",
    "from lsst.afw.geom import Point2D\n",
    "\n",
    "# astropy\n",
    "import astropy\n",
    "import astropy.convolution\n",
    "from astropy.convolution import Gaussian2DKernel\n",
    "\n",
    "# scipy and skimage\n",
    "#from scipy.ndimage import gaussian_filter\n",
    "import scipy.misc\n",
    "import skimage.transform\n",
    "\n",
    "#lmfit\n",
    "import lmfit\n",
    "\n",
    "#matplotlib\n",
    "import matplotlib\n",
    "import matplotlib.pyplot as plt\n",
    "from matplotlib.colors import LogNorm\n",
    "matplotlib.rcParams.update({'font.size': 22})\n",
    "%config InlineBackend.rc = {}\n",
    "%matplotlib inline"
   ]
  },
  {
   "cell_type": "code",
   "execution_count": 42,
   "metadata": {
    "ExecuteTime": {
     "end_time": "2018-08-15T20:43:22.290302Z",
     "start_time": "2018-08-15T20:43:22.216581Z"
    }
   },
   "outputs": [],
   "source": [
    "#specify number of observation which you want to analyze\n",
    "obs='8600'\n",
    "#specify single number which specifies which spot you want to anallyze - values are from 0 to 100, '55' is in the center of the detector \n",
    "single_number='55'\n",
    "#load scientific and variance image\n",
    "#sci_image =np.load(DATA_FOLDER+'sci'+str(obs)+str(single_number)+'Stacked.npy')\n",
    "#var_image =np.load(DATA_FOLDER+'var'+str(obs)+str(single_number)+'Stacked.npy')\n",
    "\n",
    "image_index=55\n",
    "if obs=='8600':\n",
    "    sci_image=np.load(\"/Users/nevencaplar/Documents/PFS/TigerAnalysis/CutsForTigerAug15/sci\"+str(obs)+str(image_index)+'Stacked_Cleaned_Dithered.npy')\n",
    "    var_image=np.load(\"/Users/nevencaplar/Documents/PFS/TigerAnalysis/CutsForTigerAug15/var\"+str(obs)+str(image_index)+'Stacked_Dithered.npy')\n",
    "else:       \n",
    "    sci_image=np.load(\"/Users/nevencaplar/Documents/PFS/TigerAnalysis/CutsForTigerAug15/sci\"+str(obs)+str(image_index)+'Stacked_Cleaned.npy')\n",
    "    var_image=np.load(\"/Users/nevencaplar/Documents/PFS/TigerAnalysis/CutsForTigerAug15/var\"+str(obs)+str(image_index)+'Stacked.npy')\n",
    "\n",
    "\n",
    "\n",
    "obs_int=int(obs)\n",
    "obs_possibilites=np.array([8564,8567,8570,8573,8603,8600,8606,8609,8612,8615])\n",
    "z4Input_possibilites=np.array([14,10.5,7,3.5,0,0,-3.5,-7,-10.5,-14])\n",
    "z4Input=z4Input_possibilites[obs_possibilites==obs_int][0]\n",
    "\n",
    "columns=['z4','z5','z6','z7','z8','z9','z10','z11',\n",
    "                      'hscFrac','strutFrac','dxFocal','dyFocal','slitFrac','slitFrac_dy',\n",
    "                      'radiometricEffect','radiometricExponent',\n",
    "                      'x_ilum','y_ilum','minorAxis','pupilAngle',\n",
    "                      'grating_lines','scattering_radius','scattering_slope','scattering_amplitude',\n",
    "                      'pixel_effect','flux']  \n",
    "\"\"\"\n",
    "@param z4                     defocus parameter - if you give the observations number it will automaticly adjust but you can also pass the value manually below\n",
    "@param z5-z11                 Zernike coefficents, following Noel convention\n",
    "\n",
    "@param hscFrac                controls the size of the central obscuration (name is relic of the code when it was used for Hyper Suprime cam project)\n",
    "@param hscFrac                controls the size of the struts\n",
    "@param dxFocal, dyFocal       positions of central obscuraiton, i.e., where on detector is the spot\n",
    "@param slitFrac               size of the slit \n",
    "@param slitFrac_dy            position of the slit \n",
    "\n",
    "@param radiometricEffect      parameter describing non-uniform illumination of the pupil (1-params['radiometricEffect']**2*r**2)**(params['radiometricExponent'])\n",
    "@param radiometricExponent    parameter describing non-uniform illumination of the pupil (1-params['radiometricEffect']**2*r**2)**(params['radiometricExponent'])\n",
    "\n",
    "@param x_ilum, y_ilum         positions of the centrer of the nonuniform illumination\n",
    "@param minorAxis,pupilAngle   describing ellipse if the exit puppil is not circle\n",
    "\n",
    "@param grating_lines          how many effective lines does the grating has\n",
    "@param scattering_radius      minimal radius to which extended the scattering\n",
    "@param scattering_slope       slope of scattering\n",
    "@param scattering_amplitude   amplitude of scattering compared to optical PSF\n",
    "\n",
    "@param pixel_effect           parameters describing charge-diffusion effect, modelled with Gaussian with sigma=pixel_effect\n",
    "@param flux                   total number of counts in the modelled image compared to the data (probably around 1)\n",
    "\"\"\"\n",
    "\n",
    "allparameters_proposal=np.array([z4Input,0.09,0.02,-0.1,0.0,0.1,0.02,0.2,\n",
    "                                 0.65,0.1,0.0,0.0,0.08,0.0,\n",
    "                                 0.7,2,\n",
    "                                 -0.2,0.00,0.99,0.0,\n",
    "                                 50000,50,2.5,10**-1.2,\n",
    "                                 0.47,1.0])\n",
    "\n",
    "#This is part of the code that I use to create starting point for the parallel tempering code when searching for best fit values on the cluster\n",
    "nT=4\n",
    "parInit1=create_parInit(allparameters_proposal)\n",
    "parInit2=create_parInit(allparameters_proposal)\n",
    "parInit3=create_parInit(allparameters_proposal)\n",
    "parInit4=create_parInit(allparameters_proposal)\n",
    "parInitnT=np.array([parInit1,parInit2,parInit3,parInit4])\n",
    "\n",
    "if obs=='8600':\n",
    "    model = LN_PFS_single(sci_image,var_image,dithering=2)\n",
    "else:\n",
    "    model = LN_PFS_single(sci_image,var_image,dithering=1)   \n",
    "\n",
    "modelP =LNP_PFS(sci_image,var_image)"
   ]
  },
  {
   "cell_type": "code",
   "execution_count": 43,
   "metadata": {
    "ExecuteTime": {
     "end_time": "2018-08-15T20:43:24.452458Z",
     "start_time": "2018-08-15T20:43:24.443910Z"
    }
   },
   "outputs": [
    {
     "data": {
      "text/plain": [
       "array([     0.        ,      0.09      ,      0.02      ,     -0.1       ,\n",
       "            0.        ,      0.1       ,      0.02      ,      0.2       ,\n",
       "            0.65      ,      0.1       ,      0.        ,      0.        ,\n",
       "            0.08      ,      0.        ,      0.7       ,      2.        ,\n",
       "           -0.2       ,      0.        ,      0.99      ,      0.        ,\n",
       "        50000.        ,     50.        ,      2.5       ,      0.06309573,\n",
       "            0.47      ,      1.        ])"
      ]
     },
     "execution_count": 43,
     "metadata": {},
     "output_type": "execute_result"
    }
   ],
   "source": [
    "allparameters_proposal"
   ]
  },
  {
   "cell_type": "code",
   "execution_count": 44,
   "metadata": {
    "ExecuteTime": {
     "end_time": "2018-08-15T20:43:34.116925Z",
     "start_time": "2018-08-15T20:43:33.955263Z"
    }
   },
   "outputs": [
    {
     "data": {
      "text/plain": [
       "<matplotlib.image.AxesImage at 0x1c33190350>"
      ]
     },
     "execution_count": 44,
     "metadata": {},
     "output_type": "execute_result"
    },
    {
     "data": {
      "image/png": "[encoded data removed]",
      "text/plain": [
       "<matplotlib.figure.Figure at 0x1c33124090>"
      ]
     },
     "metadata": {},
     "output_type": "display_data"
    }
   ],
   "source": [
    "plt.imshow(sci_image,norm=LogNorm())"
   ]
  },
  {
   "cell_type": "code",
   "execution_count": 47,
   "metadata": {
    "ExecuteTime": {
     "end_time": "2018-08-15T20:45:32.185767Z",
     "start_time": "2018-08-15T20:45:26.066044Z"
    },
    "scrolled": false
   },
   "outputs": [
    {
     "name": "stdout",
     "output_type": "stream",
     "text": [
      "oversampling of optPSF is: 20.0135710609\n",
      "oversampling of optPsf_downsampled is: 5\n",
      " "
     ]
    }
   ],
   "source": [
    "%prun model(allparameters_proposal)"
   ]
  },
  {
   "cell_type": "code",
   "execution_count": 46,
   "metadata": {
    "ExecuteTime": {
     "end_time": "2018-08-15T20:43:41.870477Z",
     "start_time": "2018-08-15T20:43:41.023694Z"
    }
   },
   "outputs": [
    {
     "data": {
      "text/plain": [
       "<matplotlib.colorbar.Colorbar at 0x1c31445fd0>"
      ]
     },
     "execution_count": 46,
     "metadata": {},
     "output_type": "execute_result"
    },
    {
     "data": {
      "image/png": "[encoded data removed]",
      "text/plain": [
       "<matplotlib.figure.Figure at 0x1c331ae510>"
      ]
     },
     "metadata": {},
     "output_type": "display_data"
    }
   ],
   "source": [
    "optPsf=np.load(TESTING_FINAL_IMAGES_FOLDER+'optPsf.npy')\n",
    "optPsf_downsampled=np.load(TESTING_FINAL_IMAGES_FOLDER+'optPsf_downsampled.npy')\n",
    "optPsf_fiber_convolved=np.load(TESTING_FINAL_IMAGES_FOLDER+'optPsf_fiber_convolved.npy')\n",
    "\n",
    "optPsf_downsampled_scattered=np.load(TESTING_FINAL_IMAGES_FOLDER+'optPsf_downsampled_scattered.npy')\n",
    "\n",
    "optPsf_cut_fiber_convolved=np.load(TESTING_FINAL_IMAGES_FOLDER+'optPsf_cut_fiber_convolved.npy')\n",
    "optPsf_cut_pixel_response_convolved=np.load(TESTING_FINAL_IMAGES_FOLDER+'optPsf_cut_pixel_response_convolved.npy')\n",
    "optPsf_cut_grating_convolved=np.load(TESTING_FINAL_IMAGES_FOLDER+'optPsf_cut_grating_convolved.npy')\n",
    "optPsf_cut_fiber_convolved_downsampled=np.load(TESTING_FINAL_IMAGES_FOLDER+'optPsf_cut_fiber_convolved_downsampled.npy')\n",
    "\n",
    "plt.imshow(optPsf_cut_fiber_convolved_downsampled,norm=LogNorm(),vmax=np.max(optPsf_cut_fiber_convolved_downsampled),vmin=1)\n",
    "plt.colorbar()"
   ]
  },
  {
   "cell_type": "markdown",
   "metadata": {},
   "source": [
    "# Preliminary analysis"
   ]
  },
  {
   "cell_type": "markdown",
   "metadata": {},
   "source": [
    "## some functions I still need -deprecated"
   ]
  },
  {
   "cell_type": "code",
   "execution_count": 423,
   "metadata": {
    "ExecuteTime": {
     "end_time": "2018-08-16T18:38:14.202006Z",
     "start_time": "2018-08-16T18:38:13.989348Z"
    },
    "code_folding": [],
    "collapsed": true
   },
   "outputs": [],
   "source": [
    "def create_res_data(FFTTest_fiber_and_pixel_convolved_downsampled_40,mask=None,custom_cent=None,size_pixel=None):\n",
    "    \n",
    "    if size_pixel is None:\n",
    "        size_pixel=7.5\n",
    "    \n",
    "    image_shape=np.array(FFTTest_fiber_and_pixel_convolved_downsampled_40.shape)\n",
    "    if custom_cent is None:\n",
    "        xs0=0\n",
    "        ys0=0\n",
    "    else:\n",
    "\n",
    "        xs0=(find_centroid_of_flux(FFTTest_fiber_and_pixel_convolved_downsampled_40)[0]-int(image_shape[0]/2))*size_pixel\n",
    "        ys0=(find_centroid_of_flux(FFTTest_fiber_and_pixel_convolved_downsampled_40)[1]-int(image_shape[0]/2))*size_pixel\n",
    "    pointsx = np.linspace(-(int(image_shape[0]*size_pixel)-size_pixel)/2,(int(image_shape[0]*size_pixel)-size_pixel)/2,num=int(image_shape[0]))\n",
    "    pointsy = np.linspace(-(int(image_shape[0]*size_pixel)-size_pixel)/2,(int(image_shape[0]*size_pixel)-size_pixel)/2,num=int(image_shape[0]))\n",
    "    xs, ys = np.meshgrid(pointsx, pointsy)\n",
    "    r0 = np.sqrt((xs-xs0)** 2 + (ys-ys0)** 2)\n",
    "    \n",
    "    if mask is None:\n",
    "        mask=np.ones((FFTTest_fiber_and_pixel_convolved_downsampled_40.shape[0],FFTTest_fiber_and_pixel_convolved_downsampled_40.shape[1]))\n",
    "    \n",
    "    distances=range(int(image_shape[0]/2*size_pixel*1.2))\n",
    "\n",
    "    res_test_data=[]\n",
    "    for r in distances:\n",
    "        pixels_upper_limit=(mask*FFTTest_fiber_and_pixel_convolved_downsampled_40)[r0<(r+size_pixel)]\n",
    "        pixels_lower_limit=(mask*FFTTest_fiber_and_pixel_convolved_downsampled_40)[r0<(r)]\n",
    "        \n",
    "        mask_upper_limit=mask[r0<(r+size_pixel)]\n",
    "        mask_lower_limit=mask[r0<(r)]\n",
    "        \n",
    "        number_of_valid_pixels=np.sum(mask_upper_limit)-np.sum(mask_lower_limit)\n",
    "        \n",
    "        if number_of_valid_pixels==0:\n",
    "            res_test_data.append(0)\n",
    "        else:                  \n",
    "            average_flux=(np.sum(pixels_upper_limit)-np.sum(pixels_lower_limit))/number_of_valid_pixels\n",
    "            res_test_data.append(average_flux)        \n",
    "\n",
    "    return res_test_data \n",
    "\n",
    "def find_centroid_of_flux(image):\n",
    "    x_center=[]\n",
    "    y_center=[]\n",
    "\n",
    "    I_x=[]\n",
    "    for i in range(image.shape[1]):\n",
    "        I_x.append([i,np.sum(image[:,i])])\n",
    "\n",
    "    I_x=np.array(I_x)\n",
    "\n",
    "    I_y=[]\n",
    "    for i in range(image.shape[0]):\n",
    "        I_y.append([i,np.sum(image[i])])\n",
    "\n",
    "    I_y=np.array(I_y)\n",
    "\n",
    "\n",
    "    x_center=(np.sum(I_x[:,0]*I_x[:,1])/np.sum(I_x[:,1]))\n",
    "    y_center=(np.sum(I_y[:,0]*I_y[:,1])/np.sum(I_y[:,1]))\n",
    "\n",
    "    return(x_center,y_center)\n",
    "\n",
    "def create_mask_100(FFTTest_fiber_and_pixel_convolved_downsampled_40,semi=None,central_cut_size=None):\n",
    "    \n",
    "    if central_cut_size is None:\n",
    "        central_cut_size=6\n",
    "            \n",
    "    central_position=np.array(find_centroid_of_flux(FFTTest_fiber_and_pixel_convolved_downsampled_40))\n",
    "    central_position_int=np.round(central_position)\n",
    "    central_position_int_x=int(central_position_int[0])\n",
    "    central_position_int_y=int(central_position_int[1])\n",
    "    \n",
    "    size=FFTTest_fiber_and_pixel_convolved_downsampled_40.shape[0]\n",
    "    \n",
    "    center_square=np.zeros((size,size))\n",
    "    center_square[central_position_int_y-central_cut_size:+central_position_int_y+central_cut_size,central_position_int_x-central_cut_size:central_position_int_x+central_cut_size]=np.ones((int(2*central_cut_size),int(2*central_cut_size)))\n",
    "\n",
    "    horizontal_cross=np.zeros((size,size))\n",
    "    horizontal_cross[central_position_int_y-central_cut_size:central_position_int_y+central_cut_size,0:size,]=np.ones((int(2*central_cut_size),size))\n",
    "    horizontal_cross_full=horizontal_cross\n",
    "    horizontal_cross=horizontal_cross-center_square\n",
    "\n",
    "    vertical_cross=np.zeros((size,size))\n",
    "    if semi is None:\n",
    "        vertical_cross[0:size,central_position_int_x-central_cut_size:central_position_int_x+central_cut_size]=np.ones((size,int(2*central_cut_size)))\n",
    "        vertical_cross=vertical_cross-center_square\n",
    "    if semi=='+':\n",
    "        vertical_cross[central_position_int_y+central_cut_size:size,central_position_int_x-central_cut_size:central_position_int_x+central_cut_size]=np.ones((size-central_position_int_y-central_cut_size,int(2*central_cut_size)))\n",
    "    if semi=='-':\n",
    "        vertical_cross[0:central_position_int_y-central_cut_size,central_position_int_x-central_cut_size:central_position_int_x+central_cut_size]=np.ones((central_position_int_y-central_cut_size,int(2*central_cut_size)))\n",
    "    vertical_cross_full=vertical_cross\n",
    "\n",
    "\n",
    "    diagonal_cross=np.zeros((size,size))\n",
    "    if semi is None:\n",
    "        diagonal_cross[0:central_position_int_y-int(1.35*central_cut_size),0:central_position_int_x-int(1.35*central_cut_size)]=np.ones((central_position_int_y-int(1.35*central_cut_size),central_position_int_x-int(1.35*central_cut_size)))\n",
    "        diagonal_cross[(central_position_int_y+int(1.35*central_cut_size)):size,0:(central_position_int_x-int(1.35*central_cut_size))]=np.ones((size-(central_position_int_y+int(1.35*central_cut_size)),(central_position_int_x-int(1.35*central_cut_size))))\n",
    "        diagonal_cross[0:(central_position_int_y-int(1.35*central_cut_size)),(central_position_int_x+int(1.35*central_cut_size)):size]=np.ones(((central_position_int_y-int(1.35*central_cut_size)),size-(central_position_int_x+int(1.35*central_cut_size))))\n",
    "        diagonal_cross[(central_position_int_y+int(1.35*central_cut_size)):size,(central_position_int_x+int(1.35*central_cut_size)):size]=np.ones((size-(central_position_int_y+int(1.35*central_cut_size)),size-(central_position_int_x+int(1.35*central_cut_size))))\n",
    "    if semi=='+':\n",
    "        diagonal_cross[(central_position_int_y+int(1.35*central_cut_size)):size,0:(central_position_int_x-int(1.35*central_cut_size))]=np.ones((size-(central_position_int_y+8),(central_position_int_x-int(1.35*central_cut_size))))\n",
    "        diagonal_cross[(central_position_int_y+int(1.35*central_cut_size)):size,(central_position_int_x+int(1.35*central_cut_size)):size]=np.ones((size-(central_position_int_y+8),size-(central_position_int_x+int(1.35*central_cut_size))))\n",
    "    if semi=='-':\n",
    "        diagonal_cross[0:central_position_int_y-int(1.35*central_cut_size),0:central_position_int_x-int(1.35*central_cut_size)]=np.ones((central_position_int_y-int(1.35*central_cut_size),central_position_int_x-int(1.35*central_cut_size)))\n",
    "        diagonal_cross[0:(central_position_int_y-int(1.35*central_cut_size)),(central_position_int_x+int(1.35*central_cut_size)):size]=np.ones(((central_position_int_y-int(1.35*central_cut_size)),size-(central_position_int_x+int(1.35*central_cut_size))))\n",
    "\n",
    "\n",
    "    total_mask=np.zeros((size,size))\n",
    "    if semi is None:\n",
    "        total_mask=np.ones((size,size))\n",
    "    if semi=='+':\n",
    "        total_mask[(central_position_int_y):size,0:size]=np.ones((size-(central_position_int_y),size))\n",
    "    if semi=='-':\n",
    "        total_mask[:(central_position_int_y),0:size]=np.ones(((central_position_int_y),size))\n",
    "    if semi=='r':\n",
    "        total_mask[:(central_position_int_y),0:size]=np.ones(((central_position_int_y),size))  \n",
    "    if semi=='l':\n",
    "        total_mask[:(central_position_int_y),0:size]=np.ones(((central_position_int_y),size))   \n",
    "        \n",
    "    return [center_square,horizontal_cross,vertical_cross,diagonal_cross,total_mask]"
   ]
  },
  {
   "cell_type": "markdown",
   "metadata": {},
   "source": [
    "## single object"
   ]
  },
  {
   "cell_type": "code",
   "execution_count": null,
   "metadata": {
    "ExecuteTime": {
     "end_time": "2018-08-15T15:29:32.272007Z",
     "start_time": "2018-08-15T15:29:22.726Z"
    },
    "collapsed": true
   },
   "outputs": [],
   "source": [
    "distances=range(180)\n",
    "image_index=55\n",
    "sci_image_dithered_pp=np.load(\"/Users/nevencaplar/Documents/PFS/2017-12-15-Rerun/Stamps_long/sci\"+str(8600)+str(image_index)+'Stacked_Dithered.npy') \n",
    "\n",
    "list_of_masks=create_mask_100(sci_image_dithered_pp)\n",
    "horizontal_cross=list_of_masks[1]\n",
    "vertical_cross=list_of_masks[2]\n",
    "diagonal_cross=list_of_masks[3]\n",
    "center_square=list_of_masks[0]\n",
    "\n",
    "res_55=create_res_data(sci_image_dithered_pp,None,1)\n",
    "res_55_horizontal_cross=create_res_data(sci_image_dithered_pp,horizontal_cross,1)\n",
    "res_55_vertical_cross=create_res_data(sci_image_dithered_pp,vertical_cross,1)\n",
    "res_55_diagonal_cross=create_res_data(sci_image_dithered_pp,diagonal_cross,1)\n",
    "res_55_center_square=create_res_data(sci_image_dithered_pp,center_square,1)\n",
    "\n",
    "optPsf_dithered=optPsf_cut_fiber_convolved_downsampled\n",
    "optPsf_dithered_55=create_res_data(optPsf_dithered,None,1)\n",
    "optPsf_dithered_55_horizontal_cross=create_res_data(optPsf_dithered,horizontal_cross,1)\n",
    "optPsf_dithered_55_vertical_cross=create_res_data(optPsf_dithered,vertical_cross,1)\n",
    "optPsf_dithered_55_diagonal_cross=create_res_data(optPsf_dithered,diagonal_cross,1)\n",
    "optPsf_dithered_55_center_square=create_res_data(optPsf_dithered,center_square,1)"
   ]
  },
  {
   "cell_type": "code",
   "execution_count": null,
   "metadata": {
    "ExecuteTime": {
     "end_time": "2018-08-15T15:29:32.274174Z",
     "start_time": "2018-08-15T15:29:22.729Z"
    }
   },
   "outputs": [],
   "source": [
    "plt.figure(figsize=(20,12))\n",
    "#plt.plot(distances,np.log10(res_55),color='black',label='spot 55 ',lw=4)\n",
    "plt.plot(distances,np.log10(res_55_horizontal_cross),color='orange',label='spot 55, horizontal',lw=4)\n",
    "plt.plot(distances,np.log10(res_55_vertical_cross),color='red',label='spot 55, vertical',lw=4)\n",
    "plt.plot(distances,np.log10(res_55_diagonal_cross),color='cyan',label='spot 55, diagonal',lw=4)\n",
    "plt.plot(distances,np.log10(res_55_center_square),color='blue',label='spot 55, center',lw=4)\n",
    "\n",
    "#plt.plot(distances,np.log10(zemax_55),color='black',label='zemax 55 ',lw=2,linestyle='--')\n",
    "plt.plot(distances,np.log10(optPsf_dithered_55_horizontal_cross),color='orange',label='my code 55, horizontal',lw=2,linestyle='--')\n",
    "plt.plot(distances,np.log10(optPsf_dithered_55_vertical_cross),color='red',label='my code  55, vertical',lw=2,linestyle='--')\n",
    "plt.plot(distances,np.log10(optPsf_dithered_55_diagonal_cross),color='cyan',label='my code 55, diagonal',lw=2,linestyle='--')\n",
    "plt.plot(distances,np.log10(optPsf_dithered_55_center_square),color='blue',label='my code  55, center',lw=2,linestyle='--')\n",
    "\n",
    "plt.xlabel('distance from center in micrometers')\n",
    "plt.ylabel('log10(counts in a single pixel [7.5x7.5 microns])')\n",
    "plt.ylim(0.5,4.5)\n",
    "plt.legend(fontsize=22)\n",
    "plt.title('normalized')"
   ]
  },
  {
   "cell_type": "markdown",
   "metadata": {
    "collapsed": true,
    "heading_collapsed": true
   },
   "source": [
    "## getting ready for cluster - testing"
   ]
  },
  {
   "cell_type": "code",
   "execution_count": null,
   "metadata": {
    "ExecuteTime": {
     "end_time": "2018-08-15T15:29:32.276347Z",
     "start_time": "2018-08-15T15:29:22.732Z"
    },
    "hidden": true
   },
   "outputs": [],
   "source": [
    "allparameters_proposal=np.array([z4Input,0.09,0.02,-0.1,0.0,0.1,0.02,0.2,\n",
    "                                 0.65,0.1,0.0,0.0,0.08,0.0,\n",
    "                                 0.7,2,\n",
    "                                 -0.2,0.00,0.99,0.0,\n",
    "                                 9000,20,2.5,10**-1.2,\n",
    "                                 0.47,1.0])\n",
    "\n",
    "nT=4\n",
    "parInit1=create_parInit(allparameters_proposal)\n",
    "parInit2=create_parInit(allparameters_proposal)\n",
    "parInit3=create_parInit(allparameters_proposal)\n",
    "parInit4=create_parInit(allparameters_proposal)\n",
    "parInitnT=np.array([parInit1,parInit2,parInit3,parInit4])"
   ]
  },
  {
   "cell_type": "code",
   "execution_count": null,
   "metadata": {
    "collapsed": true,
    "hidden": true
   },
   "outputs": [],
   "source": []
  },
  {
   "cell_type": "markdown",
   "metadata": {},
   "source": [
    "## making test scripts"
   ]
  },
  {
   "cell_type": "code",
   "execution_count": 30,
   "metadata": {
    "ExecuteTime": {
     "end_time": "2018-08-15T19:14:12.135201Z",
     "start_time": "2018-08-15T19:14:12.118928Z"
    },
    "collapsed": true
   },
   "outputs": [],
   "source": [
    "for obs in [8564,8567,8570,8573,8600,8606,8609,8612,8615]:\n",
    "    for single_spot in [55]:\n",
    "        file = open('/Users/nevencaplar/Documents/PFS/TigerAnalysis/ScriptsForTiger/Test_Perseus'+str(obs)+'Spot'+str(single_spot)+'AugObs_P.sh','w') \n",
    "\n",
    "        file.write(\"#!/bin/bash \\n\")\n",
    "        file.write(\"#SBATCH --nodes=9 # node count \\n\")\n",
    "        file.write(\"#SBATCH --ntasks-per-node=24 \\n\") \n",
    "        file.write(\"#SBATCH --time 14:59:00 \\n\")\n",
    "        file.write(\"#SBATCH --mail-type=begin  \\n\")\n",
    "        file.write(\"#SBATCH --mail-type=end   \\n\") \n",
    "        file.write(\"#SBATCH --mail-user=ncaplar@princeton.edu \\n\")\n",
    "        \n",
    "        file.write(\"\\n\")\n",
    "        file.write(\"#1. Observation (e.g., 8567) \\n\") \n",
    "        file.write(\"#2. Threads \\n\") \n",
    "        file.write(\"#3. Steps \\n\") \n",
    "        file.write(\"\\n\")\n",
    "\n",
    "        file.write(\"mpirun python /home/ncaplar/Code/ZernikeSingle_11_Mix_P_Aug.py \"+str(obs)+\" \"+str(single_spot)+\" 10 1\\n\")\n",
    "        file.close()"
   ]
  },
  {
   "cell_type": "code",
   "execution_count": 33,
   "metadata": {
    "ExecuteTime": {
     "end_time": "2018-08-15T19:16:27.560129Z",
     "start_time": "2018-08-15T19:16:27.553444Z"
    }
   },
   "outputs": [],
   "source": [
    "file = open('/Users/nevencaplar/Documents/PFS/TigerAnalysis/ScriptsForTiger/AugustScriptToSubmitScriptsPerseus'+'.sh','w')\n",
    "file.write(\"#!/bin/bash \\n\")\n",
    "file.write(\"\\n\")\n",
    "for obs in [8600,8606,8615]:\n",
    "    for single_spot in [55]:\n",
    "        file.write('sbatch /home/ncaplar/Scripts/Test_Perseus'+str(obs)+'Spot'+str(single_spot)+'AugObs_P.sh \\n')\n",
    "\n",
    "file.close()"
   ]
  },
  {
   "cell_type": "markdown",
   "metadata": {
    "ExecuteTime": {
     "end_time": "2018-08-15T19:07:26.182137Z",
     "start_time": "2018-08-15T19:07:26.174830Z"
    }
   },
   "source": [
    "## analyzing test run"
   ]
  },
  {
   "cell_type": "code",
   "execution_count": 21,
   "metadata": {
    "ExecuteTime": {
     "end_time": "2018-08-15T20:10:51.115222Z",
     "start_time": "2018-08-15T20:10:51.001754Z"
    }
   },
   "outputs": [
    {
     "name": "stdout",
     "output_type": "stream",
     "text": [
      "(260, 10, 26)\n",
      "(260, 10, 26)\n",
      "(260, 20, 26)\n"
     ]
    }
   ],
   "source": [
    "columns=['z4','z5','z6','z7','z8','z9','z10','z11',\n",
    "                      'hscFrac','strutFrac','dxFocal','dyFocal','slitFrac','slitFrac_dy',\n",
    "                      'radiometricEffect','radiometricExponent',\n",
    "                      'x_ilum','y_ilum','minorAxis','pupilAngle',\n",
    "                      'grating_lines','scattering_radius','scattering_slope','scattering_amplitude',\n",
    "                      'pixel_effect','flux']  \n",
    "\n",
    "method='P'\n",
    "obs='8615'\n",
    "date='Aug15'\n",
    "eps=1\n",
    "single_number='55'\n",
    "image_index=55\n",
    "\n",
    "if obs=='8600':\n",
    "    sci_image=np.load(\"/Users/nevencaplar/Documents/PFS/TigerAnalysis/CutsForTigerAug15/sci\"+str(obs)+str(image_index)+'Stacked_Cleaned_Dithered.npy')\n",
    "    var_image=np.load(\"/Users/nevencaplar/Documents/PFS/TigerAnalysis/CutsForTigerAug15/var\"+str(obs)+str(image_index)+'Stacked_Dithered.npy')\n",
    "else:       \n",
    "    sci_image=np.load(\"/Users/nevencaplar/Documents/PFS/TigerAnalysis/CutsForTigerAug15/sci\"+str(obs)+str(image_index)+'Stacked_Cleaned.npy')\n",
    "    var_image=np.load(\"/Users/nevencaplar/Documents/PFS/TigerAnalysis/CutsForTigerAug15/var\"+str(obs)+str(image_index)+'Stacked.npy')\n",
    "\n",
    "\n",
    "\n",
    "RESULT_FOLDER='/Users/nevencaplar/Documents/PFS/TigerAnalysis/ResultsFromTiger/Aug15/'\n",
    "\n",
    "# This is for August15 run\n",
    "####################################\n",
    "#chain 1\n",
    "####################################\n",
    "chain_Emcee1=np.load(RESULT_FOLDER+'chain'+date+'_Single_'+str(method)+'_'+str(obs)+str(single_number)+str(eps)+'Emcee1.npy')\n",
    "likechain_Emcee1=np.load(RESULT_FOLDER+'likechain'+date+'_Single_'+str(method)+'_'+str(obs)+str(single_number)+str(eps)+'Emcee1.npy')\n",
    "\n",
    "# get chain number 0, which is has lowest temperature\n",
    "likechain0_Emcee1=likechain_Emcee1[0]\n",
    "chain0_Emcee1=chain_Emcee1[0]\n",
    "# check the shape of the chain (number of walkers, number of steps, number of parameters)\n",
    "print(chain0_Emcee1.shape)\n",
    "\n",
    "####################################\n",
    "#chain 2\n",
    "####################################\n",
    "chain_Emcee2=np.load(RESULT_FOLDER+'chain'+date+'_Single_'+str(method)+'_'+str(obs)+str(single_number)+str(eps)+'Emcee2.npy')\n",
    "likechain_Emcee2=np.load(RESULT_FOLDER+'likechain'+date+'_Single_'+str(method)+'_'+str(obs)+str(single_number)+str(eps)+'Emcee2.npy')\n",
    "\n",
    "# get chain number 0, which is has lowest temperature\n",
    "likechain0_Emcee2=likechain_Emcee2[0]\n",
    "chain0_Emcee2=chain_Emcee2[0]\n",
    "# check the shape of the chain (number of walkers, number of steps, number of parameters)\n",
    "chain0_Emcee2.shape\n",
    "\n",
    "chain_Emcee2=np.load(RESULT_FOLDER+'chain'+date+'_Single_'+str(method)+'_'+str(obs)+str(single_number)+str(eps)+'Emcee2.npy')\n",
    "likechain_Emcee2=np.load(RESULT_FOLDER+'likechain'+date+'_Single_'+str(method)+'_'+str(obs)+str(single_number)+str(eps)+'Emcee2.npy')\n",
    "\n",
    "# get chain number 0, which is has lowest temperature\n",
    "likechain0_Emcee2=likechain_Emcee2[0]\n",
    "chain0_Emcee2=chain_Emcee2[0]\n",
    "# check the shape of the chain (number of walkers, number of steps, number of parameters)\n",
    "print(chain0_Emcee2.shape)\n",
    "\n",
    "####################################\n",
    "#chain 3\n",
    "####################################\n",
    "chain_Emcee3=np.load(RESULT_FOLDER+'chain'+date+'_Single_'+str(method)+'_'+str(obs)+str(single_number)+str(eps)+'Emcee2.npy')\n",
    "likechain_Emcee3=np.load(RESULT_FOLDER+'likechain'+date+'_Single_'+str(method)+'_'+str(obs)+str(single_number)+str(eps)+'Emcee2.npy')\n",
    "\n",
    "# get chain number 0, which is has lowest temperature\n",
    "likechain0_Emcee3=likechain_Emcee3[0]\n",
    "chain0_Emcee3=chain_Emcee3[0]\n",
    "# check the shape of the chain (number of walkers, number of steps, number of parameters)\n",
    "chain0_Emcee3.shape\n",
    "\n",
    "chain_Emcee3=np.load(RESULT_FOLDER+'chain'+date+'_Single_'+str(method)+'_'+str(obs)+str(single_number)+str(eps)+'Emcee3.npy')\n",
    "likechain_Emcee3=np.load(RESULT_FOLDER+'likechain'+date+'_Single_'+str(method)+'_'+str(obs)+str(single_number)+str(eps)+'Emcee3.npy')\n",
    "\n",
    "# get chain number 0, which is has lowest temperature\n",
    "likechain0_Emcee3=likechain_Emcee3[0]\n",
    "chain0_Emcee3=chain_Emcee3[0]\n",
    "# check the shape of the chain (number of walkers, number of steps, number of parameters)\n",
    "print(chain0_Emcee3.shape)\n"
   ]
  },
  {
   "cell_type": "code",
   "execution_count": 22,
   "metadata": {
    "ExecuteTime": {
     "end_time": "2018-08-15T20:10:52.159252Z",
     "start_time": "2018-08-15T20:10:52.152251Z"
    }
   },
   "outputs": [
    {
     "data": {
      "text/plain": [
       "13722.306054419885"
      ]
     },
     "execution_count": 22,
     "metadata": {},
     "output_type": "execute_result"
    }
   ],
   "source": [
    "# minimal value of absolute likelihood\n",
    "np.min(np.abs(likechain0_Emcee3))"
   ]
  },
  {
   "cell_type": "code",
   "execution_count": 24,
   "metadata": {
    "ExecuteTime": {
     "end_time": "2018-08-15T20:10:59.381510Z",
     "start_time": "2018-08-15T20:10:59.346584Z"
    }
   },
   "outputs": [
    {
     "name": "stdout",
     "output_type": "stream",
     "text": [
      "[   -16.50606443     -0.0679086       0.40323188     -0.11156629\n",
      "     -0.31938677     -0.08015925     -0.19248356     -0.27833116\n",
      "      0.71320999      0.09732131     -0.0149267       0.02958832\n",
      "      0.05338593      0.07345508      0.61837389      2.39938781\n",
      "      0.06075449      0.02716831      0.99111871      0.27042571\n",
      "  45594.63689485     55.38796807      2.28200189      0.04965618\n",
      "      0.63224565      1.03792212]\n",
      "          z4        z5        z6        z7        z8        z9       z10  \\\n",
      "0 -16.506064 -0.067909  0.403232 -0.111566 -0.319387 -0.080159 -0.192484   \n",
      "\n",
      "        z11  \n",
      "0 -0.278331  \n",
      "   hscFrac  strutFrac   dxFocal   dyFocal  slitFrac  slitFrac_dy  \\\n",
      "0  0.71321   0.097321 -0.014927  0.029588  0.053386     0.073455   \n",
      "\n",
      "   radiometricEffect  radiometricExponent    x_ilum    y_ilum  minorAxis  \\\n",
      "0           0.618374             2.399388  0.060754  0.027168   0.991119   \n",
      "\n",
      "   pupilAngle  grating_lines  scattering_radius  scattering_slope  \\\n",
      "0    0.270426   45594.636895          55.387968          2.282002   \n",
      "\n",
      "   scattering_amplitude  pixel_effect      flux  \n",
      "0              0.049656      0.632246  1.037922  \n"
     ]
    }
   ],
   "source": [
    "# see the best chain, in numpy and pandas form\n",
    "minchain=chain0_Emcee3[np.abs(likechain0_Emcee3)==np.min(np.abs(likechain0_Emcee3))][0]\n",
    "minchain31=minchain\n",
    "print(minchain)\n",
    "dfz22 = pd.DataFrame(np.array([np.array([minchain])[0][0:8]]),columns=columns[0:8])\n",
    "print(dfz22)\n",
    "dfglobal = pd.DataFrame(np.array([np.array([minchain])[0][8:]]),columns=columns[8:])\n",
    "print(dfglobal)"
   ]
  },
  {
   "cell_type": "code",
   "execution_count": 25,
   "metadata": {
    "ExecuteTime": {
     "end_time": "2018-08-15T20:10:59.399912Z",
     "start_time": "2018-08-15T20:10:59.385522Z"
    }
   },
   "outputs": [
    {
     "name": "stdout",
     "output_type": "stream",
     "text": [
      "minimal likelihood is: 13722.3060544\n",
      "minimal chi2 reduced is: 30.4768541592\n"
     ]
    }
   ],
   "source": [
    "like_min=[]\n",
    "for i in range(likechain0_Emcee1.shape[1]):\n",
    "    like_min.append(np.min(np.abs(likechain0_Emcee1[:,i])))\n",
    "\n",
    "for i in range(likechain0_Emcee2.shape[1]):\n",
    "    like_min.append(np.min(np.abs(likechain0_Emcee2[:,i])))    \n",
    "\n",
    "for i in range(likechain0_Emcee3.shape[1]):\n",
    "    like_min.append(np.min(np.abs(likechain0_Emcee3[:,i]))  )  \n",
    "    \n",
    "print('minimal likelihood is: '+str(np.min(like_min)))   \n",
    "chi2=(np.array(like_min)*(2)-np.log(2*np.pi*np.sum(var_image)))/(sci_image.shape[0])**2\n",
    "print('minimal chi2 reduced is: '+str(np.min(chi2)))"
   ]
  },
  {
   "cell_type": "code",
   "execution_count": 26,
   "metadata": {
    "ExecuteTime": {
     "end_time": "2018-08-15T20:10:59.974745Z",
     "start_time": "2018-08-15T20:10:59.403398Z"
    }
   },
   "outputs": [
    {
     "data": {
      "text/plain": [
       "<matplotlib.text.Text at 0x121828190>"
      ]
     },
     "execution_count": 26,
     "metadata": {},
     "output_type": "execute_result"
    },
    {
     "data": {
      "image/png": "[encoded data removed]",
      "text/plain": [
       "<matplotlib.figure.Figure at 0x1c349c6790>"
      ]
     },
     "metadata": {},
     "output_type": "display_data"
    }
   ],
   "source": [
    "plt.figure(figsize=(20,20))\n",
    "plt.subplot(211)\n",
    "plt.plot(np.linspace(0,len(like_min),len(like_min)),like_min,'blue',ls='-')\n",
    "plt.ylabel('chi2 reduced')\n",
    "plt.xlabel('steps')\n",
    "plt.subplot(212)\n",
    "plt.plot(np.linspace(0,len(like_min),len(like_min)),np.log10(like_min),'blue',ls='-')\n",
    "plt.ylabel('log10(chi2 reduced)')\n",
    "plt.xlabel('steps')"
   ]
  },
  {
   "cell_type": "code",
   "execution_count": 27,
   "metadata": {
    "ExecuteTime": {
     "end_time": "2018-08-15T20:10:59.989861Z",
     "start_time": "2018-08-15T20:10:59.977260Z"
    }
   },
   "outputs": [],
   "source": [
    "zparameters=minchain[0:8]\n",
    "globalparameters=minchain[8:]\n",
    "\n",
    "\n",
    "if obs=='8600':\n",
    "    model = LN_PFS_single(sci_image,var_image,dithering=2)\n",
    "else:\n",
    "    model = LN_PFS_single(sci_image,var_image,dithering=1)   \n",
    "\n",
    "x=LN_PFS_single(sci_image,var_image).create_x(zparameters,globalparameters)"
   ]
  },
  {
   "cell_type": "code",
   "execution_count": 28,
   "metadata": {
    "ExecuteTime": {
     "end_time": "2018-08-15T20:11:03.758584Z",
     "start_time": "2018-08-15T20:10:59.993454Z"
    },
    "scrolled": false
   },
   "outputs": [
    {
     "name": "stdout",
     "output_type": "stream",
     "text": [
      "oversampling of optPSF is: 40.0271421218\n",
      "oversampling of optPsf_downsampled is: 10\n"
     ]
    },
    {
     "data": {
      "text/plain": [
       "-13722.306054419932"
      ]
     },
     "execution_count": 28,
     "metadata": {},
     "output_type": "execute_result"
    }
   ],
   "source": [
    "model(x)"
   ]
  },
  {
   "cell_type": "code",
   "execution_count": 29,
   "metadata": {
    "ExecuteTime": {
     "end_time": "2018-08-15T20:11:04.405044Z",
     "start_time": "2018-08-15T20:11:03.762155Z"
    }
   },
   "outputs": [
    {
     "data": {
      "text/plain": [
       "<matplotlib.colorbar.Colorbar at 0x1c35a83050>"
      ]
     },
     "execution_count": 29,
     "metadata": {},
     "output_type": "execute_result"
    },
    {
     "data": {
      "image/png": "[encoded data removed]",
      "text/plain": [
       "<matplotlib.figure.Figure at 0x1c33f9bed0>"
      ]
     },
     "metadata": {},
     "output_type": "display_data"
    }
   ],
   "source": [
    "optPsf=np.load(TESTING_FINAL_IMAGES_FOLDER+'optPsf.npy')\n",
    "optPsf_downsampled=np.load(TESTING_FINAL_IMAGES_FOLDER+'optPsf_downsampled.npy')\n",
    "optPsf_fiber_convolved=np.load(TESTING_FINAL_IMAGES_FOLDER+'optPsf_fiber_convolved.npy')\n",
    "\n",
    "optPsf_downsampled_scattered=np.load(TESTING_FINAL_IMAGES_FOLDER+'optPsf_downsampled_scattered.npy')\n",
    "\n",
    "optPsf_cut_fiber_convolved=np.load(TESTING_FINAL_IMAGES_FOLDER+'optPsf_cut_fiber_convolved.npy')\n",
    "optPsf_cut_pixel_response_convolved=np.load(TESTING_FINAL_IMAGES_FOLDER+'optPsf_cut_pixel_response_convolved.npy')\n",
    "optPsf_cut_grating_convolved=np.load(TESTING_FINAL_IMAGES_FOLDER+'optPsf_cut_grating_convolved.npy')\n",
    "optPsf_cut_fiber_convolved_downsampled=np.load(TESTING_FINAL_IMAGES_FOLDER+'optPsf_cut_fiber_convolved_downsampled.npy')\n",
    "\n",
    "plt.imshow(optPsf_cut_fiber_convolved_downsampled,norm=LogNorm(),vmax=np.max(optPsf_cut_fiber_convolved_downsampled),vmin=1)\n",
    "plt.colorbar()"
   ]
  },
  {
   "cell_type": "code",
   "execution_count": 30,
   "metadata": {
    "ExecuteTime": {
     "end_time": "2018-08-15T20:11:05.448237Z",
     "start_time": "2018-08-15T20:11:04.408341Z"
    }
   },
   "outputs": [
    {
     "name": "stdout",
     "output_type": "stream",
     "text": [
      "chi**2 reduced is: 30.4768541876\n",
      "Abs of residual divided by total flux is: 0.11189335973\n",
      "Abs of residual divided by largest value of a flux in the image is: 0.221215977412\n"
     ]
    },
    {
     "data": {
      "image/png": "[encoded data removed]",
      "text/plain": [
       "<matplotlib.figure.Figure at 0x1c354589d0>"
      ]
     },
     "metadata": {},
     "output_type": "display_data"
    }
   ],
   "source": [
    "res_iapetus=optPsf_cut_fiber_convolved_downsampled\n",
    "inputimage=sci_image\n",
    "var_inputimage=var_image\n",
    "\n",
    "\n",
    "plt.figure(figsize=(20,20))\n",
    "plt.subplot(221)\n",
    "plt.imshow(res_iapetus,origin='lower',vmax=np.max(np.abs(inputimage)))\n",
    "plt.colorbar()\n",
    "plt.title('Model')\n",
    "plt.grid(False)\n",
    "plt.subplot(222)\n",
    "plt.imshow(inputimage,origin='lower',vmax=np.max(np.abs(inputimage)))\n",
    "plt.colorbar()\n",
    "plt.title('Data')\n",
    "plt.grid(False)\n",
    "plt.subplot(223)\n",
    "plt.imshow(res_iapetus-inputimage,origin='lower',cmap='bwr',vmin=-np.max(np.abs(inputimage))/20,vmax=np.max(np.abs(inputimage))/20)\n",
    "plt.colorbar()\n",
    "plt.title('Residual')\n",
    "plt.grid(False)\n",
    "plt.subplot(224)\n",
    "plt.imshow((res_iapetus-inputimage)/np.sqrt(var_inputimage),origin='lower',cmap='bwr',vmax=np.max(np.abs((res_iapetus-inputimage)/np.sqrt(var_inputimage))),vmin=-np.max(np.abs((res_iapetus-inputimage)/np.sqrt(var_inputimage))))\n",
    "plt.colorbar()\n",
    "plt.title('chi map')\n",
    "print('chi**2 reduced is: '+str(np.sum((res_iapetus-inputimage)**2/((var_inputimage.shape[0]*var_inputimage.shape[1])*var_inputimage))))\n",
    "print('Abs of residual divided by total flux is: '+str(np.sum(np.abs((res_iapetus-inputimage)))/np.sum((res_iapetus))))\n",
    "print('Abs of residual divided by largest value of a flux in the image is: '+str(np.max(np.abs((res_iapetus-inputimage)/np.max(res_iapetus)))))"
   ]
  },
  {
   "cell_type": "markdown",
   "metadata": {},
   "source": [
    "# Analysis "
   ]
  },
  {
   "cell_type": "markdown",
   "metadata": {},
   "source": [
    "## creating scripts"
   ]
  },
  {
   "cell_type": "code",
   "execution_count": 50,
   "metadata": {
    "ExecuteTime": {
     "end_time": "2018-08-15T22:04:59.677850Z",
     "start_time": "2018-08-15T22:04:59.591700Z"
    },
    "collapsed": true
   },
   "outputs": [],
   "source": [
    "for single_spot in [55]:\n",
    "    file = open('/Users/nevencaplar/Documents/PFS/TigerAnalysis/ScriptsForTiger/Perseus'+str(1)+'Spot'+str(single_spot)+'AugObs_P.sh','w') \n",
    "    \n",
    "    file.write(\"#!/bin/bash \\n\")\n",
    "    file.write(\"#SBATCH --nodes=9 # node count \\n\")\n",
    "    file.write(\"#SBATCH --ntasks-per-node=24 \\n\") \n",
    "    file.write(\"#SBATCH --time 14:59:00 \\n\")\n",
    "    file.write(\"#SBATCH --mail-type=begin  \\n\")\n",
    "    file.write(\"#SBATCH --mail-type=end   \\n\") \n",
    "    file.write(\"#SBATCH --mail-user=ncaplar@princeton.edu \\n\")\n",
    "\n",
    "    file.write(\"\\n\")\n",
    "    file.write(\"#1. Observation (e.g., 8567) \\n\") \n",
    "    file.write(\"#2. Threads \\n\") \n",
    "    file.write(\"#3. Steps \\n\") \n",
    "    file.write(\"\\n\")\n",
    "\n",
    "    for obs in [8564,8615]:\n",
    "\n",
    "        file.write(\"mpirun python /home/ncaplar/Code/ZernikeSingle_11_Mix_P_Aug.py \"+str(obs)+\" \"+str(single_spot)+\" 175 1\\n\")\n",
    "    file.close()\n",
    "    \n",
    "for single_spot in [55]:\n",
    "    file = open('/Users/nevencaplar/Documents/PFS/TigerAnalysis/ScriptsForTiger/Perseus'+str(2)+'Spot'+str(single_spot)+'AugObs_P.sh','w') \n",
    "    \n",
    "    file.write(\"#!/bin/bash \\n\")\n",
    "    file.write(\"#SBATCH --nodes=9 # node count \\n\")\n",
    "    file.write(\"#SBATCH --ntasks-per-node=24 \\n\") \n",
    "    file.write(\"#SBATCH --time 14:59:00 \\n\")\n",
    "    file.write(\"#SBATCH --mail-type=begin  \\n\")\n",
    "    file.write(\"#SBATCH --mail-type=end   \\n\") \n",
    "    file.write(\"#SBATCH --mail-user=ncaplar@princeton.edu \\n\")\n",
    "\n",
    "    file.write(\"\\n\")\n",
    "    file.write(\"#1. Observation (e.g., 8567) \\n\") \n",
    "    file.write(\"#2. Threads \\n\") \n",
    "    file.write(\"#3. Steps \\n\") \n",
    "    file.write(\"\\n\")\n",
    "\n",
    "    for obs in [8600,8573]:\n",
    "\n",
    "        file.write(\"mpirun python /home/ncaplar/Code/ZernikeSingle_11_Mix_P_Aug.py \"+str(obs)+\" \"+str(single_spot)+\" 175 1\\n\")\n",
    "    file.close()\n",
    "    \n",
    "for single_spot in [55]:\n",
    "    file = open('/Users/nevencaplar/Documents/PFS/TigerAnalysis/ScriptsForTiger/Perseus'+str(3)+'Spot'+str(single_spot)+'AugObs_P.sh','w') \n",
    "    \n",
    "    file.write(\"#!/bin/bash \\n\")\n",
    "    file.write(\"#SBATCH --nodes=9 # node count \\n\")\n",
    "    file.write(\"#SBATCH --ntasks-per-node=24 \\n\") \n",
    "    file.write(\"#SBATCH --time 14:59:00 \\n\")\n",
    "    file.write(\"#SBATCH --mail-type=begin  \\n\")\n",
    "    file.write(\"#SBATCH --mail-type=end   \\n\") \n",
    "    file.write(\"#SBATCH --mail-user=ncaplar@princeton.edu \\n\")\n",
    "\n",
    "    file.write(\"\\n\")\n",
    "    file.write(\"#1. Observation (e.g., 8567) \\n\") \n",
    "    file.write(\"#2. Threads \\n\") \n",
    "    file.write(\"#3. Steps \\n\") \n",
    "    file.write(\"\\n\")\n",
    "\n",
    "    for obs in [8570,8609,8567]:\n",
    "\n",
    "        file.write(\"mpirun python /home/ncaplar/Code/ZernikeSingle_11_Mix_P_Aug.py \"+str(obs)+\" \"+str(single_spot)+\" 175 1\\n\")\n",
    "    file.close()    \n",
    "    \n",
    "for single_spot in [55]:\n",
    "    file = open('/Users/nevencaplar/Documents/PFS/TigerAnalysis/ScriptsForTiger/Perseus'+str(4)+'Spot'+str(single_spot)+'AugObs_P.sh','w') \n",
    "    \n",
    "    file.write(\"#!/bin/bash \\n\")\n",
    "    file.write(\"#SBATCH --nodes=9 # node count \\n\")\n",
    "    file.write(\"#SBATCH --ntasks-per-node=24 \\n\") \n",
    "    file.write(\"#SBATCH --time 14:59:00 \\n\")\n",
    "    file.write(\"#SBATCH --mail-type=begin  \\n\")\n",
    "    file.write(\"#SBATCH --mail-type=end   \\n\") \n",
    "    file.write(\"#SBATCH --mail-user=ncaplar@princeton.edu \\n\")\n",
    "\n",
    "    file.write(\"\\n\")\n",
    "    file.write(\"#1. Observation (e.g., 8567) \\n\") \n",
    "    file.write(\"#2. Threads \\n\") \n",
    "    file.write(\"#3. Steps \\n\") \n",
    "    file.write(\"\\n\")\n",
    "\n",
    "    for obs in [8612,8606]:\n",
    "\n",
    "        file.write(\"mpirun python /home/ncaplar/Code/ZernikeSingle_11_Mix_P_Aug.py \"+str(obs)+\" \"+str(single_spot)+\" 175 1\\n\")\n",
    "    file.close()     "
   ]
  },
  {
   "cell_type": "code",
   "execution_count": 51,
   "metadata": {
    "ExecuteTime": {
     "end_time": "2018-08-15T22:05:00.926401Z",
     "start_time": "2018-08-15T22:05:00.918684Z"
    },
    "collapsed": true
   },
   "outputs": [],
   "source": [
    "file = open('/Users/nevencaplar/Documents/PFS/TigerAnalysis/ScriptsForTiger/AugustScriptToSubmitScriptsPerseus'+'.sh','w')\n",
    "file.write(\"#!/bin/bash \\n\")\n",
    "file.write(\"\\n\")\n",
    "for obs in [1,2,3,4]:\n",
    "    for single_spot in [55]:\n",
    "        file.write('sbatch /home/ncaplar/Scripts/Perseus'+str(obs)+'Spot'+str(single_spot)+'AugObs_P.sh \\n')\n",
    "\n",
    "file.close()"
   ]
  },
  {
   "cell_type": "markdown",
   "metadata": {},
   "source": [
    "## Analysis "
   ]
  },
  {
   "cell_type": "code",
   "execution_count": 52,
   "metadata": {
    "ExecuteTime": {
     "end_time": "2018-08-16T14:42:05.076538Z",
     "start_time": "2018-08-16T14:42:05.045174Z"
    },
    "collapsed": true
   },
   "outputs": [],
   "source": [
    "results_of_fit_single=pd.DataFrame(np.zeros((9,len(columns))).reshape(-1,len(columns)),index=['-2','-1.5','-1','-0.5','0','0.5','1','1.5','2'],columns=columns)\n",
    "err_results_of_fit_single=pd.DataFrame(np.zeros((9,len(columns))).reshape(-1,len(columns)),index=['-2','-1.5','-1','-0.5','0','0.5','1','1.5','2'],columns=columns)"
   ]
  },
  {
   "cell_type": "code",
   "execution_count": 53,
   "metadata": {
    "ExecuteTime": {
     "end_time": "2018-08-16T14:42:10.131076Z",
     "start_time": "2018-08-16T14:42:10.013459Z"
    }
   },
   "outputs": [
    {
     "data": {
      "text/html": [
       "<div>\n",
       "<style>\n",
       "    .dataframe thead tr:only-child th {\n",
       "        text-align: right;\n",
       "    }\n",
       "\n",
       "    .dataframe thead th {\n",
       "        text-align: left;\n",
       "    }\n",
       "\n",
       "    .dataframe tbody tr th {\n",
       "        vertical-align: top;\n",
       "    }\n",
       "</style>\n",
       "<table border=\"1\" class=\"dataframe\">\n",
       "  <thead>\n",
       "    <tr style=\"text-align: right;\">\n",
       "      <th></th>\n",
       "      <th>z4</th>\n",
       "      <th>z5</th>\n",
       "      <th>z6</th>\n",
       "      <th>z7</th>\n",
       "      <th>z8</th>\n",
       "      <th>z9</th>\n",
       "      <th>z10</th>\n",
       "      <th>z11</th>\n",
       "      <th>hscFrac</th>\n",
       "      <th>strutFrac</th>\n",
       "      <th>...</th>\n",
       "      <th>x_ilum</th>\n",
       "      <th>y_ilum</th>\n",
       "      <th>minorAxis</th>\n",
       "      <th>pupilAngle</th>\n",
       "      <th>grating_lines</th>\n",
       "      <th>scattering_radius</th>\n",
       "      <th>scattering_slope</th>\n",
       "      <th>scattering_amplitude</th>\n",
       "      <th>pixel_effect</th>\n",
       "      <th>flux</th>\n",
       "    </tr>\n",
       "  </thead>\n",
       "  <tbody>\n",
       "    <tr>\n",
       "      <th>-2</th>\n",
       "      <td>0.0</td>\n",
       "      <td>0.0</td>\n",
       "      <td>0.0</td>\n",
       "      <td>0.0</td>\n",
       "      <td>0.0</td>\n",
       "      <td>0.0</td>\n",
       "      <td>0.0</td>\n",
       "      <td>0.0</td>\n",
       "      <td>0.0</td>\n",
       "      <td>0.0</td>\n",
       "      <td>...</td>\n",
       "      <td>0.0</td>\n",
       "      <td>0.0</td>\n",
       "      <td>0.0</td>\n",
       "      <td>0.0</td>\n",
       "      <td>0.0</td>\n",
       "      <td>0.0</td>\n",
       "      <td>0.0</td>\n",
       "      <td>0.0</td>\n",
       "      <td>0.0</td>\n",
       "      <td>0.0</td>\n",
       "    </tr>\n",
       "    <tr>\n",
       "      <th>-1.5</th>\n",
       "      <td>0.0</td>\n",
       "      <td>0.0</td>\n",
       "      <td>0.0</td>\n",
       "      <td>0.0</td>\n",
       "      <td>0.0</td>\n",
       "      <td>0.0</td>\n",
       "      <td>0.0</td>\n",
       "      <td>0.0</td>\n",
       "      <td>0.0</td>\n",
       "      <td>0.0</td>\n",
       "      <td>...</td>\n",
       "      <td>0.0</td>\n",
       "      <td>0.0</td>\n",
       "      <td>0.0</td>\n",
       "      <td>0.0</td>\n",
       "      <td>0.0</td>\n",
       "      <td>0.0</td>\n",
       "      <td>0.0</td>\n",
       "      <td>0.0</td>\n",
       "      <td>0.0</td>\n",
       "      <td>0.0</td>\n",
       "    </tr>\n",
       "    <tr>\n",
       "      <th>-1</th>\n",
       "      <td>0.0</td>\n",
       "      <td>0.0</td>\n",
       "      <td>0.0</td>\n",
       "      <td>0.0</td>\n",
       "      <td>0.0</td>\n",
       "      <td>0.0</td>\n",
       "      <td>0.0</td>\n",
       "      <td>0.0</td>\n",
       "      <td>0.0</td>\n",
       "      <td>0.0</td>\n",
       "      <td>...</td>\n",
       "      <td>0.0</td>\n",
       "      <td>0.0</td>\n",
       "      <td>0.0</td>\n",
       "      <td>0.0</td>\n",
       "      <td>0.0</td>\n",
       "      <td>0.0</td>\n",
       "      <td>0.0</td>\n",
       "      <td>0.0</td>\n",
       "      <td>0.0</td>\n",
       "      <td>0.0</td>\n",
       "    </tr>\n",
       "    <tr>\n",
       "      <th>-0.5</th>\n",
       "      <td>0.0</td>\n",
       "      <td>0.0</td>\n",
       "      <td>0.0</td>\n",
       "      <td>0.0</td>\n",
       "      <td>0.0</td>\n",
       "      <td>0.0</td>\n",
       "      <td>0.0</td>\n",
       "      <td>0.0</td>\n",
       "      <td>0.0</td>\n",
       "      <td>0.0</td>\n",
       "      <td>...</td>\n",
       "      <td>0.0</td>\n",
       "      <td>0.0</td>\n",
       "      <td>0.0</td>\n",
       "      <td>0.0</td>\n",
       "      <td>0.0</td>\n",
       "      <td>0.0</td>\n",
       "      <td>0.0</td>\n",
       "      <td>0.0</td>\n",
       "      <td>0.0</td>\n",
       "      <td>0.0</td>\n",
       "    </tr>\n",
       "    <tr>\n",
       "      <th>0</th>\n",
       "      <td>0.0</td>\n",
       "      <td>0.0</td>\n",
       "      <td>0.0</td>\n",
       "      <td>0.0</td>\n",
       "      <td>0.0</td>\n",
       "      <td>0.0</td>\n",
       "      <td>0.0</td>\n",
       "      <td>0.0</td>\n",
       "      <td>0.0</td>\n",
       "      <td>0.0</td>\n",
       "      <td>...</td>\n",
       "      <td>0.0</td>\n",
       "      <td>0.0</td>\n",
       "      <td>0.0</td>\n",
       "      <td>0.0</td>\n",
       "      <td>0.0</td>\n",
       "      <td>0.0</td>\n",
       "      <td>0.0</td>\n",
       "      <td>0.0</td>\n",
       "      <td>0.0</td>\n",
       "      <td>0.0</td>\n",
       "    </tr>\n",
       "    <tr>\n",
       "      <th>0.5</th>\n",
       "      <td>0.0</td>\n",
       "      <td>0.0</td>\n",
       "      <td>0.0</td>\n",
       "      <td>0.0</td>\n",
       "      <td>0.0</td>\n",
       "      <td>0.0</td>\n",
       "      <td>0.0</td>\n",
       "      <td>0.0</td>\n",
       "      <td>0.0</td>\n",
       "      <td>0.0</td>\n",
       "      <td>...</td>\n",
       "      <td>0.0</td>\n",
       "      <td>0.0</td>\n",
       "      <td>0.0</td>\n",
       "      <td>0.0</td>\n",
       "      <td>0.0</td>\n",
       "      <td>0.0</td>\n",
       "      <td>0.0</td>\n",
       "      <td>0.0</td>\n",
       "      <td>0.0</td>\n",
       "      <td>0.0</td>\n",
       "    </tr>\n",
       "    <tr>\n",
       "      <th>1</th>\n",
       "      <td>0.0</td>\n",
       "      <td>0.0</td>\n",
       "      <td>0.0</td>\n",
       "      <td>0.0</td>\n",
       "      <td>0.0</td>\n",
       "      <td>0.0</td>\n",
       "      <td>0.0</td>\n",
       "      <td>0.0</td>\n",
       "      <td>0.0</td>\n",
       "      <td>0.0</td>\n",
       "      <td>...</td>\n",
       "      <td>0.0</td>\n",
       "      <td>0.0</td>\n",
       "      <td>0.0</td>\n",
       "      <td>0.0</td>\n",
       "      <td>0.0</td>\n",
       "      <td>0.0</td>\n",
       "      <td>0.0</td>\n",
       "      <td>0.0</td>\n",
       "      <td>0.0</td>\n",
       "      <td>0.0</td>\n",
       "    </tr>\n",
       "    <tr>\n",
       "      <th>1.5</th>\n",
       "      <td>0.0</td>\n",
       "      <td>0.0</td>\n",
       "      <td>0.0</td>\n",
       "      <td>0.0</td>\n",
       "      <td>0.0</td>\n",
       "      <td>0.0</td>\n",
       "      <td>0.0</td>\n",
       "      <td>0.0</td>\n",
       "      <td>0.0</td>\n",
       "      <td>0.0</td>\n",
       "      <td>...</td>\n",
       "      <td>0.0</td>\n",
       "      <td>0.0</td>\n",
       "      <td>0.0</td>\n",
       "      <td>0.0</td>\n",
       "      <td>0.0</td>\n",
       "      <td>0.0</td>\n",
       "      <td>0.0</td>\n",
       "      <td>0.0</td>\n",
       "      <td>0.0</td>\n",
       "      <td>0.0</td>\n",
       "    </tr>\n",
       "    <tr>\n",
       "      <th>2</th>\n",
       "      <td>0.0</td>\n",
       "      <td>0.0</td>\n",
       "      <td>0.0</td>\n",
       "      <td>0.0</td>\n",
       "      <td>0.0</td>\n",
       "      <td>0.0</td>\n",
       "      <td>0.0</td>\n",
       "      <td>0.0</td>\n",
       "      <td>0.0</td>\n",
       "      <td>0.0</td>\n",
       "      <td>...</td>\n",
       "      <td>0.0</td>\n",
       "      <td>0.0</td>\n",
       "      <td>0.0</td>\n",
       "      <td>0.0</td>\n",
       "      <td>0.0</td>\n",
       "      <td>0.0</td>\n",
       "      <td>0.0</td>\n",
       "      <td>0.0</td>\n",
       "      <td>0.0</td>\n",
       "      <td>0.0</td>\n",
       "    </tr>\n",
       "  </tbody>\n",
       "</table>\n",
       "<p>9 rows × 26 columns</p>\n",
       "</div>"
      ],
      "text/plain": [
       "       z4   z5   z6   z7   z8   z9  z10  z11  hscFrac  strutFrac  ...   \\\n",
       "-2    0.0  0.0  0.0  0.0  0.0  0.0  0.0  0.0      0.0        0.0  ...    \n",
       "-1.5  0.0  0.0  0.0  0.0  0.0  0.0  0.0  0.0      0.0        0.0  ...    \n",
       "-1    0.0  0.0  0.0  0.0  0.0  0.0  0.0  0.0      0.0        0.0  ...    \n",
       "-0.5  0.0  0.0  0.0  0.0  0.0  0.0  0.0  0.0      0.0        0.0  ...    \n",
       "0     0.0  0.0  0.0  0.0  0.0  0.0  0.0  0.0      0.0        0.0  ...    \n",
       "0.5   0.0  0.0  0.0  0.0  0.0  0.0  0.0  0.0      0.0        0.0  ...    \n",
       "1     0.0  0.0  0.0  0.0  0.0  0.0  0.0  0.0      0.0        0.0  ...    \n",
       "1.5   0.0  0.0  0.0  0.0  0.0  0.0  0.0  0.0      0.0        0.0  ...    \n",
       "2     0.0  0.0  0.0  0.0  0.0  0.0  0.0  0.0      0.0        0.0  ...    \n",
       "\n",
       "      x_ilum  y_ilum  minorAxis  pupilAngle  grating_lines  scattering_radius  \\\n",
       "-2       0.0     0.0        0.0         0.0            0.0                0.0   \n",
       "-1.5     0.0     0.0        0.0         0.0            0.0                0.0   \n",
       "-1       0.0     0.0        0.0         0.0            0.0                0.0   \n",
       "-0.5     0.0     0.0        0.0         0.0            0.0                0.0   \n",
       "0        0.0     0.0        0.0         0.0            0.0                0.0   \n",
       "0.5      0.0     0.0        0.0         0.0            0.0                0.0   \n",
       "1        0.0     0.0        0.0         0.0            0.0                0.0   \n",
       "1.5      0.0     0.0        0.0         0.0            0.0                0.0   \n",
       "2        0.0     0.0        0.0         0.0            0.0                0.0   \n",
       "\n",
       "      scattering_slope  scattering_amplitude  pixel_effect  flux  \n",
       "-2                 0.0                   0.0           0.0   0.0  \n",
       "-1.5               0.0                   0.0           0.0   0.0  \n",
       "-1                 0.0                   0.0           0.0   0.0  \n",
       "-0.5               0.0                   0.0           0.0   0.0  \n",
       "0                  0.0                   0.0           0.0   0.0  \n",
       "0.5                0.0                   0.0           0.0   0.0  \n",
       "1                  0.0                   0.0           0.0   0.0  \n",
       "1.5                0.0                   0.0           0.0   0.0  \n",
       "2                  0.0                   0.0           0.0   0.0  \n",
       "\n",
       "[9 rows x 26 columns]"
      ]
     },
     "execution_count": 53,
     "metadata": {},
     "output_type": "execute_result"
    }
   ],
   "source": [
    "results_of_fit_single"
   ]
  },
  {
   "cell_type": "code",
   "execution_count": 84,
   "metadata": {
    "ExecuteTime": {
     "end_time": "2018-08-16T15:07:02.830270Z",
     "start_time": "2018-08-16T15:07:02.220256Z"
    }
   },
   "outputs": [
    {
     "name": "stderr",
     "output_type": "stream",
     "text": [
      "100%|██████████| 9/9 [00:00<00:00, 15.88it/s]\n"
     ]
    }
   ],
   "source": [
    "# arrange all results in one pandas \n",
    "\n",
    "\n",
    "RESULT_FOLDER='/Users/nevencaplar/Documents/PFS/TigerAnalysis/ResultsFromTiger/Aug15/'\n",
    "\n",
    "single_defocus_list=[8564,8567,8570,8573,8600,8606,8609,8612,8615]\n",
    "\n",
    "single_number=55\n",
    "image_index=single_number\n",
    "method='P'\n",
    "eps=1\n",
    "\n",
    "for single_defocus in tqdm(range(0,9)):\n",
    "    try:\n",
    "        obs=single_defocus_list[single_defocus]\n",
    "        try:\n",
    "            chain=np.load(RESULT_FOLDER+'chainAug15_Single_'+str(method)+'_'+str(obs)+str(single_number)+str(eps)+'Emcee3.npy')\n",
    "            likechain=np.load(RESULT_FOLDER+'likechainAug15_Single_'+str(method)+'_'+str(obs)+str(single_number)+str(eps)+'Emcee3.npy')\n",
    "        except:    \n",
    "            chain=np.load(RESULT_FOLDER+'chainAug15_Single_'+str(method)+'_'+str(obs)+str(single_number)+str(eps)+'Emcee2.npy')\n",
    "            likechain=np.load(RESULT_FOLDER+'likechainAug15_Single_'+str(method)+'_'+str(obs)+str(single_number)+str(eps)+'Emcee2.npy')\n",
    "            \n",
    "        \n",
    "        if obs==8600:\n",
    "            sci_image=np.load(\"/Users/nevencaplar/Documents/PFS/TigerAnalysis/CutsForTigerAug15/sci\"+str(obs)+str(image_index)+'Stacked_Cleaned_Dithered.npy')\n",
    "            var_image=np.load(\"/Users/nevencaplar/Documents/PFS/TigerAnalysis/CutsForTigerAug15/var\"+str(obs)+str(image_index)+'Stacked_Dithered.npy')\n",
    "        else:       \n",
    "            sci_image=np.load(\"/Users/nevencaplar/Documents/PFS/TigerAnalysis/CutsForTigerAug15/sci\"+str(obs)+str(image_index)+'Stacked_Cleaned.npy')\n",
    "            var_image=np.load(\"/Users/nevencaplar/Documents/PFS/TigerAnalysis/CutsForTigerAug15/var\"+str(obs)+str(image_index)+'Stacked.npy')\n",
    "\n",
    "\n",
    "        likechain0=likechain[0]\n",
    "\n",
    "        chain0=chain[0]\n",
    "        minchain=chain0[np.abs(likechain0)==np.min(np.abs(likechain0))][0]\n",
    "        chi2reduced=2*np.min(np.abs(likechain0))/(sci_image.shape[0])**2\n",
    "\n",
    "\n",
    "        minchain_err=[]\n",
    "        for i in range(len(columns)):\n",
    "            minchain_err=np.append(minchain_err,np.sqrt(chi2reduced)*np.std(chain0[:,:,i].flatten()))\n",
    "    \n",
    "        minchain_err=np.array(minchain_err)\n",
    "        results_of_fit_single.iloc[single_defocus]=minchain\n",
    "        err_results_of_fit_single.iloc[single_defocus]=minchain_err\n",
    "        \n",
    "    except:\n",
    "        ValueError"
   ]
  },
  {
   "cell_type": "code",
   "execution_count": 85,
   "metadata": {
    "ExecuteTime": {
     "end_time": "2018-08-16T15:07:06.292504Z",
     "start_time": "2018-08-16T15:07:06.248464Z"
    }
   },
   "outputs": [
    {
     "data": {
      "text/html": [
       "<div>\n",
       "<style>\n",
       "    .dataframe thead tr:only-child th {\n",
       "        text-align: right;\n",
       "    }\n",
       "\n",
       "    .dataframe thead th {\n",
       "        text-align: left;\n",
       "    }\n",
       "\n",
       "    .dataframe tbody tr th {\n",
       "        vertical-align: top;\n",
       "    }\n",
       "</style>\n",
       "<table border=\"1\" class=\"dataframe\">\n",
       "  <thead>\n",
       "    <tr style=\"text-align: right;\">\n",
       "      <th></th>\n",
       "      <th>z4</th>\n",
       "      <th>z5</th>\n",
       "      <th>z6</th>\n",
       "      <th>z7</th>\n",
       "      <th>z8</th>\n",
       "      <th>z9</th>\n",
       "      <th>z10</th>\n",
       "      <th>z11</th>\n",
       "      <th>hscFrac</th>\n",
       "      <th>strutFrac</th>\n",
       "      <th>...</th>\n",
       "      <th>x_ilum</th>\n",
       "      <th>y_ilum</th>\n",
       "      <th>minorAxis</th>\n",
       "      <th>pupilAngle</th>\n",
       "      <th>grating_lines</th>\n",
       "      <th>scattering_radius</th>\n",
       "      <th>scattering_slope</th>\n",
       "      <th>scattering_amplitude</th>\n",
       "      <th>pixel_effect</th>\n",
       "      <th>flux</th>\n",
       "    </tr>\n",
       "  </thead>\n",
       "  <tbody>\n",
       "    <tr>\n",
       "      <th>-2</th>\n",
       "      <td>14.530552</td>\n",
       "      <td>-0.239860</td>\n",
       "      <td>-0.832438</td>\n",
       "      <td>0.326994</td>\n",
       "      <td>-0.180505</td>\n",
       "      <td>-0.132877</td>\n",
       "      <td>-0.231924</td>\n",
       "      <td>-0.295233</td>\n",
       "      <td>0.759202</td>\n",
       "      <td>0.069457</td>\n",
       "      <td>...</td>\n",
       "      <td>0.161529</td>\n",
       "      <td>0.046984</td>\n",
       "      <td>0.969682</td>\n",
       "      <td>1.551711</td>\n",
       "      <td>40849.806915</td>\n",
       "      <td>72.464641</td>\n",
       "      <td>3.434540</td>\n",
       "      <td>0.052231</td>\n",
       "      <td>0.570745</td>\n",
       "      <td>0.997901</td>\n",
       "    </tr>\n",
       "    <tr>\n",
       "      <th>-1.5</th>\n",
       "      <td>0.000000</td>\n",
       "      <td>0.000000</td>\n",
       "      <td>0.000000</td>\n",
       "      <td>0.000000</td>\n",
       "      <td>0.000000</td>\n",
       "      <td>0.000000</td>\n",
       "      <td>0.000000</td>\n",
       "      <td>0.000000</td>\n",
       "      <td>0.000000</td>\n",
       "      <td>0.000000</td>\n",
       "      <td>...</td>\n",
       "      <td>0.000000</td>\n",
       "      <td>0.000000</td>\n",
       "      <td>0.000000</td>\n",
       "      <td>0.000000</td>\n",
       "      <td>0.000000</td>\n",
       "      <td>0.000000</td>\n",
       "      <td>0.000000</td>\n",
       "      <td>0.000000</td>\n",
       "      <td>0.000000</td>\n",
       "      <td>0.000000</td>\n",
       "    </tr>\n",
       "    <tr>\n",
       "      <th>-1</th>\n",
       "      <td>7.674014</td>\n",
       "      <td>-0.202714</td>\n",
       "      <td>-0.453989</td>\n",
       "      <td>0.483638</td>\n",
       "      <td>-0.021046</td>\n",
       "      <td>-0.139139</td>\n",
       "      <td>-0.204271</td>\n",
       "      <td>-0.555629</td>\n",
       "      <td>0.577163</td>\n",
       "      <td>0.074177</td>\n",
       "      <td>...</td>\n",
       "      <td>0.180056</td>\n",
       "      <td>0.132876</td>\n",
       "      <td>0.998827</td>\n",
       "      <td>0.588061</td>\n",
       "      <td>61555.774225</td>\n",
       "      <td>36.202370</td>\n",
       "      <td>3.124119</td>\n",
       "      <td>0.059236</td>\n",
       "      <td>0.458897</td>\n",
       "      <td>0.998990</td>\n",
       "    </tr>\n",
       "    <tr>\n",
       "      <th>-0.5</th>\n",
       "      <td>3.761149</td>\n",
       "      <td>-0.022824</td>\n",
       "      <td>-0.538597</td>\n",
       "      <td>0.121223</td>\n",
       "      <td>-0.021298</td>\n",
       "      <td>-0.139336</td>\n",
       "      <td>-0.142827</td>\n",
       "      <td>-0.653543</td>\n",
       "      <td>0.696373</td>\n",
       "      <td>0.101104</td>\n",
       "      <td>...</td>\n",
       "      <td>0.118166</td>\n",
       "      <td>0.081174</td>\n",
       "      <td>0.976248</td>\n",
       "      <td>-0.141437</td>\n",
       "      <td>98500.742258</td>\n",
       "      <td>31.557544</td>\n",
       "      <td>2.262033</td>\n",
       "      <td>0.051922</td>\n",
       "      <td>0.470261</td>\n",
       "      <td>0.997312</td>\n",
       "    </tr>\n",
       "    <tr>\n",
       "      <th>0</th>\n",
       "      <td>0.621310</td>\n",
       "      <td>0.164426</td>\n",
       "      <td>0.519354</td>\n",
       "      <td>0.093173</td>\n",
       "      <td>-0.350785</td>\n",
       "      <td>-0.206642</td>\n",
       "      <td>-0.385499</td>\n",
       "      <td>0.488272</td>\n",
       "      <td>0.630441</td>\n",
       "      <td>0.123468</td>\n",
       "      <td>...</td>\n",
       "      <td>0.041565</td>\n",
       "      <td>0.146618</td>\n",
       "      <td>0.863433</td>\n",
       "      <td>-0.246799</td>\n",
       "      <td>83314.652674</td>\n",
       "      <td>36.367287</td>\n",
       "      <td>2.311652</td>\n",
       "      <td>0.071224</td>\n",
       "      <td>0.563485</td>\n",
       "      <td>0.999544</td>\n",
       "    </tr>\n",
       "    <tr>\n",
       "      <th>0.5</th>\n",
       "      <td>-5.475884</td>\n",
       "      <td>-0.228309</td>\n",
       "      <td>-0.248734</td>\n",
       "      <td>0.210317</td>\n",
       "      <td>0.035698</td>\n",
       "      <td>-0.168510</td>\n",
       "      <td>-0.325597</td>\n",
       "      <td>-0.479872</td>\n",
       "      <td>0.589541</td>\n",
       "      <td>0.080071</td>\n",
       "      <td>...</td>\n",
       "      <td>0.142860</td>\n",
       "      <td>-0.008560</td>\n",
       "      <td>0.967828</td>\n",
       "      <td>1.564560</td>\n",
       "      <td>57653.562088</td>\n",
       "      <td>62.651361</td>\n",
       "      <td>3.223808</td>\n",
       "      <td>0.030197</td>\n",
       "      <td>0.519613</td>\n",
       "      <td>0.997926</td>\n",
       "    </tr>\n",
       "    <tr>\n",
       "      <th>1</th>\n",
       "      <td>-9.311800</td>\n",
       "      <td>-0.238380</td>\n",
       "      <td>-0.221374</td>\n",
       "      <td>0.259472</td>\n",
       "      <td>-0.192257</td>\n",
       "      <td>-0.144986</td>\n",
       "      <td>-0.281877</td>\n",
       "      <td>-0.388024</td>\n",
       "      <td>0.632639</td>\n",
       "      <td>0.071567</td>\n",
       "      <td>...</td>\n",
       "      <td>0.114999</td>\n",
       "      <td>-0.029879</td>\n",
       "      <td>0.995039</td>\n",
       "      <td>-0.134766</td>\n",
       "      <td>63591.918208</td>\n",
       "      <td>43.117193</td>\n",
       "      <td>2.408678</td>\n",
       "      <td>0.074075</td>\n",
       "      <td>0.522337</td>\n",
       "      <td>0.995636</td>\n",
       "    </tr>\n",
       "    <tr>\n",
       "      <th>1.5</th>\n",
       "      <td>-13.777839</td>\n",
       "      <td>-0.278686</td>\n",
       "      <td>-0.089995</td>\n",
       "      <td>0.288527</td>\n",
       "      <td>-0.288050</td>\n",
       "      <td>-0.203633</td>\n",
       "      <td>-0.281979</td>\n",
       "      <td>-0.184851</td>\n",
       "      <td>0.603303</td>\n",
       "      <td>0.066045</td>\n",
       "      <td>...</td>\n",
       "      <td>0.110394</td>\n",
       "      <td>0.025481</td>\n",
       "      <td>0.991345</td>\n",
       "      <td>-0.687670</td>\n",
       "      <td>31148.199224</td>\n",
       "      <td>54.242748</td>\n",
       "      <td>3.015090</td>\n",
       "      <td>0.155674</td>\n",
       "      <td>0.519158</td>\n",
       "      <td>1.000274</td>\n",
       "    </tr>\n",
       "    <tr>\n",
       "      <th>2</th>\n",
       "      <td>-16.506064</td>\n",
       "      <td>-0.067909</td>\n",
       "      <td>0.403232</td>\n",
       "      <td>-0.111566</td>\n",
       "      <td>-0.319387</td>\n",
       "      <td>-0.080159</td>\n",
       "      <td>-0.192484</td>\n",
       "      <td>-0.278331</td>\n",
       "      <td>0.713210</td>\n",
       "      <td>0.097321</td>\n",
       "      <td>...</td>\n",
       "      <td>0.060754</td>\n",
       "      <td>0.027168</td>\n",
       "      <td>0.991119</td>\n",
       "      <td>0.270426</td>\n",
       "      <td>45594.636895</td>\n",
       "      <td>55.387968</td>\n",
       "      <td>2.282002</td>\n",
       "      <td>0.049656</td>\n",
       "      <td>0.632246</td>\n",
       "      <td>1.037922</td>\n",
       "    </tr>\n",
       "  </tbody>\n",
       "</table>\n",
       "<p>9 rows × 26 columns</p>\n",
       "</div>"
      ],
      "text/plain": [
       "             z4        z5        z6        z7        z8        z9       z10  \\\n",
       "-2    14.530552 -0.239860 -0.832438  0.326994 -0.180505 -0.132877 -0.231924   \n",
       "-1.5   0.000000  0.000000  0.000000  0.000000  0.000000  0.000000  0.000000   \n",
       "-1     7.674014 -0.202714 -0.453989  0.483638 -0.021046 -0.139139 -0.204271   \n",
       "-0.5   3.761149 -0.022824 -0.538597  0.121223 -0.021298 -0.139336 -0.142827   \n",
       "0      0.621310  0.164426  0.519354  0.093173 -0.350785 -0.206642 -0.385499   \n",
       "0.5   -5.475884 -0.228309 -0.248734  0.210317  0.035698 -0.168510 -0.325597   \n",
       "1     -9.311800 -0.238380 -0.221374  0.259472 -0.192257 -0.144986 -0.281877   \n",
       "1.5  -13.777839 -0.278686 -0.089995  0.288527 -0.288050 -0.203633 -0.281979   \n",
       "2    -16.506064 -0.067909  0.403232 -0.111566 -0.319387 -0.080159 -0.192484   \n",
       "\n",
       "           z11   hscFrac  strutFrac    ...       x_ilum    y_ilum  minorAxis  \\\n",
       "-2   -0.295233  0.759202   0.069457    ...     0.161529  0.046984   0.969682   \n",
       "-1.5  0.000000  0.000000   0.000000    ...     0.000000  0.000000   0.000000   \n",
       "-1   -0.555629  0.577163   0.074177    ...     0.180056  0.132876   0.998827   \n",
       "-0.5 -0.653543  0.696373   0.101104    ...     0.118166  0.081174   0.976248   \n",
       "0     0.488272  0.630441   0.123468    ...     0.041565  0.146618   0.863433   \n",
       "0.5  -0.479872  0.589541   0.080071    ...     0.142860 -0.008560   0.967828   \n",
       "1    -0.388024  0.632639   0.071567    ...     0.114999 -0.029879   0.995039   \n",
       "1.5  -0.184851  0.603303   0.066045    ...     0.110394  0.025481   0.991345   \n",
       "2    -0.278331  0.713210   0.097321    ...     0.060754  0.027168   0.991119   \n",
       "\n",
       "      pupilAngle  grating_lines  scattering_radius  scattering_slope  \\\n",
       "-2      1.551711   40849.806915          72.464641          3.434540   \n",
       "-1.5    0.000000       0.000000           0.000000          0.000000   \n",
       "-1      0.588061   61555.774225          36.202370          3.124119   \n",
       "-0.5   -0.141437   98500.742258          31.557544          2.262033   \n",
       "0      -0.246799   83314.652674          36.367287          2.311652   \n",
       "0.5     1.564560   57653.562088          62.651361          3.223808   \n",
       "1      -0.134766   63591.918208          43.117193          2.408678   \n",
       "1.5    -0.687670   31148.199224          54.242748          3.015090   \n",
       "2       0.270426   45594.636895          55.387968          2.282002   \n",
       "\n",
       "      scattering_amplitude  pixel_effect      flux  \n",
       "-2                0.052231      0.570745  0.997901  \n",
       "-1.5              0.000000      0.000000  0.000000  \n",
       "-1                0.059236      0.458897  0.998990  \n",
       "-0.5              0.051922      0.470261  0.997312  \n",
       "0                 0.071224      0.563485  0.999544  \n",
       "0.5               0.030197      0.519613  0.997926  \n",
       "1                 0.074075      0.522337  0.995636  \n",
       "1.5               0.155674      0.519158  1.000274  \n",
       "2                 0.049656      0.632246  1.037922  \n",
       "\n",
       "[9 rows x 26 columns]"
      ]
     },
     "execution_count": 85,
     "metadata": {},
     "output_type": "execute_result"
    }
   ],
   "source": [
    "results_of_fit_single"
   ]
  },
  {
   "cell_type": "code",
   "execution_count": null,
   "metadata": {
    "collapsed": true
   },
   "outputs": [],
   "source": []
  },
  {
   "cell_type": "code",
   "execution_count": null,
   "metadata": {
    "collapsed": true
   },
   "outputs": [],
   "source": []
  },
  {
   "cell_type": "markdown",
   "metadata": {},
   "source": [
    "# exposure request for France"
   ]
  },
  {
   "cell_type": "code",
   "execution_count": 168,
   "metadata": {
    "ExecuteTime": {
     "end_time": "2018-08-16T15:50:58.148641Z",
     "start_time": "2018-08-16T15:50:57.803009Z"
    }
   },
   "outputs": [],
   "source": [
    "from astropy.io import *\n",
    "\n",
    "res=[]\n",
    "for i in range(8546,8635+1):\n",
    "    hdul = fits.open('/Users/nevencaplar/Documents/PFS/2017-12-15/v000'+str(i)+'/PFLAr1.fits')\n",
    "    res.append([i,hdul[0].header['W_FCA_FOCUS'],hdul[0].header['EXPTIME']])\n",
    "\n",
    "    \n",
    "res=np.array(res)\n",
    "res_exposure_times=res"
   ]
  },
  {
   "cell_type": "code",
   "execution_count": 169,
   "metadata": {
    "ExecuteTime": {
     "end_time": "2018-08-16T15:51:03.954419Z",
     "start_time": "2018-08-16T15:51:03.777747Z"
    }
   },
   "outputs": [
    {
     "data": {
      "text/plain": [
       "[<matplotlib.lines.Line2D at 0x1c3472e1d0>]"
      ]
     },
     "execution_count": 169,
     "metadata": {},
     "output_type": "execute_result"
    },
    {
     "data": {
      "image/png": "[encoded data removed]",
      "text/plain": [
       "<matplotlib.figure.Figure at 0x121954650>"
      ]
     },
     "metadata": {},
     "output_type": "display_data"
    }
   ],
   "source": [
    "plt.plot(res[:,1],res[:,2])"
   ]
  },
  {
   "cell_type": "code",
   "execution_count": 112,
   "metadata": {
    "ExecuteTime": {
     "end_time": "2018-08-16T15:23:04.758246Z",
     "start_time": "2018-08-16T15:23:04.749096Z"
    }
   },
   "outputs": [
    {
     "data": {
      "text/plain": [
       "3517.7310000000002"
      ]
     },
     "execution_count": 112,
     "metadata": {},
     "output_type": "execute_result"
    }
   ],
   "source": [
    "np.sum(res[:,1])"
   ]
  },
  {
   "cell_type": "code",
   "execution_count": 131,
   "metadata": {
    "ExecuteTime": {
     "end_time": "2018-08-16T15:36:01.320600Z",
     "start_time": "2018-08-16T15:36:01.044066Z"
    }
   },
   "outputs": [],
   "source": [
    "from astropy.io import *\n",
    "\n",
    "res=[]\n",
    "for i in range(8637,8708+1):\n",
    "    hdul = fits.open('/Users/nevencaplar/Documents/PFS/2017-12-15-Rerun/v000'+str(i)+'/PFLAr1.fits')\n",
    "    res.append([hdul[0].header['W_FCA_FOCUS'],hdul[0].header['EXPTIME']])\n",
    "\n",
    "    \n",
    "res=np.array(res)"
   ]
  },
  {
   "cell_type": "code",
   "execution_count": 132,
   "metadata": {
    "ExecuteTime": {
     "end_time": "2018-08-16T15:36:01.844758Z",
     "start_time": "2018-08-16T15:36:01.675867Z"
    }
   },
   "outputs": [
    {
     "data": {
      "text/plain": [
       "[<matplotlib.lines.Line2D at 0x1c34aa3590>]"
      ]
     },
     "execution_count": 132,
     "metadata": {},
     "output_type": "execute_result"
    },
    {
     "data": {
      "image/png": "[encoded data removed]",
      "text/plain": [
       "<matplotlib.figure.Figure at 0x1c35140850>"
      ]
     },
     "metadata": {},
     "output_type": "display_data"
    }
   ],
   "source": [
    "plt.plot(res[:,0],res[:,1])"
   ]
  },
  {
   "cell_type": "code",
   "execution_count": 116,
   "metadata": {
    "ExecuteTime": {
     "end_time": "2018-08-16T15:29:28.637340Z",
     "start_time": "2018-08-16T15:29:28.629865Z"
    }
   },
   "outputs": [
    {
     "data": {
      "text/plain": [
       "423.36200000000002"
      ]
     },
     "execution_count": 116,
     "metadata": {},
     "output_type": "execute_result"
    }
   ],
   "source": [
    "np.sum(res[:,1])"
   ]
  },
  {
   "cell_type": "markdown",
   "metadata": {},
   "source": [
    "## which stop is the brightest = 25 in HgAr"
   ]
  },
  {
   "cell_type": "code",
   "execution_count": 262,
   "metadata": {
    "ExecuteTime": {
     "end_time": "2018-08-16T16:17:54.194672Z",
     "start_time": "2018-08-16T16:17:54.173997Z"
    }
   },
   "outputs": [],
   "source": [
    "# which one is the brightest\n",
    "obs=8600\n",
    "res=[]\n",
    "for image_index in [5,15,25,35,45,55,65,75,85,95]:\n",
    "    sci_image=np.load(\"/Users/nevencaplar/Documents/PFS/TigerAnalysis/CutsForTigerAug15/sci\"+str(obs)+str(image_index)+'Stacked_Cleaned_Dithered.npy')\n",
    "    res.append([image_index,np.sum(sci_image)])\n",
    "    \n",
    "res=np.array(res)"
   ]
  },
  {
   "cell_type": "code",
   "execution_count": 263,
   "metadata": {
    "ExecuteTime": {
     "end_time": "2018-08-16T16:17:54.800146Z",
     "start_time": "2018-08-16T16:17:54.668078Z"
    }
   },
   "outputs": [
    {
     "data": {
      "text/plain": [
       "[<matplotlib.lines.Line2D at 0x1c36ac4850>]"
      ]
     },
     "execution_count": 263,
     "metadata": {},
     "output_type": "execute_result"
    },
    {
     "data": {
      "image/png": "[encoded data removed]",
      "text/plain": [
       "<matplotlib.figure.Figure at 0x1c34df4590>"
      ]
     },
     "metadata": {},
     "output_type": "display_data"
    }
   ],
   "source": [
    "plt.plot(res[:,0],res[:,1])"
   ]
  },
  {
   "cell_type": "code",
   "execution_count": 129,
   "metadata": {
    "ExecuteTime": {
     "end_time": "2018-08-16T15:34:32.371063Z",
     "start_time": "2018-08-16T15:34:32.359838Z"
    }
   },
   "outputs": [],
   "source": [
    "# which one is the brightest\n",
    "obs=8600\n",
    "res=[]\n",
    "for image_index in [50,51,52,53,54,55,55,57,58,59]:\n",
    "    sci_image=np.load(\"/Users/nevencaplar/Documents/PFS/TigerAnalysis/CutsForTigerAug15/sci\"+str(obs)+str(image_index)+'Stacked_Cleaned_Dithered.npy')\n",
    "    res.append([image_index,np.sum(sci_image)])\n",
    "    \n",
    "res=np.array(res)"
   ]
  },
  {
   "cell_type": "code",
   "execution_count": 130,
   "metadata": {
    "ExecuteTime": {
     "end_time": "2018-08-16T15:34:47.556787Z",
     "start_time": "2018-08-16T15:34:47.398040Z"
    }
   },
   "outputs": [
    {
     "data": {
      "text/plain": [
       "[<matplotlib.lines.Line2D at 0x1c353caad0>]"
      ]
     },
     "execution_count": 130,
     "metadata": {},
     "output_type": "execute_result"
    },
    {
     "data": {
      "image/png": "[encoded data removed]",
      "text/plain": [
       "<matplotlib.figure.Figure at 0x1c35369310>"
      ]
     },
     "metadata": {},
     "output_type": "display_data"
    }
   ],
   "source": [
    "plt.plot(res[:,0],res[:,1])"
   ]
  },
  {
   "cell_type": "code",
   "execution_count": 264,
   "metadata": {
    "ExecuteTime": {
     "end_time": "2018-08-16T16:18:04.364115Z",
     "start_time": "2018-08-16T16:18:04.356486Z"
    }
   },
   "outputs": [
    {
     "data": {
      "text/plain": [
       "array([[       5.        ,   395108.30400729],\n",
       "       [      15.        ,   710148.25133705],\n",
       "       [      25.        ,  4683875.14539063],\n",
       "       [      35.        ,   677371.21305475],\n",
       "       [      45.        ,  2223239.54220557],\n",
       "       [      55.        ,   989056.95663559],\n",
       "       [      65.        ,  2309431.59889746],\n",
       "       [      75.        ,  4217440.32708585],\n",
       "       [      85.        ,   480912.7847656 ],\n",
       "       [      95.        ,   891316.35342577]])"
      ]
     },
     "execution_count": 264,
     "metadata": {},
     "output_type": "execute_result"
    }
   ],
   "source": [
    "res"
   ]
  },
  {
   "cell_type": "markdown",
   "metadata": {},
   "source": [
    "## What is flux in 25"
   ]
  },
  {
   "cell_type": "code",
   "execution_count": 622,
   "metadata": {
    "ExecuteTime": {
     "end_time": "2018-08-16T21:36:15.626200Z",
     "start_time": "2018-08-16T21:36:15.468259Z"
    }
   },
   "outputs": [],
   "source": [
    "res=[]\n",
    "for obs in range(8549,8633,3):\n",
    "    sci_image=np.load('/Users/nevencaplar/Documents/PFS/2017-12-15/Stamps/sci'+str(obs)+'25.npy')\n",
    "    hdul = fits.open('/Users/nevencaplar/Documents/PFS/2017-12-15/v000'+str(obs)+'/PFLAr1.fits')\n",
    "    res.append([obs,hdul[0].header['W_FCA_FOCUS'],hdul[0].header['EXPTIME'],np.max(sci_image)])\n",
    "    \n",
    "res=np.array(res)\n",
    "res_flux=res"
   ]
  },
  {
   "cell_type": "code",
   "execution_count": 623,
   "metadata": {
    "ExecuteTime": {
     "end_time": "2018-08-16T21:36:15.912827Z",
     "start_time": "2018-08-16T21:36:15.901737Z"
    }
   },
   "outputs": [
    {
     "data": {
      "text/plain": [
       "array([[  8549.        ,     -4.50003   ,    128.459     ,  17383.35742188],\n",
       "       [  8552.        ,     -4.00001   ,    103.177     ,  12640.74902344],\n",
       "       [  8555.        ,     -3.50001   ,     80.828     ,  13089.54785156],\n",
       "       [  8558.        ,     -3.        ,     61.426     ,  12503.11132812],\n",
       "       [  8561.        ,     -2.5       ,     44.952     ,  13214.87792969],\n",
       "       [  8564.        ,     -2.        ,     31.423     ,  13570.40722656],\n",
       "       [  8567.        ,     -1.50001   ,     20.817     ,  14268.42578125],\n",
       "       [  8570.        ,     -0.99999   ,     13.147     ,  16692.67578125],\n",
       "       [  8573.        ,     -0.50001   ,      8.42      ,  26595.54882812],\n",
       "       [  8576.        ,      0.        ,      5.013     ,  31475.79296875],\n",
       "       [  8579.        ,      0.00001   ,      5.013     ,  31973.62890625],\n",
       "       [  8582.        ,      0.        ,      5.013     ,  31429.88671875],\n",
       "       [  8585.        ,     -0.00001   ,      5.013     ,  31366.59765625],\n",
       "       [  8588.        ,     -0.00001   ,      5.013     ,  31250.56445312],\n",
       "       [  8591.        ,      0.00001   ,      5.013     ,  31648.77929688],\n",
       "       [  8594.        ,      0.00001   ,      5.013     ,  31118.58007812],\n",
       "       [  8597.        ,     -0.        ,      5.013     ,  31271.95507812],\n",
       "       [  8600.        ,      0.00001   ,      5.013     ,  31212.29492188],\n",
       "       [  8603.        ,      0.00001   ,      8.42      ,  52009.875     ],\n",
       "       [  8606.        ,      0.5       ,      6.623     ,  19566.56835938],\n",
       "       [  8609.        ,      1.        ,      7.756     ,   9946.8359375 ],\n",
       "       [  8612.        ,      1.49998   ,     11.833     ,   8882.81640625],\n",
       "       [  8615.        ,      1.99997   ,     18.844     ,   8829.89550781],\n",
       "       [  8618.        ,      2.49996   ,     28.796     ,   8910.86230469],\n",
       "       [  8621.        ,      2.99996   ,     41.675     ,   9301.92285156],\n",
       "       [  8624.        ,      3.49997   ,     57.49      ,   9808.9140625 ],\n",
       "       [  8627.        ,      3.99997   ,     76.243     ,   9996.25      ],\n",
       "       [  8630.        ,      4.49996   ,     97.927     ,  10346.62890625]])"
      ]
     },
     "execution_count": 623,
     "metadata": {},
     "output_type": "execute_result"
    }
   ],
   "source": [
    "res_flux"
   ]
  },
  {
   "cell_type": "code",
   "execution_count": 624,
   "metadata": {
    "ExecuteTime": {
     "end_time": "2018-08-16T21:36:17.802552Z",
     "start_time": "2018-08-16T21:36:17.795913Z"
    }
   },
   "outputs": [
    {
     "data": {
      "text/plain": [
       "0.7444774999999999"
      ]
     },
     "execution_count": 624,
     "metadata": {},
     "output_type": "execute_result"
    }
   ],
   "source": [
    "# total time \n",
    "np.sum(res_flux[:,2]*3)/3600"
   ]
  },
  {
   "cell_type": "code",
   "execution_count": 625,
   "metadata": {
    "ExecuteTime": {
     "end_time": "2018-08-16T21:36:18.526752Z",
     "start_time": "2018-08-16T21:36:18.348545Z"
    }
   },
   "outputs": [
    {
     "data": {
      "text/plain": [
       "[<matplotlib.lines.Line2D at 0x1c3cdbd050>]"
      ]
     },
     "execution_count": 625,
     "metadata": {},
     "output_type": "execute_result"
    },
    {
     "data": {
      "image/png": "[encoded data removed]",
      "text/plain": [
       "<matplotlib.figure.Figure at 0x1c396aa690>"
      ]
     },
     "metadata": {},
     "output_type": "display_data"
    }
   ],
   "source": [
    "p4=np.poly1d(np.polyfit(np.round(res_flux[:,1][1:],1),(30000/res_flux[:,3][1:])*res_flux[:,2][1:],2,w=-20+np.sqrt((30000/res_flux[:,3][1:])*res_flux[:,2][1:])))\n",
    "\n",
    "plt.plot(np.round(res_flux[:,1],1),(30000/res_flux[:,3])*res_flux[:,2])\n",
    "plt.plot(np.round(res_flux[:,1],1),p4(np.round(res_flux[:,1],1)))"
   ]
  },
  {
   "cell_type": "code",
   "execution_count": 626,
   "metadata": {
    "ExecuteTime": {
     "end_time": "2018-08-16T21:36:20.802353Z",
     "start_time": "2018-08-16T21:36:20.796749Z"
    }
   },
   "outputs": [],
   "source": [
    "res_HgAr_exposures=[]\n",
    "for i in np.unique(np.round(res_flux[:,1][0:],1)):\n",
    "    res_HgAr_exposures.append([i,p4(i)])\n",
    "    \n",
    "res_HgAr_exposures=np.array(res_HgAr_exposures)"
   ]
  },
  {
   "cell_type": "code",
   "execution_count": 627,
   "metadata": {
    "ExecuteTime": {
     "end_time": "2018-08-16T21:36:21.216729Z",
     "start_time": "2018-08-16T21:36:21.210241Z"
    }
   },
   "outputs": [],
   "source": [
    "res=[]\n",
    "for i in range(10):\n",
    "    res.append([(np.abs(res_HgAr_exposures[:,0][0+i])+res_HgAr_exposures[:,0][-1-i])/2,np.round((res_HgAr_exposures[:,1][0+i]+res_HgAr_exposures[:,1][-1-i])/2)])\n",
    "    \n",
    "res_HgAr_exposures_round=np.array(res)"
   ]
  },
  {
   "cell_type": "code",
   "execution_count": 628,
   "metadata": {
    "ExecuteTime": {
     "end_time": "2018-08-16T21:36:21.705618Z",
     "start_time": "2018-08-16T21:36:21.699039Z"
    }
   },
   "outputs": [
    {
     "data": {
      "text/plain": [
       "array([[   4.5,  304. ],\n",
       "       [   4. ,  241. ],\n",
       "       [   3.5,  186. ],\n",
       "       [   3. ,  138. ],\n",
       "       [   2.5,   98. ],\n",
       "       [   2. ,   65. ],\n",
       "       [   1.5,   39. ],\n",
       "       [   1. ,   21. ],\n",
       "       [   0.5,    9. ],\n",
       "       [   0. ,    6. ]])"
      ]
     },
     "execution_count": 628,
     "metadata": {},
     "output_type": "execute_result"
    }
   ],
   "source": [
    "res_HgAr_exposures_round"
   ]
  },
  {
   "cell_type": "markdown",
   "metadata": {},
   "source": [
    "## SNR analysis "
   ]
  },
  {
   "cell_type": "code",
   "execution_count": 790,
   "metadata": {
    "ExecuteTime": {
     "end_time": "2018-08-16T22:31:45.125990Z",
     "start_time": "2018-08-16T22:31:45.107693Z"
    }
   },
   "outputs": [],
   "source": [
    "image_index=25  \n",
    "obs=8600\n",
    "sci_image=np.load(\"/Users/nevencaplar/Documents/PFS/TigerAnalysis/CutsForTigerAug15/sci\"+str(obs)+str(image_index)+'Stacked_Cleaned_Dithered.npy')\n",
    "var_image=np.load(\"/Users/nevencaplar/Documents/PFS/TigerAnalysis/CutsForTigerAug15/var\"+str(obs)+str(image_index)+'Stacked_Dithered.npy')\n",
    "\n",
    "def create_artifical_var_image(sci_image,Exposure_time_single,Number_of_Exposures,Exposure_time_single_original):\n",
    "    '''\n",
    "    sci_image: data which you have now\n",
    "    Exposure_time_single: how long single exposure\n",
    "    Number_of_Exposures: how many do you want to make\n",
    "    \n",
    "    '''\n",
    "    assert sci_image.shape[0]==40\n",
    "    sci_image_template=np.load(\"/Users/nevencaplar/Documents/PFS/TigerAnalysis/CutsForTigerAug15/sci\"+str(8600)+str(25)+'Stacked_Cleaned_Dithered.npy')\n",
    "    sci_image_template98Percentile=np.percentile(sci_image_template,99)\n",
    "    sci_image_98Percentile=np.percentile(sci_image,99)\n",
    "    return ((sci_image_98Percentile/sci_image_template98Percentile)*sci_image_template*0.8)*Exposure_time_single/Exposure_time_single_original+Number_of_Exposures*20\n",
    "\n",
    "def create_artifical_sci_image(sci_image,Exposure_time_single,Number_of_Exposures,Exposure_time_single_original,Number_of_Exposures_original):\n",
    "    '''\n",
    "    sci_image: data which you have now\n",
    "    Exposure_time_single: how long single exposure\n",
    "    Number_of_Exposures: how many do you want to make\n",
    "    \n",
    "    '''\n",
    "    sci_image_template=np.load(\"/Users/nevencaplar/Documents/PFS/TigerAnalysis/CutsForTigerAug15/sci\"+str(8600)+str(25)+'Stacked_Cleaned_Dithered.npy')\n",
    "    sci_image_template98Percentile=np.percentile(sci_image_template,99)\n",
    "    sci_image_98Percentile=np.percentile(sci_image,99)\n",
    "    return ((sci_image_98Percentile/sci_image_template98Percentile)*sci_image_template*1)*Exposure_time_single/Exposure_time_single_original*Number_of_Exposures/Number_of_Exposures_original"
   ]
  },
  {
   "cell_type": "markdown",
   "metadata": {},
   "source": [
    "### proportionality between science and var image"
   ]
  },
  {
   "cell_type": "code",
   "execution_count": 673,
   "metadata": {
    "ExecuteTime": {
     "end_time": "2018-08-16T21:58:51.354494Z",
     "start_time": "2018-08-16T21:58:50.078525Z"
    }
   },
   "outputs": [
    {
     "data": {
      "text/plain": [
       "<matplotlib.colorbar.Colorbar at 0x1c4cfefd10>"
      ]
     },
     "execution_count": 673,
     "metadata": {},
     "output_type": "execute_result"
    },
    {
     "data": {
      "image/png": "[encoded data removed]",
      "text/plain": [
       "<matplotlib.figure.Figure at 0x1c4ce25f50>"
      ]
     },
     "metadata": {},
     "output_type": "display_data"
    }
   ],
   "source": [
    "plt.imshow(sci_image/np.sqrt(var_image),norm=LogNorm())\n",
    "plt.colorbar()"
   ]
  },
  {
   "cell_type": "code",
   "execution_count": 674,
   "metadata": {
    "ExecuteTime": {
     "end_time": "2018-08-16T21:58:52.104661Z",
     "start_time": "2018-08-16T21:58:51.943636Z"
    }
   },
   "outputs": [
    {
     "data": {
      "text/plain": [
       "[<matplotlib.lines.Line2D at 0x1c4ce66b90>]"
      ]
     },
     "execution_count": 674,
     "metadata": {},
     "output_type": "execute_result"
    },
    {
     "data": {
      "image/png": "[encoded data removed]",
      "text/plain": [
       "<matplotlib.figure.Figure at 0x1c4ccbc450>"
      ]
     },
     "metadata": {},
     "output_type": "display_data"
    }
   ],
   "source": [
    "# not linear, but 0.8 proportionality between sci and var images\n",
    "plt.plot(np.sort(np.ravel(var_image)),0.80*np.sort(np.ravel(sci_image)),color='red')\n",
    "plt.plot(np.sort(np.ravel(var_image)),np.sort(np.ravel(var_image)))"
   ]
  },
  {
   "cell_type": "markdown",
   "metadata": {},
   "source": [
    "### SNR for best image"
   ]
  },
  {
   "cell_type": "code",
   "execution_count": 675,
   "metadata": {
    "ExecuteTime": {
     "end_time": "2018-08-16T21:58:53.755506Z",
     "start_time": "2018-08-16T21:58:53.582305Z"
    }
   },
   "outputs": [
    {
     "name": "stdout",
     "output_type": "stream",
     "text": [
      "5.75345894382\n"
     ]
    },
    {
     "data": {
      "text/plain": [
       "(0, 2)"
      ]
     },
     "execution_count": 675,
     "metadata": {},
     "output_type": "execute_result"
    },
    {
     "data": {
      "image/png": "[encoded data removed]",
      "text/plain": [
       "<matplotlib.figure.Figure at 0x1c4c985d90>"
      ]
     },
     "metadata": {},
     "output_type": "display_data"
    }
   ],
   "source": [
    "plt.plot(np.log10(create_res_data(sci_image/np.sqrt(var_image),None,1)))\n",
    "print(create_res_data(sci_image/np.sqrt(var_image),None,1)[120])\n",
    "plt.ylim(0,2)"
   ]
  },
  {
   "cell_type": "markdown",
   "metadata": {},
   "source": [
    "### SNR for simulated best image"
   ]
  },
  {
   "cell_type": "code",
   "execution_count": 676,
   "metadata": {
    "ExecuteTime": {
     "end_time": "2018-08-16T21:58:55.044065Z",
     "start_time": "2018-08-16T21:58:55.037688Z"
    }
   },
   "outputs": [],
   "source": [
    "test_sci_image=create_artifical_sci_image(sci_image,5,3)\n",
    "test_var_image=create_artifical_var_image(sci_image,5,3)"
   ]
  },
  {
   "cell_type": "code",
   "execution_count": 677,
   "metadata": {
    "ExecuteTime": {
     "end_time": "2018-08-16T21:58:55.801244Z",
     "start_time": "2018-08-16T21:58:55.623145Z"
    }
   },
   "outputs": [
    {
     "name": "stdout",
     "output_type": "stream",
     "text": [
      "5.56339926559\n"
     ]
    },
    {
     "data": {
      "text/plain": [
       "(0, 2)"
      ]
     },
     "execution_count": 677,
     "metadata": {},
     "output_type": "execute_result"
    },
    {
     "data": {
      "image/png": "[encoded data removed]",
      "text/plain": [
       "<matplotlib.figure.Figure at 0x1c4cc82950>"
      ]
     },
     "metadata": {},
     "output_type": "display_data"
    }
   ],
   "source": [
    "plt.plot(np.log10(create_res_data(test_sci_image/np.sqrt(test_var_image),None,1)))\n",
    "print(create_res_data(test_sci_image/np.sqrt(test_var_image),None,1)[120])\n",
    "plt.ylim(0,2)"
   ]
  },
  {
   "cell_type": "code",
   "execution_count": null,
   "metadata": {
    "collapsed": true
   },
   "outputs": [],
   "source": []
  },
  {
   "cell_type": "markdown",
   "metadata": {},
   "source": [
    "### additional test "
   ]
  },
  {
   "cell_type": "code",
   "execution_count": 765,
   "metadata": {
    "ExecuteTime": {
     "end_time": "2018-08-16T22:23:06.871597Z",
     "start_time": "2018-08-16T22:23:06.859623Z"
    }
   },
   "outputs": [],
   "source": [
    "image_index=41 \n",
    "obs=8600\n",
    "sci_image=np.load(\"/Users/nevencaplar/Documents/PFS/TigerAnalysis/CutsForTigerAug15/sci\"+str(obs)+str(image_index)+'Stacked_Cleaned_Dithered.npy')\n",
    "var_image=np.load(\"/Users/nevencaplar/Documents/PFS/TigerAnalysis/CutsForTigerAug15/var\"+str(obs)+str(image_index)+'Stacked_Dithered.npy')"
   ]
  },
  {
   "cell_type": "code",
   "execution_count": 766,
   "metadata": {
    "ExecuteTime": {
     "end_time": "2018-08-16T22:23:07.290986Z",
     "start_time": "2018-08-16T22:23:07.128254Z"
    }
   },
   "outputs": [
    {
     "name": "stdout",
     "output_type": "stream",
     "text": [
      "3.77038031085\n"
     ]
    },
    {
     "data": {
      "text/plain": [
       "(0, 2)"
      ]
     },
     "execution_count": 766,
     "metadata": {},
     "output_type": "execute_result"
    },
    {
     "data": {
      "image/png": "[encoded data removed]",
      "text/plain": [
       "<matplotlib.figure.Figure at 0x1c4def4890>"
      ]
     },
     "metadata": {},
     "output_type": "display_data"
    }
   ],
   "source": [
    "plt.plot(np.log10(create_res_data(sci_image/np.sqrt(var_image),None,1)))\n",
    "print(create_res_data(sci_image/np.sqrt(var_image),None,1)[120])\n",
    "plt.ylim(0,2)"
   ]
  },
  {
   "cell_type": "code",
   "execution_count": 767,
   "metadata": {
    "ExecuteTime": {
     "end_time": "2018-08-16T22:23:07.441486Z",
     "start_time": "2018-08-16T22:23:07.431504Z"
    },
    "collapsed": true
   },
   "outputs": [],
   "source": [
    "test_sci_image=create_artifical_sci_image(sci_image,5,3)\n",
    "test_var_image=create_artifical_var_image(sci_image,5,3)"
   ]
  },
  {
   "cell_type": "code",
   "execution_count": 768,
   "metadata": {
    "ExecuteTime": {
     "end_time": "2018-08-16T22:23:07.963005Z",
     "start_time": "2018-08-16T22:23:07.947525Z"
    },
    "collapsed": true
   },
   "outputs": [],
   "source": [
    "test_artifical_noise=np.zeros((40,40))\n",
    "for i in range(40):\n",
    "    for j in range(40):\n",
    "        test_artifical_noise[i,j]=np.random.normal(0,np.sqrt(test_var_image[i,j]))"
   ]
  },
  {
   "cell_type": "code",
   "execution_count": 769,
   "metadata": {
    "ExecuteTime": {
     "end_time": "2018-08-16T22:23:08.561574Z",
     "start_time": "2018-08-16T22:23:08.360663Z"
    }
   },
   "outputs": [
    {
     "name": "stdout",
     "output_type": "stream",
     "text": [
      "3.18404151086\n"
     ]
    },
    {
     "data": {
      "text/plain": [
       "(0, 3)"
      ]
     },
     "execution_count": 769,
     "metadata": {},
     "output_type": "execute_result"
    },
    {
     "data": {
      "image/png": "[encoded data removed]",
      "text/plain": [
       "<matplotlib.figure.Figure at 0x1c3c984b90>"
      ]
     },
     "metadata": {},
     "output_type": "display_data"
    }
   ],
   "source": [
    "plt.plot(np.log10(create_res_data((test_sci_image)/np.sqrt(test_var_image),None,1)))\n",
    "plt.plot(np.log10(create_res_data(sci_image/np.sqrt(var_image),None,1)))\n",
    "print(create_res_data(test_sci_image/np.sqrt(test_var_image),None,1)[120])\n",
    "plt.ylim(0,3)"
   ]
  },
  {
   "cell_type": "code",
   "execution_count": 707,
   "metadata": {
    "ExecuteTime": {
     "end_time": "2018-08-16T22:11:42.308148Z",
     "start_time": "2018-08-16T22:11:42.301517Z"
    }
   },
   "outputs": [
    {
     "data": {
      "text/plain": [
       "7450.8839893341064"
      ]
     },
     "execution_count": 707,
     "metadata": {},
     "output_type": "execute_result"
    }
   ],
   "source": [
    "np.max(sci_image)"
   ]
  },
  {
   "cell_type": "code",
   "execution_count": 708,
   "metadata": {
    "ExecuteTime": {
     "end_time": "2018-08-16T22:11:43.167119Z",
     "start_time": "2018-08-16T22:11:42.780109Z"
    }
   },
   "outputs": [
    {
     "data": {
      "text/plain": [
       "<matplotlib.colorbar.Colorbar at 0x1c4d7a7510>"
      ]
     },
     "execution_count": 708,
     "metadata": {},
     "output_type": "execute_result"
    },
    {
     "data": {
      "image/png": "[encoded data removed]",
      "text/plain": [
       "<matplotlib.figure.Figure at 0x1c3ca8d590>"
      ]
     },
     "metadata": {},
     "output_type": "display_data"
    }
   ],
   "source": [
    "plt.imshow(test_var_image,norm=LogNorm())\n",
    "plt.colorbar()"
   ]
  },
  {
   "cell_type": "code",
   "execution_count": 709,
   "metadata": {
    "ExecuteTime": {
     "end_time": "2018-08-16T22:11:44.154151Z",
     "start_time": "2018-08-16T22:11:43.973544Z"
    }
   },
   "outputs": [
    {
     "data": {
      "text/plain": [
       "(0, 500)"
      ]
     },
     "execution_count": 709,
     "metadata": {},
     "output_type": "execute_result"
    },
    {
     "data": {
      "image/png": "[encoded data removed]",
      "text/plain": [
       "<matplotlib.figure.Figure at 0x1c4d7cd790>"
      ]
     },
     "metadata": {},
     "output_type": "display_data"
    }
   ],
   "source": [
    "plt.plot(np.ravel(sci_image),np.ravel(test_sci_image))\n",
    "plt.plot(np.ravel(test_sci_image),np.ravel(test_sci_image))\n",
    "plt.xlim(0,500)\n",
    "plt.ylim(0,500)"
   ]
  },
  {
   "cell_type": "code",
   "execution_count": 710,
   "metadata": {
    "ExecuteTime": {
     "end_time": "2018-08-16T22:11:46.073996Z",
     "start_time": "2018-08-16T22:11:45.708767Z"
    }
   },
   "outputs": [
    {
     "data": {
      "text/plain": [
       "<matplotlib.colorbar.Colorbar at 0x1c4db81a10>"
      ]
     },
     "execution_count": 710,
     "metadata": {},
     "output_type": "execute_result"
    },
    {
     "data": {
      "image/png": "[encoded data removed]",
      "text/plain": [
       "<matplotlib.figure.Figure at 0x1c4da227d0>"
      ]
     },
     "metadata": {},
     "output_type": "display_data"
    }
   ],
   "source": [
    "plt.imshow(var_image,norm=LogNorm())\n",
    "plt.colorbar()"
   ]
  },
  {
   "cell_type": "code",
   "execution_count": 711,
   "metadata": {
    "ExecuteTime": {
     "end_time": "2018-08-16T22:11:46.803690Z",
     "start_time": "2018-08-16T22:11:46.629348Z"
    }
   },
   "outputs": [
    {
     "name": "stdout",
     "output_type": "stream",
     "text": [
      "0.589789895156\n"
     ]
    },
    {
     "data": {
      "text/plain": [
       "(0, 2)"
      ]
     },
     "execution_count": 711,
     "metadata": {},
     "output_type": "execute_result"
    },
    {
     "data": {
      "image/png": "[encoded data removed]",
      "text/plain": [
       "<matplotlib.figure.Figure at 0x1c4d67dd90>"
      ]
     },
     "metadata": {},
     "output_type": "display_data"
    }
   ],
   "source": []
  },
  {
   "cell_type": "markdown",
   "metadata": {},
   "source": [
    "### Using relation"
   ]
  },
  {
   "cell_type": "code",
   "execution_count": 770,
   "metadata": {
    "ExecuteTime": {
     "end_time": "2018-08-16T22:23:29.290362Z",
     "start_time": "2018-08-16T22:23:29.264026Z"
    }
   },
   "outputs": [
    {
     "name": "stdout",
     "output_type": "stream",
     "text": [
      "2.21123345322\n"
     ]
    }
   ],
   "source": [
    "image_index=5  \n",
    "obs=8600\n",
    "sci_image=np.load(\"/Users/nevencaplar/Documents/PFS/TigerAnalysis/CutsForTigerAug15/sci\"+str(obs)+str(image_index)+'Stacked_Cleaned_Dithered.npy')\n",
    "var_image=np.load(\"/Users/nevencaplar/Documents/PFS/TigerAnalysis/CutsForTigerAug15/var\"+str(obs)+str(image_index)+'Stacked_Dithered.npy')\n",
    "\n",
    "test_sci_image=create_artifical_sci_image(sci_image,6,30)\n",
    "test_var_image=create_artifical_var_image(sci_image,6,30)\n",
    "print(create_res_data(test_sci_image/np.sqrt(test_var_image),None,1)[120])"
   ]
  },
  {
   "cell_type": "markdown",
   "metadata": {},
   "source": [
    "### Summation "
   ]
  },
  {
   "cell_type": "code",
   "execution_count": 830,
   "metadata": {
    "ExecuteTime": {
     "end_time": "2018-08-16T22:38:34.537611Z",
     "start_time": "2018-08-16T22:38:34.530309Z"
    }
   },
   "outputs": [
    {
     "data": {
      "text/plain": [
       "array([ 304.,  241.,  186.,  138.,   98.,   65.,   39.,   21.,    9.,    6.])"
      ]
     },
     "execution_count": 830,
     "metadata": {},
     "output_type": "execute_result"
    }
   ],
   "source": [
    "res_HgAr_exposures_round[:,1]=res_HgAr_exposures_round[:,1]*4\n",
    "res_HgAr_exposures_round[:,1]"
   ]
  },
  {
   "cell_type": "code",
   "execution_count": 846,
   "metadata": {
    "ExecuteTime": {
     "end_time": "2018-08-16T22:54:34.019542Z",
     "start_time": "2018-08-16T22:54:34.010953Z"
    }
   },
   "outputs": [
    {
     "data": {
      "text/plain": [
       "1.2666666666666666"
      ]
     },
     "execution_count": 846,
     "metadata": {},
     "output_type": "execute_result"
    }
   ],
   "source": [
    "Dithered_HgAr=(res_HgAr_exposures_round[:,1][-1]*(30*4)+2*res_HgAr_exposures_round[:,1][-2]*(30*4)+2*res_HgAr_exposures_round[:,1][-3]*(10*4))\n",
    "Dithered_HgAr/3600"
   ]
  },
  {
   "cell_type": "code",
   "execution_count": 835,
   "metadata": {
    "ExecuteTime": {
     "end_time": "2018-08-16T22:39:04.050266Z",
     "start_time": "2018-08-16T22:39:04.041283Z"
    }
   },
   "outputs": [
    {
     "data": {
      "text/plain": [
       "1.2783333333333333"
      ]
     },
     "execution_count": 835,
     "metadata": {},
     "output_type": "execute_result"
    }
   ],
   "source": [
    "NoDithered_HgAr=(res_HgAr_exposures_round[:,1][-4]*3*2+res_HgAr_exposures_round[:,1][-5]*3*2+\n",
    "            res_HgAr_exposures_round[:,1][-6]*3*2+res_HgAr_exposures_round[:,1][-7]*3*2+res_HgAr_exposures_round[:,1][-8]*3*2+res_HgAr_exposures_round[:,1][-9]*3*2)\n",
    "NoDithered_HgAr/3600"
   ]
  },
  {
   "cell_type": "code",
   "execution_count": 836,
   "metadata": {
    "ExecuteTime": {
     "end_time": "2018-08-16T22:39:17.640359Z",
     "start_time": "2018-08-16T22:39:17.633728Z"
    }
   },
   "outputs": [
    {
     "data": {
      "text/plain": [
       "2.6783333333333332"
      ]
     },
     "execution_count": 836,
     "metadata": {},
     "output_type": "execute_result"
    }
   ],
   "source": [
    "(Dithered_HgAr+NoDithered_HgAr)/3600"
   ]
  },
  {
   "cell_type": "code",
   "execution_count": null,
   "metadata": {
    "collapsed": true
   },
   "outputs": [],
   "source": [
    "Dithered=(res_HgAr_exposures_round[:,1][-1]*(30*4)+2*res_HgAr_exposures_round[:,1][-2]*(30*4)+2*res_HgAr_exposures_round[:,1][-2]*(30*4))\n",
    "Dithered/3600"
   ]
  },
  {
   "cell_type": "markdown",
   "metadata": {},
   "source": [
    "## Neon"
   ]
  },
  {
   "cell_type": "markdown",
   "metadata": {},
   "source": [
    "### initial investigation"
   ]
  },
  {
   "cell_type": "code",
   "execution_count": 299,
   "metadata": {
    "ExecuteTime": {
     "end_time": "2018-08-16T17:32:38.901711Z",
     "start_time": "2018-08-16T17:32:38.880738Z"
    },
    "collapsed": true
   },
   "outputs": [],
   "source": [
    "# which fiber is the brightest\n",
    "obs=8690\n",
    "res=[]\n",
    "for image_index in [50,51,52,53,54,55,55,57,58,59]:\n",
    "    sci_image=np.load(\"/Users/nevencaplar/Documents/PFS/2017-12-15-Rerun/StampsNeon/sci\"+str(obs)+str(image_index)+'Stacked.npy')\n",
    "    res.append([image_index,np.sum(sci_image)])\n",
    "    \n",
    "res=np.array(res)"
   ]
  },
  {
   "cell_type": "code",
   "execution_count": 589,
   "metadata": {
    "ExecuteTime": {
     "end_time": "2018-08-16T21:25:09.934375Z",
     "start_time": "2018-08-16T21:25:09.917561Z"
    }
   },
   "outputs": [],
   "source": [
    "# which fiber is the brightest\n",
    "obs=8690\n",
    "res=[]\n",
    "for image_index in np.array([5,15,25,35,45,55,65,75,85,95]):\n",
    "    sci_image=np.load(\"/Users/nevencaplar/Documents/PFS/2017-12-15-Rerun/StampsNeon/sci\"+str(obs)+str(image_index)+'Stacked_Dithered.npy')\n",
    "    res.append([image_index,np.sum(sci_image),np.max(sci_image)])\n",
    "    \n",
    "res=np.array(res)\n",
    "\n"
   ]
  },
  {
   "cell_type": "code",
   "execution_count": 590,
   "metadata": {
    "ExecuteTime": {
     "end_time": "2018-08-16T21:25:10.498820Z",
     "start_time": "2018-08-16T21:25:10.491387Z"
    }
   },
   "outputs": [
    {
     "data": {
      "text/plain": [
       "array([[        5.        ,     65522.35166834,      1275.70770264],\n",
       "       [       15.        ,     81780.04436734,      1560.40078735],\n",
       "       [       25.        ,     88040.09813835,      1777.47592163],\n",
       "       [       35.        ,    343414.15720771,      6973.84228516],\n",
       "       [       45.        ,   1266031.14266743,     25535.31835938],\n",
       "       [       55.        ,   2156779.88208435,     43502.8984375 ],\n",
       "       [       65.        ,  10783487.10600698,    219107.4609375 ],\n",
       "       [       75.        ,   4027869.47300729,     81156.26953125],\n",
       "       [       85.        ,   2785880.32528721,     56919.31054688],\n",
       "       [       95.        ,   1980729.52396098,     40680.0390625 ]])"
      ]
     },
     "execution_count": 590,
     "metadata": {},
     "output_type": "execute_result"
    }
   ],
   "source": [
    "res"
   ]
  },
  {
   "cell_type": "code",
   "execution_count": 303,
   "metadata": {
    "ExecuteTime": {
     "end_time": "2018-08-16T17:34:35.364219Z",
     "start_time": "2018-08-16T17:34:35.204482Z"
    }
   },
   "outputs": [
    {
     "data": {
      "text/plain": [
       "[<matplotlib.lines.Line2D at 0x1c38a10f90>]"
      ]
     },
     "execution_count": 303,
     "metadata": {},
     "output_type": "execute_result"
    },
    {
     "data": {
      "image/png": "[encoded data removed]",
      "text/plain": [
       "<matplotlib.figure.Figure at 0x1c38851750>"
      ]
     },
     "metadata": {},
     "output_type": "display_data"
    }
   ],
   "source": [
    "plt.plot(res[:,0],res[:,1])"
   ]
  },
  {
   "cell_type": "code",
   "execution_count": 631,
   "metadata": {
    "ExecuteTime": {
     "end_time": "2018-08-16T21:40:42.908597Z",
     "start_time": "2018-08-16T21:40:42.838886Z"
    }
   },
   "outputs": [],
   "source": [
    "run_full=np.array([8576,8579,8582,8585,8588,8591,8594,8597,8600,8603])+90\n",
    "\n",
    "res=[]\n",
    "for obs in run_full:\n",
    "    sci_image=np.load('/Users/nevencaplar/Documents/PFS/2017-12-15-Rerun/StampsNeon/sci'+str(obs)+'65Stacked.npy')\n",
    "    hdul = fits.open('/Users/nevencaplar/Documents/PFS/2017-12-15-Rerun/v000'+str(obs)+'/PFLAr1.fits')\n",
    "    res.append([obs,hdul[0].header['W_FCA_FOCUS'],hdul[0].header['EXPTIME'],np.max(sci_image)])\n",
    "    \n",
    "res=np.array(res)\n",
    "res_flux=res\n"
   ]
  },
  {
   "cell_type": "code",
   "execution_count": 653,
   "metadata": {
    "ExecuteTime": {
     "end_time": "2018-08-16T21:50:35.357873Z",
     "start_time": "2018-08-16T21:50:35.193346Z"
    }
   },
   "outputs": [
    {
     "data": {
      "text/plain": [
       "10409.805"
      ]
     },
     "execution_count": 653,
     "metadata": {},
     "output_type": "execute_result"
    },
    {
     "data": {
      "image/png": "[encoded data removed]",
      "text/plain": [
       "<matplotlib.figure.Figure at 0x1c4c67fd50>"
      ]
     },
     "metadata": {},
     "output_type": "display_data"
    }
   ],
   "source": [
    "plt.imshow(np.load(\"/Users/nevencaplar/Documents/PFS/2017-12-15-Rerun/StampsNeon/sci\"+str(8690)+str(95)+'Stacked.npy'),norm=LogNorm())\n",
    "np.max(np.load(\"/Users/nevencaplar/Documents/PFS/2017-12-15-Rerun/StampsNeon/sci\"+str(8690)+str(95)+'Stacked.npy'))"
   ]
  },
  {
   "cell_type": "code",
   "execution_count": 645,
   "metadata": {
    "ExecuteTime": {
     "end_time": "2018-08-16T21:49:35.273973Z",
     "start_time": "2018-08-16T21:49:32.377751Z"
    }
   },
   "outputs": [],
   "source": [
    "single_number_for_single_pos_full_pd_Neon= pd.read_pickle(\"/Users/nevencaplar/Documents/PFS/2017-12-15/single_number_for_single_pos_full_pd_Neon.pkl\")\n",
    "\n",
    "run=8690\n",
    "data=fits.open('/Users/nevencaplar/Documents/PFS/2017-12-15-Rerun/v000'+str(run)+'/PFLAr1.fits')\n",
    "scidata8603=np.flipud(data[1].data)\n",
    "vardata8603=np.flipud(data[3].data)\n",
    "\n",
    "run2=run+1\n",
    "data=fits.open('/Users/nevencaplar/Documents/PFS/2017-12-15-Rerun/v000'+str(run2)+'/PFLAr1.fits')\n",
    "scidata8604=np.flipud(data[1].data)\n",
    "vardata8604=np.flipud(data[3].data)\n",
    "\n",
    "run3=run+2\n",
    "data=fits.open('/Users/nevencaplar/Documents/PFS/2017-12-15-Rerun/v000'+str(run3)+'/PFLAr1.fits')\n",
    "scidata8605=np.flipud(data[1].data)\n",
    "vardata8605=np.flipud(data[3].data)\n",
    "\n",
    "i=65\n",
    "dx=int(single_number_for_single_pos_full_pd_Neon.iloc[i]['xc'])\n",
    "dy=int(single_number_for_single_pos_full_pd_Neon.iloc[i]['yc'])\n",
    "scidata_cut=scidata8603[4176-(dy+10):4176-(dy-10),dx-10:dx+10]+scidata8604[4176-(dy+10):4176-(dy-10),dx-10:dx+10]+scidata8605[4176-(dy+10):4176-(dy-10),dx-10:dx+10]\n",
    "vardata_cut=vardata8603[4176-(dy+10):4176-(dy-10),dx-10:dx+10]+vardata8604[4176-(dy+10):4176-(dy-10),dx-10:dx+10]+vardata8605[4176-(dy+10):4176-(dy-10),dx-10:dx+10]"
   ]
  },
  {
   "cell_type": "code",
   "execution_count": 655,
   "metadata": {
    "ExecuteTime": {
     "end_time": "2018-08-16T21:50:48.561150Z",
     "start_time": "2018-08-16T21:50:48.554823Z"
    }
   },
   "outputs": [
    {
     "data": {
      "text/plain": [
       "1143"
      ]
     },
     "execution_count": 655,
     "metadata": {},
     "output_type": "execute_result"
    }
   ],
   "source": [
    "dx\n",
    "dy"
   ]
  },
  {
   "cell_type": "markdown",
   "metadata": {},
   "source": [
    "### Using my super ultra code "
   ]
  },
  {
   "cell_type": "markdown",
   "metadata": {},
   "source": [
    "#### testing"
   ]
  },
  {
   "cell_type": "code",
   "execution_count": 791,
   "metadata": {
    "ExecuteTime": {
     "end_time": "2018-08-16T22:32:35.188718Z",
     "start_time": "2018-08-16T22:32:35.010727Z"
    }
   },
   "outputs": [
    {
     "name": "stdout",
     "output_type": "stream",
     "text": [
      "9.09980051188\n"
     ]
    },
    {
     "data": {
      "text/plain": [
       "(0, 2)"
      ]
     },
     "execution_count": 791,
     "metadata": {},
     "output_type": "execute_result"
    },
    {
     "data": {
      "image/png": "[encoded data removed]",
      "text/plain": [
       "<matplotlib.figure.Figure at 0x1c3bded110>"
      ]
     },
     "metadata": {},
     "output_type": "display_data"
    }
   ],
   "source": [
    "image_index=65\n",
    "obs=8690\n",
    "sci_image=np.load('/Users/nevencaplar/Documents/PFS/2017-12-15-Rerun/StampsNeon/sci'+str(obs)+str(image_index)+'Stacked_Dithered.npy')\n",
    "var_image=np.load(\"/Users/nevencaplar/Documents/PFS/2017-12-15-Rerun/StampsNeon/var\"+str(obs)+str(image_index)+'Stacked_Dithered.npy')\n",
    "\n",
    "plt.plot(np.log10(create_res_data(sci_image/np.sqrt(var_image),None,1)))\n",
    "print(create_res_data(sci_image/np.sqrt(var_image),None,1)[120])\n",
    "plt.ylim(0,2)"
   ]
  },
  {
   "cell_type": "code",
   "execution_count": 799,
   "metadata": {
    "ExecuteTime": {
     "end_time": "2018-08-16T22:34:12.438579Z",
     "start_time": "2018-08-16T22:34:12.424928Z"
    }
   },
   "outputs": [],
   "source": [
    "test_sci_image=create_artifical_sci_image(sci_image,3,4,1,12)\n",
    "test_var_image=create_artifical_var_image(sci_image,3,4,1)"
   ]
  },
  {
   "cell_type": "code",
   "execution_count": 800,
   "metadata": {
    "ExecuteTime": {
     "end_time": "2018-08-16T22:34:12.989164Z",
     "start_time": "2018-08-16T22:34:12.807210Z"
    }
   },
   "outputs": [
    {
     "name": "stdout",
     "output_type": "stream",
     "text": [
      "6.34015957805\n"
     ]
    },
    {
     "data": {
      "text/plain": [
       "(0, 3)"
      ]
     },
     "execution_count": 800,
     "metadata": {},
     "output_type": "execute_result"
    },
    {
     "data": {
      "image/png": "[encoded data removed]",
      "text/plain": [
       "<matplotlib.figure.Figure at 0x1c4e07c810>"
      ]
     },
     "metadata": {},
     "output_type": "display_data"
    }
   ],
   "source": [
    "plt.plot(np.log10(create_res_data((test_sci_image)/np.sqrt(test_var_image),None,1)))\n",
    "plt.plot(np.log10(create_res_data(sci_image/np.sqrt(var_image),None,1)))\n",
    "print(create_res_data(test_sci_image/np.sqrt(test_var_image),None,1)[120])\n",
    "plt.ylim(0,3)"
   ]
  },
  {
   "cell_type": "code",
   "execution_count": null,
   "metadata": {
    "collapsed": true
   },
   "outputs": [],
   "source": []
  },
  {
   "cell_type": "markdown",
   "metadata": {},
   "source": [
    "#### working"
   ]
  },
  {
   "cell_type": "code",
   "execution_count": 812,
   "metadata": {
    "ExecuteTime": {
     "end_time": "2018-08-16T22:36:13.047161Z",
     "start_time": "2018-08-16T22:36:13.022278Z"
    }
   },
   "outputs": [
    {
     "name": "stdout",
     "output_type": "stream",
     "text": [
      "1.04413661885\n"
     ]
    }
   ],
   "source": [
    "image_index=35\n",
    "obs=8690\n",
    "sci_image=np.load('/Users/nevencaplar/Documents/PFS/2017-12-15-Rerun/StampsNeon/sci'+str(obs)+str(image_index)+'Stacked_Dithered.npy')\n",
    "var_image=np.load(\"/Users/nevencaplar/Documents/PFS/2017-12-15-Rerun/StampsNeon/var\"+str(obs)+str(image_index)+'Stacked_Dithered.npy')\n",
    "\n",
    "test_sci_image=create_artifical_sci_image(sci_image,3,20,1,12)\n",
    "test_var_image=create_artifical_var_image(sci_image,3,20,1)\n",
    "print(create_res_data(test_sci_image/np.sqrt(test_var_image),None,1)[120])"
   ]
  },
  {
   "cell_type": "code",
   "execution_count": 813,
   "metadata": {
    "ExecuteTime": {
     "end_time": "2018-08-16T22:36:14.378103Z",
     "start_time": "2018-08-16T22:36:13.701340Z"
    }
   },
   "outputs": [
    {
     "data": {
      "text/plain": [
       "<matplotlib.colorbar.Colorbar at 0x1c542a6910>"
      ]
     },
     "execution_count": 813,
     "metadata": {},
     "output_type": "execute_result"
    },
    {
     "data": {
      "image/png": "[encoded data removed]",
      "text/plain": [
       "<matplotlib.figure.Figure at 0x1c5422d6d0>"
      ]
     },
     "metadata": {},
     "output_type": "display_data"
    }
   ],
   "source": [
    "\n",
    "test_artifical_noise=np.zeros((40,40))\n",
    "for i in range(40):\n",
    "    for j in range(40):\n",
    "        test_artifical_noise[i,j]=np.random.normal(0,np.sqrt(test_var_image[i,j]))\n",
    "        \n",
    "plt.imshow(test_sci_image+test_artifical_noise,norm=LogNorm())        \n",
    "plt.colorbar()"
   ]
  },
  {
   "cell_type": "code",
   "execution_count": 525,
   "metadata": {
    "ExecuteTime": {
     "end_time": "2018-08-16T19:45:50.628511Z",
     "start_time": "2018-08-16T19:45:50.620029Z"
    }
   },
   "outputs": [
    {
     "data": {
      "text/plain": [
       "61.569106483459471"
      ]
     },
     "execution_count": 525,
     "metadata": {},
     "output_type": "execute_result"
    }
   ],
   "source": [
    "np.percentile(var_image,15)"
   ]
  },
  {
   "cell_type": "markdown",
   "metadata": {},
   "source": [
    "### Summation"
   ]
  },
  {
   "cell_type": "code",
   "execution_count": 543,
   "metadata": {
    "ExecuteTime": {
     "end_time": "2018-08-16T20:16:18.158613Z",
     "start_time": "2018-08-16T20:16:18.149415Z"
    }
   },
   "outputs": [
    {
     "data": {
      "text/plain": [
       "array([[   4.5,  304. ],\n",
       "       [   4. ,  241. ],\n",
       "       [   3.5,  186. ],\n",
       "       [   3. ,  138. ],\n",
       "       [   2.5,   98. ],\n",
       "       [   2. ,   65. ],\n",
       "       [   1.5,   39. ],\n",
       "       [   1. ,   21. ],\n",
       "       [   0.5,    9. ],\n",
       "       [   0. ,    6. ]])"
      ]
     },
     "execution_count": 543,
     "metadata": {},
     "output_type": "execute_result"
    }
   ],
   "source": [
    "res_HgAr_exposures_round"
   ]
  },
  {
   "cell_type": "code",
   "execution_count": 853,
   "metadata": {
    "ExecuteTime": {
     "end_time": "2018-08-16T23:01:10.318152Z",
     "start_time": "2018-08-16T23:01:10.313354Z"
    },
    "collapsed": true
   },
   "outputs": [],
   "source": [
    "res_Neon_exposures=res_HgAr_exposures_round\n",
    "res_Neon_exposures[:,1]=res_Neon_exposures[:,1]/2"
   ]
  },
  {
   "cell_type": "code",
   "execution_count": 854,
   "metadata": {
    "ExecuteTime": {
     "end_time": "2018-08-16T23:01:10.738380Z",
     "start_time": "2018-08-16T23:01:10.730145Z"
    }
   },
   "outputs": [
    {
     "data": {
      "text/plain": [
       "array([[   4.5,  152. ],\n",
       "       [   4. ,  120.5],\n",
       "       [   3.5,   93. ],\n",
       "       [   3. ,   69. ],\n",
       "       [   2.5,   49. ],\n",
       "       [   2. ,   32.5],\n",
       "       [   1.5,   19.5],\n",
       "       [   1. ,   10.5],\n",
       "       [   0.5,    4.5],\n",
       "       [   0. ,    3. ]])"
      ]
     },
     "execution_count": 854,
     "metadata": {},
     "output_type": "execute_result"
    }
   ],
   "source": [
    "res_Neon_exposures"
   ]
  },
  {
   "cell_type": "code",
   "execution_count": 855,
   "metadata": {
    "ExecuteTime": {
     "end_time": "2018-08-16T23:01:11.746300Z",
     "start_time": "2018-08-16T23:01:11.738065Z"
    }
   },
   "outputs": [
    {
     "data": {
      "text/plain": [
       "0.6333333333333333"
      ]
     },
     "execution_count": 855,
     "metadata": {},
     "output_type": "execute_result"
    }
   ],
   "source": [
    "Dithered_Neon=(res_Neon_exposures[:,1][-1]*(30*4)+2*res_Neon_exposures[:,1][-2]*(30*4)+2*res_Neon_exposures[:,1][-3]*(10*4))\n",
    "Dithered_Neon/3600"
   ]
  },
  {
   "cell_type": "code",
   "execution_count": 856,
   "metadata": {
    "ExecuteTime": {
     "end_time": "2018-08-16T23:01:12.330048Z",
     "start_time": "2018-08-16T23:01:12.323342Z"
    }
   },
   "outputs": [
    {
     "data": {
      "text/plain": [
       "0.19666666666666666"
      ]
     },
     "execution_count": 856,
     "metadata": {},
     "output_type": "execute_result"
    }
   ],
   "source": [
    "NoDithered_Neon=(res_Neon_exposures[:,1][-3]*2*2+res_Neon_exposures[:,1][-4]*3*2+res_Neon_exposures[:,1][-5]*3*2)*2\n",
    "NoDithered_Neon/3600"
   ]
  },
  {
   "cell_type": "code",
   "execution_count": 861,
   "metadata": {
    "ExecuteTime": {
     "end_time": "2018-08-16T23:02:25.279321Z",
     "start_time": "2018-08-16T23:02:25.273103Z"
    }
   },
   "outputs": [
    {
     "data": {
      "text/plain": [
       "49.799999999999997"
      ]
     },
     "execution_count": 861,
     "metadata": {},
     "output_type": "execute_result"
    }
   ],
   "source": [
    "(NoDithered_Neon+Dithered_Neon)/60"
   ]
  },
  {
   "cell_type": "code",
   "execution_count": 858,
   "metadata": {
    "ExecuteTime": {
     "end_time": "2018-08-16T23:01:37.129229Z",
     "start_time": "2018-08-16T23:01:37.122300Z"
    }
   },
   "outputs": [
    {
     "data": {
      "text/plain": [
       "3.375"
      ]
     },
     "execution_count": 858,
     "metadata": {},
     "output_type": "execute_result"
    }
   ],
   "source": [
    "(Dithered_HgAr+NoDithered_HgAr)/3600+(Dithered_Neon+NoDithered_Neon)/3600"
   ]
  },
  {
   "cell_type": "code",
   "execution_count": null,
   "metadata": {
    "collapsed": true
   },
   "outputs": [],
   "source": []
  },
  {
   "cell_type": "code",
   "execution_count": null,
   "metadata": {
    "collapsed": true
   },
   "outputs": [],
   "source": []
  }
 ],
 "metadata": {
  "kernelspec": {
   "display_name": "Python 2",
   "language": "python",
   "name": "python2"
  },
  "language_info": {
   "codemirror_mode": {
    "name": "ipython",
    "version": 2
   },
   "file_extension": ".py",
   "mimetype": "text/x-python",
   "name": "python",
   "nbconvert_exporter": "python",
   "pygments_lexer": "ipython2",
   "version": "2.7.14"
  },
  "toc": {
   "base_numbering": 1,
   "nav_menu": {},
   "number_sections": true,
   "sideBar": true,
   "skip_h1_title": false,
   "title_cell": "Table of Contents",
   "title_sidebar": "Contents",
   "toc_cell": false,
   "toc_position": {},
   "toc_section_display": true,
   "toc_window_display": false
  }
 },
 "nbformat": 4,
 "nbformat_minor": 2
}
