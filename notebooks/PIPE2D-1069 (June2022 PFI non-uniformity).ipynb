{
 "cells": [
  {
   "cell_type": "code",
   "execution_count": null,
   "id": "92c3fc0b",
   "metadata": {},
   "outputs": [],
   "source": [
    "from datetime import datetime\n",
    "import os\n",
    "import numpy as np\n",
    "\n",
    "%matplotlib notebook\n",
    "import matplotlib.pyplot as plt\n",
    "plt.rcParams['figure.figsize'] = (9, 7)\n",
    "\n",
    "from IPython.display import display, HTML\n",
    "display(HTML(\"<style>.container { width:99% !important; }</style>\"))\n",
    "\n",
    "import lsst.daf.persistence as dafPersist"
   ]
  },
  {
   "cell_type": "code",
   "execution_count": null,
   "id": "4a14b4cf",
   "metadata": {},
   "outputs": [],
   "source": [
    "from pfs.utils.fiberids import FiberIds"
   ]
  },
  {
   "cell_type": "code",
   "execution_count": null,
   "id": "85f6b9e8",
   "metadata": {},
   "outputs": [],
   "source": [
    "base='/projects/HSC/PFS/Subaru'\n",
    "calibRoot = \"/projects/HSC/PFS/Subaru/CALIB-20220630\"\n",
    "rerun='hassans/dev/pipe2d-1069-20220812a'\n",
    "\n",
    "dataDir = os.path.join(base, \"rerun\", rerun)\n",
    "butler = dafPersist.Butler(dataDir, calibRoot=calibRoot)"
   ]
  },
  {
   "cell_type": "code",
   "execution_count": null,
   "id": "98bd2006",
   "metadata": {},
   "outputs": [],
   "source": [
    "fiberIds = FiberIds()"
   ]
  },
  {
   "cell_type": "code",
   "execution_count": null,
   "id": "c6994a15",
   "metadata": {},
   "outputs": [],
   "source": [
    "def computeRaw(flux, refFlux):\n",
    "    return flux\n",
    "\n",
    "def computeScaled(flux, refFlux):\n",
    "    return flux/np.median(flux)\n",
    "\n",
    "def computeDiff(flux, refFlux):\n",
    "    return flux - refFlux\n",
    "\n",
    "def computeScaled(flux, refFlux):\n",
    "    diffFlux = (flux-refFlux)/np.median(refFlux)\n",
    "    return diffFlux"
   ]
  },
  {
   "cell_type": "code",
   "execution_count": null,
   "id": "ab76b592",
   "metadata": {},
   "outputs": [],
   "source": [
    "def getData(visit, fiberIds=fiberIds):\n",
    "    \"\"\"Get the x/y position [PFI_mm], flux and inR from raw/processed data\n",
    "    \"\"\"\n",
    "    dataId = dict(visit=visit, arm=\"r\", spectrograph=1)\n",
    "    pfsArm = butler.get('pfsArm', dataId)\n",
    "\n",
    "    flux = np.empty_like(pfsArm.fiberId, dtype=np.float32)\n",
    "    for fb in pfsArm.fiberId:\n",
    "        flux[pfsArm.fiberId==fb] = np.nansum(pfsArm.flux[pfsArm.fiberId==fb])\n",
    "    \n",
    "    xyPos=fiberIds.xyForCobras(pfsArm.fiberId)\n",
    "    \n",
    "    # Get instrument rotator angle\n",
    "    exp = butler.get('raw', dataId)\n",
    "    md = exp.getMetadata()\n",
    "    inR = md['INSROT']    \n",
    "\n",
    "    return xyPos, flux, pfsArm.fiberId, inR\n",
    "\n",
    "def plot(visits, refVisit, nx, ny, compute):\n",
    "    _, refFlux, _, _ = getData(refVisit)\n",
    "    fig, _ = plt.subplots(nx, ny, sharex=True, sharey=True) # Don't use axs as fig.axes used later as list\n",
    "    for visit, ax in zip(visits, fig.axes):\n",
    "        xyPos, flux, fiberId, inR = getData(visit)\n",
    "        intensity = compute(flux, refFlux)\n",
    "        \n",
    "        sc = ax.scatter('x','y', c=intensity, data=xyPos)\n",
    "        ax.set_title(f'visit={visit}, InR={round(inR,2)}')\n",
    "        ax.title.set_fontsize(8)\n",
    "        ax.set_box_aspect(1)\n",
    "        plt.colorbar(sc, ax=ax)\n",
    "#     for ax in fig.axes[len(visits):]:\n",
    "#         ax.set_visible(False)"
   ]
  },
  {
   "cell_type": "code",
   "execution_count": null,
   "id": "8ddbc713",
   "metadata": {},
   "outputs": [],
   "source": [
    "plot([76389, 76390, 76391,76392, 76393, 76394, 76395, 76396, 76398], refVisit=76398, nx=3, ny=3, compute=computeRaw)"
   ]
  },
  {
   "cell_type": "code",
   "execution_count": null,
   "id": "7a2fb9bd",
   "metadata": {},
   "outputs": [],
   "source": [
    "plot([76389, 76390, 76391,76392, 76393, 76394, 76395, 76396, 76398], refVisit=76398, nx=3, ny=3, compute=computeDiff)"
   ]
  },
  {
   "cell_type": "code",
   "execution_count": null,
   "id": "0af74d9f",
   "metadata": {},
   "outputs": [],
   "source": [
    "plot([76389, 76390, 76391,76392, 76393, 76394, 76395, 76396, 76398], refVisit=76398, nx=3, ny=3, compute=computeScaled)"
   ]
  },
  {
   "cell_type": "code",
   "execution_count": null,
   "id": "64223894",
   "metadata": {},
   "outputs": [],
   "source": [
    "plot([68424, 68425, 68426, 68427], refVisit=68426, nx=2, ny=2, compute=computeScaled)"
   ]
  },
  {
   "cell_type": "code",
   "execution_count": null,
   "id": "8f3e9237",
   "metadata": {},
   "outputs": [],
   "source": []
  }
 ],
 "metadata": {
  "kernelspec": {
   "display_name": "Python 3",
   "language": "python",
   "name": "python3"
  },
  "language_info": {
   "codemirror_mode": {
    "name": "ipython",
    "version": 3
   },
   "file_extension": ".py",
   "mimetype": "text/x-python",
   "name": "python",
   "nbconvert_exporter": "python",
   "pygments_lexer": "ipython3",
   "version": "3.8.13"
  }
 },
 "nbformat": 4,
 "nbformat_minor": 5
}
