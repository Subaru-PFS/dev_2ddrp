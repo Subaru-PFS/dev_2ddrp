{
 "cells": [
  {
   "cell_type": "code",
   "execution_count": 1,
   "metadata": {},
   "outputs": [],
   "source": [
    "# coding: utf-8"
   ]
  },
  {
   "cell_type": "code",
   "execution_count": 3,
   "metadata": {
    "lines_to_next_cell": 2
   },
   "outputs": [],
   "source": [
    "import subprocess\n",
    "import numpy as np\n",
    "import matplotlib.pyplot as plt"
   ]
  },
  {
   "cell_type": "code",
   "execution_count": 4,
   "metadata": {
    "lines_to_next_cell": 2
   },
   "outputs": [],
   "source": [
    "\n",
    "\n",
    "slitPosition = np.arange(0,0.055,0.005)\n",
    "exptimes = np.ones(len(slitPosition)) * 2"
   ]
  },
  {
   "cell_type": "code",
   "execution_count": 5,
   "metadata": {
    "lines_to_next_cell": 2
   },
   "outputs": [],
   "source": [
    "\n",
    "\n",
    "slitPosition = np.arange(0,0.055,0.005)\n",
    "exptimes = np.ones(len(slitPosition)) * 2\n",
    "slitPosition = slitPosition[::-1]"
   ]
  },
  {
   "cell_type": "code",
   "execution_count": 6,
   "metadata": {},
   "outputs": [
    {
     "data": {
      "text/plain": [
       "array([0.05 , 0.045, 0.04 , 0.035, 0.03 , 0.025, 0.02 , 0.015, 0.01 ,\n",
       "       0.005, 0.   ])"
      ]
     },
     "execution_count": 6,
     "metadata": {},
     "output_type": "execute_result"
    }
   ],
   "source": [
    "slitPosition"
   ]
  },
  {
   "cell_type": "code",
   "execution_count": 7,
   "metadata": {
    "lines_to_next_cell": 2
   },
   "outputs": [],
   "source": [
    "\n",
    "\n",
    "duplicate = 6"
   ]
  },
  {
   "cell_type": "code",
   "execution_count": 8,
   "metadata": {
    "lines_to_next_cell": 2
   },
   "outputs": [
    {
     "data": {
      "text/plain": [
       "11"
      ]
     },
     "execution_count": 8,
     "metadata": {},
     "output_type": "execute_result"
    }
   ],
   "source": [
    "\n",
    "\n",
    "len(slitPosition)"
   ]
  },
  {
   "cell_type": "code",
   "execution_count": 9,
   "metadata": {},
   "outputs": [],
   "source": [
    "cmdList = []"
   ]
  },
  {
   "cell_type": "code",
   "execution_count": 124,
   "metadata": {
    "lines_to_next_cell": 2
   },
   "outputs": [
    {
     "name": "stdout",
     "output_type": "stream",
     "text": [
      "iic custom head=\"dcb power on=hgar\",\"enu_sm1 slit move absolute X=0 Y=0.050 Z=0 U=0 V=0 W=0\",\"sps expose arc exptime=2.0 cams=b1,r1\",\"sps expose arc exptime=2.0 cams=b1,r1\",\"sps expose arc exptime=2.0 cams=b1,r1\",\"sps expose arc exptime=2.0 cams=b1,r1\",\"sps expose arc exptime=2.0 cams=b1,r1\",\"enu_sm1 slit move absolute X=0 Y=0.045 Z=0 U=0 V=0 W=0\",\"sps expose arc exptime=2.0 cams=b1,r1\",\"sps expose arc exptime=2.0 cams=b1,r1\",\"sps expose arc exptime=2.0 cams=b1,r1\",\"sps expose arc exptime=2.0 cams=b1,r1\",\"sps expose arc exptime=2.0 cams=b1,r1\",\"enu_sm1 slit move absolute X=0 Y=0.040 Z=0 U=0 V=0 W=0\",\"sps expose arc exptime=2.0 cams=b1,r1\",\"sps expose arc exptime=2.0 cams=b1,r1\",\"sps expose arc exptime=2.0 cams=b1,r1\",\"sps expose arc exptime=2.0 cams=b1,r1\",\"sps expose arc exptime=2.0 cams=b1,r1\",\"enu_sm1 slit move absolute X=0 Y=0.035 Z=0 U=0 V=0 W=0\",\"sps expose arc exptime=2.0 cams=b1,r1\",\"sps expose arc exptime=2.0 cams=b1,r1\",\"sps expose arc exptime=2.0 cams=b1,r1\",\"sps expose arc exptime=2.0 cams=b1,r1\",\"sps expose arc exptime=2.0 cams=b1,r1\",\"enu_sm1 slit move absolute X=0 Y=0.030 Z=0 U=0 V=0 W=0\",\"sps expose arc exptime=2.0 cams=b1,r1\",\"sps expose arc exptime=2.0 cams=b1,r1\",\"sps expose arc exptime=2.0 cams=b1,r1\",\"sps expose arc exptime=2.0 cams=b1,r1\",\"sps expose arc exptime=2.0 cams=b1,r1\",\"enu_sm1 slit move absolute X=0 Y=0.025 Z=0 U=0 V=0 W=0\",\"sps expose arc exptime=2.0 cams=b1,r1\",\"sps expose arc exptime=2.0 cams=b1,r1\",\"sps expose arc exptime=2.0 cams=b1,r1\",\"sps expose arc exptime=2.0 cams=b1,r1\",\"sps expose arc exptime=2.0 cams=b1,r1\",\"enu_sm1 slit move absolute X=0 Y=0.020 Z=0 U=0 V=0 W=0\",\"sps expose arc exptime=2.0 cams=b1,r1\",\"sps expose arc exptime=2.0 cams=b1,r1\",\"sps expose arc exptime=2.0 cams=b1,r1\",\"sps expose arc exptime=2.0 cams=b1,r1\",\"sps expose arc exptime=2.0 cams=b1,r1\",\"enu_sm1 slit move absolute X=0 Y=0.015 Z=0 U=0 V=0 W=0\",\"sps expose arc exptime=2.0 cams=b1,r1\",\"sps expose arc exptime=2.0 cams=b1,r1\",\"sps expose arc exptime=2.0 cams=b1,r1\",\"sps expose arc exptime=2.0 cams=b1,r1\",\"sps expose arc exptime=2.0 cams=b1,r1\",\"enu_sm1 slit move absolute X=0 Y=0.010 Z=0 U=0 V=0 W=0\",\"sps expose arc exptime=2.0 cams=b1,r1\",\"sps expose arc exptime=2.0 cams=b1,r1\",\"sps expose arc exptime=2.0 cams=b1,r1\",\"sps expose arc exptime=2.0 cams=b1,r1\",\"sps expose arc exptime=2.0 cams=b1,r1\",\"enu_sm1 slit move absolute X=0 Y=0.005 Z=0 U=0 V=0 W=0\",\"sps expose arc exptime=2.0 cams=b1,r1\",\"sps expose arc exptime=2.0 cams=b1,r1\",\"sps expose arc exptime=2.0 cams=b1,r1\",\"sps expose arc exptime=2.0 cams=b1,r1\",\"sps expose arc exptime=2.0 cams=b1,r1\",\"enu_sm1 slit move absolute X=0 Y=0.000 Z=0 U=0 V=0 W=0\",\"sps expose arc exptime=2.0 cams=b1,r1\",\"sps expose arc exptime=2.0 cams=b1,r1\",\"sps expose arc exptime=2.0 cams=b1,r1\",\"sps expose arc exptime=2.0 cams=b1,r1\",\"sps expose arc exptime=2.0 cams=b1,r1\"\n"
     ]
    }
   ],
   "source": [
    "cmdList = []\n",
    "\n",
    "\n",
    "cmdList = ['dcb power on=hgar']\n",
    "#cmdList.append('enu_sm1 slit move absolute X=0 Y=0 Z=0 U=0 V=0 W=0')\n",
    "#for i in range(duplicate):\n",
    "#    cmdList.append('sps expose arc exptime=2.0 cams=b1,r1')\n",
    "for pos in slitPosition:\n",
    "    cmdList.append('enu_sm1 slit move absolute X=0 Y=%1.3f Z=0 U=0 V=0 W=0'%pos)\n",
    "    for i in range(duplicate):\n",
    "        cmdList.append('sps expose arc exptime=2.0 cams=b1,r1')\n",
    "#cmdList.append('enu_sm1 slit move absolute X=0 Y=0 Z=0 U=0 V=0 W=0')\n",
    "#for i in range(duplicate):\n",
    "#    cmdList.append('sps expose arc exptime=2.0 cams=b1,r1')\n",
    "\n",
    "\n",
    "sequence = ','.join(['\"%s\"'%cmd for cmd in cmdList])\n",
    "\n",
    "\n",
    "\n",
    "cmdStr = 'iic custom head=%s'%sequence\n",
    "\n",
    "\n",
    "\n",
    "print(cmdStr)"
   ]
  },
  {
   "cell_type": "code",
   "execution_count": 97,
   "metadata": {},
   "outputs": [
    {
     "name": "stdout",
     "output_type": "stream",
     "text": [
      "iic custom head=\"dcb power on=hgar\",\"enu_sm1 slit move absolute X=0 Y=0 Z=0 U=0 V=0 W=0\",\"sps expose arc exptime=2.0 cams=b1,r1\",\"sps expose arc exptime=2.0 cams=b1,r1\",\"sps expose arc exptime=2.0 cams=b1,r1\",\"sps expose arc exptime=2.0 cams=b1,r1\",\"sps expose arc exptime=2.0 cams=b1,r1\"\n"
     ]
    }
   ],
   "source": [
    "cmdList = []\n",
    "cmdList = ['dcb power on=hgar']\n",
    "cmdList.append('enu_sm1 slit move absolute X=0 Y=0 Z=0 U=0 V=0 W=0')\n",
    "for i in range(duplicate):\n",
    "    cmdList.append('sps expose arc exptime=2.0 cams=b1,r1')\n",
    "\n",
    "sequence = ','.join(['\"%s\"'%cmd for cmd in cmdList])\n",
    "\n",
    "\n",
    "\n",
    "cmdStr = 'iic custom head=%s'%sequence\n",
    "\n",
    "\n",
    "\n",
    "print(cmdStr)"
   ]
  },
  {
   "cell_type": "code",
   "execution_count": 95,
   "metadata": {},
   "outputs": [
    {
     "name": "stdout",
     "output_type": "stream",
     "text": [
      "[-2 -1  0  1  2]\n"
     ]
    }
   ],
   "source": [
    "slitPosition = np.arange(-2,3,1)\n",
    "print(slitPosition)"
   ]
  },
  {
   "cell_type": "code",
   "execution_count": null,
   "metadata": {},
   "outputs": [],
   "source": []
  },
  {
   "cell_type": "code",
   "execution_count": 125,
   "metadata": {
    "lines_to_next_cell": 2
   },
   "outputs": [
    {
     "name": "stdout",
     "output_type": "stream",
     "text": [
      "iic custom head=\"dcb power on=hgar\",\"enu_sm1 slit move absolute X=0 Y=0 Z=0.050 U=0 V=0 W=0\",\"sps expose arc exptime=2.0 cams=b1,r1\",\"sps expose arc exptime=2.0 cams=b1,r1\",\"sps expose arc exptime=2.0 cams=b1,r1\",\"sps expose arc exptime=2.0 cams=b1,r1\",\"sps expose arc exptime=2.0 cams=b1,r1\",\"enu_sm1 slit move absolute X=0 Y=0 Z=0.045 U=0 V=0 W=0\",\"sps expose arc exptime=2.0 cams=b1,r1\",\"sps expose arc exptime=2.0 cams=b1,r1\",\"sps expose arc exptime=2.0 cams=b1,r1\",\"sps expose arc exptime=2.0 cams=b1,r1\",\"sps expose arc exptime=2.0 cams=b1,r1\",\"enu_sm1 slit move absolute X=0 Y=0 Z=0.040 U=0 V=0 W=0\",\"sps expose arc exptime=2.0 cams=b1,r1\",\"sps expose arc exptime=2.0 cams=b1,r1\",\"sps expose arc exptime=2.0 cams=b1,r1\",\"sps expose arc exptime=2.0 cams=b1,r1\",\"sps expose arc exptime=2.0 cams=b1,r1\",\"enu_sm1 slit move absolute X=0 Y=0 Z=0.035 U=0 V=0 W=0\",\"sps expose arc exptime=2.0 cams=b1,r1\",\"sps expose arc exptime=2.0 cams=b1,r1\",\"sps expose arc exptime=2.0 cams=b1,r1\",\"sps expose arc exptime=2.0 cams=b1,r1\",\"sps expose arc exptime=2.0 cams=b1,r1\",\"enu_sm1 slit move absolute X=0 Y=0 Z=0.030 U=0 V=0 W=0\",\"sps expose arc exptime=2.0 cams=b1,r1\",\"sps expose arc exptime=2.0 cams=b1,r1\",\"sps expose arc exptime=2.0 cams=b1,r1\",\"sps expose arc exptime=2.0 cams=b1,r1\",\"sps expose arc exptime=2.0 cams=b1,r1\",\"enu_sm1 slit move absolute X=0 Y=0 Z=0.025 U=0 V=0 W=0\",\"sps expose arc exptime=2.0 cams=b1,r1\",\"sps expose arc exptime=2.0 cams=b1,r1\",\"sps expose arc exptime=2.0 cams=b1,r1\",\"sps expose arc exptime=2.0 cams=b1,r1\",\"sps expose arc exptime=2.0 cams=b1,r1\",\"enu_sm1 slit move absolute X=0 Y=0 Z=0.020 U=0 V=0 W=0\",\"sps expose arc exptime=2.0 cams=b1,r1\",\"sps expose arc exptime=2.0 cams=b1,r1\",\"sps expose arc exptime=2.0 cams=b1,r1\",\"sps expose arc exptime=2.0 cams=b1,r1\",\"sps expose arc exptime=2.0 cams=b1,r1\",\"enu_sm1 slit move absolute X=0 Y=0 Z=0.015 U=0 V=0 W=0\",\"sps expose arc exptime=2.0 cams=b1,r1\",\"sps expose arc exptime=2.0 cams=b1,r1\",\"sps expose arc exptime=2.0 cams=b1,r1\",\"sps expose arc exptime=2.0 cams=b1,r1\",\"sps expose arc exptime=2.0 cams=b1,r1\",\"enu_sm1 slit move absolute X=0 Y=0 Z=0.010 U=0 V=0 W=0\",\"sps expose arc exptime=2.0 cams=b1,r1\",\"sps expose arc exptime=2.0 cams=b1,r1\",\"sps expose arc exptime=2.0 cams=b1,r1\",\"sps expose arc exptime=2.0 cams=b1,r1\",\"sps expose arc exptime=2.0 cams=b1,r1\",\"enu_sm1 slit move absolute X=0 Y=0 Z=0.005 U=0 V=0 W=0\",\"sps expose arc exptime=2.0 cams=b1,r1\",\"sps expose arc exptime=2.0 cams=b1,r1\",\"sps expose arc exptime=2.0 cams=b1,r1\",\"sps expose arc exptime=2.0 cams=b1,r1\",\"sps expose arc exptime=2.0 cams=b1,r1\",\"enu_sm1 slit move absolute X=0 Y=0 Z=0.000 U=0 V=0 W=0\",\"sps expose arc exptime=2.0 cams=b1,r1\",\"sps expose arc exptime=2.0 cams=b1,r1\",\"sps expose arc exptime=2.0 cams=b1,r1\",\"sps expose arc exptime=2.0 cams=b1,r1\",\"sps expose arc exptime=2.0 cams=b1,r1\"\n"
     ]
    }
   ],
   "source": [
    "cmdList = []\n",
    "\n",
    "cmdList = ['dcb power on=hgar']\n",
    "#cmdList.append('enu_sm1 slit move absolute X=0 Y=0 Z=0 U=0 V=0 W=0')\n",
    "#for i in range(duplicate):\n",
    "#    cmdList.append('sps expose arc exptime=2.0 cams=b1,r1')\n",
    "for pos in slitPosition:\n",
    "    cmdList.append('enu_sm1 slit move absolute X=0 Y=0 Z=%1.3f U=0 V=0 W=0'%pos)\n",
    "    for i in range(duplicate):\n",
    "        cmdList.append('sps expose arc exptime=2.0 cams=b1,r1')\n",
    "#cmdList.append('enu_sm1 slit move absolute X=0 Y=0 Z=0 U=0 V=0 W=0')\n",
    "#for i in range(duplicate):\n",
    "#    cmdList.append('sps expose arc exptime=2.0 cams=b1,r1')\n",
    "\n",
    "\n",
    "sequence = ','.join(['\"%s\"'%cmd for cmd in cmdList])\n",
    "\n",
    "\n",
    "\n",
    "cmdStr = 'iic custom head=%s'%sequence\n",
    "\n",
    "\n",
    "\n",
    "print(cmdStr)"
   ]
  },
  {
   "cell_type": "code",
   "execution_count": 13,
   "metadata": {},
   "outputs": [
    {
     "data": {
      "text/plain": [
       "6"
      ]
     },
     "execution_count": 13,
     "metadata": {},
     "output_type": "execute_result"
    }
   ],
   "source": [
    "duplicate"
   ]
  },
  {
   "cell_type": "code",
   "execution_count": 11,
   "metadata": {},
   "outputs": [],
   "source": [
    "# accurate sequence"
   ]
  },
  {
   "cell_type": "code",
   "execution_count": 16,
   "metadata": {},
   "outputs": [],
   "source": [
    "duplicate=1"
   ]
  },
  {
   "cell_type": "code",
   "execution_count": 20,
   "metadata": {
    "lines_to_next_cell": 2
   },
   "outputs": [],
   "source": [
    "cmdList = []\n",
    "cmdList = ['dcb power on=hgar']\n",
    "cmdList.append('enu_sm1 slit move absolute X=0 Y=0 Z=0 U=0 V=0 W=0')\n",
    "#for i in range(duplicate):\n",
    "#    cmdList.append('sps expose arc exptime=2.0 cams=b1,r1')\n",
    "for pos in slitPosition:\n",
    "    cmdList.append('enu_sm1 slit move absolute X=0 Y=%1.3f Z=0 U=0 V=0 W=0'%pos)\n",
    "    for i in range(duplicate):\n",
    "        cmdList.append('sps expose arc exptime=30.0 cams=b1,r1')\n",
    "    for pos in slitPosition:\n",
    "        cmdList.append('enu_sm1 slit move absolute Z=%1.3f'%pos)\n",
    "        for i in range(duplicate):\n",
    "            cmdList.append('sps expose arc exptime=30.0 cams=b1,r1')\n",
    "cmdList.append('enu_sm1 slit move absolute X=0 Y=0 Z=0 U=0 V=0 W=0')\n",
    "for i in range(duplicate):\n",
    "    cmdList.append('sps expose arc exptime=30.0 cams=b1,r1')\n",
    "cmdList.append('dcb power off=hgar')\n",
    "cmdList.append('enu_sm1 slit stop')"
   ]
  },
  {
   "cell_type": "code",
   "execution_count": 21,
   "metadata": {},
   "outputs": [
    {
     "name": "stdout",
     "output_type": "stream",
     "text": [
      "iic custom head=\"dcb power on=hgar\",\"enu_sm1 slit move absolute X=0 Y=0 Z=0 U=0 V=0 W=0\",\"enu_sm1 slit move absolute X=0 Y=0.050 Z=0 U=0 V=0 W=0\",\"sps expose arc exptime=30.0 cams=b1,r1\",\"enu_sm1 slit move absolute Z=0.050\",\"sps expose arc exptime=30.0 cams=b1,r1\",\"enu_sm1 slit move absolute Z=0.045\",\"sps expose arc exptime=30.0 cams=b1,r1\",\"enu_sm1 slit move absolute Z=0.040\",\"sps expose arc exptime=30.0 cams=b1,r1\",\"enu_sm1 slit move absolute Z=0.035\",\"sps expose arc exptime=30.0 cams=b1,r1\",\"enu_sm1 slit move absolute Z=0.030\",\"sps expose arc exptime=30.0 cams=b1,r1\",\"enu_sm1 slit move absolute Z=0.025\",\"sps expose arc exptime=30.0 cams=b1,r1\",\"enu_sm1 slit move absolute Z=0.020\",\"sps expose arc exptime=30.0 cams=b1,r1\",\"enu_sm1 slit move absolute Z=0.015\",\"sps expose arc exptime=30.0 cams=b1,r1\",\"enu_sm1 slit move absolute Z=0.010\",\"sps expose arc exptime=30.0 cams=b1,r1\",\"enu_sm1 slit move absolute Z=0.005\",\"sps expose arc exptime=30.0 cams=b1,r1\",\"enu_sm1 slit move absolute Z=0.000\",\"sps expose arc exptime=30.0 cams=b1,r1\",\"enu_sm1 slit move absolute X=0 Y=0.045 Z=0 U=0 V=0 W=0\",\"sps expose arc exptime=30.0 cams=b1,r1\",\"enu_sm1 slit move absolute Z=0.050\",\"sps expose arc exptime=30.0 cams=b1,r1\",\"enu_sm1 slit move absolute Z=0.045\",\"sps expose arc exptime=30.0 cams=b1,r1\",\"enu_sm1 slit move absolute Z=0.040\",\"sps expose arc exptime=30.0 cams=b1,r1\",\"enu_sm1 slit move absolute Z=0.035\",\"sps expose arc exptime=30.0 cams=b1,r1\",\"enu_sm1 slit move absolute Z=0.030\",\"sps expose arc exptime=30.0 cams=b1,r1\",\"enu_sm1 slit move absolute Z=0.025\",\"sps expose arc exptime=30.0 cams=b1,r1\",\"enu_sm1 slit move absolute Z=0.020\",\"sps expose arc exptime=30.0 cams=b1,r1\",\"enu_sm1 slit move absolute Z=0.015\",\"sps expose arc exptime=30.0 cams=b1,r1\",\"enu_sm1 slit move absolute Z=0.010\",\"sps expose arc exptime=30.0 cams=b1,r1\",\"enu_sm1 slit move absolute Z=0.005\",\"sps expose arc exptime=30.0 cams=b1,r1\",\"enu_sm1 slit move absolute Z=0.000\",\"sps expose arc exptime=30.0 cams=b1,r1\",\"enu_sm1 slit move absolute X=0 Y=0.040 Z=0 U=0 V=0 W=0\",\"sps expose arc exptime=30.0 cams=b1,r1\",\"enu_sm1 slit move absolute Z=0.050\",\"sps expose arc exptime=30.0 cams=b1,r1\",\"enu_sm1 slit move absolute Z=0.045\",\"sps expose arc exptime=30.0 cams=b1,r1\",\"enu_sm1 slit move absolute Z=0.040\",\"sps expose arc exptime=30.0 cams=b1,r1\",\"enu_sm1 slit move absolute Z=0.035\",\"sps expose arc exptime=30.0 cams=b1,r1\",\"enu_sm1 slit move absolute Z=0.030\",\"sps expose arc exptime=30.0 cams=b1,r1\",\"enu_sm1 slit move absolute Z=0.025\",\"sps expose arc exptime=30.0 cams=b1,r1\",\"enu_sm1 slit move absolute Z=0.020\",\"sps expose arc exptime=30.0 cams=b1,r1\",\"enu_sm1 slit move absolute Z=0.015\",\"sps expose arc exptime=30.0 cams=b1,r1\",\"enu_sm1 slit move absolute Z=0.010\",\"sps expose arc exptime=30.0 cams=b1,r1\",\"enu_sm1 slit move absolute Z=0.005\",\"sps expose arc exptime=30.0 cams=b1,r1\",\"enu_sm1 slit move absolute Z=0.000\",\"sps expose arc exptime=30.0 cams=b1,r1\",\"enu_sm1 slit move absolute X=0 Y=0.035 Z=0 U=0 V=0 W=0\",\"sps expose arc exptime=30.0 cams=b1,r1\",\"enu_sm1 slit move absolute Z=0.050\",\"sps expose arc exptime=30.0 cams=b1,r1\",\"enu_sm1 slit move absolute Z=0.045\",\"sps expose arc exptime=30.0 cams=b1,r1\",\"enu_sm1 slit move absolute Z=0.040\",\"sps expose arc exptime=30.0 cams=b1,r1\",\"enu_sm1 slit move absolute Z=0.035\",\"sps expose arc exptime=30.0 cams=b1,r1\",\"enu_sm1 slit move absolute Z=0.030\",\"sps expose arc exptime=30.0 cams=b1,r1\",\"enu_sm1 slit move absolute Z=0.025\",\"sps expose arc exptime=30.0 cams=b1,r1\",\"enu_sm1 slit move absolute Z=0.020\",\"sps expose arc exptime=30.0 cams=b1,r1\",\"enu_sm1 slit move absolute Z=0.015\",\"sps expose arc exptime=30.0 cams=b1,r1\",\"enu_sm1 slit move absolute Z=0.010\",\"sps expose arc exptime=30.0 cams=b1,r1\",\"enu_sm1 slit move absolute Z=0.005\",\"sps expose arc exptime=30.0 cams=b1,r1\",\"enu_sm1 slit move absolute Z=0.000\",\"sps expose arc exptime=30.0 cams=b1,r1\",\"enu_sm1 slit move absolute X=0 Y=0.030 Z=0 U=0 V=0 W=0\",\"sps expose arc exptime=30.0 cams=b1,r1\",\"enu_sm1 slit move absolute Z=0.050\",\"sps expose arc exptime=30.0 cams=b1,r1\",\"enu_sm1 slit move absolute Z=0.045\",\"sps expose arc exptime=30.0 cams=b1,r1\",\"enu_sm1 slit move absolute Z=0.040\",\"sps expose arc exptime=30.0 cams=b1,r1\",\"enu_sm1 slit move absolute Z=0.035\",\"sps expose arc exptime=30.0 cams=b1,r1\",\"enu_sm1 slit move absolute Z=0.030\",\"sps expose arc exptime=30.0 cams=b1,r1\",\"enu_sm1 slit move absolute Z=0.025\",\"sps expose arc exptime=30.0 cams=b1,r1\",\"enu_sm1 slit move absolute Z=0.020\",\"sps expose arc exptime=30.0 cams=b1,r1\",\"enu_sm1 slit move absolute Z=0.015\",\"sps expose arc exptime=30.0 cams=b1,r1\",\"enu_sm1 slit move absolute Z=0.010\",\"sps expose arc exptime=30.0 cams=b1,r1\",\"enu_sm1 slit move absolute Z=0.005\",\"sps expose arc exptime=30.0 cams=b1,r1\",\"enu_sm1 slit move absolute Z=0.000\",\"sps expose arc exptime=30.0 cams=b1,r1\",\"enu_sm1 slit move absolute X=0 Y=0.025 Z=0 U=0 V=0 W=0\",\"sps expose arc exptime=30.0 cams=b1,r1\",\"enu_sm1 slit move absolute Z=0.050\",\"sps expose arc exptime=30.0 cams=b1,r1\",\"enu_sm1 slit move absolute Z=0.045\",\"sps expose arc exptime=30.0 cams=b1,r1\",\"enu_sm1 slit move absolute Z=0.040\",\"sps expose arc exptime=30.0 cams=b1,r1\",\"enu_sm1 slit move absolute Z=0.035\",\"sps expose arc exptime=30.0 cams=b1,r1\",\"enu_sm1 slit move absolute Z=0.030\",\"sps expose arc exptime=30.0 cams=b1,r1\",\"enu_sm1 slit move absolute Z=0.025\",\"sps expose arc exptime=30.0 cams=b1,r1\",\"enu_sm1 slit move absolute Z=0.020\",\"sps expose arc exptime=30.0 cams=b1,r1\",\"enu_sm1 slit move absolute Z=0.015\",\"sps expose arc exptime=30.0 cams=b1,r1\",\"enu_sm1 slit move absolute Z=0.010\",\"sps expose arc exptime=30.0 cams=b1,r1\",\"enu_sm1 slit move absolute Z=0.005\",\"sps expose arc exptime=30.0 cams=b1,r1\",\"enu_sm1 slit move absolute Z=0.000\",\"sps expose arc exptime=30.0 cams=b1,r1\",\"enu_sm1 slit move absolute X=0 Y=0.020 Z=0 U=0 V=0 W=0\",\"sps expose arc exptime=30.0 cams=b1,r1\",\"enu_sm1 slit move absolute Z=0.050\",\"sps expose arc exptime=30.0 cams=b1,r1\",\"enu_sm1 slit move absolute Z=0.045\",\"sps expose arc exptime=30.0 cams=b1,r1\",\"enu_sm1 slit move absolute Z=0.040\",\"sps expose arc exptime=30.0 cams=b1,r1\",\"enu_sm1 slit move absolute Z=0.035\",\"sps expose arc exptime=30.0 cams=b1,r1\",\"enu_sm1 slit move absolute Z=0.030\",\"sps expose arc exptime=30.0 cams=b1,r1\",\"enu_sm1 slit move absolute Z=0.025\",\"sps expose arc exptime=30.0 cams=b1,r1\",\"enu_sm1 slit move absolute Z=0.020\",\"sps expose arc exptime=30.0 cams=b1,r1\",\"enu_sm1 slit move absolute Z=0.015\",\"sps expose arc exptime=30.0 cams=b1,r1\",\"enu_sm1 slit move absolute Z=0.010\",\"sps expose arc exptime=30.0 cams=b1,r1\",\"enu_sm1 slit move absolute Z=0.005\",\"sps expose arc exptime=30.0 cams=b1,r1\",\"enu_sm1 slit move absolute Z=0.000\",\"sps expose arc exptime=30.0 cams=b1,r1\",\"enu_sm1 slit move absolute X=0 Y=0.015 Z=0 U=0 V=0 W=0\",\"sps expose arc exptime=30.0 cams=b1,r1\",\"enu_sm1 slit move absolute Z=0.050\",\"sps expose arc exptime=30.0 cams=b1,r1\",\"enu_sm1 slit move absolute Z=0.045\",\"sps expose arc exptime=30.0 cams=b1,r1\",\"enu_sm1 slit move absolute Z=0.040\",\"sps expose arc exptime=30.0 cams=b1,r1\",\"enu_sm1 slit move absolute Z=0.035\",\"sps expose arc exptime=30.0 cams=b1,r1\",\"enu_sm1 slit move absolute Z=0.030\",\"sps expose arc exptime=30.0 cams=b1,r1\",\"enu_sm1 slit move absolute Z=0.025\",\"sps expose arc exptime=30.0 cams=b1,r1\",\"enu_sm1 slit move absolute Z=0.020\",\"sps expose arc exptime=30.0 cams=b1,r1\",\"enu_sm1 slit move absolute Z=0.015\",\"sps expose arc exptime=30.0 cams=b1,r1\",\"enu_sm1 slit move absolute Z=0.010\",\"sps expose arc exptime=30.0 cams=b1,r1\",\"enu_sm1 slit move absolute Z=0.005\",\"sps expose arc exptime=30.0 cams=b1,r1\",\"enu_sm1 slit move absolute Z=0.000\",\"sps expose arc exptime=30.0 cams=b1,r1\",\"enu_sm1 slit move absolute X=0 Y=0.010 Z=0 U=0 V=0 W=0\",\"sps expose arc exptime=30.0 cams=b1,r1\",\"enu_sm1 slit move absolute Z=0.050\",\"sps expose arc exptime=30.0 cams=b1,r1\",\"enu_sm1 slit move absolute Z=0.045\",\"sps expose arc exptime=30.0 cams=b1,r1\",\"enu_sm1 slit move absolute Z=0.040\",\"sps expose arc exptime=30.0 cams=b1,r1\",\"enu_sm1 slit move absolute Z=0.035\",\"sps expose arc exptime=30.0 cams=b1,r1\",\"enu_sm1 slit move absolute Z=0.030\",\"sps expose arc exptime=30.0 cams=b1,r1\",\"enu_sm1 slit move absolute Z=0.025\",\"sps expose arc exptime=30.0 cams=b1,r1\",\"enu_sm1 slit move absolute Z=0.020\",\"sps expose arc exptime=30.0 cams=b1,r1\",\"enu_sm1 slit move absolute Z=0.015\",\"sps expose arc exptime=30.0 cams=b1,r1\",\"enu_sm1 slit move absolute Z=0.010\",\"sps expose arc exptime=30.0 cams=b1,r1\",\"enu_sm1 slit move absolute Z=0.005\",\"sps expose arc exptime=30.0 cams=b1,r1\",\"enu_sm1 slit move absolute Z=0.000\",\"sps expose arc exptime=30.0 cams=b1,r1\",\"enu_sm1 slit move absolute X=0 Y=0.005 Z=0 U=0 V=0 W=0\",\"sps expose arc exptime=30.0 cams=b1,r1\",\"enu_sm1 slit move absolute Z=0.050\",\"sps expose arc exptime=30.0 cams=b1,r1\",\"enu_sm1 slit move absolute Z=0.045\",\"sps expose arc exptime=30.0 cams=b1,r1\",\"enu_sm1 slit move absolute Z=0.040\",\"sps expose arc exptime=30.0 cams=b1,r1\",\"enu_sm1 slit move absolute Z=0.035\",\"sps expose arc exptime=30.0 cams=b1,r1\",\"enu_sm1 slit move absolute Z=0.030\",\"sps expose arc exptime=30.0 cams=b1,r1\",\"enu_sm1 slit move absolute Z=0.025\",\"sps expose arc exptime=30.0 cams=b1,r1\",\"enu_sm1 slit move absolute Z=0.020\",\"sps expose arc exptime=30.0 cams=b1,r1\",\"enu_sm1 slit move absolute Z=0.015\",\"sps expose arc exptime=30.0 cams=b1,r1\",\"enu_sm1 slit move absolute Z=0.010\",\"sps expose arc exptime=30.0 cams=b1,r1\",\"enu_sm1 slit move absolute Z=0.005\",\"sps expose arc exptime=30.0 cams=b1,r1\",\"enu_sm1 slit move absolute Z=0.000\",\"sps expose arc exptime=30.0 cams=b1,r1\",\"enu_sm1 slit move absolute X=0 Y=0.000 Z=0 U=0 V=0 W=0\",\"sps expose arc exptime=30.0 cams=b1,r1\",\"enu_sm1 slit move absolute Z=0.050\",\"sps expose arc exptime=30.0 cams=b1,r1\",\"enu_sm1 slit move absolute Z=0.045\",\"sps expose arc exptime=30.0 cams=b1,r1\",\"enu_sm1 slit move absolute Z=0.040\",\"sps expose arc exptime=30.0 cams=b1,r1\",\"enu_sm1 slit move absolute Z=0.035\",\"sps expose arc exptime=30.0 cams=b1,r1\",\"enu_sm1 slit move absolute Z=0.030\",\"sps expose arc exptime=30.0 cams=b1,r1\",\"enu_sm1 slit move absolute Z=0.025\",\"sps expose arc exptime=30.0 cams=b1,r1\",\"enu_sm1 slit move absolute Z=0.020\",\"sps expose arc exptime=30.0 cams=b1,r1\",\"enu_sm1 slit move absolute Z=0.015\",\"sps expose arc exptime=30.0 cams=b1,r1\",\"enu_sm1 slit move absolute Z=0.010\",\"sps expose arc exptime=30.0 cams=b1,r1\",\"enu_sm1 slit move absolute Z=0.005\",\"sps expose arc exptime=30.0 cams=b1,r1\",\"enu_sm1 slit move absolute Z=0.000\",\"sps expose arc exptime=30.0 cams=b1,r1\",\"enu_sm1 slit move absolute X=0 Y=0 Z=0 U=0 V=0 W=0\",\"sps expose arc exptime=30.0 cams=b1,r1\",\"dcb power off=hgar\",\"enu_sm1 slit stop\"\n"
     ]
    }
   ],
   "source": [
    "sequence = ','.join(['\"%s\"'%cmd for cmd in cmdList])\n",
    "cmdStr = 'iic custom head=%s'%sequence\n",
    "print(cmdStr)"
   ]
  },
  {
   "cell_type": "code",
   "execution_count": 22,
   "metadata": {},
   "outputs": [
    {
     "data": {
      "text/plain": [
       "10739"
      ]
     },
     "execution_count": 22,
     "metadata": {},
     "output_type": "execute_result"
    }
   ],
   "source": [
    "len(cmdStr)"
   ]
  },
  {
   "cell_type": "code",
   "execution_count": null,
   "metadata": {},
   "outputs": [],
   "source": []
  }
 ],
 "metadata": {
  "jupytext": {
   "cell_metadata_filter": "-all",
   "main_language": "python",
   "notebook_metadata_filter": "-all",
   "text_representation": {
    "extension": ".py",
    "format_name": "percent"
   }
  },
  "kernelspec": {
   "display_name": "Python 3",
   "language": "python",
   "name": "python3"
  },
  "language_info": {
   "codemirror_mode": {
    "name": "ipython",
    "version": 3
   },
   "file_extension": ".py",
   "mimetype": "text/x-python",
   "name": "python",
   "nbconvert_exporter": "python",
   "pygments_lexer": "ipython3",
   "version": "3.6.10"
  }
 },
 "nbformat": 4,
 "nbformat_minor": 4
}
