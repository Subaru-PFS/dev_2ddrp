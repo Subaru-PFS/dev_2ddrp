{
 "cells": [
  {
   "cell_type": "code",
   "execution_count": 1,
   "metadata": {},
   "outputs": [],
   "source": [
    "from astropy.io import fits\n",
    "import numpy as np\n",
    "import lsst.daf.persistence"
   ]
  },
  {
   "cell_type": "code",
   "execution_count": 2,
   "metadata": {},
   "outputs": [],
   "source": [
    "DATA_DIR = \"/tigress/hassans/subaru-runs/repo-01/rerun/calib0\"\n",
    "butler = lsst.daf.persistence.Butler(DATA_DIR)"
   ]
  },
  {
   "cell_type": "code",
   "execution_count": 3,
   "metadata": {},
   "outputs": [],
   "source": [
    "exposure = butler.get(\"postISRCCD\", visit=107, arm='r')"
   ]
  },
  {
   "cell_type": "code",
   "execution_count": 4,
   "metadata": {},
   "outputs": [
    {
     "data": {
      "text/plain": [
       "<class 'lsst.afw.table.ampInfo.ampInfo.AmpInfoCatalog'>\n",
       "name bbox_min_x bbox_min_y bbox_extent_x ... linearityMaximum linearityUnits hdu\n",
       "        pix        pix          pix      ...                                    \n",
       "---- ---------- ---------- ------------- ... ---------------- -------------- ---\n",
       "   0          0          0           512 ...          65535.0             DN   1\n",
       "   1        512          0           512 ...          65535.0             DN   1\n",
       "   2       1024          0           512 ...          65535.0             DN   1\n",
       "   3       1536          0           512 ...          65535.0             DN   1\n",
       "   4       2048          0           512 ...          65535.0             DN   1\n",
       "   5       2560          0           512 ...          65535.0             DN   1\n",
       "   6       3072          0           512 ...          65535.0             DN   1\n",
       "   7       3584          0           512 ...          65535.0             DN   1"
      ]
     },
     "execution_count": 4,
     "metadata": {},
     "output_type": "execute_result"
    }
   ],
   "source": [
    "amps=exposure.getDetector().getAmpInfoCatalog()\n",
    "amps"
   ]
  },
  {
   "cell_type": "code",
   "execution_count": 15,
   "metadata": {},
   "outputs": [
    {
     "name": "stdout",
     "output_type": "stream",
     "text": [
      "Read noise: 4.423752, Gain: 1.24, BBox: (minimum=(0, 0), maximum=(511, 4175))\n",
      "Read noise: 4.266983, Gain: 1.24, BBox: (minimum=(512, 0), maximum=(1023, 4175))\n",
      "Read noise: 4.403465, Gain: 1.27, BBox: (minimum=(1024, 0), maximum=(1535, 4175))\n",
      "Read noise: 4.178715, Gain: 1.18, BBox: (minimum=(1536, 0), maximum=(2047, 4175))\n",
      "Read noise: 3.960904, Gain: 1.26, BBox: (minimum=(2048, 0), maximum=(2559, 4175))\n",
      "Read noise: 4.411193, Gain: 1.2, BBox: (minimum=(2560, 0), maximum=(3071, 4175))\n",
      "Read noise: 5.04243, Gain: 1.24, BBox: (minimum=(3072, 0), maximum=(3583, 4175))\n",
      "Read noise: 4.181415, Gain: 1.26, BBox: (minimum=(3584, 0), maximum=(4095, 4175))\n"
     ]
    }
   ],
   "source": [
    "for a in amps:\n",
    "    print(f\"Read noise: {a.getReadNoise()}, Gain: {a.getGain()}, BBox: {a.getBBox()}\")"
   ]
  },
  {
   "cell_type": "code",
   "execution_count": null,
   "metadata": {},
   "outputs": [],
   "source": []
  }
 ],
 "metadata": {
  "kernelspec": {
   "display_name": "Python 3",
   "language": "python",
   "name": "python3"
  },
  "language_info": {
   "codemirror_mode": {
    "name": "ipython",
    "version": 3
   },
   "file_extension": ".py",
   "mimetype": "text/x-python",
   "name": "python",
   "nbconvert_exporter": "python",
   "pygments_lexer": "ipython3",
   "version": "3.7.2"
  }
 },
 "nbformat": 4,
 "nbformat_minor": 4
}
