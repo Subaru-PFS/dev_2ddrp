{
 "cells": [
  {
   "cell_type": "code",
   "execution_count": 2,
   "metadata": {},
   "outputs": [
    {
     "name": "stdout",
     "output_type": "stream",
     "text": [
      "3.6.10 |Anaconda, Inc.| (default, Jan  7 2020, 15:01:53) \n",
      "[GCC 4.2.1 Compatible Clang 4.0.1 (tags/RELEASE_401/final)]\n"
     ]
    }
   ],
   "source": [
    "import sys\n",
    "print(sys.version)"
   ]
  },
  {
   "cell_type": "code",
   "execution_count": null,
   "metadata": {},
   "outputs": [],
   "source": [
    "\"\"\"\n",
    "Created on Jun 17 2020\n",
    "@author: Neven Caplar\n",
    "@contact: ncaplar@princeton.edu\n",
    "\n",
    "1. Name and place the data in DATA_FOLDER. For example, on my system I have them at \n",
    "   /Users/nevencaplar/Documents/PFS/ReducedData/\n",
    "2. (OPTIONAL)Next cell contains some extensions that I use that make life much easier when using jupyter notebook \n",
    "    Without them this notebook becomes reallllly huge and hard to deal with\n",
    "    These can be downloaded from https://github.com/ipython-contrib/jupyter_contrib_nbextensions\n",
    "\n",
    "\"\"\""
   ]
  },
  {
   "cell_type": "code",
   "execution_count": 10,
   "metadata": {
    "ExecuteTime": {
     "end_time": "2020-06-17T13:10:41.678168Z",
     "start_time": "2020-06-17T13:10:41.674029Z"
    }
   },
   "outputs": [
    {
     "data": {
      "application/javascript": [
       "try {\n",
       "  require(['base/js/utils'], function (utils) {\n",
       "    utils.load_extension('code_prettify/code_prettify');\n",
       "    utils.load_extension('collapsible_headings/main'); \n",
       "    utils.load_extension('codefolding/edit'); \n",
       "    utils.load_extension('codefolding/main'); \n",
       "    utils.load_extension('execute_time/ExecuteTime');   \n",
       "    utils.load_extension('toc2/main'); \n",
       "  });\n",
       "}\n",
       "catch (err) {\n",
       "  console.log('toc2 load error:', err);\n",
       "}"
      ],
      "text/plain": [
       "<IPython.core.display.Javascript object>"
      ]
     },
     "metadata": {},
     "output_type": "display_data"
    }
   ],
   "source": [
    "%%javascript\n",
    "try {\n",
    "  require(['base/js/utils'], function (utils) {\n",
    "    utils.load_extension('code_prettify/code_prettify');\n",
    "    utils.load_extension('collapsible_headings/main'); \n",
    "    utils.load_extension('codefolding/edit'); \n",
    "    utils.load_extension('codefolding/main'); \n",
    "    utils.load_extension('execute_time/ExecuteTime');   \n",
    "    utils.load_extension('toc2/main'); \n",
    "  });\n",
    "}\n",
    "catch (err) {\n",
    "  console.log('toc2 load error:', err);\n",
    "}"
   ]
  },
  {
   "cell_type": "code",
   "execution_count": 11,
   "metadata": {
    "ExecuteTime": {
     "end_time": "2020-06-17T13:10:46.605657Z",
     "start_time": "2020-06-17T13:10:46.600847Z"
    }
   },
   "outputs": [
    {
     "data": {
      "text/html": [
       "<style>.container { width:100% !important; }</style>"
      ],
      "text/plain": [
       "<IPython.core.display.HTML object>"
      ]
     },
     "metadata": {},
     "output_type": "display_data"
    }
   ],
   "source": [
    "# make notebook nice and wide to fill the entire screen\n",
    "from IPython.core.display import display, HTML\n",
    "display(HTML(\"<style>.container { width:100% !important; }</style>\"))"
   ]
  },
  {
   "cell_type": "code",
   "execution_count": 12,
   "metadata": {
    "ExecuteTime": {
     "end_time": "2020-06-17T13:12:00.209078Z",
     "start_time": "2020-06-17T13:12:00.206600Z"
    }
   },
   "outputs": [],
   "source": [
    "DATA_FOLDER='/Users/nevencaplar/Documents/PFS/ReducedData/'"
   ]
  },
  {
   "cell_type": "code",
   "execution_count": 42,
   "metadata": {
    "ExecuteTime": {
     "end_time": "2020-06-17T13:39:48.880090Z",
     "start_time": "2020-06-17T13:39:48.609893Z"
    }
   },
   "outputs": [],
   "source": [
    "import numpy as np\n",
    "\n",
    "#matplotlib\n",
    "import matplotlib\n",
    "import matplotlib.pyplot as plt\n",
    "from matplotlib.colors import LogNorm\n",
    "matplotlib.rcParams.update({'font.size': 18})\n",
    "%config InlineBackend.rc = {}\n",
    "%matplotlib inline\n",
    "%config IPython.matplotlib.backend = \"retina\""
   ]
  },
  {
   "cell_type": "code",
   "execution_count": null,
   "metadata": {},
   "outputs": [],
   "source": []
  },
  {
   "cell_type": "markdown",
   "metadata": {},
   "source": [
    "# Init "
   ]
  },
  {
   "cell_type": "code",
   "execution_count": 71,
   "metadata": {
    "ExecuteTime": {
     "end_time": "2020-06-17T14:03:43.565832Z",
     "start_time": "2020-06-17T14:03:43.561894Z"
    }
   },
   "outputs": [],
   "source": [
    "# Extract data from /tigress/ncaplar/Data/Data_for_Brent_June_2020\n",
    "\n",
    "# Specify dataset and arc\n",
    "\n",
    "# dataset is one of [1,2,3,4,5]\n",
    "# dataset = 0; not avaliable\n",
    "# dataset = 1;  F/3.2 stop, February 2019 data\n",
    "# dataset = 2;  F/2.8 stop, May 2019 data\n",
    "# dataset = 3; F/2.5 stop, June 2019 data\n",
    "# dataset =4,5; F=2.8 stop, taken in July 2019, reduced in August\n",
    "\n",
    "# arc can be HgAr, Ne or Kr for dataset [2,4,5]\n",
    "# arc can be HgAr or Ne for dataset [1,3]\n",
    "\n",
    "# specify defocus\n",
    "# one of the followign values\n",
    "# defocus=['-4.0','-3.5','-3.0','-2.5','-2','-1.5','-1','-0.5','0','0.5','1','1.5','2','2.5','3.0','3.5','4']\n",
    "\n",
    "arc='HgAr'\n",
    "dataset=2\n",
    "defocus_value='-3.0'"
   ]
  },
  {
   "cell_type": "code",
   "execution_count": 72,
   "metadata": {
    "ExecuteTime": {
     "end_time": "2020-06-17T14:03:43.984588Z",
     "start_time": "2020-06-17T14:03:43.969599Z"
    }
   },
   "outputs": [],
   "source": [
    "\n",
    "if dataset==1:\n",
    "    STAMPS_FOLDER=DATA_FOLDER+\"Data_Feb_5/Stamps_cleaned/\"    \n",
    "if dataset==2:\n",
    "    STAMPS_FOLDER=DATA_FOLDER+\"Data_May_28/Stamps_cleaned/\"\n",
    "if dataset==3:\n",
    "    STAMPS_FOLDER=DATA_FOLDER+\"Data_Jun_25/Stamps_cleaned/\"\n",
    "if dataset==4 or dataset==5:\n",
    "    STAMPS_FOLDER=DATA_FOLDER+\"Data_Aug_14/Stamps_cleaned/\"    \n",
    "\n",
    "    \n",
    "defocus=['-4.0','-3.5','-3.0','-2.5','-2','-1.5','-1','-0.5','0','0.5','1','1.5','2','2.5','3.0','3.5','4']\n",
    "\n",
    "\n",
    "if dataset==1:  \n",
    "    # F/3.2 stop \n",
    "    if arc is not None:         \n",
    "        if arc==\"HgAr\":\n",
    "            single_number_focus=11748\n",
    "            final_Arc=np.load(DATA_FOLDER+'Data_Feb_5/Dataframes/finalHgAr_Feb2019.pkl',allow_pickle=True)\n",
    "        elif arc==\"Ne\":\n",
    "            single_number_focus=11748+607  \n",
    "            final_Arc=np.load(DATA_FOLDER+'Data_Feb_5/Dataframes/finalNe_Feb2019.pkl',allow_pickle=True)\n",
    "\n",
    "if dataset==2:\n",
    "    # F/2.8 stop\n",
    "    if arc is not None:         \n",
    "        if arc==\"HgAr\":\n",
    "            single_number_focus=17017+54\n",
    "            final_Arc=np.load(DATA_FOLDER+'Data_May_28/Dataframes/finalHgAr_Feb2020',allow_pickle=True)\n",
    "        if arc==\"Ne\":\n",
    "            single_number_focus=16292  \n",
    "            final_Arc=np.load(DATA_FOLDER+'Data_May_28/Dataframes/finalNe_Feb2020',allow_pickle=True)    \n",
    "        if arc==\"Kr\":\n",
    "            single_number_focus=17310+54  \n",
    "            final_Arc=np.load(DATA_FOLDER+'Data_May_28/Dataframes/finalKr_Feb2020',allow_pickle=True)\n",
    "            \n",
    "if dataset==3:  \n",
    "    # F/2.5 stop\n",
    "    if arc is not None:         \n",
    "        if arc==\"HgAr\":\n",
    "            single_number_focus=19238+54\n",
    "            final_Arc=np.load(DATA_FOLDER+'Data_May_28/Dataframes/finalHgAr_May2019.pkl',allow_pickle=True)\n",
    "        elif arc==\"Ne\":\n",
    "            single_number_focus=19472  \n",
    "            final_Arc=np.load(DATA_FOLDER+'Data_May_28/Dataframes/finalNe_May2019.pkl',allow_pickle=True)\n",
    "\n",
    "if dataset==4 or dataset==5:  \n",
    "    # F/2.8 stop\n",
    "    if arc is not None:         \n",
    "        if arc==\"HgAr\":\n",
    "            single_number_focus=21346+54\n",
    "            final_Arc=np.load(DATA_FOLDER+'Data_Aug_14/Dataframes/finalHgAr_Feb2020',allow_pickle=True)\n",
    "        if arc==\"Ne\":\n",
    "            single_number_focus=21550+54  \n",
    "            final_Arc=np.load(DATA_FOLDER+'Data_Aug_14/Dataframes/finalNe_Feb2020',allow_pickle=True)\n",
    "        if str(arc)==\"Kr\":\n",
    "            single_number_focus=21754+54   \n",
    "            final_Arc=np.load(DATA_FOLDER+'Data_Aug_14/Dataframes/finalKr_Feb2020',allow_pickle=True)\n",
    "            \n",
    "            \n",
    "defocus_modification=(defocus.index(defocus_value)-9)*6\n",
    "obs=single_number_focus+defocus_modification"
   ]
  },
  {
   "cell_type": "markdown",
   "metadata": {},
   "source": [
    "# Show data "
   ]
  },
  {
   "cell_type": "code",
   "execution_count": 73,
   "metadata": {
    "ExecuteTime": {
     "end_time": "2020-06-17T14:03:44.691932Z",
     "start_time": "2020-06-17T14:03:44.689204Z"
    }
   },
   "outputs": [],
   "source": [
    "# which spot do you wish to look at\n",
    "single_number=48"
   ]
  },
  {
   "cell_type": "code",
   "execution_count": 74,
   "metadata": {
    "ExecuteTime": {
     "end_time": "2020-06-17T14:03:45.033119Z",
     "start_time": "2020-06-17T14:03:45.026314Z"
    }
   },
   "outputs": [
    {
     "data": {
      "text/plain": [
       "fiber                  339\n",
       "xc                    1610\n",
       "yc                     772\n",
       "wavelength        690.9346\n",
       "close                    0\n",
       "lamp                  HgAr\n",
       "xc_effective          1610\n",
       "second_offset       -19.25\n",
       "second_ratio        0.0034\n",
       "second2_offset       -40.7\n",
       "second2_ratio        0.006\n",
       "Name: 48, dtype: object"
      ]
     },
     "execution_count": 74,
     "metadata": {},
     "output_type": "execute_result"
    }
   ],
   "source": [
    "# information about the spot\n",
    "final_Arc.loc[single_number]"
   ]
  },
  {
   "cell_type": "code",
   "execution_count": 75,
   "metadata": {
    "ExecuteTime": {
     "end_time": "2020-06-17T14:03:46.618790Z",
     "start_time": "2020-06-17T14:03:45.545454Z"
    }
   },
   "outputs": [
    {
     "data": {
      "text/plain": [
       "<matplotlib.image.AxesImage at 0x111790c6a0>"
      ]
     },
     "execution_count": 75,
     "metadata": {},
     "output_type": "execute_result"
    },
    {
     "data": {
      "image/png": "[encoded data removed]",
      "text/plain": [
       "<Figure size 2160x720 with 3 Axes>"
      ]
     },
     "metadata": {},
     "output_type": "display_data"
    }
   ],
   "source": [
    "# load and show the stamps\n",
    "sci_image =np.load(STAMPS_FOLDER+'sci'+str(obs)+str(single_number)+str(arc)+'_Stacked.npy')\n",
    "mask_image =np.load(STAMPS_FOLDER+'mask'+str(obs)+str(single_number)+str(arc)+'_Stacked.npy')\n",
    "var_image =np.load(STAMPS_FOLDER+'var'+str(obs)+str(single_number)+str(arc)+'_Stacked.npy')\n",
    "\n",
    "plt.figure(figsize=(30,10))\n",
    "\n",
    "plt.subplot(131)\n",
    "plt.imshow(sci_image)\n",
    "\n",
    "plt.subplot(132)\n",
    "plt.imshow(mask_image)\n",
    "\n",
    "plt.subplot(133)\n",
    "plt.imshow(var_image)\n"
   ]
  },
  {
   "cell_type": "code",
   "execution_count": null,
   "metadata": {},
   "outputs": [],
   "source": []
  },
  {
   "cell_type": "code",
   "execution_count": null,
   "metadata": {},
   "outputs": [],
   "source": []
  }
 ],
 "metadata": {
  "kernelspec": {
   "display_name": "Python 3",
   "language": "python",
   "name": "python3"
  },
  "language_info": {
   "codemirror_mode": {
    "name": "ipython",
    "version": 3
   },
   "file_extension": ".py",
   "mimetype": "text/x-python",
   "name": "python",
   "nbconvert_exporter": "python",
   "pygments_lexer": "ipython3",
   "version": "3.6.10"
  },
  "toc": {
   "base_numbering": 1,
   "nav_menu": {},
   "number_sections": true,
   "sideBar": true,
   "skip_h1_title": false,
   "title_cell": "Table of Contents",
   "title_sidebar": "Contents",
   "toc_cell": false,
   "toc_position": {},
   "toc_section_display": true,
   "toc_window_display": false
  }
 },
 "nbformat": 4,
 "nbformat_minor": 2
}
