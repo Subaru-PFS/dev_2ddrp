{
 "cells": [
  {
   "cell_type": "code",
   "execution_count": 12,
   "id": "65f2cb54-65e7-402f-a3d3-f03ec874890c",
   "metadata": {},
   "outputs": [
    {
     "name": "stdout",
     "output_type": "stream",
     "text": [
      "3.7.2 (default, Dec 29 2018, 06:19:36) \n",
      "[GCC 7.3.0]\n",
      "pfs_pipe2d            w.2022.17  \tcurrent setup\n"
     ]
    },
    {
     "data": {
      "text/plain": [
       "'/home/neven'"
      ]
     },
     "execution_count": 12,
     "metadata": {},
     "output_type": "execute_result"
    }
   ],
   "source": [
    "import sys\n",
    "print(sys.version)\n",
    "import os\n",
    "\n",
    "! eups list -s | grep pfs_pipe2d\n",
    "\n",
    "ipynb_path = os.path.dirname(os.path.realpath(\"__file__\"))\n",
    "ipynb_path"
   ]
  },
  {
   "cell_type": "code",
   "execution_count": 13,
   "id": "6378ce38-6160-46b1-bed0-ecd95afdb9a3",
   "metadata": {},
   "outputs": [
    {
     "data": {
      "text/html": [
       "<style>.container { width:100% !important; }</style>"
      ],
      "text/plain": [
       "<IPython.core.display.HTML object>"
      ]
     },
     "metadata": {},
     "output_type": "display_data"
    },
    {
     "name": "stdout",
     "output_type": "stream",
     "text": [
      "The autoreload extension is already loaded. To reload it, use:\n",
      "  %reload_ext autoreload\n"
     ]
    }
   ],
   "source": [
    "# make notebook nice and wide to fill the entire screen\n",
    "from IPython.core.display import display, HTML\n",
    "display(HTML(\"<style>.container { width:100% !important; }</style>\"))\n",
    "\n",
    "import os\n",
    "import numpy as np\n",
    "import scipy.optimize\n",
    "import time\n",
    "import pandas as pd\n",
    "import warnings\n",
    "\n",
    "import psycopg2\n",
    "\n",
    "from pfs.utils.fiberids import FiberIds  \n",
    "\n",
    "# %matplotlib widget\n",
    "%matplotlib inline\n",
    "import matplotlib\n",
    "\n",
    "import matplotlib.pyplot as plt\n",
    "from matplotlib.patches import Circle\n",
    "from matplotlib.legend_handler import HandlerPatch\n",
    "np.set_printoptions(suppress=True)\n",
    "\n",
    "plt.rcParams[\"figure.facecolor\"] = \"white\"\n",
    "plt.rcParams['figure.figsize'] = (14, 10)\n",
    "matplotlib.rcParams.update({'font.size': 10})\n",
    "\n",
    "%load_ext autoreload\n",
    "%autoreload 2\n",
    "\n",
    "work_directory = '/work/ncaplar/BlackDotsData/'\n",
    "\n",
    "conn = psycopg2.connect(\"dbname='opdb' host='pfsa-db01' port=5432 user='pfs' password=2394f4s3d\") \n",
    "\n",
    "def getCobraGeometry(cobra_geometry_calib_id=None):\n",
    "    if not cobra_geometry_calib_id:\n",
    "        with conn:\n",
    "             tmp = pd.read_sql(f'''\n",
    "                SELECT DISTINCT \n",
    "                    max(cobra_geometry_calib_id) as cobra_geometry_calib_id\n",
    "                FROM cobra_geometry_calib\n",
    "                ''', conn)\n",
    "\n",
    "        cobra_geometry_calib_id = tmp.cobra_geometry_calib_id[0]\n",
    "\n",
    "    with conn:\n",
    "        cobra_geometry = pd.read_sql(f'''\n",
    "            SELECT DISTINCT \n",
    "                *\n",
    "            FROM cobra_geometry\n",
    "            WHERE cobra_geometry_calib_id = {cobra_geometry_calib_id}\n",
    "            ''', conn)\n",
    "        \n",
    "    return cobra_geometry\n",
    "\n",
    "getCobraGeometry_cobra_id=getCobraGeometry().set_index('cobra_id')"
   ]
  },
  {
   "cell_type": "code",
   "execution_count": 14,
   "id": "39b8a2ad-f31a-43c2-9186-6cd2fb5ef6b7",
   "metadata": {},
   "outputs": [
    {
     "data": {
      "text/html": [
       "<div>\n",
       "<style scoped>\n",
       "    .dataframe tbody tr th:only-of-type {\n",
       "        vertical-align: middle;\n",
       "    }\n",
       "\n",
       "    .dataframe tbody tr th {\n",
       "        vertical-align: top;\n",
       "    }\n",
       "\n",
       "    .dataframe thead th {\n",
       "        text-align: right;\n",
       "    }\n",
       "</style>\n",
       "<table border=\"1\" class=\"dataframe\">\n",
       "  <thead>\n",
       "    <tr style=\"text-align: right;\">\n",
       "      <th></th>\n",
       "      <th>pfs_visit_id</th>\n",
       "      <th>pfs_design_id</th>\n",
       "      <th>visit_set_id</th>\n",
       "      <th>sequence_type</th>\n",
       "    </tr>\n",
       "  </thead>\n",
       "  <tbody>\n",
       "    <tr>\n",
       "      <th>0</th>\n",
       "      <td>76680</td>\n",
       "      <td>8091575085665692756</td>\n",
       "      <td>14992</td>\n",
       "      <td>thetaCrossing</td>\n",
       "    </tr>\n",
       "    <tr>\n",
       "      <th>1</th>\n",
       "      <td>76681</td>\n",
       "      <td>8091575085665692756</td>\n",
       "      <td>14993</td>\n",
       "      <td>thetaCrossing</td>\n",
       "    </tr>\n",
       "    <tr>\n",
       "      <th>2</th>\n",
       "      <td>76682</td>\n",
       "      <td>8091575085665692756</td>\n",
       "      <td>14994</td>\n",
       "      <td>thetaCrossing</td>\n",
       "    </tr>\n",
       "    <tr>\n",
       "      <th>3</th>\n",
       "      <td>76685</td>\n",
       "      <td>2827351173347336962</td>\n",
       "      <td>14997</td>\n",
       "      <td>phiCrossing</td>\n",
       "    </tr>\n",
       "    <tr>\n",
       "      <th>4</th>\n",
       "      <td>76693</td>\n",
       "      <td>3550208719454350404</td>\n",
       "      <td>15001</td>\n",
       "      <td>thetaCrossing</td>\n",
       "    </tr>\n",
       "    <tr>\n",
       "      <th>5</th>\n",
       "      <td>76703</td>\n",
       "      <td>2166000543195576900</td>\n",
       "      <td>15003</td>\n",
       "      <td>thetaCrossing</td>\n",
       "    </tr>\n",
       "    <tr>\n",
       "      <th>6</th>\n",
       "      <td>76705</td>\n",
       "      <td>1438296865955205244</td>\n",
       "      <td>15005</td>\n",
       "      <td>phiCrossing</td>\n",
       "    </tr>\n",
       "    <tr>\n",
       "      <th>7</th>\n",
       "      <td>77482</td>\n",
       "      <td>2554769512037401971</td>\n",
       "      <td>15229</td>\n",
       "      <td>phiCrossing</td>\n",
       "    </tr>\n",
       "    <tr>\n",
       "      <th>8</th>\n",
       "      <td>77816</td>\n",
       "      <td>5426181922868053827</td>\n",
       "      <td>15517</td>\n",
       "      <td>phiCrossing</td>\n",
       "    </tr>\n",
       "    <tr>\n",
       "      <th>9</th>\n",
       "      <td>77873</td>\n",
       "      <td>5426181922868053827</td>\n",
       "      <td>15520</td>\n",
       "      <td>phiCrossing</td>\n",
       "    </tr>\n",
       "    <tr>\n",
       "      <th>10</th>\n",
       "      <td>77875</td>\n",
       "      <td>4090361041684486814</td>\n",
       "      <td>15522</td>\n",
       "      <td>thetaCrossing</td>\n",
       "    </tr>\n",
       "  </tbody>\n",
       "</table>\n",
       "</div>"
      ],
      "text/plain": [
       "    pfs_visit_id        pfs_design_id  visit_set_id  sequence_type\n",
       "0          76680  8091575085665692756         14992  thetaCrossing\n",
       "1          76681  8091575085665692756         14993  thetaCrossing\n",
       "2          76682  8091575085665692756         14994  thetaCrossing\n",
       "3          76685  2827351173347336962         14997    phiCrossing\n",
       "4          76693  3550208719454350404         15001  thetaCrossing\n",
       "5          76703  2166000543195576900         15003  thetaCrossing\n",
       "6          76705  1438296865955205244         15005    phiCrossing\n",
       "7          77482  2554769512037401971         15229    phiCrossing\n",
       "8          77816  5426181922868053827         15517    phiCrossing\n",
       "9          77873  5426181922868053827         15520    phiCrossing\n",
       "10         77875  4090361041684486814         15522  thetaCrossing"
      ]
     },
     "execution_count": 14,
     "metadata": {},
     "output_type": "execute_result"
    }
   ],
   "source": [
    "with conn:\n",
    "     df = pd.read_sql(\"select pfs_visit.pfs_visit_id, pfs_design_id, iic_sequence.visit_set_id, sequence_type from iic_sequence inner join \"\n",
    "                      \"visit_set on visit_set.visit_set_id=iic_sequence.visit_set_id inner join pfs_visit on pfs_visit.pfs_visit_id=visit_set.pfs_visit_id \"\n",
    "                      \"where sequence_type='thetaCrossing' or sequence_type='phiCrossing' \", conn)\n",
    "df"
   ]
  },
  {
   "cell_type": "code",
   "execution_count": 15,
   "id": "83daf489-1a3b-4470-b21b-3dfd35a685c1",
   "metadata": {},
   "outputs": [],
   "source": [
    "#  run number 9  (June 20 2022, PFI)\n",
    "mcs_data_all_17 = np.load('/work/ncaplar/HiloAnalysis/Cobra_data/mcsData.v077873.phi.npy')\n",
    "mcs_data_all_18 = np.load('/work/ncaplar/HiloAnalysis/Cobra_data/mcsData.v077875.theta.npy')\n"
   ]
  },
  {
   "cell_type": "code",
   "execution_count": 17,
   "id": "c0c293a6-6508-49c4-93cd-9abb7ba13e33",
   "metadata": {},
   "outputs": [
    {
     "data": {
      "text/plain": [
       "numpy.ndarray"
      ]
     },
     "execution_count": 17,
     "metadata": {},
     "output_type": "execute_result"
    }
   ],
   "source": [
    "type(mcs_data_all_17)"
   ]
  },
  {
   "cell_type": "code",
   "execution_count": null,
   "id": "cebbcbb0-68b4-4f99-88c2-94323ded6ff4",
   "metadata": {},
   "outputs": [],
   "source": []
  }
 ],
 "metadata": {
  "kernelspec": {
   "display_name": "PFS",
   "language": "python",
   "name": "pfs_pipe2d"
  },
  "language_info": {
   "codemirror_mode": {
    "name": "ipython",
    "version": 3
   },
   "file_extension": ".py",
   "mimetype": "text/x-python",
   "name": "python",
   "nbconvert_exporter": "python",
   "pygments_lexer": "ipython3",
   "version": "3.7.2"
  }
 },
 "nbformat": 4,
 "nbformat_minor": 5
}
